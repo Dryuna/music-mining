{
 "cells": [
  {
   "cell_type": "code",
   "execution_count": 1,
   "metadata": {
    "collapsed": true
   },
   "outputs": [],
   "source": [
    "from vis.analyzers.indexers import noterest, interval, ngram\n",
    "from vis.models.indexed_piece import IndexedPiece\n",
    "\n",
    "import pandas"
   ]
  },
  {
   "cell_type": "code",
   "execution_count": 2,
   "metadata": {
    "collapsed": false
   },
   "outputs": [],
   "source": [
    "pathname = './corpus/op71n1-04.krn'\n",
    "\n",
    "ip = IndexedPiece(pathname)"
   ]
  },
  {
   "cell_type": "code",
   "execution_count": 3,
   "metadata": {
    "collapsed": false
   },
   "outputs": [],
   "source": [
    "hi = ip.get_data([noterest.NoteRestIndexer, interval.HorizontalIntervalIndexer], settings={'quality':True})\n",
    "vi = ip.get_data([noterest.NoteRestIndexer, interval.IntervalIndexer], settings={'quality':True})"
   ]
  },
  {
   "cell_type": "code",
   "execution_count": 4,
   "metadata": {
    "collapsed": false
   },
   "outputs": [],
   "source": [
    "h_and_v = hi.join(vi)"
   ]
  },
  {
   "cell_type": "code",
   "execution_count": 5,
   "metadata": {
    "collapsed": false
   },
   "outputs": [
    {
     "data": {
      "text/html": [
       "<div>\n",
       "<table border=\"1\" class=\"dataframe\">\n",
       "  <thead>\n",
       "    <tr>\n",
       "      <th>Indexer</th>\n",
       "      <th colspan=\"4\" halign=\"left\">interval.HorizontalIntervalIndexer</th>\n",
       "      <th colspan=\"6\" halign=\"left\">interval.IntervalIndexer</th>\n",
       "    </tr>\n",
       "    <tr>\n",
       "      <th>Parts</th>\n",
       "      <th>0</th>\n",
       "      <th>1</th>\n",
       "      <th>2</th>\n",
       "      <th>3</th>\n",
       "      <th>0,1</th>\n",
       "      <th>0,2</th>\n",
       "      <th>0,3</th>\n",
       "      <th>1,2</th>\n",
       "      <th>1,3</th>\n",
       "      <th>2,3</th>\n",
       "    </tr>\n",
       "  </thead>\n",
       "  <tbody>\n",
       "    <tr>\n",
       "      <th>0.0</th>\n",
       "      <td>Rest</td>\n",
       "      <td>Rest</td>\n",
       "      <td>Rest</td>\n",
       "      <td>Rest</td>\n",
       "      <td>Rest</td>\n",
       "      <td>Rest</td>\n",
       "      <td>Rest</td>\n",
       "      <td>Rest</td>\n",
       "      <td>Rest</td>\n",
       "      <td>Rest</td>\n",
       "    </tr>\n",
       "    <tr>\n",
       "      <th>1.5</th>\n",
       "      <td>P4</td>\n",
       "      <td>Rest</td>\n",
       "      <td>Rest</td>\n",
       "      <td>Rest</td>\n",
       "      <td>Rest</td>\n",
       "      <td>Rest</td>\n",
       "      <td>Rest</td>\n",
       "      <td>Rest</td>\n",
       "      <td>Rest</td>\n",
       "      <td>Rest</td>\n",
       "    </tr>\n",
       "    <tr>\n",
       "      <th>2.0</th>\n",
       "      <td>M2</td>\n",
       "      <td>Rest</td>\n",
       "      <td>Rest</td>\n",
       "      <td>Rest</td>\n",
       "      <td>Rest</td>\n",
       "      <td>Rest</td>\n",
       "      <td>P15</td>\n",
       "      <td>Rest</td>\n",
       "      <td>Rest</td>\n",
       "      <td>Rest</td>\n",
       "    </tr>\n",
       "    <tr>\n",
       "      <th>2.5</th>\n",
       "      <td>NaN</td>\n",
       "      <td>Rest</td>\n",
       "      <td>Rest</td>\n",
       "      <td>Rest</td>\n",
       "      <td>P4</td>\n",
       "      <td>m6</td>\n",
       "      <td>Rest</td>\n",
       "      <td>m3</td>\n",
       "      <td>Rest</td>\n",
       "      <td>Rest</td>\n",
       "    </tr>\n",
       "    <tr>\n",
       "      <th>3.0</th>\n",
       "      <td>-M2</td>\n",
       "      <td>Rest</td>\n",
       "      <td>Rest</td>\n",
       "      <td>Rest</td>\n",
       "      <td>Rest</td>\n",
       "      <td>Rest</td>\n",
       "      <td>P19</td>\n",
       "      <td>Rest</td>\n",
       "      <td>Rest</td>\n",
       "      <td>Rest</td>\n",
       "    </tr>\n",
       "  </tbody>\n",
       "</table>\n",
       "</div>"
      ],
      "text/plain": [
       "Indexer interval.HorizontalIntervalIndexer                    \\\n",
       "Parts                                    0     1     2     3   \n",
       "0.0                                   Rest  Rest  Rest  Rest   \n",
       "1.5                                     P4  Rest  Rest  Rest   \n",
       "2.0                                     M2  Rest  Rest  Rest   \n",
       "2.5                                    NaN  Rest  Rest  Rest   \n",
       "3.0                                    -M2  Rest  Rest  Rest   \n",
       "\n",
       "Indexer interval.IntervalIndexer                                \n",
       "Parts                        0,1   0,2   0,3   1,2   1,3   2,3  \n",
       "0.0                         Rest  Rest  Rest  Rest  Rest  Rest  \n",
       "1.5                         Rest  Rest  Rest  Rest  Rest  Rest  \n",
       "2.0                         Rest  Rest   P15  Rest  Rest  Rest  \n",
       "2.5                           P4    m6  Rest    m3  Rest  Rest  \n",
       "3.0                         Rest  Rest   P19  Rest  Rest  Rest  "
      ]
     },
     "execution_count": 5,
     "metadata": {},
     "output_type": "execute_result"
    }
   ],
   "source": [
    "h_and_v.head(5)"
   ]
  },
  {
   "cell_type": "code",
   "execution_count": 16,
   "metadata": {
    "collapsed": false
   },
   "outputs": [],
   "source": [
    "ngi_settings = {'n': 3, 'horizontal': [('interval.HorizontalIntervalIndexer', '1')], \n",
    "                'vertical': [('interval.IntervalIndexer', '0,1')],\n",
    "                'mark_singles': True}\n",
    "\n",
    "result = ngram.NGramIndexer(h_and_v, ngi_settings).run()"
   ]
  },
  {
   "cell_type": "code",
   "execution_count": 17,
   "metadata": {
    "collapsed": false
   },
   "outputs": [
    {
     "data": {
      "text/plain": [
       "[Rest] (_) [Rest] (_) [Rest]          52\n",
       "[Rest] (_) [Rest] (Rest) [Rest]       19\n",
       "[Rest] (Rest) [Rest] (_) [Rest]       17\n",
       "[m3] (-M2) [m3] (-m2) [M3]            13\n",
       "[P5] (_) [M3] (_) [P4]                11\n",
       "[M3] (-M2) [m3] (-M2) [m3]             9\n",
       "[m3] (-m2) [M3] (m2) [m3]              9\n",
       "[P4] (_) [M6] (_) [P5]                 8\n",
       "[m3] (Rest) [m3] (Rest) [Rest]         8\n",
       "[M6] (_) [P5] (_) [M3]                 8\n",
       "[P5] (Rest) [Rest] (_) [Rest]          8\n",
       "[m3] (P1) [m3] (P1) [m3]               6\n",
       "[Rest] (Rest) [m3] (Rest) [Rest]       6\n",
       "[Rest] (Rest) [Rest] (Rest) [Rest]     6\n",
       "[M3] (_) [P4] (_) [M6]                 6\n",
       "[M6] (_) [P8] (_) [M6]                 5\n",
       "[A4] (_) [P5] (_) [M6]                 5\n",
       "[m3] (P1) [m3] (Rest) [m3]             5\n",
       "[P8] (-m3) [P5] (P4) [m7]              5\n",
       "[Rest] (P1) [m3] (P1) [m3]             5\n",
       "[P5] (P4) [m7] (-m3) [P4]              5\n",
       "[P8] (_) [M9] (_) [M10]                4\n",
       "[m3] (M2) [M3] (-M2) [m3]              4\n",
       "[P1] (-m2) [P1] (m2) [P1]              4\n",
       "[m3] (-m2) [M3] (m3) [m3]              4\n",
       "[M3] (m3) [m3] (-M2) [m3]              4\n",
       "[M3] (Rest) [Rest] (_) [Rest]          4\n",
       "[m3] (-m3) [m3] (P1) [m3]              4\n",
       "[M3] (m2) [m3] (Rest) [M3]             4\n",
       "[m3] (P1) [m3] (-M2) [m3]              4\n",
       "                                      ..\n",
       "[P5] (-M2) [P4] (M2) [P5]              1\n",
       "[M10] (Rest) [Rest] (Rest) [P12]       1\n",
       "[m3] (Rest) [P1] (_) [P5]              1\n",
       "[d12] (_) [m13] (P1) [d12]             1\n",
       "[d5] (P4) [M3] (-m2) [A2]              1\n",
       "[P4] (-m3) [M2] (m3) [P4]              1\n",
       "[P5] (M2) [M6] (_) [P5]                1\n",
       "[M3] (M2) [A4] (m2) [P4]               1\n",
       "[P12] (_) [P11] (m14) [P12]            1\n",
       "[m3] (-A2) [m3] (A1) [A2]              1\n",
       "[Rest] (_) [Rest] (P1) [M3]            1\n",
       "[M13] (P1) [P12] (_) [P11]             1\n",
       "[P1] (Rest) [m3] (Rest) [Rest]         1\n",
       "[P8] (_) [m6] (_) [P5]                 1\n",
       "[M6] (P1) [M7] (_) [P8]                1\n",
       "[P4] (_) [P5] (m2) [P8]                1\n",
       "[M2] (_) [P1] (_) [P1]                 1\n",
       "[A4] (-M2) [M6] (M3) [P8]              1\n",
       "[-m2] (_) [P1] (_) [M2]                1\n",
       "[-P4] (_) [-m3] (_) [-P4]              1\n",
       "[m9] (-M2) [m10] (P1) [P12]            1\n",
       "[Rest] (P4) [m10] (Rest) [m10]         1\n",
       "[P4] (M2) [P5] (-m3) [-P5]             1\n",
       "[m3] (Rest) [P5] (_) [m6]              1\n",
       "[m10] (m2) [P8] (_) [m10]              1\n",
       "[P4] (-m2) [m6] (_) [P5]               1\n",
       "[M6] (m2) [m3] (M2) [M3]               1\n",
       "[M6] (P1) [P5] (_) [m6]                1\n",
       "[-P5] (_) [-m6] (_) [-P5]              1\n",
       "[P4] (P1) [m3] (_) [m7]                1\n",
       "dtype: int64"
      ]
     },
     "execution_count": 17,
     "metadata": {},
     "output_type": "execute_result"
    }
   ],
   "source": [
    "result[('ngram.NGramIndexer', '[0,1] (1)')].value_counts()"
   ]
  },
  {
   "cell_type": "code",
   "execution_count": null,
   "metadata": {
    "collapsed": true
   },
   "outputs": [],
   "source": []
  }
 ],
 "metadata": {
  "kernelspec": {
   "display_name": "Python 2",
   "language": "python",
   "name": "python2"
  },
  "language_info": {
   "codemirror_mode": {
    "name": "ipython",
    "version": 2
   },
   "file_extension": ".py",
   "mimetype": "text/x-python",
   "name": "python",
   "nbconvert_exporter": "python",
   "pygments_lexer": "ipython2",
   "version": "2.7.6"
  }
 },
 "nbformat": 4,
 "nbformat_minor": 0
}
