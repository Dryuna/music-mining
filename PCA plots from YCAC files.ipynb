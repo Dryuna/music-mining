{
 "cells": [
  {
   "cell_type": "code",
   "execution_count": 8,
   "metadata": {
    "collapsed": false
   },
   "outputs": [],
   "source": [
    "import pretty_midi\n",
    "import glob\n",
    "import numpy as np\n",
    "import gensim\n",
    "import music21\n",
    "import sklearn\n",
    "import random\n",
    "import json\n",
    "\n",
    "from matplotlib import pyplot as plt\n",
    "%matplotlib inline\n",
    "\n",
    "from bokeh.plotting import output_file, output_notebook, ColumnDataSource, figure, show\n",
    "from bokeh.models import HoverTool\n",
    "\n",
    "from sklearn.manifold import TSNE\n",
    "from sklearn.decomposition import PCA\n",
    "\n",
    "from pylab import rcParams\n",
    "rcParams['figure.figsize'] = 7, 7"
   ]
  },
  {
   "cell_type": "code",
   "execution_count": 9,
   "metadata": {
    "collapsed": true
   },
   "outputs": [],
   "source": [
    "def chunks(l, n):\n",
    "    \"\"\"Yield successive n-sized chunks from l.\"\"\"\n",
    "    for i in xrange(0, len(l), n):\n",
    "        yield l[i:i+n]\n",
    "\n",
    "def transpose_to_all(c):\n",
    "    out = []\n",
    "    old = c\n",
    "    for i in range(12):\n",
    "        new = old.transpose(7)\n",
    "        out.append(new)\n",
    "        old = new\n",
    "    return out\n",
    "        \n",
    "def c_to_strep(c):\n",
    "    rep = \"\"\n",
    "    for i in range(12):\n",
    "        if i in c.pitchClasses:\n",
    "            rep += \"1\"\n",
    "        else:\n",
    "            rep += \"0\"\n",
    "    return rep\n",
    "\n",
    "def strep_to_c(strep):\n",
    "    pcs = []\n",
    "    for i, v in enumerate(strep):\n",
    "        if v == '1':\n",
    "            pcs.append(i)\n",
    "    return music21.chord.Chord(pcs)"
   ]
  },
  {
   "cell_type": "code",
   "execution_count": 18,
   "metadata": {
    "collapsed": false
   },
   "outputs": [],
   "source": [
    "ns = {}\n",
    "\n",
    "for subcorpus in glob.glob('*.json'):\n",
    "    with open(subcorpus, 'r') as f:\n",
    "        ns[subcorpus] = len(json.load(f))"
   ]
  },
  {
   "cell_type": "code",
   "execution_count": 19,
   "metadata": {
    "collapsed": false
   },
   "outputs": [
    {
     "data": {
      "text/plain": [
       "{'1650_to_1699.json': 339,\n",
       " '1700_to_1749.json': 2120,\n",
       " '1750_to_1799.json': 1806,\n",
       " '1800_to_1849.json': 1770,\n",
       " '1850_to_1899.json': 1601,\n",
       " '1900_to_1950.json': 487,\n",
       " 'Bach.json': 652,\n",
       " 'Beethoven.json': 366,\n",
       " 'Brahms.json': 166,\n",
       " 'Chopin.json': 204,\n",
       " 'Dvorak.json': 117,\n",
       " 'Handel.json': 191,\n",
       " 'Haydn.json': 363,\n",
       " 'Hummel.json': 101,\n",
       " 'Liszt.json': 125,\n",
       " 'Mendelssohn.json': 137,\n",
       " 'Mozart.json': 882,\n",
       " 'Saint-Saens.json': 137,\n",
       " 'Scarlatti.json': 617,\n",
       " 'Schubert.json': 223,\n",
       " 'Schumann.json': 167,\n",
       " 'Tchaikovsky.json': 94,\n",
       " 'Telemann.json': 224,\n",
       " 'Verdi.json': 91,\n",
       " 'Vivaldi.json': 167,\n",
       " 'Wagner.json': 58,\n",
       " 'ycac.json': 8701}"
      ]
     },
     "execution_count": 19,
     "metadata": {},
     "output_type": "execute_result"
    }
   ],
   "source": [
    "ns"
   ]
  },
  {
   "cell_type": "code",
   "execution_count": 22,
   "metadata": {
    "collapsed": true
   },
   "outputs": [],
   "source": [
    "def generate_embeddings(composer):\n",
    "    docs = json.load(open('{}'.format(composer)))\n",
    "    \n",
    "    chunked_docs = []\n",
    "\n",
    "    for doc in docs:\n",
    "        chunked_docs.extend([x for x in chunks(doc, 32)])\n",
    "        \n",
    "    sentences = chunked_docs\n",
    "\n",
    "    model = gensim.models.Word2Vec(sentences, size=100, window=5, min_count=5, workers=4, sg=1)\n",
    "    \n",
    "    return model"
   ]
  },
  {
   "cell_type": "code",
   "execution_count": 27,
   "metadata": {
    "collapsed": false
   },
   "outputs": [],
   "source": [
    "def plot_relations(a, b, composer):\n",
    "    \n",
    "    model = generate_embeddings(composer)\n",
    "    \n",
    "    n = ns[composer]\n",
    "    \n",
    "    words = model.vocab.keys()\n",
    "    embeddings = np.array([model[w] for w in words])\n",
    "    \n",
    "    # tsne = TSNE(perplexity=30, n_components=2, init='pca', n_iter=200)\n",
    "    pca = PCA(n_components=2)\n",
    "    proj = pca.fit_transform(embeddings)\n",
    "\n",
    "    all_a = [c_to_strep(x) for x in transpose_to_all(a)]\n",
    "    all_b = [c_to_strep(x) for x in transpose_to_all(b)]\n",
    "\n",
    "    pairs = zip(all_a, all_b)\n",
    "    focus = all_a + all_b\n",
    "    \n",
    "    q_words = [x for x in model.vocab.keys() if x in focus]\n",
    "    \n",
    "    q_indices = [words.index(x) for x in q_words]\n",
    "    \n",
    "    x=proj[q_indices,0]\n",
    "    y=proj[q_indices,1]\n",
    "\n",
    "    labels = [\" \".join(strep_to_c(w).pitchedCommonName) for w in q_words]\n",
    "    \n",
    "    f, ax = plt.subplots()\n",
    "\n",
    "    for lxy in zip(labels, x, y):\n",
    "        ax.annotate(lxy[0], (lxy[1],lxy[2]))\n",
    "        \n",
    "    def lookup_strep(strep):\n",
    "        i = words.index(strep)\n",
    "        return (proj[i, 0], proj[i, 1])\n",
    "        \n",
    "    arrows = [map(lookup_strep, pair) for pair in pairs]\n",
    "\n",
    "    arrow_params = {'length_includes_head': True,\n",
    "                    'head_starts_at_zero': True}\n",
    "    \n",
    "    for arrow in arrows:\n",
    "        ax.arrow(arrow[0][0], arrow[0][1], arrow[1][0] - arrow[0][0], arrow[1][1] - arrow[0][1], alpha=0.3, \n",
    "             linewidth=1, head_width=.05, head_length=.05, **arrow_params)\n",
    "    \n",
    "    ax.scatter(x, y, c='black')\n",
    "        \n",
    "    ax.set_title('{composer} (no. of docs = {n}) PCA'.format(composer=composer, n=n))\n",
    "\n",
    "    ax.set_xlabel('PC1')\n",
    "    ax.set_ylabel('PC2')\n",
    "    f.show()"
   ]
  },
  {
   "cell_type": "code",
   "execution_count": null,
   "metadata": {
    "collapsed": false
   },
   "outputs": [],
   "source": [
    "a = music21.chord.Chord(['A', 'C#', 'E'])\n",
    "b = music21.chord.Chord(['D', 'F#', 'A'])\n",
    "\n",
    "plot_relations(a, b, 'Bach.json')"
   ]
  },
  {
   "cell_type": "code",
   "execution_count": null,
   "metadata": {
    "collapsed": true
   },
   "outputs": [],
   "source": []
  }
 ],
 "metadata": {
  "kernelspec": {
   "display_name": "Python 2",
   "language": "python",
   "name": "python2"
  },
  "language_info": {
   "codemirror_mode": {
    "name": "ipython",
    "version": 2
   },
   "file_extension": ".py",
   "mimetype": "text/x-python",
   "name": "python",
   "nbconvert_exporter": "python",
   "pygments_lexer": "ipython2",
   "version": "2.7.6"
  }
 },
 "nbformat": 4,
 "nbformat_minor": 0
}
