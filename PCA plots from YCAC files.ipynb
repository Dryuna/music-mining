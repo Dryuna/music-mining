{
 "cells": [
  {
   "cell_type": "code",
   "execution_count": 1,
   "metadata": {
    "collapsed": false
   },
   "outputs": [
    {
     "name": "stdout",
     "output_type": "stream",
     "text": [
      "Couldn't import dot_parser, loading of dot files will not be possible.\n"
     ]
    },
    {
     "name": "stderr",
     "output_type": "stream",
     "text": [
      "/usr/local/lib/python2.7/dist-packages/matplotlib/font_manager.py:273: UserWarning: Matplotlib is building the font cache using fc-list. This may take a moment.\n",
      "  warnings.warn('Matplotlib is building the font cache using fc-list. This may take a moment.')\n"
     ]
    }
   ],
   "source": [
    "import pretty_midi\n",
    "import glob\n",
    "import numpy as np\n",
    "import gensim\n",
    "import music21\n",
    "import sklearn\n",
    "import random\n",
    "import json\n",
    "\n",
    "from matplotlib import pyplot as plt\n",
    "%matplotlib inline\n",
    "\n",
    "from bokeh.plotting import output_file, output_notebook, ColumnDataSource, figure, show\n",
    "from bokeh.models import HoverTool\n",
    "\n",
    "from sklearn.manifold import TSNE\n",
    "from sklearn.decomposition import PCA\n",
    "\n",
    "from pylab import rcParams\n",
    "rcParams['figure.figsize'] = 7, 7"
   ]
  },
  {
   "cell_type": "code",
   "execution_count": 2,
   "metadata": {
    "collapsed": true
   },
   "outputs": [],
   "source": [
    "def chunks(l, n):\n",
    "    \"\"\"Yield successive n-sized chunks from l.\"\"\"\n",
    "    for i in xrange(0, len(l), n):\n",
    "        yield l[i:i+n]\n",
    "\n",
    "def transpose_to_all(c):\n",
    "    out = []\n",
    "    old = c\n",
    "    for i in range(12):\n",
    "        new = old.transpose(7)\n",
    "        out.append(new)\n",
    "        old = new\n",
    "    return out\n",
    "        \n",
    "def c_to_strep(c):\n",
    "    rep = \"\"\n",
    "    for i in range(12):\n",
    "        if i in c.pitchClasses:\n",
    "            rep += \"1\"\n",
    "        else:\n",
    "            rep += \"0\"\n",
    "    return rep\n",
    "\n",
    "def strep_to_c(strep):\n",
    "    pcs = []\n",
    "    for i, v in enumerate(strep):\n",
    "        if v == '1':\n",
    "            pcs.append(i)\n",
    "    return music21.chord.Chord(pcs)"
   ]
  },
  {
   "cell_type": "code",
   "execution_count": 10,
   "metadata": {
    "collapsed": true
   },
   "outputs": [],
   "source": [
    "composers =['Mozart',\n",
    " 'Beethoven',\n",
    " 'Haydn',\n",
    " 'Scarlatti',\n",
    " 'Bach',\n",
    " 'Schubert',\n",
    " 'Liszt',\n",
    " 'Chopin',\n",
    " 'Brahms',\n",
    " 'Saint-Saens',\n",
    " 'Mendelssohn',\n",
    " 'Dvorak',\n",
    " 'Telemann',\n",
    " 'Tchaikovsky',\n",
    " 'Schumann',\n",
    " 'Handel',\n",
    " 'Wagner',\n",
    " 'Vivaldi',\n",
    " 'Hummel',\n",
    " 'Verdi']"
   ]
  },
  {
   "cell_type": "code",
   "execution_count": 11,
   "metadata": {
    "collapsed": false
   },
   "outputs": [],
   "source": [
    "ns = {}\n",
    "\n",
    "for composer in composers:\n",
    "    ns[composer] = len(json.load(open('{}.json'.format(composer))))"
   ]
  },
  {
   "cell_type": "code",
   "execution_count": 12,
   "metadata": {
    "collapsed": true
   },
   "outputs": [],
   "source": [
    "ns['ycac'] = len(json.load(open('{}.json'.format('ycac'))))"
   ]
  },
  {
   "cell_type": "code",
   "execution_count": 37,
   "metadata": {
    "collapsed": false
   },
   "outputs": [
    {
     "data": {
      "text/plain": [
       "{'Bach': 652,\n",
       " 'Beethoven': 366,\n",
       " 'Brahms': 166,\n",
       " 'Chopin': 204,\n",
       " 'Dvorak': 117,\n",
       " 'Handel': 191,\n",
       " 'Haydn': 363,\n",
       " 'Hummel': 101,\n",
       " 'Liszt': 125,\n",
       " 'Mendelssohn': 137,\n",
       " 'Mozart': 882,\n",
       " 'Saint-Saens': 137,\n",
       " 'Scarlatti': 617,\n",
       " 'Schubert': 223,\n",
       " 'Schumann': 167,\n",
       " 'Tchaikovsky': 94,\n",
       " 'Telemann': 224,\n",
       " 'Verdi': 91,\n",
       " 'Vivaldi': 167,\n",
       " 'Wagner': 58,\n",
       " 'ycac': 4618}"
      ]
     },
     "execution_count": 37,
     "metadata": {},
     "output_type": "execute_result"
    }
   ],
   "source": [
    "ns"
   ]
  },
  {
   "cell_type": "code",
   "execution_count": 34,
   "metadata": {
    "collapsed": true
   },
   "outputs": [],
   "source": [
    "def generate_embeddings(composer):\n",
    "    docs = json.load(open('{}.json'.format(composer)))\n",
    "    \n",
    "    chunked_docs = []\n",
    "\n",
    "    for doc in docs:\n",
    "        chunked_docs.extend([x for x in chunks(doc, 32)])\n",
    "        \n",
    "    sentences = chunked_docs\n",
    "\n",
    "    model = gensim.models.Word2Vec(sentences, size=100, window=5, min_count=5, workers=4, sg=1)\n",
    "    \n",
    "    return model"
   ]
  },
  {
   "cell_type": "code",
   "execution_count": 35,
   "metadata": {
    "collapsed": false
   },
   "outputs": [],
   "source": [
    "def plot_relations(a, b, composer):\n",
    "    \n",
    "    model = generate_embeddings(composer)\n",
    "    \n",
    "    n = ns[composer]\n",
    "    \n",
    "    words = model.vocab.keys()\n",
    "    embeddings = np.array([model[w] for w in words])\n",
    "    \n",
    "    # tsne = TSNE(perplexity=30, n_components=2, init='pca', n_iter=200)\n",
    "    pca = PCA(n_components=2)\n",
    "    proj = pca.fit_transform(embeddings)\n",
    "\n",
    "    all_a = [c_to_strep(x) for x in transpose_to_all(a)]\n",
    "    all_b = [c_to_strep(x) for x in transpose_to_all(b)]\n",
    "\n",
    "    pairs = zip(all_a, all_b)\n",
    "    focus = all_a + all_b\n",
    "    \n",
    "    q_words = [x for x in model.vocab.keys() if x in focus]\n",
    "    \n",
    "    q_indices = [words.index(x) for x in q_words]\n",
    "    \n",
    "    x=proj[q_indices,0]\n",
    "    y=proj[q_indices,1]\n",
    "\n",
    "    labels = [\" \".join(strep_to_c(w).pitchNames) for w in q_words]\n",
    "    \n",
    "    f, ax = plt.subplots()\n",
    "\n",
    "    for lxy in zip(labels, x, y):\n",
    "        ax.annotate(lxy[0], (lxy[1],lxy[2]))\n",
    "        \n",
    "    def lookup_strep(strep):\n",
    "        i = words.index(strep)\n",
    "        return (proj[i, 0], proj[i, 1])\n",
    "        \n",
    "    arrows = [map(lookup_strep, pair) for pair in pairs]\n",
    "\n",
    "    arrow_params = {'length_includes_head': True,\n",
    "                    'head_starts_at_zero': True}\n",
    "    \n",
    "    for arrow in arrows:\n",
    "        ax.arrow(arrow[0][0], arrow[0][1], arrow[1][0] - arrow[0][0], arrow[1][1] - arrow[0][1], alpha=0.3, \n",
    "             linewidth=1, head_width=.05, head_length=.05, **arrow_params)\n",
    "    \n",
    "    ax.scatter(x, y, c='black')\n",
    "    \n",
    "    ax.set_title('{composer} (no. of docs = {n}) PCA'.format(composer=composer, n=n))\n",
    "\n",
    "    ax.set_xlabel('PC1')\n",
    "    ax.set_ylabel('PC2')\n",
    "    f.show()"
   ]
  },
  {
   "cell_type": "code",
   "execution_count": 36,
   "metadata": {
    "collapsed": false
   },
   "outputs": [
    {
     "data": {
      "image/png": "[encoded data removed]",
      "text/plain": [
       "<matplotlib.figure.Figure at 0x7fbefad9c850>"
      ]
     },
     "metadata": {},
     "output_type": "display_data"
    }
   ],
   "source": [
    "a = music21.chord.Chord(['A', 'C#', 'E'])\n",
    "b = music21.chord.Chord(['D', 'F#', 'A'])\n",
    "\n",
    "plot_relations(a, b, 'Bach')"
   ]
  },
  {
   "cell_type": "code",
   "execution_count": null,
   "metadata": {
    "collapsed": true
   },
   "outputs": [],
   "source": []
  }
 ],
 "metadata": {
  "kernelspec": {
   "display_name": "Python 2",
   "language": "python",
   "name": "python2"
  },
  "language_info": {
   "codemirror_mode": {
    "name": "ipython",
    "version": 2
   },
   "file_extension": ".py",
   "mimetype": "text/x-python",
   "name": "python",
   "nbconvert_exporter": "python",
   "pygments_lexer": "ipython2",
   "version": "2.7.6"
  }
 },
 "nbformat": 4,
 "nbformat_minor": 0
}
