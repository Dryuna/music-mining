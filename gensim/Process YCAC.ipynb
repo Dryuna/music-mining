{
 "cells": [
  {
   "cell_type": "code",
   "execution_count": 1,
   "metadata": {
    "collapsed": true
   },
   "outputs": [],
   "source": [
    "import pandas as pd\n",
    "import gensim\n",
    "import json"
   ]
  },
  {
   "cell_type": "code",
   "execution_count": 3,
   "metadata": {
    "collapsed": true
   },
   "outputs": [],
   "source": [
    "fns = glob.glob('/home/eamonn/Desktop/ycac/small*')"
   ]
  },
  {
   "cell_type": "code",
   "execution_count": 4,
   "metadata": {
    "collapsed": true
   },
   "outputs": [],
   "source": [
    "df = pd.DataFrame()"
   ]
  },
  {
   "cell_type": "code",
   "execution_count": 5,
   "metadata": {
    "collapsed": false
   },
   "outputs": [],
   "source": [
    "for fn in fns:\n",
    "    df = df.append(pd.read_csv(fn))"
   ]
  },
  {
   "cell_type": "code",
   "execution_count": 6,
   "metadata": {
    "collapsed": false
   },
   "outputs": [
    {
     "data": {
      "text/plain": [
       "12209264"
      ]
     },
     "execution_count": 6,
     "metadata": {},
     "output_type": "execute_result"
    }
   ],
   "source": [
    "len(df)"
   ]
  },
  {
   "cell_type": "code",
   "execution_count": 7,
   "metadata": {
    "collapsed": false
   },
   "outputs": [],
   "source": [
    "def str_to_vec(s):\n",
    "    l = eval(s)\n",
    "    rep = \"\"\n",
    "    for i in range(12):\n",
    "        if i in l:\n",
    "            rep += \"1\"\n",
    "        else:\n",
    "            rep += \"0\"\n",
    "    return rep"
   ]
  },
  {
   "cell_type": "code",
   "execution_count": 8,
   "metadata": {
    "collapsed": true
   },
   "outputs": [],
   "source": [
    "df['canonical'] = df.PCsInNormalForm.apply(str_to_vec)"
   ]
  },
  {
   "cell_type": "code",
   "execution_count": 9,
   "metadata": {
    "collapsed": false,
    "scrolled": false
   },
   "outputs": [
    {
     "data": {
      "text/plain": [
       "8701"
      ]
     },
     "execution_count": 9,
     "metadata": {},
     "output_type": "execute_result"
    }
   ],
   "source": [
    "u = df.file.unique()\n",
    "len(u)"
   ]
  },
  {
   "cell_type": "code",
   "execution_count": 24,
   "metadata": {
    "collapsed": false,
    "scrolled": true
   },
   "outputs": [
    {
     "data": {
      "text/plain": [
       "'Quartet in Ab 3 Lento e Molto Cantabile Op105No14 F major.mid'"
      ]
     },
     "execution_count": 24,
     "metadata": {},
     "output_type": "execute_result"
    }
   ],
   "source": [
    "df.head(10).file[1]"
   ]
  },
  {
   "cell_type": "code",
   "execution_count": 34,
   "metadata": {
    "collapsed": true
   },
   "outputs": [],
   "source": [
    "df.to_csv('all_canonical.csv')"
   ]
  },
  {
   "cell_type": "code",
   "execution_count": 40,
   "metadata": {
    "collapsed": false
   },
   "outputs": [],
   "source": [
    "meta = pd.read_csv('/home/eamonn/Desktop/YCAC-metadata.csv')"
   ]
  },
  {
   "cell_type": "code",
   "execution_count": 43,
   "metadata": {
    "collapsed": false
   },
   "outputs": [],
   "source": [
    "meta.Date.fillna(meta.Range, inplace=True)"
   ]
  },
  {
   "cell_type": "code",
   "execution_count": 49,
   "metadata": {
    "collapsed": false
   },
   "outputs": [],
   "source": [
    "import numpy as np\n",
    "\n",
    "def process_range(d):\n",
    "    try:\n",
    "        if '-' in d:\n",
    "            a = int(d.split('-')[0])\n",
    "            b = int(d.split('-')[1])\n",
    "            return (a + b) / 2\n",
    "        else:\n",
    "            return int(d)\n",
    "    except:\n",
    "        return np.nan"
   ]
  },
  {
   "cell_type": "code",
   "execution_count": 50,
   "metadata": {
    "collapsed": false
   },
   "outputs": [],
   "source": [
    "meta['EstDate'] = meta.Date.apply(process_range)"
   ]
  },
  {
   "cell_type": "code",
   "execution_count": 52,
   "metadata": {
    "collapsed": false
   },
   "outputs": [
    {
     "data": {
      "text/html": [
       "<div style=\"max-height:1000px;max-width:1500px;overflow:auto;\">\n",
       "<table border=\"1\" class=\"dataframe\">\n",
       "  <thead>\n",
       "    <tr style=\"text-align: right;\">\n",
       "      <th></th>\n",
       "      <th>Title</th>\n",
       "      <th>Composer</th>\n",
       "      <th>CatNo</th>\n",
       "      <th>Date</th>\n",
       "      <th>Range</th>\n",
       "      <th>Inst1</th>\n",
       "      <th>Inst2</th>\n",
       "      <th>Inst3</th>\n",
       "      <th>Genre</th>\n",
       "      <th>Subgenre</th>\n",
       "      <th>Species </th>\n",
       "      <th>Species2</th>\n",
       "      <th>Nationality</th>\n",
       "      <th>Key</th>\n",
       "      <th>Modulation</th>\n",
       "      <th>Folder</th>\n",
       "      <th>Filename</th>\n",
       "      <th>Comments</th>\n",
       "      <th>EstDate</th>\n",
       "    </tr>\n",
       "  </thead>\n",
       "  <tbody>\n",
       "    <tr>\n",
       "      <th>0 </th>\n",
       "      <td>                     Sonata Guitar Duet 1 Moderato</td>\n",
       "      <td>    Abel</td>\n",
       "      <td>   K174</td>\n",
       "      <td> 1740-1770</td>\n",
       "      <td> 1740-1770</td>\n",
       "      <td>    Guitar</td>\n",
       "      <td>   NaN</td>\n",
       "      <td>       NaN</td>\n",
       "      <td>     ChamberSonata</td>\n",
       "      <td> Duet</td>\n",
       "      <td> NaN</td>\n",
       "      <td> NaN</td>\n",
       "      <td> Germany</td>\n",
       "      <td>  A major</td>\n",
       "      <td>      NaN</td>\n",
       "      <td> A</td>\n",
       "      <td>        Sonata Guitar Duet 1 Moderato K174 A major</td>\n",
       "      <td> NaN</td>\n",
       "      <td> 1755</td>\n",
       "    </tr>\n",
       "    <tr>\n",
       "      <th>1 </th>\n",
       "      <td>                    Sonata Guitar Duet 2 Cantabile</td>\n",
       "      <td>    Abel</td>\n",
       "      <td>   K174</td>\n",
       "      <td> 1740-1770</td>\n",
       "      <td> 1740-1770</td>\n",
       "      <td>    Guitar</td>\n",
       "      <td>   NaN</td>\n",
       "      <td>       NaN</td>\n",
       "      <td>     ChamberSonata</td>\n",
       "      <td> Duet</td>\n",
       "      <td> NaN</td>\n",
       "      <td> NaN</td>\n",
       "      <td> Germany</td>\n",
       "      <td>  D major</td>\n",
       "      <td>      NaN</td>\n",
       "      <td> A</td>\n",
       "      <td>       Sonata Guitar Duet 2 Cantabile K174 D major</td>\n",
       "      <td> NaN</td>\n",
       "      <td> 1755</td>\n",
       "    </tr>\n",
       "    <tr>\n",
       "      <th>2 </th>\n",
       "      <td>                       Sonata Guitar Duet 3 Vivace</td>\n",
       "      <td>    Abel</td>\n",
       "      <td>   K174</td>\n",
       "      <td> 1740-1770</td>\n",
       "      <td> 1740-1770</td>\n",
       "      <td>    Guitar</td>\n",
       "      <td>   NaN</td>\n",
       "      <td>       NaN</td>\n",
       "      <td>     ChamberSonata</td>\n",
       "      <td> Duet</td>\n",
       "      <td> NaN</td>\n",
       "      <td> NaN</td>\n",
       "      <td> Germany</td>\n",
       "      <td>  A major</td>\n",
       "      <td>      NaN</td>\n",
       "      <td> A</td>\n",
       "      <td>          Sonata Guitar Duet 3 Vivace K174 A major</td>\n",
       "      <td> NaN</td>\n",
       "      <td> 1755</td>\n",
       "    </tr>\n",
       "    <tr>\n",
       "      <th>3 </th>\n",
       "      <td>                                    Symphony in Eb</td>\n",
       "      <td>    Abel</td>\n",
       "      <td> Op7No6</td>\n",
       "      <td> 1740-1770</td>\n",
       "      <td> 1740-1770</td>\n",
       "      <td> Orchestra</td>\n",
       "      <td>   NaN</td>\n",
       "      <td>       NaN</td>\n",
       "      <td>          Symphony</td>\n",
       "      <td>  NaN</td>\n",
       "      <td> NaN</td>\n",
       "      <td> NaN</td>\n",
       "      <td> Germany</td>\n",
       "      <td> Eb major</td>\n",
       "      <td>      NaN</td>\n",
       "      <td> A</td>\n",
       "      <td>                    Symphony in Eb Op7No6 Eb major</td>\n",
       "      <td> NaN</td>\n",
       "      <td> 1755</td>\n",
       "    </tr>\n",
       "    <tr>\n",
       "      <th>4 </th>\n",
       "      <td>                             Violin Concerto in A-</td>\n",
       "      <td> Accolay</td>\n",
       "      <td>    No1</td>\n",
       "      <td>      1868</td>\n",
       "      <td>       NaN</td>\n",
       "      <td>    Violin</td>\n",
       "      <td> Piano</td>\n",
       "      <td>       NaN</td>\n",
       "      <td>          Concerto</td>\n",
       "      <td>  NaN</td>\n",
       "      <td> NaN</td>\n",
       "      <td> NaN</td>\n",
       "      <td>     NaN</td>\n",
       "      <td>  A minor</td>\n",
       "      <td>  A major</td>\n",
       "      <td> A</td>\n",
       "      <td>                 Violin Concerto in A- No1 A minor</td>\n",
       "      <td> NaN</td>\n",
       "      <td> 1868</td>\n",
       "    </tr>\n",
       "    <tr>\n",
       "      <th>5 </th>\n",
       "      <td>                  Le Brasseur de Preston Ouverture</td>\n",
       "      <td>    Adam</td>\n",
       "      <td>    NaN</td>\n",
       "      <td>      1838</td>\n",
       "      <td>       NaN</td>\n",
       "      <td>     Piano</td>\n",
       "      <td>   NaN</td>\n",
       "      <td>       NaN</td>\n",
       "      <td>          Overture</td>\n",
       "      <td>  NaN</td>\n",
       "      <td> NaN</td>\n",
       "      <td> NaN</td>\n",
       "      <td>  France</td>\n",
       "      <td> Eb major</td>\n",
       "      <td>      NaN</td>\n",
       "      <td> A</td>\n",
       "      <td>         Le Brasseur de Preston Ouverture Eb major</td>\n",
       "      <td> NaN</td>\n",
       "      <td> 1838</td>\n",
       "    </tr>\n",
       "    <tr>\n",
       "      <th>6 </th>\n",
       "      <td> Le Postillon de Lonjumeau I Mes amis, ecoutez ...</td>\n",
       "      <td>    Adam</td>\n",
       "      <td>    NaN</td>\n",
       "      <td>      1836</td>\n",
       "      <td>       NaN</td>\n",
       "      <td>     Piano</td>\n",
       "      <td>   NaN</td>\n",
       "      <td>       NaN</td>\n",
       "      <td>         OtherSolo</td>\n",
       "      <td>  NaN</td>\n",
       "      <td> NaN</td>\n",
       "      <td> NaN</td>\n",
       "      <td>  France</td>\n",
       "      <td>  G major</td>\n",
       "      <td>      NaN</td>\n",
       "      <td> A</td>\n",
       "      <td> Le Postillon de Lonjumeau I Mes amis, ecoutez ...</td>\n",
       "      <td> NaN</td>\n",
       "      <td> 1836</td>\n",
       "    </tr>\n",
       "    <tr>\n",
       "      <th>7 </th>\n",
       "      <td>                Noel, for voice, harp, and strings</td>\n",
       "      <td>    Adam</td>\n",
       "      <td>    NaN</td>\n",
       "      <td> 1840-1860</td>\n",
       "      <td> 1840-1860</td>\n",
       "      <td>     Voice</td>\n",
       "      <td>  Harp</td>\n",
       "      <td> Orchestra</td>\n",
       "      <td> OtherTextedSacred</td>\n",
       "      <td>  NaN</td>\n",
       "      <td> NaN</td>\n",
       "      <td> NaN</td>\n",
       "      <td>  France</td>\n",
       "      <td> Bb major</td>\n",
       "      <td>      NaN</td>\n",
       "      <td> A</td>\n",
       "      <td>       Noel, for voice, harp, and strings Bb major</td>\n",
       "      <td> NaN</td>\n",
       "      <td> 1850</td>\n",
       "    </tr>\n",
       "    <tr>\n",
       "      <th>8 </th>\n",
       "      <td>                                     O Holy Night!</td>\n",
       "      <td>    Adam</td>\n",
       "      <td>    NaN</td>\n",
       "      <td>      1847</td>\n",
       "      <td>       NaN</td>\n",
       "      <td> Orchestra</td>\n",
       "      <td>   NaN</td>\n",
       "      <td>       NaN</td>\n",
       "      <td>           Prelude</td>\n",
       "      <td>  NaN</td>\n",
       "      <td> NaN</td>\n",
       "      <td> NaN</td>\n",
       "      <td>  France</td>\n",
       "      <td>  C major</td>\n",
       "      <td>      NaN</td>\n",
       "      <td> A</td>\n",
       "      <td>                             O Holy Night! C major</td>\n",
       "      <td> NaN</td>\n",
       "      <td> 1847</td>\n",
       "    </tr>\n",
       "    <tr>\n",
       "      <th>9 </th>\n",
       "      <td>                        Sonata per il Clavicembalo</td>\n",
       "      <td>  Agnesi</td>\n",
       "      <td>    NaN</td>\n",
       "      <td>      1745</td>\n",
       "      <td>       NaN</td>\n",
       "      <td>     Piano</td>\n",
       "      <td>   NaN</td>\n",
       "      <td>       NaN</td>\n",
       "      <td>        SoloSonata</td>\n",
       "      <td>  NaN</td>\n",
       "      <td> NaN</td>\n",
       "      <td> NaN</td>\n",
       "      <td>   Italy</td>\n",
       "      <td>  F major</td>\n",
       "      <td> Eb major</td>\n",
       "      <td> A</td>\n",
       "      <td>                Sonata per il Clavicembalo F major</td>\n",
       "      <td> NaN</td>\n",
       "      <td> 1745</td>\n",
       "    </tr>\n",
       "    <tr>\n",
       "      <th>10</th>\n",
       "      <td>                           Adagio and Andante in G</td>\n",
       "      <td>  Aguado</td>\n",
       "      <td>    NaN</td>\n",
       "      <td>      1825</td>\n",
       "      <td>       NaN</td>\n",
       "      <td>    Guitar</td>\n",
       "      <td>   NaN</td>\n",
       "      <td>       NaN</td>\n",
       "      <td>         OtherSolo</td>\n",
       "      <td>  NaN</td>\n",
       "      <td> NaN</td>\n",
       "      <td> NaN</td>\n",
       "      <td>     NaN</td>\n",
       "      <td>  G major</td>\n",
       "      <td>      NaN</td>\n",
       "      <td> A</td>\n",
       "      <td>                   Adagio and Andante in G G major</td>\n",
       "      <td> NaN</td>\n",
       "      <td> 1825</td>\n",
       "    </tr>\n",
       "    <tr>\n",
       "      <th>11</th>\n",
       "      <td>                                           Allegro</td>\n",
       "      <td>  Aguado</td>\n",
       "      <td>    NaN</td>\n",
       "      <td>      1825</td>\n",
       "      <td>       NaN</td>\n",
       "      <td>    Guitar</td>\n",
       "      <td>   NaN</td>\n",
       "      <td>       NaN</td>\n",
       "      <td>         OtherSolo</td>\n",
       "      <td>  NaN</td>\n",
       "      <td> NaN</td>\n",
       "      <td> NaN</td>\n",
       "      <td>     NaN</td>\n",
       "      <td>  A major</td>\n",
       "      <td>      NaN</td>\n",
       "      <td> A</td>\n",
       "      <td>                                   Allegro A major</td>\n",
       "      <td> NaN</td>\n",
       "      <td> 1825</td>\n",
       "    </tr>\n",
       "    <tr>\n",
       "      <th>12</th>\n",
       "      <td>                                         Brillante</td>\n",
       "      <td>  Aguado</td>\n",
       "      <td>    NaN</td>\n",
       "      <td>      1825</td>\n",
       "      <td>       NaN</td>\n",
       "      <td>    Guitar</td>\n",
       "      <td>   NaN</td>\n",
       "      <td>       NaN</td>\n",
       "      <td>         OtherSolo</td>\n",
       "      <td>  NaN</td>\n",
       "      <td> NaN</td>\n",
       "      <td> NaN</td>\n",
       "      <td>     NaN</td>\n",
       "      <td>  E major</td>\n",
       "      <td>      NaN</td>\n",
       "      <td> A</td>\n",
       "      <td>                                 Brillante E major</td>\n",
       "      <td> NaN</td>\n",
       "      <td> 1825</td>\n",
       "    </tr>\n",
       "    <tr>\n",
       "      <th>13</th>\n",
       "      <td>                                         Cantabile</td>\n",
       "      <td>  Aguado</td>\n",
       "      <td>    NaN</td>\n",
       "      <td>      1825</td>\n",
       "      <td>       NaN</td>\n",
       "      <td>    Guitar</td>\n",
       "      <td>   NaN</td>\n",
       "      <td>       NaN</td>\n",
       "      <td>         OtherSolo</td>\n",
       "      <td>  NaN</td>\n",
       "      <td> NaN</td>\n",
       "      <td> NaN</td>\n",
       "      <td>     NaN</td>\n",
       "      <td>  A major</td>\n",
       "      <td>      NaN</td>\n",
       "      <td> A</td>\n",
       "      <td>                                 Cantabile A major</td>\n",
       "      <td> NaN</td>\n",
       "      <td> 1825</td>\n",
       "    </tr>\n",
       "    <tr>\n",
       "      <th>14</th>\n",
       "      <td>                                            Minuet</td>\n",
       "      <td>  Aguado</td>\n",
       "      <td>    NaN</td>\n",
       "      <td>      1825</td>\n",
       "      <td>       NaN</td>\n",
       "      <td>    Guitar</td>\n",
       "      <td>   NaN</td>\n",
       "      <td>       NaN</td>\n",
       "      <td>         OtherSolo</td>\n",
       "      <td>  NaN</td>\n",
       "      <td> NaN</td>\n",
       "      <td> NaN</td>\n",
       "      <td>     NaN</td>\n",
       "      <td>  C major</td>\n",
       "      <td>      NaN</td>\n",
       "      <td> A</td>\n",
       "      <td>                                    Minuet C major</td>\n",
       "      <td> NaN</td>\n",
       "      <td> 1825</td>\n",
       "    </tr>\n",
       "  </tbody>\n",
       "</table>\n",
       "<p>15 rows × 19 columns</p>\n",
       "</div>"
      ],
      "text/plain": [
       "                                                Title Composer   CatNo  \\\n",
       "0                       Sonata Guitar Duet 1 Moderato     Abel    K174   \n",
       "1                      Sonata Guitar Duet 2 Cantabile     Abel    K174   \n",
       "2                         Sonata Guitar Duet 3 Vivace     Abel    K174   \n",
       "3                                      Symphony in Eb     Abel  Op7No6   \n",
       "4                               Violin Concerto in A-  Accolay     No1   \n",
       "5                    Le Brasseur de Preston Ouverture     Adam     NaN   \n",
       "6   Le Postillon de Lonjumeau I Mes amis, ecoutez ...     Adam     NaN   \n",
       "7                  Noel, for voice, harp, and strings     Adam     NaN   \n",
       "8                                       O Holy Night!     Adam     NaN   \n",
       "9                          Sonata per il Clavicembalo   Agnesi     NaN   \n",
       "10                            Adagio and Andante in G   Aguado     NaN   \n",
       "11                                            Allegro   Aguado     NaN   \n",
       "12                                          Brillante   Aguado     NaN   \n",
       "13                                          Cantabile   Aguado     NaN   \n",
       "14                                             Minuet   Aguado     NaN   \n",
       "\n",
       "         Date      Range      Inst1  Inst2      Inst3              Genre  \\\n",
       "0   1740-1770  1740-1770     Guitar    NaN        NaN      ChamberSonata   \n",
       "1   1740-1770  1740-1770     Guitar    NaN        NaN      ChamberSonata   \n",
       "2   1740-1770  1740-1770     Guitar    NaN        NaN      ChamberSonata   \n",
       "3   1740-1770  1740-1770  Orchestra    NaN        NaN           Symphony   \n",
       "4        1868        NaN     Violin  Piano        NaN           Concerto   \n",
       "5        1838        NaN      Piano    NaN        NaN           Overture   \n",
       "6        1836        NaN      Piano    NaN        NaN          OtherSolo   \n",
       "7   1840-1860  1840-1860      Voice   Harp  Orchestra  OtherTextedSacred   \n",
       "8        1847        NaN  Orchestra    NaN        NaN            Prelude   \n",
       "9        1745        NaN      Piano    NaN        NaN         SoloSonata   \n",
       "10       1825        NaN     Guitar    NaN        NaN          OtherSolo   \n",
       "11       1825        NaN     Guitar    NaN        NaN          OtherSolo   \n",
       "12       1825        NaN     Guitar    NaN        NaN          OtherSolo   \n",
       "13       1825        NaN     Guitar    NaN        NaN          OtherSolo   \n",
       "14       1825        NaN     Guitar    NaN        NaN          OtherSolo   \n",
       "\n",
       "   Subgenre Species  Species2 Nationality       Key Modulation Folder  \\\n",
       "0      Duet      NaN      NaN     Germany   A major        NaN      A   \n",
       "1      Duet      NaN      NaN     Germany   D major        NaN      A   \n",
       "2      Duet      NaN      NaN     Germany   A major        NaN      A   \n",
       "3       NaN      NaN      NaN     Germany  Eb major        NaN      A   \n",
       "4       NaN      NaN      NaN         NaN   A minor    A major      A   \n",
       "5       NaN      NaN      NaN      France  Eb major        NaN      A   \n",
       "6       NaN      NaN      NaN      France   G major        NaN      A   \n",
       "7       NaN      NaN      NaN      France  Bb major        NaN      A   \n",
       "8       NaN      NaN      NaN      France   C major        NaN      A   \n",
       "9       NaN      NaN      NaN       Italy   F major   Eb major      A   \n",
       "10      NaN      NaN      NaN         NaN   G major        NaN      A   \n",
       "11      NaN      NaN      NaN         NaN   A major        NaN      A   \n",
       "12      NaN      NaN      NaN         NaN   E major        NaN      A   \n",
       "13      NaN      NaN      NaN         NaN   A major        NaN      A   \n",
       "14      NaN      NaN      NaN         NaN   C major        NaN      A   \n",
       "\n",
       "                                             Filename Comments  EstDate  \n",
       "0          Sonata Guitar Duet 1 Moderato K174 A major      NaN     1755  \n",
       "1         Sonata Guitar Duet 2 Cantabile K174 D major      NaN     1755  \n",
       "2            Sonata Guitar Duet 3 Vivace K174 A major      NaN     1755  \n",
       "3                      Symphony in Eb Op7No6 Eb major      NaN     1755  \n",
       "4                   Violin Concerto in A- No1 A minor      NaN     1868  \n",
       "5           Le Brasseur de Preston Ouverture Eb major      NaN     1838  \n",
       "6   Le Postillon de Lonjumeau I Mes amis, ecoutez ...      NaN     1836  \n",
       "7         Noel, for voice, harp, and strings Bb major      NaN     1850  \n",
       "8                               O Holy Night! C major      NaN     1847  \n",
       "9                  Sonata per il Clavicembalo F major      NaN     1745  \n",
       "10                    Adagio and Andante in G G major      NaN     1825  \n",
       "11                                    Allegro A major      NaN     1825  \n",
       "12                                  Brillante E major      NaN     1825  \n",
       "13                                  Cantabile A major      NaN     1825  \n",
       "14                                     Minuet C major      NaN     1825  \n",
       "\n",
       "[15 rows x 19 columns]"
      ]
     },
     "execution_count": 52,
     "metadata": {},
     "output_type": "execute_result"
    }
   ],
   "source": []
  },
  {
   "cell_type": "code",
   "execution_count": 53,
   "metadata": {
    "collapsed": false
   },
   "outputs": [],
   "source": [
    "df['file'] = df.file.apply(lambda s: s.replace('.mid', ''))\n",
    "df['Filename'] = df['file']"
   ]
  },
  {
   "cell_type": "code",
   "execution_count": 54,
   "metadata": {
    "collapsed": false
   },
   "outputs": [],
   "source": [
    "master = pd.merge(df, meta, on='Filename')"
   ]
  },
  {
   "cell_type": "code",
   "execution_count": 55,
   "metadata": {
    "collapsed": false
   },
   "outputs": [],
   "source": [
    "master.to_csv('all_canonical.csv')"
   ]
  },
  {
   "cell_type": "code",
   "execution_count": 2,
   "metadata": {
    "collapsed": false
   },
   "outputs": [
    {
     "name": "stderr",
     "output_type": "stream",
     "text": [
      "/usr/lib/python2.7/dist-packages/pandas/io/parsers.py:1070: DtypeWarning: Columns (9,10,11,13,14,15,16,17,18,19,21,23) have mixed types. Specify dtype option on import or set low_memory=False.\n",
      "  data = self._reader.read(nrows)\n"
     ]
    }
   ],
   "source": [
    "master = pd.read_csv('all_canonical.csv', dtype={'canonical':object})"
   ]
  },
  {
   "cell_type": "markdown",
   "metadata": {},
   "source": [
    "## Dump to json"
   ]
  },
  {
   "cell_type": "code",
   "execution_count": 18,
   "metadata": {
    "collapsed": false
   },
   "outputs": [],
   "source": [
    "top_20_comp = list(master.Composer_x.value_counts().keys()[:20])"
   ]
  },
  {
   "cell_type": "code",
   "execution_count": 31,
   "metadata": {
    "collapsed": false
   },
   "outputs": [
    {
     "data": {
      "text/plain": [
       "['Mozart',\n",
       " 'Beethoven',\n",
       " 'Haydn',\n",
       " 'Scarlatti',\n",
       " 'Bach',\n",
       " 'Schubert',\n",
       " 'Liszt',\n",
       " 'Chopin',\n",
       " 'Brahms',\n",
       " 'Saint-Saens',\n",
       " 'Mendelssohn',\n",
       " 'Dvorak',\n",
       " 'Telemann',\n",
       " 'Tchaikovsky',\n",
       " 'Schumann',\n",
       " 'Handel',\n",
       " 'Wagner',\n",
       " 'Vivaldi',\n",
       " 'Hummel',\n",
       " 'Verdi']"
      ]
     },
     "execution_count": 31,
     "metadata": {},
     "output_type": "execute_result"
    }
   ],
   "source": [
    "top_20_comp"
   ]
  },
  {
   "cell_type": "code",
   "execution_count": 1,
   "metadata": {
    "collapsed": false
   },
   "outputs": [
    {
     "ename": "NameError",
     "evalue": "name 'top_20_comp' is not defined",
     "output_type": "error",
     "traceback": [
      "\u001b[1;31m---------------------------------------------------------------------------\u001b[0m",
      "\u001b[1;31mNameError\u001b[0m                                 Traceback (most recent call last)",
      "\u001b[1;32m<ipython-input-1-b029becd6cb0>\u001b[0m in \u001b[0;36m<module>\u001b[1;34m()\u001b[0m\n\u001b[0;32m      4\u001b[0m \u001b[1;32mimport\u001b[0m \u001b[0mjson\u001b[0m\u001b[1;33m\u001b[0m\u001b[0m\n\u001b[0;32m      5\u001b[0m \u001b[1;33m\u001b[0m\u001b[0m\n\u001b[1;32m----> 6\u001b[1;33m \u001b[1;32mfor\u001b[0m \u001b[0mcomposer\u001b[0m \u001b[1;32min\u001b[0m \u001b[0mtop_20_comp\u001b[0m\u001b[1;33m:\u001b[0m\u001b[1;33m\u001b[0m\u001b[0m\n\u001b[0m\u001b[0;32m      7\u001b[0m     \u001b[0msub\u001b[0m \u001b[1;33m=\u001b[0m \u001b[0mdf\u001b[0m\u001b[1;33m[\u001b[0m\u001b[0mdf\u001b[0m\u001b[1;33m.\u001b[0m\u001b[0mComposer\u001b[0m \u001b[1;33m==\u001b[0m \u001b[0mcomposer\u001b[0m\u001b[1;33m]\u001b[0m\u001b[1;33m\u001b[0m\u001b[0m\n\u001b[0;32m      8\u001b[0m     \u001b[0msub\u001b[0m \u001b[1;33m=\u001b[0m \u001b[0msub\u001b[0m\u001b[1;33m[\u001b[0m\u001b[1;33m[\u001b[0m\u001b[1;34m'file'\u001b[0m\u001b[1;33m,\u001b[0m \u001b[1;34m'canonical'\u001b[0m\u001b[1;33m]\u001b[0m\u001b[1;33m]\u001b[0m\u001b[1;33m\u001b[0m\u001b[0m\n",
      "\u001b[1;31mNameError\u001b[0m: name 'top_20_comp' is not defined"
     ]
    }
   ],
   "source": [
    "# dump per composer\n",
    "\n",
    "\n",
    "import json\n",
    "\n",
    "for composer in top_20_comp:\n",
    "    sub = master[master.Composer_x == composer]\n",
    "    sub = sub[['file', 'canonical']]\n",
    "\n",
    "    files = list(sub.file)\n",
    "    vecs = list(sub.canonical)\n",
    "\n",
    "    fv = pd.DataFrame(zip(files,vecs),columns = ['file', 'canonical'])\n",
    "    fv.reset_index()\n",
    "    \n",
    "    done = fv.groupby('file')['canonical'].apply(list)\n",
    "    docs = list(done)\n",
    "\n",
    "    print(\"{} group done\".format(composer))\n",
    "\n",
    "    with open('{}.json'.format(composer), 'w') as f:\n",
    "        json.dump(docs, f)\n",
    "\n",
    "    print(\"{} dump done\".format(composer))"
   ]
  },
  {
   "cell_type": "code",
   "execution_count": 3,
   "metadata": {
    "collapsed": false
   },
   "outputs": [
    {
     "name": "stdout",
     "output_type": "stream",
     "text": [
      "ycac group done\n",
      "ycac dump done\n"
     ]
    }
   ],
   "source": [
    "# dump whole corpus\n",
    "\n",
    "sub = master\n",
    "sub = sub[['file', 'canonical']]\n",
    "\n",
    "files = list(sub.file)\n",
    "vecs = list(sub.canonical)\n",
    "\n",
    "fv = pd.DataFrame(zip(files,vecs),columns = ['file', 'canonical'])\n",
    "fv.reset_index()\n",
    "\n",
    "done = fv.groupby('file')['canonical'].apply(list)\n",
    "docs = list(done)\n",
    "\n",
    "composer = 'ycac'\n",
    "\n",
    "print(\"{} group done\".format(composer))\n",
    "\n",
    "with open('{}.json'.format(composer), 'w') as f:\n",
    "    json.dump(docs, f)\n",
    "\n",
    "print(\"{} dump done\".format(composer))"
   ]
  },
  {
   "cell_type": "code",
   "execution_count": 3,
   "metadata": {
    "collapsed": true
   },
   "outputs": [],
   "source": [
    "eras = [\n",
    "    (1650, 1699),\n",
    "    (1700, 1749),\n",
    "    (1750, 1799),\n",
    "    (1800, 1849),\n",
    "    (1850, 1899),\n",
    "    (1900, 1950)\n",
    "]"
   ]
  },
  {
   "cell_type": "code",
   "execution_count": null,
   "metadata": {
    "collapsed": false
   },
   "outputs": [
    {
     "name": "stdout",
     "output_type": "stream",
     "text": [
      "1650_to_1699 group done\n",
      "1650_to_1699 dump done\n",
      "1700_to_1749 group done\n",
      "1700_to_1749 dump done"
     ]
    }
   ],
   "source": [
    "for era in eras:\n",
    "    start_year = era[0]\n",
    "    end_year = era[1]\n",
    "    \n",
    "    sub = master[master.EstDate.isin(range(start_year, end_year))]\n",
    "    sub = sub[['file', 'canonical']]\n",
    "\n",
    "    label = \"{}_to_{}\".format(start_year, end_year)\n",
    "    \n",
    "    files = list(sub.file)\n",
    "    vecs = list(sub.canonical)\n",
    "\n",
    "    fv = pd.DataFrame(zip(files,vecs),columns = ['file', 'canonical'])\n",
    "    fv.reset_index()\n",
    "    \n",
    "    done = fv.groupby('file')['canonical'].apply(list)\n",
    "    docs = list(done)\n",
    "\n",
    "    print(\"{} group done\".format(label))\n",
    "\n",
    "    with open('{}.json'.format(label), 'w') as f:\n",
    "        json.dump(docs, f)\n",
    "\n",
    "    print(\"{} dump done\".format(label))"
   ]
  },
  {
   "cell_type": "code",
   "execution_count": null,
   "metadata": {
    "collapsed": true
   },
   "outputs": [],
   "source": []
  }
 ],
 "metadata": {
  "kernelspec": {
   "display_name": "Python 2",
   "language": "python",
   "name": "python2"
  },
  "language_info": {
   "codemirror_mode": {
    "name": "ipython",
    "version": 2
   },
   "file_extension": ".py",
   "mimetype": "text/x-python",
   "name": "python",
   "nbconvert_exporter": "python",
   "pygments_lexer": "ipython2",
   "version": "2.7.6"
  }
 },
 "nbformat": 4,
 "nbformat_minor": 0
}
