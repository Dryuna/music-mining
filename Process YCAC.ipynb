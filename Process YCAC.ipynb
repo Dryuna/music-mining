{
 "cells": [
  {
   "cell_type": "code",
   "execution_count": 1,
   "metadata": {
    "collapsed": true
   },
   "outputs": [],
   "source": [
    "import pandas as pd\n",
    "import glob\n",
    "import gensim"
   ]
  },
  {
   "cell_type": "code",
   "execution_count": 2,
   "metadata": {
    "collapsed": true
   },
   "outputs": [],
   "source": [
    "fns = glob.glob('/home/eamonn/Desktop/ycac/small*')"
   ]
  },
  {
   "cell_type": "code",
   "execution_count": 3,
   "metadata": {
    "collapsed": true
   },
   "outputs": [],
   "source": [
    "df = pd.DataFrame()"
   ]
  },
  {
   "cell_type": "code",
   "execution_count": 4,
   "metadata": {
    "collapsed": false
   },
   "outputs": [],
   "source": [
    "for fn in fns:\n",
    "    df = df.append(pd.read_csv(fn))"
   ]
  },
  {
   "cell_type": "code",
   "execution_count": 5,
   "metadata": {
    "collapsed": false
   },
   "outputs": [
    {
     "data": {
      "text/plain": [
       "12209264"
      ]
     },
     "execution_count": 5,
     "metadata": {},
     "output_type": "execute_result"
    }
   ],
   "source": [
    "len(df)"
   ]
  },
  {
   "cell_type": "code",
   "execution_count": 6,
   "metadata": {
    "collapsed": false
   },
   "outputs": [],
   "source": [
    "def str_to_vec(s):\n",
    "    l = eval(s)\n",
    "    rep = \"\"\n",
    "    for i in range(12):\n",
    "        if i in l:\n",
    "            rep += \"1\"\n",
    "        else:\n",
    "            rep += \"0\"\n",
    "    return rep"
   ]
  },
  {
   "cell_type": "code",
   "execution_count": 7,
   "metadata": {
    "collapsed": true
   },
   "outputs": [],
   "source": [
    "df['canonical'] = df.PCsInNormalForm.apply(str_to_vec)"
   ]
  },
  {
   "cell_type": "code",
   "execution_count": 8,
   "metadata": {
    "collapsed": false,
    "scrolled": false
   },
   "outputs": [
    {
     "data": {
      "text/plain": [
       "8701"
      ]
     },
     "execution_count": 8,
     "metadata": {},
     "output_type": "execute_result"
    }
   ],
   "source": [
    "u = df.file.unique()\n",
    "len(u)"
   ]
  },
  {
   "cell_type": "code",
   "execution_count": 11,
   "metadata": {
    "collapsed": false
   },
   "outputs": [
    {
     "data": {
      "text/html": [
       "<div style=\"max-height:1000px;max-width:1500px;overflow:auto;\">\n",
       "<table border=\"1\" class=\"dataframe\">\n",
       "  <thead>\n",
       "    <tr style=\"text-align: right;\">\n",
       "      <th></th>\n",
       "      <th>Composer</th>\n",
       "      <th>PCsInNormalForm</th>\n",
       "      <th>file</th>\n",
       "      <th>offset</th>\n",
       "    </tr>\n",
       "  </thead>\n",
       "  <tbody>\n",
       "    <tr>\n",
       "      <th>0</th>\n",
       "      <td> Dvorak</td>\n",
       "      <td>        [5, 9, 0]</td>\n",
       "      <td> Quartet in Ab 3 Lento e Molto Cantabile Op105N...</td>\n",
       "      <td> 0.00</td>\n",
       "    </tr>\n",
       "    <tr>\n",
       "      <th>1</th>\n",
       "      <td> Dvorak</td>\n",
       "      <td>        [5, 9, 0]</td>\n",
       "      <td> Quartet in Ab 3 Lento e Molto Cantabile Op105N...</td>\n",
       "      <td> 1.00</td>\n",
       "    </tr>\n",
       "    <tr>\n",
       "      <th>2</th>\n",
       "      <td> Dvorak</td>\n",
       "      <td>     [5, 7, 9, 0]</td>\n",
       "      <td> Quartet in Ab 3 Lento e Molto Cantabile Op105N...</td>\n",
       "      <td> 1.25</td>\n",
       "    </tr>\n",
       "    <tr>\n",
       "      <th>3</th>\n",
       "      <td> Dvorak</td>\n",
       "      <td>        [5, 9, 0]</td>\n",
       "      <td> Quartet in Ab 3 Lento e Molto Cantabile Op105N...</td>\n",
       "      <td> 1.50</td>\n",
       "    </tr>\n",
       "    <tr>\n",
       "      <th>4</th>\n",
       "      <td> Dvorak</td>\n",
       "      <td> [5, 7, 9, 10, 0]</td>\n",
       "      <td> Quartet in Ab 3 Lento e Molto Cantabile Op105N...</td>\n",
       "      <td> 1.75</td>\n",
       "    </tr>\n",
       "    <tr>\n",
       "      <th>5</th>\n",
       "      <td> Dvorak</td>\n",
       "      <td>        [5, 9, 0]</td>\n",
       "      <td> Quartet in Ab 3 Lento e Molto Cantabile Op105N...</td>\n",
       "      <td> 2.00</td>\n",
       "    </tr>\n",
       "    <tr>\n",
       "      <th>6</th>\n",
       "      <td> Dvorak</td>\n",
       "      <td>        [5, 9, 0]</td>\n",
       "      <td> Quartet in Ab 3 Lento e Molto Cantabile Op105N...</td>\n",
       "      <td> 2.50</td>\n",
       "    </tr>\n",
       "    <tr>\n",
       "      <th>7</th>\n",
       "      <td> Dvorak</td>\n",
       "      <td>        [5, 9, 0]</td>\n",
       "      <td> Quartet in Ab 3 Lento e Molto Cantabile Op105N...</td>\n",
       "      <td> 3.00</td>\n",
       "    </tr>\n",
       "    <tr>\n",
       "      <th>8</th>\n",
       "      <td> Dvorak</td>\n",
       "      <td>        [5, 9, 0]</td>\n",
       "      <td> Quartet in Ab 3 Lento e Molto Cantabile Op105N...</td>\n",
       "      <td> 3.50</td>\n",
       "    </tr>\n",
       "    <tr>\n",
       "      <th>9</th>\n",
       "      <td> Dvorak</td>\n",
       "      <td> [10, 0, 2, 4, 7]</td>\n",
       "      <td> Quartet in Ab 3 Lento e Molto Cantabile Op105N...</td>\n",
       "      <td> 4.00</td>\n",
       "    </tr>\n",
       "  </tbody>\n",
       "</table>\n",
       "<p>10 rows × 4 columns</p>\n",
       "</div>"
      ],
      "text/plain": [
       "  Composer   PCsInNormalForm  \\\n",
       "0   Dvorak         [5, 9, 0]   \n",
       "1   Dvorak         [5, 9, 0]   \n",
       "2   Dvorak      [5, 7, 9, 0]   \n",
       "3   Dvorak         [5, 9, 0]   \n",
       "4   Dvorak  [5, 7, 9, 10, 0]   \n",
       "5   Dvorak         [5, 9, 0]   \n",
       "6   Dvorak         [5, 9, 0]   \n",
       "7   Dvorak         [5, 9, 0]   \n",
       "8   Dvorak         [5, 9, 0]   \n",
       "9   Dvorak  [10, 0, 2, 4, 7]   \n",
       "\n",
       "                                                file  offset  \n",
       "0  Quartet in Ab 3 Lento e Molto Cantabile Op105N...    0.00  \n",
       "1  Quartet in Ab 3 Lento e Molto Cantabile Op105N...    1.00  \n",
       "2  Quartet in Ab 3 Lento e Molto Cantabile Op105N...    1.25  \n",
       "3  Quartet in Ab 3 Lento e Molto Cantabile Op105N...    1.50  \n",
       "4  Quartet in Ab 3 Lento e Molto Cantabile Op105N...    1.75  \n",
       "5  Quartet in Ab 3 Lento e Molto Cantabile Op105N...    2.00  \n",
       "6  Quartet in Ab 3 Lento e Molto Cantabile Op105N...    2.50  \n",
       "7  Quartet in Ab 3 Lento e Molto Cantabile Op105N...    3.00  \n",
       "8  Quartet in Ab 3 Lento e Molto Cantabile Op105N...    3.50  \n",
       "9  Quartet in Ab 3 Lento e Molto Cantabile Op105N...    4.00  \n",
       "\n",
       "[10 rows x 4 columns]"
      ]
     },
     "execution_count": 11,
     "metadata": {},
     "output_type": "execute_result"
    }
   ],
   "source": [
    "df.head(10)"
   ]
  },
  {
   "cell_type": "code",
   "execution_count": 18,
   "metadata": {
    "collapsed": false
   },
   "outputs": [],
   "source": [
    "top_20_comp = list(df.Composer.value_counts().keys()[:20])"
   ]
  },
  {
   "cell_type": "code",
   "execution_count": 31,
   "metadata": {
    "collapsed": false
   },
   "outputs": [
    {
     "data": {
      "text/plain": [
       "['Mozart',\n",
       " 'Beethoven',\n",
       " 'Haydn',\n",
       " 'Scarlatti',\n",
       " 'Bach',\n",
       " 'Schubert',\n",
       " 'Liszt',\n",
       " 'Chopin',\n",
       " 'Brahms',\n",
       " 'Saint-Saens',\n",
       " 'Mendelssohn',\n",
       " 'Dvorak',\n",
       " 'Telemann',\n",
       " 'Tchaikovsky',\n",
       " 'Schumann',\n",
       " 'Handel',\n",
       " 'Wagner',\n",
       " 'Vivaldi',\n",
       " 'Hummel',\n",
       " 'Verdi']"
      ]
     },
     "execution_count": 31,
     "metadata": {},
     "output_type": "execute_result"
    }
   ],
   "source": [
    "top_20_comp"
   ]
  },
  {
   "cell_type": "code",
   "execution_count": 30,
   "metadata": {
    "collapsed": false
   },
   "outputs": [
    {
     "name": "stdout",
     "output_type": "stream",
     "text": [
      "Mozart group done\n",
      "Mozart dump done\n",
      "Beethoven group done\n",
      "Beethoven dump done\n",
      "Haydn group done\n",
      "Haydn dump done\n",
      "Scarlatti group done\n",
      "Scarlatti dump done\n",
      "Bach group done\n",
      "Bach dump done\n",
      "Schubert group done\n",
      "Schubert dump done\n",
      "Liszt group done\n",
      "Liszt dump done\n",
      "Chopin group done\n",
      "Chopin dump done\n",
      "Brahms group done\n",
      "Brahms dump done\n",
      "Saint-Saens group done\n",
      "Saint-Saens dump done\n",
      "Mendelssohn group done\n",
      "Mendelssohn dump done\n",
      "Dvorak group done\n",
      "Dvorak dump done\n",
      "Telemann group done\n",
      "Telemann dump done\n",
      "Tchaikovsky group done\n",
      "Tchaikovsky dump done\n",
      "Schumann group done\n",
      "Schumann dump done\n",
      "Handel group done\n",
      "Handel dump done\n",
      "Wagner group done\n",
      "Wagner dump done\n",
      "Vivaldi group done\n",
      "Vivaldi dump done\n",
      "Hummel group done\n",
      "Hummel dump done\n",
      "Verdi group done\n",
      "Verdi dump done\n"
     ]
    }
   ],
   "source": [
    "import json\n",
    "\n",
    "for composer in top_20_comp:\n",
    "    sub = df[df.Composer == composer]\n",
    "    sub = sub[['file', 'canonical']]\n",
    "\n",
    "    files = list(sub.file)\n",
    "    vecs = list(sub.canonical)\n",
    "\n",
    "    fv = pd.DataFrame(zip(files,vecs),columns = ['file', 'canonical'])\n",
    "    fv.reset_index()\n",
    "    \n",
    "    done = fv.groupby('file')['canonical'].apply(list)\n",
    "    docs = list(done)\n",
    "\n",
    "    print(\"{} group done\".format(composer))\n",
    "\n",
    "    with open('{}.json'.format(composer), 'w') as f:\n",
    "        json.dump(docs, f)\n",
    "\n",
    "    print(\"{} dump done\".format(composer))"
   ]
  },
  {
   "cell_type": "code",
   "execution_count": null,
   "metadata": {
    "collapsed": true
   },
   "outputs": [],
   "source": []
  }
 ],
 "metadata": {
  "kernelspec": {
   "display_name": "Python 2",
   "language": "python",
   "name": "python2"
  },
  "language_info": {
   "codemirror_mode": {
    "name": "ipython",
    "version": 2
   },
   "file_extension": ".py",
   "mimetype": "text/x-python",
   "name": "python",
   "nbconvert_exporter": "python",
   "pygments_lexer": "ipython2",
   "version": "2.7.6"
  }
 },
 "nbformat": 4,
 "nbformat_minor": 0
}
