{
 "cells": [
  {
   "cell_type": "markdown",
   "metadata": {},
   "source": [
    "# Experiments with statistical learning models from NLP on musical corpora\n",
    "\n",
    "Eamonn Bell <epb2125@columbia.edu> \n",
    "\n",
    "February 11, 2016"
   ]
  },
  {
   "cell_type": "code",
   "execution_count": 1,
   "metadata": {
    "collapsed": false
   },
   "outputs": [
    {
     "name": "stdout",
     "output_type": "stream",
     "text": [
      "Couldn't import dot_parser, loading of dot files will not be possible.\n"
     ]
    },
    {
     "name": "stderr",
     "output_type": "stream",
     "text": [
      "/usr/local/lib/python2.7/dist-packages/matplotlib/font_manager.py:273: UserWarning: Matplotlib is building the font cache using fc-list. This may take a moment.\n",
      "  warnings.warn('Matplotlib is building the font cache using fc-list. This may take a moment.')\n"
     ]
    },
    {
     "data": {
      "text/html": [
       "\n",
       "    <div class=\"bk-banner\">\n",
       "        <a href=\"http://bokeh.pydata.org\" target=\"_blank\" class=\"bk-logo bk-logo-small bk-logo-notebook\"></a>\n",
       "        <span id=\"8e9f3f86-ea65-4694-bc06-552b5b367a0b\">Loading BokehJS ...</span>\n",
       "    </div>"
      ]
     },
     "metadata": {},
     "output_type": "display_data"
    },
    {
     "data": {
      "application/javascript": [
       "\n",
       "(function(global) {\n",
       "  function now() {\n",
       "    return new Date();\n",
       "  }\n",
       "\n",
       "  if (typeof (window._bokeh_onload_callbacks) === \"undefined\") {\n",
       "    window._bokeh_onload_callbacks = [];\n",
       "  }\n",
       "\n",
       "  function run_callbacks() {\n",
       "    window._bokeh_onload_callbacks.forEach(function(callback) { callback() });\n",
       "    delete window._bokeh_onload_callbacks\n",
       "    console.info(\"Bokeh: all callbacks have finished\");\n",
       "  }\n",
       "\n",
       "  function load_libs(js_urls, callback) {\n",
       "    window._bokeh_onload_callbacks.push(callback);\n",
       "    if (window._bokeh_is_loading > 0) {\n",
       "      console.log(\"Bokeh: BokehJS is being loaded, scheduling callback at\", now());\n",
       "      return null;\n",
       "    }\n",
       "    if (js_urls == null || js_urls.length === 0) {\n",
       "      run_callbacks();\n",
       "      return null;\n",
       "    }\n",
       "    console.log(\"Bokeh: BokehJS not loaded, scheduling load and callback at\", now());\n",
       "    window._bokeh_is_loading = js_urls.length;\n",
       "    for (var i = 0; i < js_urls.length; i++) {\n",
       "      var url = js_urls[i];\n",
       "      var s = document.createElement('script');\n",
       "      s.src = url;\n",
       "      s.async = false;\n",
       "      s.onreadystatechange = s.onload = function() {\n",
       "        window._bokeh_is_loading--;\n",
       "        if (window._bokeh_is_loading === 0) {\n",
       "          console.log(\"Bokeh: all BokehJS libraries loaded\");\n",
       "          run_callbacks()\n",
       "        }\n",
       "      };\n",
       "      s.onerror = function() {\n",
       "        console.warn(\"failed to load library \" + url);\n",
       "      };\n",
       "      console.log(\"Bokeh: injecting script tag for BokehJS library: \", url);\n",
       "      document.getElementsByTagName(\"head\")[0].appendChild(s);\n",
       "    }\n",
       "  };\n",
       "\n",
       "  var js_urls = ['https://cdn.pydata.org/bokeh/release/bokeh-0.11.1.min.js', 'https://cdn.pydata.org/bokeh/release/bokeh-widgets-0.11.1.min.js', 'https://cdn.pydata.org/bokeh/release/bokeh-compiler-0.11.1.min.js'];\n",
       "\n",
       "  var inline_js = [\n",
       "    function(Bokeh) {\n",
       "      Bokeh.set_log_level(\"info\");\n",
       "    },\n",
       "    \n",
       "    function(Bokeh) {\n",
       "      Bokeh.$(\"#8e9f3f86-ea65-4694-bc06-552b5b367a0b\").text(\"BokehJS successfully loaded\");\n",
       "    },\n",
       "    function(Bokeh) {\n",
       "      console.log(\"Bokeh: injecting CSS: https://cdn.pydata.org/bokeh/release/bokeh-0.11.1.min.css\");\n",
       "      Bokeh.embed.inject_css(\"https://cdn.pydata.org/bokeh/release/bokeh-0.11.1.min.css\");\n",
       "      console.log(\"Bokeh: injecting CSS: https://cdn.pydata.org/bokeh/release/bokeh-widgets-0.11.1.min.css\");\n",
       "      Bokeh.embed.inject_css(\"https://cdn.pydata.org/bokeh/release/bokeh-widgets-0.11.1.min.css\");\n",
       "    }\n",
       "  ];\n",
       "\n",
       "  function run_inline_js() {\n",
       "    for (var i = 0; i < inline_js.length; i++) {\n",
       "      inline_js[i](window.Bokeh);\n",
       "    }\n",
       "  }\n",
       "\n",
       "  if (window._bokeh_is_loading === 0) {\n",
       "    console.log(\"Bokeh: BokehJS loaded, going straight to plotting\");\n",
       "    run_inline_js();\n",
       "  } else {\n",
       "    load_libs(js_urls, function() {\n",
       "      console.log(\"Bokeh: BokehJS plotting callback run at\", now());\n",
       "      run_inline_js();\n",
       "    });\n",
       "  }\n",
       "}(this));"
      ]
     },
     "metadata": {},
     "output_type": "display_data"
    }
   ],
   "source": [
    "import pretty_midi\n",
    "import glob\n",
    "import numpy as np\n",
    "import gensim\n",
    "import music21\n",
    "import sklearn\n",
    "import random\n",
    "\n",
    "from matplotlib import pyplot as plt\n",
    "%matplotlib inline\n",
    "\n",
    "from bokeh.plotting import output_file, output_notebook, ColumnDataSource, figure, show\n",
    "from bokeh.models import HoverTool\n",
    "\n",
    "from sklearn.manifold import TSNE\n",
    "\n",
    "output_notebook()"
   ]
  },
  {
   "cell_type": "code",
   "execution_count": 3,
   "metadata": {
    "collapsed": true
   },
   "outputs": [],
   "source": [
    "# http://kern.humdrum.org/search?s=t&keyword=Beethoven\n",
    "\n",
    "\n",
    "# midifns = glob.glob('./corpus/bach/mid/*.mid')\n",
    "# midifns = glob.glob('./corpus/beethoven/mid/*.mid')\n",
    "midifns = glob.glob('./corpus/haydn/mid/*.mid')\n",
    "\n",
    "\n",
    "pms = [pretty_midi.PrettyMIDI(fn) for fn in midifns]"
   ]
  },
  {
   "cell_type": "code",
   "execution_count": 4,
   "metadata": {
    "collapsed": true
   },
   "outputs": [],
   "source": [
    "def strep_human(w):\n",
    "    \"Create a pretty string representation of the chroma vector from pretty_midi\"\n",
    "    m = { 0 : 'c', \n",
    "        1 : 'c+', \n",
    "        2 : 'd', \n",
    "        3 : 'e-',\n",
    "        4 : 'e',\n",
    "        5 : 'f',\n",
    "        6 : 'f+', \n",
    "        7 : 'g', \n",
    "        8 : 'a-',\n",
    "        9 : 'a',\n",
    "        10 : 'b-',\n",
    "        11 : 'b'}\n",
    "    rep = []\n",
    "    for i, x in enumerate(w):\n",
    "        if x == 1:\n",
    "            rep.append(m[i])\n",
    "    \n",
    "    return \" \".join(rep)"
   ]
  },
  {
   "cell_type": "code",
   "execution_count": 5,
   "metadata": {
    "collapsed": true
   },
   "outputs": [],
   "source": [
    "def strep(w):\n",
    "    \"Create a canonical string representation of the chroma vector from pretty_midi\"\n",
    "    return \"\".join([str(x) for x in w])"
   ]
  },
  {
   "cell_type": "code",
   "execution_count": 6,
   "metadata": {
    "collapsed": false
   },
   "outputs": [
    {
     "name": "stderr",
     "output_type": "stream",
     "text": [
      "/usr/local/lib/python2.7/dist-packages/numpy/core/_methods.py:59: RuntimeWarning: Mean of empty slice.\n",
      "  warnings.warn(\"Mean of empty slice.\", RuntimeWarning)\n"
     ]
    }
   ],
   "source": [
    "docs = []\n",
    "\n",
    "for pm in pms:\n",
    "    # Get chroma vector at all note onsets (\"salami slicing\")\n",
    "    # A chroma vector in pretty_midi is a 12-place vector which sums \n",
    "    # the midi velocity across all octaves of each note\n",
    "    \n",
    "    cr = pm.get_chroma(times=pm.get_onsets())\n",
    "    \n",
    "    # Transpose to get rep we need. Rows are chroma vectors now\n",
    "    cr_t = cr.T\n",
    "    \n",
    "    # Binarize i.e. set to 1 if entry in chroma vector is non-zero\n",
    "    # So we don't care about if there are doublings (same note name at diff. octaves)\n",
    "    binarized = np.where(cr_t > 0, 1, 0)\n",
    "    doc = binarized.tolist()\n",
    "    doc = [strep(w) for w in doc if sum(w) > 1]\n",
    "    docs.append(doc)"
   ]
  },
  {
   "cell_type": "code",
   "execution_count": 7,
   "metadata": {
    "collapsed": false
   },
   "outputs": [],
   "source": [
    "dictionary = gensim.corpora.Dictionary(docs)"
   ]
  },
  {
   "cell_type": "code",
   "execution_count": 8,
   "metadata": {
    "collapsed": false
   },
   "outputs": [],
   "source": [
    "corpus = [dictionary.doc2bow(doc) for doc in docs]"
   ]
  },
  {
   "cell_type": "code",
   "execution_count": 382,
   "metadata": {
    "collapsed": false
   },
   "outputs": [
    {
     "name": "stderr",
     "output_type": "stream",
     "text": [
      "WARNING:gensim.models.ldamodel:too few updates, training might not converge; consider increasing the number of passes or iterations to improve accuracy\n"
     ]
    }
   ],
   "source": [
    "lda = gensim.models.LdaModel(corpus, id2word=dictionary, num_topics=24, passes=5, iterations=75)"
   ]
  },
  {
   "cell_type": "code",
   "execution_count": 383,
   "metadata": {
    "collapsed": true
   },
   "outputs": [
    {
     "data": {
      "text/plain": [
       "[u'0.155*001000100100 + 0.082*001000010010 + 0.042*100001000100 + 0.039*001001000010 + 0.035*010010000100 + 0.031*101000100100 + 0.025*001000010001 + 0.024*001001000100 + 0.023*100010010000 + 0.021*001010000100',\n",
       " u'0.205*100010010000 + 0.153*001000010001 + 0.042*001001010001 + 0.040*001001000100 + 0.031*100001000100 + 0.030*101010010000 + 0.022*001001000001 + 0.021*100011000100 + 0.021*101000010000 + 0.019*000010010001',\n",
       " u'0.151*001001000010 + 0.118*000100010010 + 0.064*100100010000 + 0.057*100001000100 + 0.040*001000010010 + 0.039*100101000100 + 0.039*001001001010 + 0.031*100100010010 + 0.028*100100001000 + 0.023*100001001000',\n",
       " u'0.169*100010000100 + 0.089*000010001001 + 0.085*100010010000 + 0.059*001000010001 + 0.041*001001000100 + 0.040*000010010001 + 0.036*001010001001 + 0.031*001001000101 + 0.028*100001000100 + 0.027*001001010001',\n",
       " u'0.085*100001001000 + 0.084*100100001000 + 0.082*100100010000 + 0.052*000100010010 + 0.049*010001000010 + 0.046*010001001000 + 0.040*001000010001 + 0.029*100001000100 + 0.022*100010010000 + 0.020*010000010010',\n",
       " u'0.044*000100101010 + 0.041*000001100010 + 0.009*001001000010 + 0.009*001000010010 + 0.006*100010010010 + 0.005*100100100100 + 0.005*100001000100 + 0.005*100010010000 + 0.005*010001010010 + 0.005*001011010000',\n",
       " u'0.164*100001000100 + 0.123*100010010000 + 0.063*001001000100 + 0.045*001001000010 + 0.045*100010010010 + 0.028*100010000100 + 0.028*001000010010 + 0.025*101001000100 + 0.024*001000010001 + 0.022*100001010000',\n",
       " u'0.149*001000100001 + 0.146*001000100100 + 0.142*010010000100 + 0.066*010000100010 + 0.040*001000100101 + 0.030*000010001001 + 0.030*010010010100 + 0.027*011000100100 + 0.026*010010100010 + 0.025*010010010001',\n",
       " u'0.192*010001000010 + 0.182*000100100010 + 0.075*010000100010 + 0.054*100001000100 + 0.051*010001001000 + 0.031*010001100010 + 0.024*001001000010 + 0.023*000100001001 + 0.021*000101100010 + 0.020*100100100010',\n",
       " u'0.008*000010010001 + 0.004*001000100100 + 0.004*100010000100 + 0.003*001000010101 + 0.003*000100100101 + 0.003*000100100001 + 0.003*001000100001 + 0.003*100010100100 + 0.003*001010001000 + 0.003*000010000101',\n",
       " u'0.179*001000010010 + 0.093*001000100100 + 0.085*001001000010 + 0.057*100001000100 + 0.055*100100010000 + 0.050*101000100100 + 0.033*100100010100 + 0.031*000100010010 + 0.021*100100010010 + 0.020*001001010010',\n",
       " u'0.056*100001000100 + 0.055*100010010000 + 0.050*100100100100 + 0.043*100010000100 + 0.037*000010001001 + 0.026*001010001001 + 0.022*000100100001 + 0.020*001001000100 + 0.020*001001010001 + 0.020*100010000000',\n",
       " u'0.192*010010000100 + 0.125*000010001001 + 0.070*001000100100 + 0.057*001010001001 + 0.055*001000100001 + 0.035*010000100100 + 0.030*001000100101 + 0.028*010010100100 + 0.028*011000100100 + 0.024*010010001100',\n",
       " u'0.002*001000100100 + 0.002*001000010001 + 0.002*100010010000 + 0.002*010010000100 + 0.002*000010001001 + 0.002*100001000100 + 0.002*001001000100 + 0.002*000010010001 + 0.002*001001000010 + 0.002*101000100100',\n",
       " u'0.017*010000100100 + 0.011*010010000100 + 0.010*001000100100 + 0.010*010001001000 + 0.008*000010001001 + 0.007*010001001001 + 0.007*001000100001 + 0.005*010000100101 + 0.005*001010001001 + 0.005*010010100100',\n",
       " u'0.018*001001000100 + 0.012*010010000100 + 0.006*001010010010 + 0.006*100001000100 + 0.006*010010010100 + 0.006*001010010100 + 0.005*001000010010 + 0.005*001000100100 + 0.005*010000100100 + 0.005*001010001001',\n",
       " u'0.151*001000100100 + 0.122*010010000100 + 0.051*010010010100 + 0.046*001000010001 + 0.045*010010010000 + 0.037*000010010001 + 0.030*000010001001 + 0.027*001000110100 + 0.027*010000100100 + 0.026*001010010001',\n",
       " u'0.191*001000010001 + 0.145*100010010000 + 0.119*001000100100 + 0.055*101000100100 + 0.045*100010010001 + 0.036*100010000100 + 0.020*001001010001 + 0.018*010010010100 + 0.017*001000100001 + 0.016*100001000100',\n",
       " u'0.143*001001000100 + 0.070*010010000100 + 0.054*100010010000 + 0.049*100010000100 + 0.047*100001000100 + 0.038*010010010100 + 0.028*001000010001 + 0.026*001000010010 + 0.023*001010000100 + 0.021*000010001001',\n",
       " u'0.076*001000100001 + 0.058*001000010010 + 0.054*001000100100 + 0.052*010000100010 + 0.033*001001000010 + 0.032*000010010001 + 0.029*010010100010 + 0.029*100001000100 + 0.023*010010000100 + 0.017*000100010010',\n",
       " u'0.212*001000010001 + 0.124*001000100100 + 0.090*000010010001 + 0.063*101000100100 + 0.053*100010010000 + 0.032*001000010100 + 0.031*100000100100 + 0.030*100010000100 + 0.025*001000010101 + 0.023*000100100001',\n",
       " u'0.121*001000100100 + 0.081*000010010001 + 0.073*001000010001 + 0.058*010010000100 + 0.044*001000100001 + 0.032*010010010100 + 0.025*100010000100 + 0.023*000100100001 + 0.021*000010001001 + 0.018*001010010001',\n",
       " u'0.005*100010000100 + 0.004*000010001001 + 0.004*100010010000 + 0.003*101000100100 + 0.003*001000010001 + 0.003*001001010001 + 0.003*001001000100 + 0.003*101001000100 + 0.003*100001000100 + 0.003*101010000100',\n",
       " u'0.113*000010001001 + 0.112*010010000100 + 0.076*010000100100 + 0.040*001000100100 + 0.039*000100100001 + 0.036*001000100001 + 0.031*000100100101 + 0.030*001010001001 + 0.026*010010001000 + 0.021*010010100100']"
      ]
     },
     "execution_count": 383,
     "metadata": {},
     "output_type": "execute_result"
    }
   ],
   "source": [
    "lda.print_topics(24)"
   ]
  },
  {
   "cell_type": "markdown",
   "metadata": {},
   "source": [
    "## Use a sliding window to track changes in topic over time\n",
    "\n",
    "If topics (k=24) are roughly equivalent to keys, then changes the topic makeup of subdocuments (windows; sub-pieces) are 'modulations'."
   ]
  },
  {
   "cell_type": "code",
   "execution_count": 227,
   "metadata": {
    "collapsed": false
   },
   "outputs": [],
   "source": [
    "from itertools import islice\n",
    "\n",
    "def window(seq, n=2):\n",
    "    \"Returns a sliding window (of width n) over data from the iterable\"\n",
    "    \"   s -> (s0,s1,...s[n-1]), (s1,s2,...,sn), ...                   \"\n",
    "    it = iter(seq)\n",
    "    result = tuple(islice(it, n))\n",
    "    if len(result) == n:\n",
    "        yield result    \n",
    "    for elem in it:\n",
    "        result = result[1:] + (elem,)\n",
    "        yield result"
   ]
  },
  {
   "cell_type": "code",
   "execution_count": 236,
   "metadata": {
    "collapsed": false
   },
   "outputs": [],
   "source": [
    "sliding = []\n",
    "\n",
    "# pick some random piece and \n",
    "for index, subdoc in enumerate(window(docs[15], n=250)):\n",
    "    topics = dict(lda[dictionary.doc2bow(subdoc)])\n",
    "    sliding.append(topics)"
   ]
  },
  {
   "cell_type": "code",
   "execution_count": 237,
   "metadata": {
    "collapsed": false
   },
   "outputs": [],
   "source": [
    "import pandas as pd\n",
    "%matplotlib inline"
   ]
  },
  {
   "cell_type": "code",
   "execution_count": 238,
   "metadata": {
    "collapsed": false
   },
   "outputs": [],
   "source": [
    "some_movement = pd.DataFrame(sliding)"
   ]
  },
  {
   "cell_type": "code",
   "execution_count": 239,
   "metadata": {
    "collapsed": false
   },
   "outputs": [
    {
     "data": {
      "text/plain": [
       "<matplotlib.axes._subplots.AxesSubplot at 0x7f9d88881750>"
      ]
     },
     "execution_count": 239,
     "metadata": {},
     "output_type": "execute_result"
    },
    {
     "data": {
      "image/png": "[encoded data removed]",
      "text/plain": [
       "<matplotlib.figure.Figure at 0x7f9d85b4a690>"
      ]
     },
     "metadata": {},
     "output_type": "display_data"
    }
   ],
   "source": [
    "# Should be a stacked bar chart!\n",
    "some_movement.plot()"
   ]
  },
  {
   "cell_type": "markdown",
   "metadata": {},
   "source": [
    "---\n",
    "\n",
    "# Word embedding (word2vec)\n",
    "\n",
    "## Prep and tSNE dim. rdxn"
   ]
  },
  {
   "cell_type": "code",
   "execution_count": 17,
   "metadata": {
    "collapsed": false
   },
   "outputs": [],
   "source": [
    "def chunks(l, n):\n",
    "    \"\"\"Yield successive n-sized chunks from l.\"\"\"\n",
    "    for i in xrange(0, len(l), n):\n",
    "        yield l[i:i+n]"
   ]
  },
  {
   "cell_type": "code",
   "execution_count": 18,
   "metadata": {
    "collapsed": true
   },
   "outputs": [],
   "source": [
    "chunked_docs = []\n",
    "\n",
    "for doc in docs:\n",
    "    chunked_docs.extend([x for x in chunks(doc, 16)])\n",
    "\n",
    "sentences = chunked_docs\n",
    "\n",
    "model = gensim.models.Word2Vec(sentences, size=100, window=5, min_count=5, workers=4)"
   ]
  },
  {
   "cell_type": "code",
   "execution_count": 19,
   "metadata": {
    "collapsed": false
   },
   "outputs": [],
   "source": [
    "words = model.vocab.keys()\n",
    "embeddings = np.array([model[w] for w in words])\n",
    "tsne = TSNE(perplexity=30, n_components=2, init='pca', n_iter=200)\n",
    "proj = tsne.fit_transform(embeddings)"
   ]
  },
  {
   "cell_type": "code",
   "execution_count": 20,
   "metadata": {
    "collapsed": false
   },
   "outputs": [],
   "source": [
    "def myplot(source, title, *args, **kwargs):\n",
    "    p = figure(title=title)\n",
    "    p.scatter('x', 'y', line_width=2, source=source, *args, **kwargs)\n",
    "\n",
    "    tooltips = \"\"\" @label \"\"\"\n",
    "\n",
    "    hover = HoverTool(tooltips=tooltips)\n",
    "\n",
    "    p.add_tools(hover)\n",
    "\n",
    "    try:\n",
    "        show(p)\n",
    "    except ImportError:\n",
    "        # Suppress warning of issue described here \n",
    "        # https://groups.google.com/a/continuum.io/forum/#!msg/bokeh/MsizmwbUfw8/7CKPWKrHAAAJ\n",
    "        pass"
   ]
  },
  {
   "cell_type": "code",
   "execution_count": 21,
   "metadata": {
    "collapsed": false
   },
   "outputs": [],
   "source": [
    "# Assemble data \n",
    "source = ColumnDataSource(\n",
    "    data=dict(\n",
    "        x=proj[:,0],\n",
    "        y=proj[:,1],\n",
    "        label=words\n",
    "    )\n",
    ")\n",
    "\n",
    "# Sanity check \n",
    "assert len(proj[:,0]) == len(words)"
   ]
  },
  {
   "cell_type": "code",
   "execution_count": 22,
   "metadata": {
    "collapsed": false
   },
   "outputs": [
    {
     "data": {
      "text/html": [
       "\n",
       "\n",
       "    <div class=\"plotdiv\" id=\"42362cc8-6594-46a1-b7f5-951df14df0c0\"></div>\n",
       "<script type=\"text/javascript\">\n",
       "  \n",
       "  (function(global) {\n",
       "    function now() {\n",
       "      return new Date();\n",
       "    }\n",
       "  \n",
       "    if (typeof (window._bokeh_onload_callbacks) === \"undefined\") {\n",
       "      window._bokeh_onload_callbacks = [];\n",
       "    }\n",
       "  \n",
       "    function run_callbacks() {\n",
       "      window._bokeh_onload_callbacks.forEach(function(callback) { callback() });\n",
       "      delete window._bokeh_onload_callbacks\n",
       "      console.info(\"Bokeh: all callbacks have finished\");\n",
       "    }\n",
       "  \n",
       "    function load_libs(js_urls, callback) {\n",
       "      window._bokeh_onload_callbacks.push(callback);\n",
       "      if (window._bokeh_is_loading > 0) {\n",
       "        console.log(\"Bokeh: BokehJS is being loaded, scheduling callback at\", now());\n",
       "        return null;\n",
       "      }\n",
       "      if (js_urls == null || js_urls.length === 0) {\n",
       "        run_callbacks();\n",
       "        return null;\n",
       "      }\n",
       "      console.log(\"Bokeh: BokehJS not loaded, scheduling load and callback at\", now());\n",
       "      window._bokeh_is_loading = js_urls.length;\n",
       "      for (var i = 0; i < js_urls.length; i++) {\n",
       "        var url = js_urls[i];\n",
       "        var s = document.createElement('script');\n",
       "        s.src = url;\n",
       "        s.async = false;\n",
       "        s.onreadystatechange = s.onload = function() {\n",
       "          window._bokeh_is_loading--;\n",
       "          if (window._bokeh_is_loading === 0) {\n",
       "            console.log(\"Bokeh: all BokehJS libraries loaded\");\n",
       "            run_callbacks()\n",
       "          }\n",
       "        };\n",
       "        s.onerror = function() {\n",
       "          console.warn(\"failed to load library \" + url);\n",
       "        };\n",
       "        console.log(\"Bokeh: injecting script tag for BokehJS library: \", url);\n",
       "        document.getElementsByTagName(\"head\")[0].appendChild(s);\n",
       "      }\n",
       "    };var element = document.getElementById(\"42362cc8-6594-46a1-b7f5-951df14df0c0\");\n",
       "    if (element == null) {\n",
       "      console.log(\"Bokeh: ERROR: autoload.js configured with elementid '42362cc8-6594-46a1-b7f5-951df14df0c0' but no matching script tag was found. \")\n",
       "      return false;\n",
       "    }\n",
       "  \n",
       "    var js_urls = [];\n",
       "  \n",
       "    var inline_js = [\n",
       "      function(Bokeh) {\n",
       "        Bokeh.$(function() {\n",
       "            var docs_json = {\"bc79a4b4-ea40-45e9-adb5-ce10179c08b0\":{\"roots\":{\"references\":[{\"attributes\":{},\"id\":\"8424cce9-579f-4bfc-8778-726216602620\",\"type\":\"ToolEvents\"},{\"attributes\":{\"formatter\":{\"id\":\"01ba19af-3ed9-4259-b3d9-9f193d8f3493\",\"type\":\"BasicTickFormatter\"},\"plot\":{\"id\":\"40792aa3-84ca-4a50-a10a-dbf991716d1f\",\"subtype\":\"Figure\",\"type\":\"Plot\"},\"ticker\":{\"id\":\"9c77a7d4-ec9f-449b-beaf-1bde73cfc893\",\"type\":\"BasicTicker\"}},\"id\":\"f424b2e0-4363-4542-a764-3ff75a348bea\",\"type\":\"LinearAxis\"},{\"attributes\":{\"plot\":{\"id\":\"40792aa3-84ca-4a50-a10a-dbf991716d1f\",\"subtype\":\"Figure\",\"type\":\"Plot\"}},\"id\":\"b01242e8-44bf-44ad-ba41-e4dde6f09866\",\"type\":\"PreviewSaveTool\"},{\"attributes\":{\"below\":[{\"id\":\"6260b426-75c6-4408-b38a-24bbc08e26ed\",\"type\":\"LinearAxis\"}],\"left\":[{\"id\":\"f424b2e0-4363-4542-a764-3ff75a348bea\",\"type\":\"LinearAxis\"}],\"renderers\":[{\"id\":\"6260b426-75c6-4408-b38a-24bbc08e26ed\",\"type\":\"LinearAxis\"},{\"id\":\"67df87dd-444a-4b88-98b4-cac3e635bb61\",\"type\":\"Grid\"},{\"id\":\"f424b2e0-4363-4542-a764-3ff75a348bea\",\"type\":\"LinearAxis\"},{\"id\":\"13f38884-2ff0-404b-a162-d1a9d7e7aa33\",\"type\":\"Grid\"},{\"id\":\"6f3e1df5-d958-4b4d-a400-ed6452f2ef3c\",\"type\":\"BoxAnnotation\"},{\"id\":\"93e9b1d9-f995-495a-b3b0-8cd82da0e315\",\"type\":\"GlyphRenderer\"}],\"title\":\"tSNE(word2vec) on corpus\",\"tool_events\":{\"id\":\"8424cce9-579f-4bfc-8778-726216602620\",\"type\":\"ToolEvents\"},\"tools\":[{\"id\":\"a738e331-8929-4329-805c-8cda3b5a348b\",\"type\":\"PanTool\"},{\"id\":\"f76c4f7c-b156-42a3-b9c5-49ae047968d5\",\"type\":\"WheelZoomTool\"},{\"id\":\"099cd413-04ed-4ef5-947f-cc6fde8be5ef\",\"type\":\"BoxZoomTool\"},{\"id\":\"b01242e8-44bf-44ad-ba41-e4dde6f09866\",\"type\":\"PreviewSaveTool\"},{\"id\":\"cb59bbbb-1626-4ee0-89d6-fc3639293f0f\",\"type\":\"ResizeTool\"},{\"id\":\"a4f76506-017d-48a7-a5b2-9b752c4c72f6\",\"type\":\"ResetTool\"},{\"id\":\"c72b7000-00ae-43e0-9ffc-d61fc7bbbf59\",\"type\":\"HelpTool\"},{\"id\":\"2a198879-8d27-4fb5-b75a-017b79d102fb\",\"type\":\"HoverTool\"}],\"x_range\":{\"id\":\"1ba6d876-3fa4-4a73-92b3-bfc7e98565a6\",\"type\":\"DataRange1d\"},\"y_range\":{\"id\":\"3dfae75a-46bf-448c-b53a-634ce59f7836\",\"type\":\"DataRange1d\"}},\"id\":\"40792aa3-84ca-4a50-a10a-dbf991716d1f\",\"subtype\":\"Figure\",\"type\":\"Plot\"},{\"attributes\":{\"callback\":null},\"id\":\"3dfae75a-46bf-448c-b53a-634ce59f7836\",\"type\":\"DataRange1d\"},{\"attributes\":{},\"id\":\"b123e681-f53a-435f-866a-023fa3e0a862\",\"type\":\"BasicTickFormatter\"},{\"attributes\":{\"fill_color\":{\"value\":\"#1f77b4\"},\"line_color\":{\"value\":\"#1f77b4\"},\"line_width\":{\"value\":2},\"x\":{\"field\":\"x\"},\"y\":{\"field\":\"y\"}},\"id\":\"a19b6ca4-2a9b-451f-9c76-4ab81b7da7e6\",\"type\":\"Circle\"},{\"attributes\":{\"plot\":{\"id\":\"40792aa3-84ca-4a50-a10a-dbf991716d1f\",\"subtype\":\"Figure\",\"type\":\"Plot\"}},\"id\":\"cb59bbbb-1626-4ee0-89d6-fc3639293f0f\",\"type\":\"ResizeTool\"},{\"attributes\":{\"plot\":{\"id\":\"40792aa3-84ca-4a50-a10a-dbf991716d1f\",\"subtype\":\"Figure\",\"type\":\"Plot\"},\"ticker\":{\"id\":\"ca537bfd-9218-4d4d-a2fe-cd653b09bd94\",\"type\":\"BasicTicker\"}},\"id\":\"67df87dd-444a-4b88-98b4-cac3e635bb61\",\"type\":\"Grid\"},{\"attributes\":{\"callback\":null},\"id\":\"1ba6d876-3fa4-4a73-92b3-bfc7e98565a6\",\"type\":\"DataRange1d\"},{\"attributes\":{\"plot\":{\"id\":\"40792aa3-84ca-4a50-a10a-dbf991716d1f\",\"subtype\":\"Figure\",\"type\":\"Plot\"}},\"id\":\"a4f76506-017d-48a7-a5b2-9b752c4c72f6\",\"type\":\"ResetTool\"},{\"attributes\":{\"plot\":{\"id\":\"40792aa3-84ca-4a50-a10a-dbf991716d1f\",\"subtype\":\"Figure\",\"type\":\"Plot\"}},\"id\":\"a738e331-8929-4329-805c-8cda3b5a348b\",\"type\":\"PanTool\"},{\"attributes\":{\"callback\":null,\"column_names\":[\"y\",\"x\",\"label\"],\"data\":{\"label\":[\"100100100000\",\"000100011000\",\"101000010100\",\"000001101000\",\"100100000100\",\"010011000010\",\"100010000000\",\"100010000001\",\"100001010001\",\"100001010000\",\"101010100000\",\"010010100000\",\"101000001001\",\"101000001000\",\"000100100000\",\"000100100001\",\"000001101001\",\"011000000000\",\"011000000001\",\"110000100100\",\"100011010000\",\"001010000010\",\"001010001010\",\"001010010001\",\"001010010000\",\"010100101000\",\"001000010110\",\"010000001100\",\"101000100001\",\"101000100000\",\"100000000001\",\"000110000000\",\"000110000001\",\"001000001101\",\"001000001100\",\"100001010100\",\"011000100100\",\"100000010101\",\"100000010100\",\"000010110001\",\"000010110000\",\"000001010010\",\"000001011010\",\"100001001001\",\"100001001000\",\"010101000010\",\"000100010100\",\"100010100100\",\"001001010100\",\"000010010101\",\"000010010100\",\"100010010010\",\"000100000100\",\"000100000101\",\"000000001001\",\"110000000010\",\"000011001001\",\"000011001000\",\"010001001001\",\"010001001000\",\"010010000000\",\"010010000001\",\"011000010010\",\"000101000101\",\"000101000100\",\"010010010010\",\"100100010010\",\"001001000000\",\"001001000001\",\"101000000101\",\"101000000100\",\"001000000001\",\"000010100010\",\"100000100101\",\"100000100100\",\"000000000101\",\"000100001000\",\"000100001001\",\"000010001011\",\"000000010100\",\"000000010101\",\"010010100001\",\"010000000100\",\"010000000101\",\"001101000010\",\"110010000010\",\"000010000010\",\"101001010000\",\"001000100000\",\"001000100001\",\"011010000100\",\"100001000101\",\"100001000100\",\"000000110010\",\"010001100010\",\"000101001000\",\"001010110000\",\"100110000100\",\"010001000100\",\"000011000100\",\"100010101000\",\"000100110010\",\"001011000100\",\"001010100001\",\"001010100000\",\"000011010100\",\"101001000001\",\"101001000000\",\"010100000010\",\"001001011000\",\"010100001010\",\"010000010100\",\"100000110000\",\"000010010000\",\"000010010001\",\"000001000110\",\"010000100010\",\"000000011000\",\"010010100100\",\"001000000100\",\"001000000101\",\"100010000010\",\"100101000100\",\"000110001000\",\"001000110010\",\"101010000100\",\"011010001000\",\"110001001000\",\"010000001000\",\"010000001001\",\"011000000010\",\"100100100100\",\"100100100101\",\"000100110001\",\"000001000010\",\"001010001001\",\"001010001000\",\"100011000000\",\"011010000000\",\"001000010101\",\"001000010100\",\"100110001000\",\"001100000000\",\"011001000000\",\"010100100010\",\"001010010100\",\"000100100011\",\"000100100010\",\"010110000100\",\"010101000000\",\"101000100100\",\"000001011000\",\"000101011000\",\"101100000010\",\"100000000100\",\"100000000101\",\"001000001000\",\"001000001001\",\"100010010001\",\"100010010000\",\"100101001000\",\"100100000000\",\"000100000110\",\"100000100000\",\"101011000000\",\"001000011000\",\"101000010010\",\"100100000001\",\"000010110100\",\"010010000010\",\"100001001100\",\"100010000110\",\"011000010000\",\"000100010000\",\"000100010001\",\"000000100001\",\"001001000010\",\"010010010001\",\"010010010000\",\"100000010000\",\"100100010000\",\"000001100001\",\"001001001010\",\"000010001101\",\"001100010010\",\"000000001100\",\"000010001100\",\"000100001010\",\"001010000101\",\"001010000100\",\"010001001100\",\"100001011000\",\"000101000000\",\"000101000001\",\"000000010110\",\"010000101001\",\"000110010001\",\"101000000000\",\"101000000001\",\"001101000000\",\"000101010010\",\"100010110000\",\"000010000001\",\"010010000011\",\"101101000000\",\"010110001000\",\"100010001100\",\"101000101000\",\"001000100011\",\"001000100010\",\"100000001000\",\"100000001001\",\"011010100000\",\"010010001001\",\"010010001000\",\"101001000100\",\"011010010000\",\"001001010010\",\"100001000000\",\"100001000001\",\"000100000010\",\"100100101000\",\"110000000100\",\"001001000110\",\"110010010000\",\"110000001000\",\"010010000110\",\"010000010101\",\"001011010000\",\"000000101100\",\"010100001000\",\"000010010011\",\"000010010010\",\"010100010010\",\"010001000000\",\"010001000001\",\"000011000000\",\"100100010001\",\"100000010001\",\"000010100101\",\"000010100100\",\"001010100100\",\"000000011010\",\"000001010101\",\"000001010100\",\"000101001010\",\"000011010010\",\"001000000110\",\"010000010000\",\"010000010001\",\"100000110100\",\"010000101000\",\"000000010010\",\"000100101001\",\"000100101000\",\"010000000010\",\"001000110001\",\"001000110000\",\"100010001001\",\"100010001000\",\"100101010000\",\"101001001000\",\"101010010000\",\"001100100100\",\"110001000010\",\"000000110101\",\"000000110100\",\"000001001000\",\"000001001001\",\"000010101001\",\"000000001101\",\"001100000010\",\"101010000010\",\"010100100001\",\"010100100000\",\"001011000010\",\"100011000100\",\"010001010010\",\"010000001010\",\"001000010000\",\"001000010001\",\"001010001100\",\"000001000001\",\"101100000000\",\"010010011000\",\"100000000110\",\"011001000100\",\"001000001010\",\"100100000010\",\"010000100101\",\"010000100100\",\"100101000010\",\"100100001010\",\"010010100010\",\"101000010001\",\"101000010000\",\"100100110000\",\"100010000101\",\"100010000100\",\"000100010010\",\"100000010010\",\"001001001001\",\"001001001000\",\"101100001000\",\"100000011010\",\"100010010100\",\"001100001010\",\"000110001001\",\"010100000100\",\"001100010001\",\"001100010000\",\"011000000101\",\"011000000100\",\"000100011010\",\"100100000110\",\"100001010010\",\"011000010100\",\"000101000010\",\"010010010100\",\"100100010100\",\"000101010000\",\"101000000010\",\"101000001010\",\"000000100100\",\"000000100101\",\"100010011000\",\"000110000100\",\"001010000000\",\"001010000001\",\"001010010010\",\"100000001010\",\"011000100001\",\"011000100000\",\"000100100101\",\"000100100100\",\"100011001000\",\"001000101001\",\"001000101000\",\"000110100100\",\"000010000100\",\"000010000101\",\"100000000010\",\"001001010001\",\"001001010000\",\"100001000010\",\"000100000001\",\"001001100001\",\"001001100000\",\"000101100001\",\"010010001100\",\"001001000101\",\"001001000100\",\"100000100110\",\"000001010000\",\"000001010001\",\"010010000101\",\"010010000100\",\"001101001000\",\"010000110100\",\"010100010000\",\"100001001010\",\"000011000010\",\"000100010110\",\"010001000010\",\"000000100010\",\"000010010110\",\"000000001010\",\"100100011000\",\"000010101000\",\"010001001010\",\"000011010001\",\"000011010000\",\"000000101000\",\"000000101001\",\"010000010010\",\"000000010001\",\"000101000110\",\"010000000001\",\"100000010110\",\"001000000010\",\"101000000110\",\"000010100000\",\"000010100001\",\"010010110000\",\"000000000110\",\"001000100101\",\"001000100100\",\"101100010000\",\"000010001000\",\"000010001001\",\"000110100000\",\"010000101100\",\"110001000000\",\"000001001010\",\"001000110100\",\"101001000010\",\"101010000001\",\"101010000000\",\"001011000001\",\"001011000000\",\"100001000110\",\"010001010001\",\"010001010000\",\"000000110000\",\"000000110001\",\"001000010010\",\"010100100100\",\"100010100000\",\"100100001000\",\"100101000000\",\"010100000000\",\"010100000001\",\"100000101000\",\"000001000100\",\"000001000101\",\"100000011000\",\"001100001001\",\"001100001000\",\"010000100000\",\"010000100001\"],\"x\":[-4.309066993664194,5.640371154275513,10.136094808255823,0.7582930127714753,16.039721416613276,1.5228217317762058,18.810223621009072,14.95994721021572,8.401403365128665,18.760228645845515,12.002112355489196,-10.277935578855228,11.88940111984731,3.869901789468057,-11.01112372609521,-10.758335639541244,-0.6622727935218287,-0.968225915190829,0.009232581290522401,8.095183835123816,14.812299597244287,13.520952096430168,9.540323890880108,7.478362271465142,2.574716044666043,-3.106544949815011,6.5192776545622255,-6.149437386126897,6.1769747831030966,11.740265381702022,12.350348302362315,3.7162119424055726,-4.214006395738677,-3.1398780480328856,-1.9485267986256476,11.635896564711128,-0.08252982907446849,12.53521969351026,12.901944970681594,-6.41740969039278,2.6400506349072566,20.869546816263533,5.9545403070521825,20.05430629512688,18.08837340362691,4.806378862997215,9.11588716269133,10.799339486634343,0.13974526661349063,-8.117012972261673,-3.4240397705142676,21.76970228775983,-3.8817004054949362,-10.608677966254351,-11.312086030116106,6.071259744372281,4.464114553161859,3.511916958574454,-12.90203448847991,0.3340812188780913,-8.568927995306144,-10.337766355885025,-1.695431371902326,12.330939776001387,16.087773393783646,-0.7942473726760325,11.483016123424578,17.41779163613217,22.125623527454145,11.305073284474009,12.051628295912254,3.68536979937242,-12.567087570042794,5.277509287498956,12.327287936492196,-10.608635968690484,4.584519986427036,-4.903941184870877,-1.1515751958038276,5.064701266153226,6.920474891400961,-2.482189326178217,-9.44564926509134,-6.0176150225539455,12.400090668363665,4.785371002818079,15.914776090922661,13.75012444445069,-0.6802263403871214,-2.44914826263464,-4.46203395032669,12.596045460393563,18.498465711739925,8.072019994426785,-0.26334241233056255,7.853049670758015,1.8559508520611883,-0.23568080709626205,0.7482564380224268,13.917997227013073,3.809352193175347,9.474060839488999,0.2974643110259657,-4.043629361708721,1.9032817536373403,5.046010007056196,13.184225892420319,20.203780798872987,1.1072894126413049,4.633721464943488,7.237339497096192,-2.6984254057336963,13.738642782019722,17.090394778433286,8.075041058870331,10.007511494169844,-9.979440901382699,6.088572843922911,-3.3353614617920613,-1.6910707612918845,-7.145128346055461,22.040500977798537,19.484470576956276,-2.75649236992314,8.029557033632727,6.263198483902084,0.33052673508733166,-0.736588571915256,-5.0640741002249205,-6.464188772559259,8.83916736816403,-4.679059549095553,6.4428069282754095,-3.1500432421806703,15.883042000529496,-7.261818429486217,-5.736859120389018,14.715083855719408,2.0977533968741175,4.013655623594721,3.576209099957377,0.8500843117264991,7.364253204301411,2.842267396843005,1.47678206125125,3.584785861552067,-6.677775025331809,6.472866970344436,3.574102012812329,3.204227312762769,11.347178256561799,4.498206910448258,8.876054747983327,13.83697147612837,13.07219830538942,9.1461833059587,-5.560343319365144,-8.090209847635663,11.862982202180783,19.57963710648322,4.824321780599833,17.185421629872636,7.227994281418484,9.056775540318805,10.684260850780195,4.652939235159104,8.688583338209273,6.145248096845835,3.5850118428960087,-5.780744012511921,10.65332907649088,7.1375957029757044,4.41562958729962,8.776275201177619,-4.863649204176898,-10.612472887855692,15.904119975713812,2.98323471334253,0.3650089239921472,20.015615947241535,19.61539156212595,3.447280958110026,12.864458124594902,-3.8298292315897,9.316406505286302,-2.6374152133880857,-6.00620622657968,6.233549984607899,-4.2416338653574694,-3.1552837195614853,2.1756569260502108,-0.5376193562917526,16.227853001863846,4.727061863042022,6.158709690083953,-3.0624897360768824,2.910610884500247,13.412419632720798,11.22252210653558,9.151347703454423,8.412956488361152,13.362721948565742,-11.141162942050862,-7.027155741077677,6.4488002631941965,-1.7241047684839952,5.413200984026541,9.521182368787922,4.948684762407171,5.322361064149726,3.2828111803627245,4.9410911188860425,-0.15485049335582957,-7.330021226737432,-6.806705508128352,12.954118891585475,2.962778978006249,13.20772290285277,20.263825192217613,13.025300551197224,8.663889516324447,-6.804604216833742,-0.143844881231586,13.176132767515277,6.115199505855188,5.387219188558257,2.134151228025634,5.5027121989312615,13.869154454961416,1.03392711613552,0.4556109047756459,-3.1715411799070354,21.321403301902507,2.4738958257677,2.305030410995206,-9.817251359212637,10.974164220496549,0.01718002673093899,11.397100128294275,-8.763604733796655,-8.935532778979347,-0.07237685997209531,7.793290077770102,8.253602026628554,15.079363819402378,8.312712426224387,15.73250031507073,13.784694034306902,-0.1872286224545623,5.821945369851566,9.843698850700596,-3.729155293331374,11.750636693668136,-4.436424938828817,-5.098924523827866,-0.20470685219176654,5.866495024926319,5.939025606433008,5.825596786745793,9.144166504862644,5.682164093338613,3.89213518558996,16.775498515552034,7.395828392795893,6.508063715973312,8.641665972088784,4.05224204882932,3.77714089186,-0.7077641041943706,-4.300439798415849,-6.284990684678905,12.848039148665295,5.220660093586656,-1.6094479580430132,-7.530397448442797,14.34466160071634,13.06935729962178,-1.6274797220023018,1.6514392372092546,7.6169888902686536,7.809162703522539,2.330551126212868,16.716185355300098,6.475234331419017,2.7454996377072396,13.354280662798736,3.2989071961443877,9.752972241943617,13.072236366793176,-2.4588114248740216,-7.980324463778233,12.336222668920186,3.2441460475379253,-12.29087261327327,9.331457619018325,14.081436887647099,2.1649535030746456,9.77872439779199,15.569899301968185,10.132302777014331,20.806515302545826,0.24663433056662476,10.505711606149235,3.478662882581278,4.504908526996557,9.830779549755396,8.597889412976006,-4.415640423134256,0.9377082412643962,9.195580644802181,7.761367950028114,4.3255960955823,0.5797916272695762,8.51287387157007,12.14354656299118,21.90504963000349,4.106460419016225,12.64530222551904,-3.2790740589252274,8.68704944785176,5.7234813493751,12.596780517611158,10.80787917479777,-11.069622180252923,-9.195889708583755,9.977309416446927,-2.6356973886860984,2.4932495310524176,-7.38257548350025,13.702982514548774,8.512124240719563,2.198222863086088,1.1194002306350943,-11.37107921558002,-11.373909405293274,9.632094198623369,-1.8691381990319897,0.14605662392960728,-4.992459185223013,-9.220041805383469,-6.0832836404908495,17.608864078857334,19.970395922825432,19.083747705052247,20.401783801401404,-12.216969783348981,-2.040474692124863,1.3573217189710587,1.6359258410218347,-3.9739519827655387,14.37898649245065,15.569405848716782,4.923947098396329,17.387935490659768,18.479626590993764,-7.415312668550268,-8.366930361867933,7.1408098350182465,4.566293855561138,1.0406824596664657,4.208843120834013,11.61492318605293,8.22806415957594,-2.5135963618762642,-9.765713522510817,2.215904050495832,8.934725834703169,2.9261014473289624,-5.020585236984074,-0.08375064928691556,10.603706184474703,13.842775347669502,-3.7784581087651716,-3.574059930159933,-0.1172716025837699,9.528464903704254,8.984130618315433,-8.791716775674752,6.440445758574033,16.466078498139147,12.294153276793885,-7.465955518365119,-9.043824082776165,5.023268483183731,10.592412091911326,2.295546317532429,1.1905057276409106,3.9431311889958987,-10.650521021163968,-11.136302400573173,1.6850134143051307,-0.7340091353855591,4.836370099105185,10.758557428338392,2.333972542220566,12.688359880961304,8.86109667416897,14.873545865589142,7.525750238710286,13.513769376993578,12.329064427474368,15.008916747353252,6.048474269181986,5.215787477663491,7.321924771838309,16.061899927724994,-1.9026936256948244,15.74984033053344,1.42293274950737,15.2399879390878,2.498730189842467,-0.5035316348630343,-1.9509302108914697,18.56452428413499,11.407452529457743,5.894232174581177,8.780787199406753,6.017073209842878,-10.279746807795581,-6.064782970402726],\"y\":[1.1624844453129521,7.055009693248522,-13.508636191789396,-4.919730104890206,7.874265672509326,0.9366792752034931,-11.733898564225719,-11.407496688175991,-3.927193178735431,-4.154794142232772,-9.939399785314615,0.697770367943868,-7.679740833492611,6.699704041375436,-2.5901141832454457,-1.511252127863494,-1.1394118622603373,-20.422224510196404,-9.729968884466278,-7.410579996972597,-6.127211033317643,3.03883172882204,7.065723028764987,-17.039171669089864,-16.194742602151184,2.4856744242976703,-5.21828005134833,-5.756647152578306,-9.781766586187905,-19.278597838039147,-8.204772662295909,-3.454332012008339,-7.225413100252153,-14.768618907438977,-14.169703889591599,-1.9511527842177743,-16.607244895783335,-16.996575122396848,-14.935759653292711,2.0427455230529104,-9.358251026135843,0.015510023709253251,11.53778433308632,-10.510231456126586,10.523384884971248,2.881609427465461,6.627454512489152,-11.073269887953392,-9.231559309870947,0.24217488883475502,-19.02728488949662,-1.5177658878972773,19.50907308495545,-6.264894231540014,-9.512844065557914,-0.3642234994535809,-2.826221551723926,-3.3015120762863566,5.258930023144658,10.277557186529332,-12.65009497321376,-2.785856975540529,3.256087661930033,0.503192019049833,9.445175317238919,9.802423432103229,10.219378012300341,5.040275906200455,-11.509176473063786,-11.46456118199363,-18.36148331384807,-19.959536302432966,0.34682623042917604,-4.680494927779479,-18.65125451283115,-10.362296516500757,12.763709564239512,-5.386291022969003,-8.039406002104295,-15.803782829479474,-16.651056989183598,-3.025676683286175,-14.037626554652084,-6.240315929458531,2.8376346377999613,1.7457533454987266,-4.186109567982381,-9.092430591356937,-18.833876084778435,-12.391563789436825,-13.510833898165004,-2.3740084939032124,-3.2950202055719604,-2.1851609358246162,1.2149810206948612,12.900925015385141,-16.639821136240798,-7.190472245188182,-0.9804158168137208,-3.9902176500978817,-5.28821974208856,6.589905826473717,-8.265262470572411,-14.235213753269758,-14.899974923878617,-6.570020684997772,-10.582322932509378,-11.066100144760803,14.649022573223355,1.1956159386001155,8.060188717666243,-18.490345955957462,-13.41782951317249,-7.011949333601469,-14.119931362996546,-0.0746519981974855,2.27144617684048,0.7323265849457274,-13.746845070069444,-18.772693977616598,-16.466396850293307,-2.639206747678428,8.049948822226185,-6.938279799417949,-7.076750178406628,-12.99229489695611,-7.0456164599845845,7.698313970493217,-3.614129868508605,-5.76190760764233,0.8217249724570053,3.8403669607515676,-9.885672052071214,-3.808488495155963,6.559122802772062,-15.105723251836526,-14.076273612801954,-8.131590309084217,-15.103413267886538,-17.98123399013827,-17.685167938082778,-3.9212360956999657,10.48192036227656,-7.705204633566206,1.290276034454894,-15.721846438924704,0.059428665049184204,13.776179077802475,-6.3824944493029125,-0.697233366044139,-19.729123447160262,8.171181422511706,8.09083277731723,3.8347680486749924,-15.965262954901176,-11.840835514126507,-12.387336478774282,-16.100622620180435,-11.593443012206738,-10.033275396337903,12.852203527906806,4.403201533879912,6.544243123237548,-15.702087452211382,-8.084061437750835,2.0884975613863874,-0.5141116436665814,2.3346639846965376,-10.593924179474572,-2.5134105869285226,-0.8548853697708654,-4.665037595641405,-18.164388460643085,14.88809906659038,0.7515826675980044,-2.9905632590256146,8.193552176398681,-9.961171538350929,-13.991424896258609,-8.418250186397461,4.1875639804145575,-9.13134771176439,15.36704269928595,-10.007986028547508,10.346164160888348,-7.743728553571949,-10.248504978841524,10.970038395394846,-16.286284058266922,-16.538231061713304,-2.706442668280656,7.520312881058809,5.062133984976095,-1.0805841819496234,-0.8796487939757636,-4.302005064682085,-3.073310300979823,-11.595515280031279,-12.09768674004821,6.706343588598533,11.97545035228529,-6.67255447488578,-9.465398399014976,-1.9025636424118475,2.6814302517995836,-3.501368101857304,-2.4206919262812994,-5.459028640239784,-2.617773318653044,7.1555227483461215,15.57266103519303,-3.986163693771479,-9.255556923441361,-9.349497498623316,-3.358655765982217,-3.673489254247184,-13.038685069510283,4.532093784877649,-5.059410686793151,-8.003782918036249,13.857375212258514,4.758646553875837,-8.256316880328697,2.592443687179484,-3.157087477370314,3.1444518957738703,-5.4328781818698175,-5.649838356163799,-8.685460402649912,-6.517603084922095,4.7661346058159735,5.081342102465386,-2.4646416861564786,11.628888494058014,9.096677093322743,5.691537664666882,-1.5011390141438834,6.092697755268348,-13.502215841458472,-4.4500369216908,-8.186918847514656,-16.199281745319592,2.6661160390624987,-5.382097217928046,-5.118866392065614,6.691860101819674,3.30790641941726,5.394999064501033,-14.674410080832786,-12.706035141238761,-9.64415541683172,-4.12088499244113,13.304708165457448,-0.8194217239048402,2.0023725157619254,10.54873121431812,-18.80454104488957,-17.912769414984414,-7.613723986924103,2.8877716058922345,4.540117544526643,4.651635593336324,-8.651511763149324,-8.829402248106582,1.0811025615953314,-10.176316945074948,-14.70414427103128,15.489798511617355,5.183746630196418,-9.56543384166182,-15.178781968292325,6.8690968572585565,-3.797069709161546,-1.9467743677574587,2.270374934045413,2.0681807310502025,-2.9610213846363687,10.929619127241423,8.833667691372622,-18.587911614315708,-18.544213497467283,-8.339347592203556,-10.656549755405793,5.160277439210021,-8.8845455524945,4.800526048368668,-4.534116030221196,13.398752678432139,10.089225149146369,-5.811299906265689,-9.938795417446903,5.464345787167787,8.449239052360403,1.956504540183774,-14.972665393579275,-13.067716188540718,3.3323183148059,-12.708062672041347,-13.337136236789,12.92675758469125,-1.1239517257343155,2.3121695671152485,16.979923670100526,7.913904204148252,3.420074665317726,-13.421146368887253,6.572910299124319,-8.879407531944695,-3.85084180093744,-6.283001095620733,15.959029504480533,-6.270969970680909,-19.84607759526857,10.545413026724958,9.75283075372486,2.736091662751277,-7.708972100213761,7.544308699959336,-19.948076435177377,4.401579498082078,11.09165129388629,3.962879792740669,5.246582007668188,-11.927716084392275,-4.518837543850109,-6.304008557012059,-4.800922526574824,-20.29096363260327,-15.219390649208682,0.36994364845682276,7.963200214345814,-8.34581884579507,-17.10280267767443,-5.391574611895142,-5.376084280518307,1.7496631251571328,-11.110349370391488,-14.84865888241504,-10.334345942633123,-13.352226056364998,-8.403969084147427,-0.22403185601606318,-12.7941333404926,-11.811660087202535,-0.9189214368274499,-3.869893928979583,-1.2906725112874438,-6.978674012117166,-3.321953466585456,-13.79351200965861,-6.498882420170976,-2.8125391327939537,-4.2253434916134,-6.308651993327686,-11.673709518117146,-16.990232756300767,-16.781280966336393,15.297915844692481,-12.561039913930234,11.191312717938425,11.805310362252158,0.5974746640151609,10.60773515259503,9.569404392850995,0.1515694256293092,-0.7570205487129003,11.454397420663815,10.909237758643645,-4.842904103775824,9.408784764759607,-5.772357464076956,-6.420956295098352,-2.6154142376362737,-1.2603721298788293,10.297436528310318,-17.32763024943877,1.35759982870117,-0.14530062054294035,-1.1969174404316072,6.989678195075506,7.802140013933933,-10.961195919760783,-4.372397179131601,-7.567338836039352,2.161966148597291,-16.253174630879773,-18.77230931979245,5.7680039911770065,-8.033847541051356,-7.673589614186819,-5.951855002297848,-3.369575738477816,3.6162421567685437,15.909006814261698,-15.27542139099516,6.673912949968279,-9.696167634581323,-9.379437558187652,-2.5458585762556054,-8.860464461537656,-2.6843392658944616,-1.6420228526844904,5.043965944165922,-14.433073957406023,-13.792921469140335,0.9912350517606402,2.5370842226717567,-8.008931109509605,12.10628615503095,6.174169582311385,-0.7726534419868556,-3.1907562875938926,4.033145775037772,-3.8710983195571083,-2.367677121610354,10.265215442233528,5.8487471703936755,11.669696713437729,-11.28781165358817,-0.6939489078036518]}},\"id\":\"7129e96c-097c-44b4-bb34-e5e2e225e088\",\"type\":\"ColumnDataSource\"},{\"attributes\":{\"callback\":null,\"plot\":{\"id\":\"40792aa3-84ca-4a50-a10a-dbf991716d1f\",\"subtype\":\"Figure\",\"type\":\"Plot\"},\"tooltips\":\" @label \"},\"id\":\"2a198879-8d27-4fb5-b75a-017b79d102fb\",\"type\":\"HoverTool\"},{\"attributes\":{},\"id\":\"9c77a7d4-ec9f-449b-beaf-1bde73cfc893\",\"type\":\"BasicTicker\"},{\"attributes\":{\"plot\":{\"id\":\"40792aa3-84ca-4a50-a10a-dbf991716d1f\",\"subtype\":\"Figure\",\"type\":\"Plot\"}},\"id\":\"f76c4f7c-b156-42a3-b9c5-49ae047968d5\",\"type\":\"WheelZoomTool\"},{\"attributes\":{\"fill_alpha\":{\"value\":0.1},\"fill_color\":{\"value\":\"#1f77b4\"},\"line_alpha\":{\"value\":0.1},\"line_color\":{\"value\":\"#1f77b4\"},\"line_width\":{\"value\":2},\"x\":{\"field\":\"x\"},\"y\":{\"field\":\"y\"}},\"id\":\"cf45f494-303b-437d-995d-9d715a1cf1b8\",\"type\":\"Circle\"},{\"attributes\":{},\"id\":\"ca537bfd-9218-4d4d-a2fe-cd653b09bd94\",\"type\":\"BasicTicker\"},{\"attributes\":{\"plot\":{\"id\":\"40792aa3-84ca-4a50-a10a-dbf991716d1f\",\"subtype\":\"Figure\",\"type\":\"Plot\"}},\"id\":\"c72b7000-00ae-43e0-9ffc-d61fc7bbbf59\",\"type\":\"HelpTool\"},{\"attributes\":{\"overlay\":{\"id\":\"6f3e1df5-d958-4b4d-a400-ed6452f2ef3c\",\"type\":\"BoxAnnotation\"},\"plot\":{\"id\":\"40792aa3-84ca-4a50-a10a-dbf991716d1f\",\"subtype\":\"Figure\",\"type\":\"Plot\"}},\"id\":\"099cd413-04ed-4ef5-947f-cc6fde8be5ef\",\"type\":\"BoxZoomTool\"},{\"attributes\":{\"formatter\":{\"id\":\"b123e681-f53a-435f-866a-023fa3e0a862\",\"type\":\"BasicTickFormatter\"},\"plot\":{\"id\":\"40792aa3-84ca-4a50-a10a-dbf991716d1f\",\"subtype\":\"Figure\",\"type\":\"Plot\"},\"ticker\":{\"id\":\"ca537bfd-9218-4d4d-a2fe-cd653b09bd94\",\"type\":\"BasicTicker\"}},\"id\":\"6260b426-75c6-4408-b38a-24bbc08e26ed\",\"type\":\"LinearAxis\"},{\"attributes\":{\"bottom_units\":\"screen\",\"fill_alpha\":{\"value\":0.5},\"fill_color\":{\"value\":\"lightgrey\"},\"left_units\":\"screen\",\"level\":\"overlay\",\"line_alpha\":{\"value\":1.0},\"line_color\":{\"value\":\"black\"},\"line_dash\":[4,4],\"line_width\":{\"value\":2},\"plot\":null,\"render_mode\":\"css\",\"right_units\":\"screen\",\"top_units\":\"screen\"},\"id\":\"6f3e1df5-d958-4b4d-a400-ed6452f2ef3c\",\"type\":\"BoxAnnotation\"},{\"attributes\":{\"data_source\":{\"id\":\"7129e96c-097c-44b4-bb34-e5e2e225e088\",\"type\":\"ColumnDataSource\"},\"glyph\":{\"id\":\"a19b6ca4-2a9b-451f-9c76-4ab81b7da7e6\",\"type\":\"Circle\"},\"hover_glyph\":null,\"nonselection_glyph\":{\"id\":\"cf45f494-303b-437d-995d-9d715a1cf1b8\",\"type\":\"Circle\"},\"selection_glyph\":null},\"id\":\"93e9b1d9-f995-495a-b3b0-8cd82da0e315\",\"type\":\"GlyphRenderer\"},{\"attributes\":{},\"id\":\"01ba19af-3ed9-4259-b3d9-9f193d8f3493\",\"type\":\"BasicTickFormatter\"},{\"attributes\":{\"dimension\":1,\"plot\":{\"id\":\"40792aa3-84ca-4a50-a10a-dbf991716d1f\",\"subtype\":\"Figure\",\"type\":\"Plot\"},\"ticker\":{\"id\":\"9c77a7d4-ec9f-449b-beaf-1bde73cfc893\",\"type\":\"BasicTicker\"}},\"id\":\"13f38884-2ff0-404b-a162-d1a9d7e7aa33\",\"type\":\"Grid\"}],\"root_ids\":[\"40792aa3-84ca-4a50-a10a-dbf991716d1f\"]},\"title\":\"Bokeh Application\",\"version\":\"0.11.1\"}};\n",
       "            var render_items = [{\"docid\":\"bc79a4b4-ea40-45e9-adb5-ce10179c08b0\",\"elementid\":\"42362cc8-6594-46a1-b7f5-951df14df0c0\",\"modelid\":\"40792aa3-84ca-4a50-a10a-dbf991716d1f\",\"notebook_comms_target\":\"3c6e116b-41d1-4009-8ded-704c6e942d26\"}];\n",
       "            \n",
       "            Bokeh.embed.embed_items(docs_json, render_items);\n",
       "        });\n",
       "      },\n",
       "      function(Bokeh) {\n",
       "      }\n",
       "    ];\n",
       "  \n",
       "    function run_inline_js() {\n",
       "      for (var i = 0; i < inline_js.length; i++) {\n",
       "        inline_js[i](window.Bokeh);\n",
       "      }\n",
       "    }\n",
       "  \n",
       "    if (window._bokeh_is_loading === 0) {\n",
       "      console.log(\"Bokeh: BokehJS loaded, going straight to plotting\");\n",
       "      run_inline_js();\n",
       "    } else {\n",
       "      load_libs(js_urls, function() {\n",
       "        console.log(\"Bokeh: BokehJS plotting callback run at\", now());\n",
       "        run_inline_js();\n",
       "      });\n",
       "    }\n",
       "  }(this));\n",
       "</script>"
      ]
     },
     "metadata": {},
     "output_type": "display_data"
    }
   ],
   "source": [
    "myplot(source=source, title=\"tSNE(word2vec) on corpus\")"
   ]
  },
  {
   "cell_type": "markdown",
   "metadata": {},
   "source": [
    "OK, that's nice but a little overwhelming. What about three- and four-note collections only?"
   ]
  },
  {
   "cell_type": "code",
   "execution_count": 15,
   "metadata": {
    "collapsed": false
   },
   "outputs": [
    {
     "data": {
      "text/plain": [
       "(610, 471)"
      ]
     },
     "execution_count": 15,
     "metadata": {},
     "output_type": "execute_result"
    }
   ],
   "source": [
    "# q for query\n",
    "\n",
    "q_words = [x for x in model.vocab.keys() if 3 <= len(x.split(' ')) <= 4]\n",
    "q_indices = [words.index(x) for x in q_words]\n",
    "\n",
    "len(words), len(q_words)"
   ]
  },
  {
   "cell_type": "markdown",
   "metadata": {},
   "source": [
    "Eugh, still 471 words... doesn't clear things up that much... Let's plot it anyway."
   ]
  },
  {
   "cell_type": "code",
   "execution_count": 16,
   "metadata": {
    "collapsed": false
   },
   "outputs": [],
   "source": [
    "source = ColumnDataSource(\n",
    "    data=dict(\n",
    "        # Use indices to subset np.array\n",
    "        x=proj[q_indices,0],\n",
    "        y=proj[q_indices,1],\n",
    "        label=q_words\n",
    "    )\n",
    ")"
   ]
  },
  {
   "cell_type": "code",
   "execution_count": 17,
   "metadata": {
    "collapsed": false
   },
   "outputs": [
    {
     "data": {
      "text/html": [
       "\n",
       "\n",
       "    <div class=\"plotdiv\" id=\"560b795b-925a-4620-b218-589f7e9f9419\"></div>\n",
       "<script type=\"text/javascript\">\n",
       "  \n",
       "  (function(global) {\n",
       "    function now() {\n",
       "      return new Date();\n",
       "    }\n",
       "  \n",
       "    if (typeof (window._bokeh_onload_callbacks) === \"undefined\") {\n",
       "      window._bokeh_onload_callbacks = [];\n",
       "    }\n",
       "  \n",
       "    function run_callbacks() {\n",
       "      window._bokeh_onload_callbacks.forEach(function(callback) { callback() });\n",
       "      delete window._bokeh_onload_callbacks\n",
       "      console.info(\"Bokeh: all callbacks have finished\");\n",
       "    }\n",
       "  \n",
       "    function load_libs(js_urls, callback) {\n",
       "      window._bokeh_onload_callbacks.push(callback);\n",
       "      if (window._bokeh_is_loading > 0) {\n",
       "        console.log(\"Bokeh: BokehJS is being loaded, scheduling callback at\", now());\n",
       "        return null;\n",
       "      }\n",
       "      if (js_urls == null || js_urls.length === 0) {\n",
       "        run_callbacks();\n",
       "        return null;\n",
       "      }\n",
       "      console.log(\"Bokeh: BokehJS not loaded, scheduling load and callback at\", now());\n",
       "      window._bokeh_is_loading = js_urls.length;\n",
       "      for (var i = 0; i < js_urls.length; i++) {\n",
       "        var url = js_urls[i];\n",
       "        var s = document.createElement('script');\n",
       "        s.src = url;\n",
       "        s.async = false;\n",
       "        s.onreadystatechange = s.onload = function() {\n",
       "          window._bokeh_is_loading--;\n",
       "          if (window._bokeh_is_loading === 0) {\n",
       "            console.log(\"Bokeh: all BokehJS libraries loaded\");\n",
       "            run_callbacks()\n",
       "          }\n",
       "        };\n",
       "        s.onerror = function() {\n",
       "          console.warn(\"failed to load library \" + url);\n",
       "        };\n",
       "        console.log(\"Bokeh: injecting script tag for BokehJS library: \", url);\n",
       "        document.getElementsByTagName(\"head\")[0].appendChild(s);\n",
       "      }\n",
       "    };var element = document.getElementById(\"560b795b-925a-4620-b218-589f7e9f9419\");\n",
       "    if (element == null) {\n",
       "      console.log(\"Bokeh: ERROR: autoload.js configured with elementid '560b795b-925a-4620-b218-589f7e9f9419' but no matching script tag was found. \")\n",
       "      return false;\n",
       "    }\n",
       "  \n",
       "    var js_urls = [];\n",
       "  \n",
       "    var inline_js = [\n",
       "      function(Bokeh) {\n",
       "        Bokeh.$(function() {\n",
       "            var docs_json = {\"2dac771a-d4b8-4e19-9ece-dd7b90ea0b9f\":{\"roots\":{\"references\":[{\"attributes\":{},\"id\":\"f4f362f8-11ec-441b-aacb-e63f3e566c8f\",\"type\":\"BasicTickFormatter\"},{\"attributes\":{\"dimension\":1,\"plot\":{\"id\":\"e2f70718-8e0e-453c-9033-8dbb98c836df\",\"subtype\":\"Figure\",\"type\":\"Plot\"},\"ticker\":{\"id\":\"38f872d7-4242-4d1f-a70a-b2fe2fed2d4f\",\"type\":\"BasicTicker\"}},\"id\":\"59566c85-d91f-41f7-bf0d-7d4ca4e3f10b\",\"type\":\"Grid\"},{\"attributes\":{\"data_source\":{\"id\":\"90fa74dd-e465-4b60-9081-05e555703f93\",\"type\":\"ColumnDataSource\"},\"glyph\":{\"id\":\"278abd37-e207-4f33-964d-b05263e306f1\",\"type\":\"Circle\"},\"hover_glyph\":null,\"nonselection_glyph\":{\"id\":\"d289a7b9-7556-40fe-90ae-db92100b3ed6\",\"type\":\"Circle\"},\"selection_glyph\":null},\"id\":\"b747c8c9-0cd5-4bdc-ae78-4ad55661e342\",\"type\":\"GlyphRenderer\"},{\"attributes\":{\"callback\":null},\"id\":\"f359c293-07c2-48ed-809c-c6f284b66e27\",\"type\":\"DataRange1d\"},{\"attributes\":{\"callback\":null,\"column_names\":[\"y\",\"x\",\"label\"],\"data\":{\"label\":[\"e- e a-\",\"c+ e a\",\"c+ e b\",\"c+ e g\",\"c+ e f\",\"c e- a- b-\",\"e- f a b\",\"f a- a\",\"f b- b\",\"f+ g\",\"f+ a\",\"f f+ b-\",\"f+ b\",\"d e-\",\"g a- b-\",\"c d b-\",\"d e f a-\",\"c+ e f+ a\",\"c d f g\",\"c+ e f+ b\",\"c d f b\",\"c d f a\",\"c c+ e b-\",\"f+ a-\",\"c d e a- b\",\"e- f f+ b-\",\"c e- f a\",\"c e- f b\",\"g a\",\"c e- f g\",\"c+ e g a b-\",\"c d e f g\",\"c c+ e- a-\",\"e- e f+ a b\",\"c e g a b-\",\"f f+ a-\",\"c c+ f+ b-\",\"e b-\",\"c f a-\",\"d f g a b\",\"c e f\",\"c+ f+ a- b-\",\"d g a b-\",\"c e f a-\",\"e- e f+\",\"e f g\",\"f+ a b\",\"c d e b-\",\"c+ d b-\",\"e f a\",\"c d g b-\",\"c f g a-\",\"c e- e f+ a\",\"f+ a- b-\",\"c+ f+ b-\",\"d f+ a b-\",\"g a b\",\"f a b-\",\"c+ d f b-\",\"e- g a- b-\",\"c e-\",\"e- b-\",\"c+ g b- b\",\"c+ e- g a- b-\",\"e g b-\",\"c e- f+ a- b-\",\"g a- b\",\"c+ d\",\"c e- e a\",\"c e f g\",\"c d f+ a- a\",\"c+ e- f a- b\",\"c+ e- e f+ b-\",\"c+ a\",\"c b-\",\"e- f+ a- b-\",\"d f a-\",\"c d e- a\",\"c+ e- e a-\",\"c d e- g\",\"c d e- f\",\"d a-\",\"c+ e- f+\",\"c+ e f+ b-\",\"c+ a- a\",\"c e g a-\",\"c+ f g a-\",\"e- f f+ a-\",\"c c+ f a\",\"d e- f a b-\",\"c e- a b-\",\"c+ d f+ b-\",\"d a b-\",\"f+ g a\",\"d e- f+ a\",\"e- e g b-\",\"c d e-\",\"c e- a-\",\"c+ e a-\",\"f+ g b-\",\"c+ d f+ b\",\"c+ d f+ a\",\"d e g b-\",\"f+ g b\",\"e f+ a- b\",\"c c+ f+ a\",\"e a- b\",\"e a- a\",\"c g a\",\"c g b\",\"c+ e f b-\",\"a- b- b\",\"d g a-\",\"f+ a- b\",\"e- a- b\",\"e- a- a\",\"f+ a- a\",\"c e g b\",\"c e g a\",\"c d f\",\"e g a- b-\",\"d g\",\"c+ e a- a\",\"e a-\",\"d f a- b- b\",\"c+ a b-\",\"e- f+\",\"c e- f f+ a\",\"c e- g b-\",\"d e- f g b\",\"c e- f+ a- a\",\"d e- f+\",\"e- f a- b-\",\"c+ a b\",\"c e- f+ a b\",\"e- e\",\"c f g a\",\"d e- b-\",\"c f g b\",\"e- f b-\",\"e- f+ g b-\",\"c f a- a\",\"c f a- b\",\"c+ e a- b-\",\"c e f+\",\"c+ d e g b-\",\"e a b-\",\"c e a-\",\"d e- f b-\",\"c+ e- g a b-\",\"g b\",\"c+ d e g a\",\"c e- f+ a\",\"d a- b-\",\"c e- f+ g\",\"e- f+ b-\",\"e f\",\"e g\",\"d e- a-\",\"e b\",\"e a\",\"e- a b-\",\"f a- b-\",\"c+ e f a\",\"d f b-\",\"d g b\",\"c f+ a-\",\"d g a\",\"c e- f+ g a\",\"d f+\",\"g a b-\",\"c+ f+ a- a\",\"c+ f+ a- b\",\"e- g b\",\"e- g a\",\"d f+ a b\",\"c+ d a\",\"c+ d b\",\"c+ d e\",\"c+ d f\",\"c+ d g\",\"c e- f+ a b-\",\"d f g b-\",\"c c+ e- f+ a\",\"c e f+ a\",\"c e f+ g\",\"c g b-\",\"c e a- a\",\"c e a- b\",\"c f+ a b\",\"e f+ g b-\",\"a- a b\",\"c d g b\",\"c d g a\",\"a- b\",\"f g b-\",\"a- a\",\"c+ e g a-\",\"c e- g a\",\"c e- g b\",\"d f f+ b-\",\"c+ e- g b-\",\"c+ f\",\"c+ g\",\"c+ f f+ b-\",\"c+ e\",\"c+ b\",\"c+ d f a- b\",\"c e f b-\",\"e- g a b-\",\"c c+ e- g\",\"c c+ f+\",\"c c+ e- a\",\"e- f f+ a\",\"e- f f+ b\",\"c d b\",\"c d a\",\"c+ e a- b\",\"c d g\",\"c d e\",\"c e- e f\",\"c+ e- e\",\"c d e- f+ a\",\"e f g b\",\"e f g a\",\"c+ f+ a-\",\"c+ a-\",\"d e a- a\",\"d e a- b\",\"d e f g b-\",\"c+ e- g\",\"c+ e- f\",\"c+ e f g b-\",\"c+ e- b\",\"c+ e- a\",\"e- a- b- b\",\"c c+ e- f a\",\"f a- a b-\",\"c+ b- b\",\"d a- a b\",\"e f+ b-\",\"e g b- b\",\"e- f a- b\",\"c+ g a- b-\",\"d f f+\",\"e- a- a b\",\"e f+ g\",\"e f+ a\",\"e f+ b\",\"c c+ b-\",\"c e b-\",\"c b- b\",\"c e- a b\",\"d f a- b\",\"e f+ a b\",\"d b-\",\"e- f g b-\",\"c+ f g b\",\"d e f b\",\"d e f g\",\"c d e- a-\",\"e- f+ g a b\",\"e g b\",\"e g a\",\"c e a b\",\"c d e g b-\",\"c c+\",\"c c+ f b-\",\"d b- b\",\"c f g b-\",\"c+ e- a- b\",\"c e- b-\",\"d f g a-\",\"e- e f a\",\"c f f+ a\",\"f f+\",\"f g a-\",\"d f a- a\",\"f b-\",\"f a-\",\"d f a b\",\"c d e f g b\",\"c+ e- f b-\",\"c f a b-\",\"c c+ e f+ b-\",\"d f g a b-\",\"c+ d g a\",\"d e f+ a-\",\"c+ d g b\",\"e f+ b- b\",\"e f b-\",\"c+ f f+ a-\",\"c+ e- e g\",\"c+ e- e a\",\"c e f+ b-\",\"a b-\",\"f g a b-\",\"c e f a\",\"c f b-\",\"d e f a- b\",\"c d f+ a-\",\"c e a- b-\",\"d e- f a- a b-\",\"d a- b\",\"d g a- b-\",\"e- f\",\"e- g\",\"e- f+ a b-\",\"e- b\",\"e- a\",\"c+ b-\",\"d e- f a- b-\",\"c c+ d a\",\"c+ e- f+ a b\",\"c+ f a- b-\",\"c+ e- a- b-\",\"c+ e-\",\"e- f+ a b\",\"d f f+ a- b\",\"c+ e f+\",\"c a\",\"c b\",\"d f a- a b-\",\"c d\",\"c e\",\"c f\",\"c g\",\"e b- b\",\"d f f+ b\",\"d f f+ a\",\"c+ e g a\",\"f g a- b-\",\"d e- f+ b-\",\"g b- b\",\"e- f+ a-\",\"c f+ b-\",\"c d e f+ a\",\"c+ g b-\",\"c+ e g a b\",\"f g a\",\"f g b\",\"e f a- b\",\"g a-\",\"d a- a\",\"c d e- f a\",\"e- e f+ a\",\"e- e f+ b\",\"c e- g a-\",\"c f a b\",\"c+ e g b\",\"c+ e- e b-\",\"c+ d g b-\",\"d f g\",\"c e- f a-\",\"d f a- a b\",\"d f a\",\"c c+ e- f+\",\"c a- b-\",\"c f+ a- a\",\"c+ e- f a\",\"c+ e- f a-\",\"c c+ f a-\",\"d f g a- b\",\"d g a b\",\"e- f b\",\"c d f+ a\",\"e- f a\",\"c e- f+ a-\",\"e- f g\",\"c d f+ g\",\"c+ g b\",\"c+ e g b-\",\"d f b\",\"e- f g b\",\"c+ e g b- b\",\"e a b\",\"d e f a\",\"c+ e g a- b-\",\"d f f+ a-\",\"c+ e- g a-\",\"e- g b-\",\"d a b\",\"d e- g b\",\"e g a b\",\"d e- e a b\",\"c+ e b-\",\"d f g a- b-\",\"f g\",\"f a\",\"f b\",\"e- g b- b\",\"f a- b- b\",\"d e b- b\",\"c e b\",\"c e a\",\"c e- f f+\",\"c e g\",\"e- f+ b- b\",\"d f+ b-\",\"c+ e a b\",\"d e f+ g\",\"f a- a b\",\"d e f+ b\",\"d e f+ a\",\"c d e g\",\"c d e a\",\"c d e b\",\"e- e a\",\"c d f+ a b\",\"e- e b\",\"c e f+ g b-\",\"d e a b\",\"e- e g\",\"d f+ a- a\",\"d f+ a- b\",\"c e g b- b\",\"c+ e- a-\",\"c c+ a-\",\"c e- f b-\",\"c a b-\",\"c+ f a-\",\"c d a-\",\"c f+ b\",\"c e- a- b\",\"e- f g a-\",\"c f+ a\",\"c f+ g\",\"c e f g b-\",\"e f+ g a\",\"c e- a- a\",\"e- e b-\",\"d f+ b\",\"d f+ a\",\"c c+ e- f+ a-\",\"d f+ g\",\"c e- e g\",\"e a- a b\",\"f g a b\",\"c+ g a-\",\"f+ b- b\",\"c+ d f a-\",\"d e f b-\",\"c d f a b\",\"c+ d a b\",\"e g a b-\",\"c g a b\",\"c e- a\",\"c e a b-\",\"c e- b\",\"c e- e\",\"d e- g b-\",\"c e- g\",\"c e- f\",\"c+ f+ b- b\",\"c e g a- b-\",\"c f f+ a-\",\"c+ g a\",\"c c+ e- b-\",\"c+ a- b-\",\"c+ f+ g b-\",\"c c+ f+ a-\",\"d e a- a b\",\"e- f a-\",\"d e g a\",\"e- f a b-\",\"d e g b\",\"c g a-\",\"d a- a b-\",\"c f f+\",\"d e- a- b-\",\"f+ a b-\",\"e f a-\",\"e f+ g b\",\"f f+ a- b-\",\"d f+ a-\",\"c c+ e\",\"c c+ d\",\"c c+ g\",\"c c+ f\",\"c c+ a\",\"e- g a-\",\"c c+ e g b-\",\"c+ e- f+ b-\",\"a b\",\"c e- f+\",\"c g a- b-\",\"e- a- b-\",\"f a b\",\"c+ f+ a\",\"c+ d f b\",\"c a b\",\"c+ f+ g\",\"c e- f a b-\",\"c+ e b- b\",\"c f+\",\"d e- a\",\"d e- b\",\"d e- f\",\"d e- g\",\"c d f g b\",\"c+ e f+ g b-\",\"c d f a- b-\",\"f a- b\",\"c c+ e f g b-\",\"c c+ e-\",\"d g a- b\",\"c+ d a- b\",\"e f g b-\",\"c c+ e g\",\"c f a- b-\",\"c c+ e a\",\"c+ f a- b\",\"c+ f a- a\",\"c+ f+ a b-\",\"c c+ f g b\",\"c a- a\",\"c a- b\",\"c+ e f+ a- b-\",\"c d f a- b\",\"c+ f+ b\",\"c d a- b-\",\"c+ e f+ a-\",\"g b-\",\"d f g b\",\"c+ f f+\",\"e f+ a-\",\"c+ f g b-\",\"f+ b-\",\"d f a- b-\",\"d f g a\",\"e- f+ a\",\"e- f+ b\",\"e- f+ g\",\"c+ d e b\",\"c+ d e a\",\"c+ d e g\",\"a- b-\",\"c+ e- f+ b\",\"c+ e- f+ a\",\"c+ e- b-\",\"c+ a- b\",\"c e- f+ b-\",\"c+ d f a\",\"d e a- b-\",\"d e b-\",\"c d f+\",\"c+ f+ g a\",\"d f\",\"d e\",\"d b\",\"d a\",\"d e f\",\"d e g\",\"d e a\",\"d e b\",\"c d f a-\",\"c+ e a b-\",\"e a- b-\",\"e- e a b\",\"e g a- b\",\"d e- e a- b\",\"c+ e f+ b- b\",\"c+ e- f+ a-\",\"c c+ e- g b-\",\"d g b-\",\"b- b\",\"d f+ g b\",\"d f+ g a\",\"e- a b\",\"c+ f b\",\"c+ d e a- b\",\"c+ f a\",\"e- e a- b\",\"c+ f g\",\"e- f f+\",\"c d f+ g a\",\"d e f+\",\"d e f g b\",\"e f+\",\"e- a-\",\"e- g a b\",\"d e- f a-\",\"c+ d f+\",\"e- f+ a- a\",\"e g a-\",\"e- b- b\",\"c c+ g b-\",\"c a-\",\"c+ f b-\",\"f f+ b\",\"c+ a- b- b\",\"d e- f a\",\"d e- f g\",\"c f+ g b\",\"c f+ g a\",\"d f b- b\",\"d f a b-\",\"d e- f a- b\",\"c f a\",\"c f b\",\"c f g\",\"c+ f+\",\"e f+ a- b-\",\"d e a-\",\"f f+ a\",\"c+ f+ a b\",\"e- f+ a- b\",\"c d f b-\",\"d e- a- b\",\"c e g b-\"],\"x\":[-17.295228943778916,-28.197199466829296,-18.74008532073437,-25.805569185109224,-12.222116276558793,-2.4894950645667286,-9.247003674708262,-13.659615402550605,-8.298211168305171,-26.97785754107513,-22.163037819359786,-2.222349278851977,-19.52601218329516,-5.494415348312134,-7.695210055507827,-3.0884629484465584,-18.01848626639238,-25.361921677894788,-18.612295481259842,-15.811976467332837,-21.56379959548223,-12.924478404212957,-12.512678690608851,-7.995256522301211,-19.460527052244096,-6.505292807101031,1.1919705495220734,-9.663316204393249,-27.035238572852855,-4.040452922244188,-20.20301770029646,-17.240841329861773,-3.340641720703899,-23.85625985099088,-14.976940930562034,-11.34351996411875,-12.11117993858833,-9.594290887123947,-10.237743240747221,-18.1400194650215,-15.808855321106119,-12.020418425869513,-18.1259668189878,-10.099790519568913,-15.242715232148381,-15.972895523241979,-20.848559926934943,-12.38164750966065,-12.016517560616109,-14.865870855043529,-18.50386291502294,-10.829064150253695,-14.59079471160538,-11.506306348524522,-13.1417522810836,-10.953287598899083,-26.43657418692009,-11.451532958572345,-10.028189490974144,2.6157674361684204,-6.21568414496746,-3.420601182643643,-17.28413368851745,-4.65522476982742,-10.763392242822544,-11.851894873827618,-10.060047753011268,-29.543377668302035,-23.276080784592427,-23.77584390439081,-18.558330147576985,-12.199479984280579,-11.876482460103482,-28.216665840469666,-9.131541682314179,-9.376529691425121,-0.42017055990161273,-22.16699172557549,-16.92576351208713,-2.196084521602631,-8.084814154796563,-17.08065408464061,-10.87535431966447,-15.520348907716858,-22.83196181933531,-12.355602743120478,-12.042166109912845,-8.588319343721171,-12.055537787531994,-9.88772348080698,-1.3687976932249397,-13.936530978755599,-4.129284931708815,-23.419201263838723,-12.583704703761757,-6.693459153220436,-5.85059279970829,-1.3945238351449587,-21.547399956607062,-13.387163871342395,-15.312106841419764,-27.344723290698155,-20.523000155656455,-28.762081673491604,-23.177793569564617,-13.955326748242715,-24.883990447523885,-24.688361363714492,-22.336312523997123,-22.019601177435096,-12.276301226398768,-7.873337047655864,-14.918333818007113,-16.382335946140934,-6.485559841559892,-12.387898121378242,-13.173903076649523,-19.868369990819108,-20.864959718249203,-18.480565877924693,-9.060121281690991,-25.99213444820757,-29.333544455603437,-23.039327218749033,-5.918159946669129,-11.765014810658034,-4.842811966950022,-12.732448868224319,2.818110245679193,-16.27704135448873,-12.274532688620914,-13.909990932817712,1.0617031722159538,-24.585770577625993,-19.748505506592757,-13.385466018795427,-14.857778787803104,-2.633868119074896,-18.67591597780931,-1.8027188943942647,-10.82934776154474,-11.748087806596617,-9.91401276902904,-16.693737150583804,-21.359858818681516,-19.03129849371771,-16.655804233780245,-12.161422219288541,1.2209064048128107,-5.146913302766379,-26.01720318184927,-19.861753402620874,-13.565883407770313,-1.2077660312178238,-24.444733472442167,-5.959227380856482,-15.257889959987125,-18.587893819684172,-2.907504664366453,-23.946425875731094,-28.210584954103243,-2.6264905721370932,-1.289509195211023,-21.423276026393633,0.4375119840370515,-26.24396693681674,-7.270790859369947,-27.84399260711986,-25.04944553807182,-28.796772168646285,-8.204250446297062,-22.211049368975694,-9.464564374401066,-16.056194418849746,-4.41758064645298,-25.200628260662466,-25.46489714642308,-18.316882688994458,-25.83844209998322,-16.393862284674494,-26.5121146629944,-9.459864408224437,1.4834342239765719,-12.743032145419278,-19.50668552007706,-20.6389025366001,-13.285515365488282,-17.117399066313304,-14.994158544372807,-16.966314689032163,-17.841518855959517,-24.79590007294615,-26.683890644658483,-21.85499716750326,-22.219865120671294,-14.870261645639394,-21.3906731116275,-20.380620685150348,-12.001733725163525,-4.057174071071982,-1.3346436712005065,-2.35408163291343,-6.6388285210331555,-9.855413719421916,-12.267637098741169,-22.05723376318817,-19.642434525035995,-15.211011993197804,-14.494982760466785,2.861911085819342,-3.5918702111830596,-12.495784418823138,-14.091649317188073,-11.428287018978587,-16.073559767976473,-21.928563114390943,-25.36917754795867,-21.983623116166473,-24.435222460140302,-21.762099397338353,-6.900037723756493,-8.713739996057647,-12.608646215785155,-12.922578829526163,-15.942888373485108,-10.166102404030555,-7.21025299043903,-16.741305282472712,-25.59119902063577,-12.845224447413244,-1.413943343598842,-7.542747606037368,-10.876031486483376,-15.085529492265662,-25.296951983012377,-7.05251273013849,-8.150691878543055,-3.60500694938083,-10.963440340571236,-24.814582346020337,-17.614066925345313,-9.910316740944076,-4.747947118528584,-2.4295502092059165,-15.413640403241303,-25.736196830300003,-18.657664541744303,-23.364527847739105,-19.48459115920897,-8.388746685986366,-12.75738363138781,-13.05266025144949,-15.120250747838897,-17.59518317393519,-22.535917667193768,-4.610092142898441,2.778248070452519,-11.125286183147988,-15.805670557137102,-16.895205225771956,-0.6525602711554399,-15.806040280040785,-24.098493270556386,-27.827157424385938,-17.434386114561715,-14.850985439917626,-6.842614780097413,-9.36753439714666,-9.038031617307405,-14.779122437421213,-5.94259368763626,-1.3875603375275933,-0.5351035258913204,-23.585903495500045,-11.55955290936276,-6.357921109941941,-6.350233975509361,-16.146202630874736,-4.963140113317274,-11.443032141776241,-16.90144170427294,-17.49563492096805,-2.5685526606246514,-10.76886592586174,-13.876860469662875,-11.194837806663077,-25.234565134147417,-22.34747258361553,-21.628557259875027,-17.679536113264987,-10.867064684594244,-10.222824782680995,-7.352922921820835,-24.451693594283142,-12.703389105361516,-5.800229643101848,-16.036233609626503,-15.093160205835815,-14.592707810139068,-14.877762945087868,-20.20584418244722,-11.54414673252674,1.0296219382184943,-21.62632341645613,0.9360249444671598,-4.940890178842865,-3.449850603414718,-1.3730835641938322,-17.47846449241038,-4.6421147528069175,-6.933334986224671,1.9529892764334913,-22.512001369751136,-16.098371445132155,1.302437799998041,-1.5662642374528137,-7.711827349093297,-20.1737385245823,-16.040949998096146,-16.644966505984524,-10.735911141405188,-18.736340478856025,-8.325038646521515,-19.855800418379943,-19.006021105455147,-14.85130139004386,-18.71862313808466,-18.34698648535795,-15.978527872831531,-14.924033926499144,-26.818666539057663,-1.9858879615390426,-7.292292664425737,-7.892862182968429,-8.522751132277406,-10.714389776627605,-22.962141027935836,-4.802822039436678,-23.21269240662325,-15.296523082629655,-23.85565340219181,-14.668139462315262,-4.864220462934324,-27.020794125772458,-6.781038739935633,-24.47131561073697,-16.924679232043562,-2.37576297755827,-12.983154492654329,-23.661144338111804,-3.4613273147580257,-18.854689063845893,-22.92427256085438,-0.37360666310723156,-13.646414316285785,-16.723227959813542,-11.268447664181382,-1.8713496743278653,-13.144891693234765,-9.045789762456707,-9.779786659999766,1.7493687438547734,-17.80225006024623,-26.485144830895866,-10.225373558293294,-26.797286508293325,-0.6516366668348734,-7.998993249633925,-3.9161760159422956,-20.770497524016953,-23.57754468643307,-9.24734316276336,-24.11054324734494,-14.428255252286588,-19.267053454872666,-24.32272119298768,-16.547693089334224,-12.977136962827304,-15.234109207297854,-3.7562807660543336,2.7057366108639056,-26.487789232309524,-21.851086861935194,-23.92849587999424,-18.413163856691142,-15.166135826496628,-4.424664858917989,-22.170120616611985,-14.753206249740177,-14.630511935144767,-6.240313427005843,-2.417883557034898,-18.893672312243,-22.523885418444358,-22.792797177812727,-8.3122878433051,-21.43530839091918,-6.588400128355264,-14.335064689223,-28.54680685944252,-22.11977894822943,-16.827697172455117,-23.958079030207333,-25.991416232206284,-21.153430391535096,-22.46291596899192,-21.07871220812102,-25.224342530130336,-20.793227039828437,-22.59664874790707,-10.83256078178694,-23.198112168449565,-11.89498963278625,-21.92231935043416,-20.674811194546564,-12.63138383938077,-0.5494361499269359,-3.2785019671160063,1.2306462184647429,-10.56988326798456,-9.918112884144106,-7.236072107034349,-16.657036616184005,-1.1509168188481151,-8.550006545722287,-23.890433129035202,-20.191536614231016,-11.870510703745342,-21.877255254523117,-10.733152925410995,-9.412951559386265,-26.646076006091405,-24.93009995052551,-11.380775693460143,-23.295740133865692,-18.332321427120824,-21.456196566482117,-16.677705063827833,-10.163127245798144,-17.06229639366819,-15.32451384306688,-7.596435633553067,-11.66404588009059,-15.254821298518914,-12.971106109011215,-12.137668072020332,-7.260617614646982,-20.146796132235202,-11.065722031870159,-7.574396575687325,2.6407186929578836,-4.367874328804002,-0.5586991615374028,-13.003727344663776,-10.335248698998946,-11.230256166300915,-27.27955143736614,-3.86729724380418,-3.440941195582239,-13.280940114288255,-11.5124442824486,-20.392736988417447,-1.8555122261074954,-26.053927287505346,-0.7274372907494713,-24.850304689559707,-6.899264040855419,-6.4689004101451175,-11.4225609423472,-3.297770338909932,-13.198897167472602,-12.360060051260128,-23.500056768662315,-8.868265617466323,-23.148028483277486,-17.837720511327127,-17.16724912175483,-14.084070907211576,-8.878195278758774,-12.83851706932557,-2.6870435711600043,-9.943994842735664,-12.336550638489928,-21.107740555286366,-10.367294133750944,-8.070572192872504,-1.2616130883635295,-11.76113821010455,-24.298239139938797,-14.635801335805057,-21.09601165443145,-15.026967950952091,1.326101849322407,-19.043094091521386,-20.21097204449594,-10.709746722791033,-12.056687408662816,-4.015765159956347,-3.403904044082199,-18.7771562762355,-13.805736552991824,-1.417519393744082,-12.717370965498262,-13.00928687682175,-1.7656803868931046,-26.036975421796082,-15.724615978461799,-14.783255256245765,-13.06454396385693,0.3224910531524331,-20.329365800691523,-10.00942869913042,-11.8304162276497,-12.89255219480981,-14.835794239013044,-13.432626150470204,-11.005037613748698,-17.11969554020432,-18.07222378972969,-15.449722925523325,-6.444979222560651,-16.36098924106459,-7.408715617499692,-18.64890620576586,-11.878265157059406,-18.875638464525238,-6.7793228621105115,-10.20786019624074,1.0600489510384234,-17.90471292239295,-13.603561850181563,-16.654212346433564,-17.6402967964023,-16.204086837979645,-25.70288692750376,-25.286365154877686,-1.7595827606839456,-16.89239522286479,-15.066894601039037,-1.3883847553034132,-9.70360379075737,-6.896440659015433,-18.174685002014765,-0.9688711616756096,-11.229202005795008,-23.315214881858992,-21.94060269922075,-14.489110514660496,-28.76545093158634,-18.726339292164944,-28.7838069828502,-19.579502906057165,-25.49393839195468,-26.80495543314024,-25.126812011029294,-9.737529332788448,-13.537194372157636,-23.499839112291006,-25.849619364594677,-16.783042481491925,-17.544208650918765,-14.650518750500188,-8.536967574432362,-1.4071964768200136,-19.445727340082808,-9.04709839717527,-26.60381513465802,-24.27338612863673,-21.223335207354143,-10.552483571864219,-18.46050242922769,-9.699288379883937,-23.77563499394737,-9.627343273415397,-4.252868842546216,-19.35028117521684,-26.980837847985782,-18.56435386849744,-21.231392421676382,-4.165891977808487,-19.896137803595565,-0.6174252839891735,-27.297515664018963,-14.543450837410372,-14.986601190534472,-6.835983835062905,-12.722466521834875,-5.296642517710064,-8.554106050843979,-17.181896543925028,-8.164931367593992,-8.70246572944197,-16.70974605448484,-15.728761783733399,-22.128613921153296,-9.84293540308155,0.8688930204849246,-11.021127883921547,-14.725652366239496,-21.30900795458219,-22.891609676388857,-10.161218290612684,-17.096971318701307,-26.337657879297684,-12.198964778055949,-21.47278387048776,-16.211879089852427,1.3279096135251576,-4.274265624654863,-12.910422687013993],\"y\":[19.60824870328218,20.15556906056982,23.239162990199134,10.346982540860946,10.394956126753632,12.974436108638976,8.968063997948972,11.823011425765284,9.646313281496841,7.470152071167789,11.859723755551821,2.8766143507017636,23.147796438345193,4.290807237331067,0.2969625610060196,2.3625136443704235,16.02507198035123,20.25567661924116,2.8216535097715623,25.57012739830365,3.8435007499477405,7.6398801522835225,1.7682019498144248,22.933910604257147,16.56661538041513,10.71683600122798,-0.29658436784969144,6.162567191125249,7.558426281797137,-6.567489891607681,13.947629851750143,6.967864942711687,14.567334594584464,25.465449108501844,-3.690407424344138,16.872368517570276,21.070435042003833,14.541975122623773,-4.012907727100213,4.3500805225860235,6.117738351983218,27.417186393697982,-3.780035281918165,-3.632847296205277,18.88911077540899,6.152682704303427,25.80903563697702,-0.5219625306037614,10.73816852083881,3.6509118575091652,-3.1807575669014545,-2.325233694545923,13.380040818373164,21.887616022014384,22.84153139859483,13.973476819167963,10.208578536685291,4.135693337268362,8.187148723510884,10.15519412591797,4.941862359114868,10.4686796583689,23.689260688896436,15.895383715031471,-0.49009859907392406,17.444213285388827,12.187285559387693,18.138285397830153,25.28375735093974,4.665028364029353,10.997190824384369,20.73177449997588,26.961717171893042,18.56974952526146,2.716481960704755,17.121070884483476,6.276923562669576,8.486623219755685,19.893788620269945,-6.172713270403472,8.223760238851035,14.076744474437806,22.59737185243594,25.524006387317844,21.746480130606734,2.7322408389380057,16.99911646898975,20.728507467740876,5.770163365248642,8.353502331521026,3.6591504917404647,21.99626081267836,1.0559415493290554,11.29024213183695,12.835801843052401,12.972083074154133,5.68131484057169,14.973828924603557,21.89919094934788,13.734042107233048,14.293500528380017,12.820822077813219,-3.426297924268868,9.921701170817991,23.61930754629251,17.704256346040207,24.415757070381943,22.12411356500759,7.791709493328875,7.363426828633052,-5.341608042977765,12.003832113810383,12.071504975607567,21.85394787999089,16.63547847533797,13.879083595557034,15.969854112778215,3.155308865223421,2.3530176779227716,0.6634445127780518,-1.420976658129327,8.301419676223313,20.13470074088801,19.932301232282253,6.454957203788217,12.320600264540854,20.974288483577876,8.229809945074198,10.206827651888046,10.025328358144595,15.819372655076208,12.487291775568915,8.503404418492467,22.054696172005084,26.19523701759242,19.697971874656186,-0.7953723692422769,4.27959340612462,5.9803482352592106,3.2231552102267895,9.587910885170876,7.505937726321335,-4.1510144480276585,23.69849928139086,6.3414724717009205,-4.17306908581532,13.903375185912092,0.6661056780206591,1.836747732168723,13.69894713358176,8.257497635892685,13.235338111834903,8.941690547092985,10.100142733308202,4.455481396752837,9.650831511109875,5.327893877655516,7.882126514971593,12.279502463513714,19.943895140722724,16.59649912550042,1.9613019225161707,9.6581879028025,13.489720228958705,2.837468657047657,2.9279095364151844,20.060882068598822,12.483612421017597,3.8076059651306084,14.829303793496935,1.166518315380217,23.257701209539643,25.716987656866994,9.354293175264601,9.42481202802449,13.81682262241888,14.96699102320267,16.083907097072654,16.791014603179647,12.849549283844098,14.14235563623999,7.875017136424013,3.415584016230913,16.833333977661127,17.811404923647277,3.7728159997785884,-1.944215352610216,15.236712476285557,15.719782150319006,16.01657491964602,17.711120790347504,22.176750283026394,2.678543708336924,9.227447227860583,19.615134118455558,-6.081253919649674,18.130773845762352,14.119689953077534,8.478385636751236,-6.7047622336825965,2.797430683572374,18.268363216641767,22.4496628281242,14.346873737570176,-5.64392457365049,21.140485676564715,22.072525798876217,16.705006420783867,-3.8864451432073692,9.004114315871902,20.564275067716277,12.543255548074113,15.25099714439967,8.135967385469332,16.912110138298075,6.550439162106535,5.931622800363149,24.590425871996988,4.376775378287349,5.205558116869606,7.512825681764225,16.563389511691604,8.196047279210996,11.604725214591442,8.683276964524921,19.721728743958018,23.16922669723448,14.526346103322366,18.783267631523252,14.385180762179925,17.094804853683634,18.819085920344612,-2.9255605201636596,16.8110738253739,22.10498948636889,17.774936539219247,4.058484754305767,8.52893661723338,14.894766899325653,21.162283909339475,25.20252399606503,-0.8542029146639135,16.221557656083625,14.413641901731582,7.870043994927348,22.965120404452925,8.6269441372793,18.920374108804975,22.01491498554121,1.6873731740485671,-2.662364717426173,11.642392305568277,18.000811524200437,-0.7337529250271279,22.516665077742996,1.639207345194837,9.701771369086783,10.978397230167662,10.509218995069002,7.724719469386136,13.382017545067303,15.745630523261255,11.595454453587987,12.182555941478917,17.398367757030492,-3.5000898824462294,14.090464457002732,3.4080125060265427,9.697488991420533,-4.758613164658675,16.125994245014027,4.238412992897171,7.852822935551501,23.220170830960498,7.063517771985059,21.570345017514235,-0.6862667445612394,3.0200794809139673,2.918350042877544,1.896105206178535,3.501069056043633,6.646550467433371,18.359285211388517,6.086161709522295,24.676644594626854,8.807332084279746,12.609374288451125,13.106013740780119,9.633140340137494,19.632999971346464,5.5293262663034675,19.104148729719093,16.192782325433992,21.293680267565747,5.945455636522801,2.4078456405832385,9.878597688680102,-0.40469976698213667,-4.353080854975199,15.764967843202484,7.495167488211843,-3.3750057477543356,10.472502859555405,16.434542792311976,8.491882064451566,4.999441744785777,9.87579961017019,1.6269402541044768,22.181954388590558,21.373544827358177,14.16058036251083,8.956874359499132,9.338590899826313,18.05107234916896,13.361574157346382,16.624334070199836,17.728085128158195,26.10550826587497,26.26043923601663,24.869991965798373,4.948290334585777,11.024597094437299,10.395597818665994,10.47524905756256,6.4493190884786635,5.329352495116071,7.403488116060113,19.41979308022887,9.975850480944608,10.911694687999892,12.311881843413891,8.448858366541803,10.636326377228716,1.3482182444907482,21.15349347039842,0.9291212063899363,10.754213756311248,-2.826338480286808,13.846087128401564,-2.1152072875299517,2.8057451860505047,11.868956987178448,11.922802286252923,17.265378769729537,9.473811955801954,24.14407155615129,20.54467874607952,13.627621723450643,5.523794779818736,13.609802599351035,15.795378972594989,-2.9959278839819765,-4.894959232660629,13.292111023916462,17.17796807372549,1.629075403338935,19.04594949482853,11.11151302683877,13.152728849646582,5.049178511437672,18.57299108789245,12.981107199004622,-0.40118543260505013,3.559166543630254,8.85420161065651,4.8482261137073195,-1.821338615699664,20.334095819705716,5.619830584633546,11.539377218907498,10.609279474270712,-5.974927946091303,-0.30462633855881277,9.521640643804384,24.693683044525933,20.073896802275264,3.415244602360372,11.633910363263531,13.277118259816021,15.504287965474433,8.996701016418879,11.044830718091621,8.688795755036843,14.106396520475316,14.584902194925258,21.545487175957504,6.7890734944011575,-0.7502365416937065,3.91232823149354,5.460246225159163,12.503206674304757,7.8362487511573695,15.112900890067223,5.564183337993307,5.130303276261341,6.523349232313365,2.270233972896213,10.776164809278034,7.960609358396822,20.82789023867153,12.056720592893921,14.110474651769353,17.74334351461674,13.860823288543752,1.1496253359440431,8.67640706268858,17.84663464847586,22.249304065007937,9.042766583900656,24.471798175142446,-1.0904321570018944,17.477349548319193,15.389817900998025,13.027200295713298,23.391779568096528,-2.9513604715748056,16.656411399776644,14.683347611706852,-0.871556582682242,5.385093386132249,19.23185423861745,-0.39708029664871525,12.380126627351098,13.191926485896344,10.62490167520422,7.731018041825939,6.540901740584423,-3.318860806795153,11.84504937311229,15.338153059328892,11.963367605466168,14.8607185904633,13.403890042827761,18.775856892789808,12.16788217317043,7.843087565579211,26.944074793679953,12.180031812319076,15.340125887106854,19.174811907827248,13.924208557354149,6.152316677988012,9.076923098388951,14.64157352550969,9.970934288322711,12.229204852413975,6.361970604922778,15.63950257532691,14.089118430358193,6.746333906071404,9.435484903632986,-6.872382959222065,0.27116775131526105,22.253066643972755,-2.7671902484507562,18.139532782741693,12.656127933898134,16.546605893335318,18.623061473379675,13.935430080665553,19.3706313436011,15.887888239053357,6.760323954230017,12.819761643697758,3.4676883347532534,11.604554615244252,-0.6084228086900504,12.260578637587281,9.036910461617044,13.84425029206637,12.615781723931802,2.308005331972801,12.872507980849798,12.910768180996177,13.391987990998846,10.526999582499501,11.63839578938799,1.930092003199074,4.403648354225736,11.331604639742215,11.259566593996205,-1.2749344024951075,21.417061995271137,18.125793292314945,17.874895207606627,0.4174954687539425,10.296604205166597,4.4849638873474476,15.450723497466216,12.664254088234443,10.186309777559579,13.3878015174546,-0.8502845735846337,24.66045628219665,10.594104227267543,9.575960285088211,13.605151715486796,5.672944263832097,9.675821146725875,2.7747809056542385,22.55665519986592,8.415680966589996,18.87734493748744,2.129169076100074,16.11977009666549,3.0924368488395264,17.45211937128166,-3.722218267181477,2.8177454667833546,7.596179599578834,15.227304205621593,24.51129757546706,17.025569306135473,20.9450723459543,9.217168417595293,15.679473506201536,13.799936212229335,25.407130734040752,-0.16996456755651992,23.417302782814264,12.29789690259052,24.407248456011853,1.3606667093615634,3.388047664365184,22.5814251599415,19.884748102442778,-3.9057322385688518,22.91654156850503,8.351686087999608,3.998710669502086,16.29253041262315,22.71379805187384,9.089451331389382,14.906276550557735,16.91074900190663,12.695773801979975,11.096097255961757,22.163855490737333,19.24122374624046,17.398105828912488,25.2771615074913,8.825817917771808,4.242589863972132,8.313809315241071,7.736649015254922,8.692775091212404,12.98521330173648,6.985373874292355,15.057606392652938,10.897610839289644,16.003227334322116,12.889946650944198,9.631055313755446,16.789169353801555,17.853152591854684,-4.086720024399458,13.138444837710104,23.87430331274995,22.87696271371673,18.677304783818908,12.84940267878276,22.78840524489702,20.940650892885422,15.829423553229478,-2.2112420458686346,12.530907505429845,4.64297350757532,12.99767204200157,25.92466523874731,22.02798808403913,13.487684425229583,6.8922023600551405,24.889022418192276,-0.8132421966349989,22.389523334691543,10.164138620686604,14.687124605176802,3.630790933979392,26.61268472837556,14.043886335094811,19.57269939216678,4.38132960193495,15.324179025259044,20.248876942228943,9.684344665960282,16.1383897478206,0.5971468239953103,13.778506435701217,3.511408475230993,19.077812785172515,25.625144001694593,9.26674843960112,7.882084837049067,11.864205720740024,9.989322949733971,9.47518450992438,1.4979625072158211,13.743579229109846,-0.6499839648307699,4.6436086147080715,1.005075916091186,23.13250816456705,17.31976260856525,19.071665466027177,5.796024980419383,23.77231782155936,21.99534285953485,1.656512971222111,15.690982849375873,-4.100018778667233]}},\"id\":\"90fa74dd-e465-4b60-9081-05e555703f93\",\"type\":\"ColumnDataSource\"},{\"attributes\":{\"plot\":{\"id\":\"e2f70718-8e0e-453c-9033-8dbb98c836df\",\"subtype\":\"Figure\",\"type\":\"Plot\"},\"ticker\":{\"id\":\"69ab3d2f-0c67-4e1e-a15b-d56f356da535\",\"type\":\"BasicTicker\"}},\"id\":\"5aa58e4a-cd36-4193-ad78-a75a8e0f4e4d\",\"type\":\"Grid\"},{\"attributes\":{\"dimension\":1,\"plot\":{\"id\":\"5db259e8-80fb-4a8c-be17-31bf175aa673\",\"subtype\":\"Figure\",\"type\":\"Plot\"},\"ticker\":{\"id\":\"ce3c9a01-a57a-43b1-a12b-ebfe862e750f\",\"type\":\"BasicTicker\"}},\"id\":\"7a0acecd-0c8f-4750-8a03-1746474949fc\",\"type\":\"Grid\"},{\"attributes\":{\"bottom_units\":\"screen\",\"fill_alpha\":{\"value\":0.5},\"fill_color\":{\"value\":\"lightgrey\"},\"left_units\":\"screen\",\"level\":\"overlay\",\"line_alpha\":{\"value\":1.0},\"line_color\":{\"value\":\"black\"},\"line_dash\":[4,4],\"line_width\":{\"value\":2},\"plot\":null,\"render_mode\":\"css\",\"right_units\":\"screen\",\"top_units\":\"screen\"},\"id\":\"ce557692-a174-41f3-a35a-fa9a71b122b2\",\"type\":\"BoxAnnotation\"},{\"attributes\":{\"below\":[{\"id\":\"c6f0af19-1542-421e-9f66-5599000e89c3\",\"type\":\"LinearAxis\"}],\"left\":[{\"id\":\"7728932a-243f-42b2-8636-bc7bbaf9c0cd\",\"type\":\"LinearAxis\"}],\"renderers\":[{\"id\":\"c6f0af19-1542-421e-9f66-5599000e89c3\",\"type\":\"LinearAxis\"},{\"id\":\"5aa58e4a-cd36-4193-ad78-a75a8e0f4e4d\",\"type\":\"Grid\"},{\"id\":\"7728932a-243f-42b2-8636-bc7bbaf9c0cd\",\"type\":\"LinearAxis\"},{\"id\":\"59566c85-d91f-41f7-bf0d-7d4ca4e3f10b\",\"type\":\"Grid\"},{\"id\":\"0d8cbbf8-df1a-4178-a1c3-acecb218d3c9\",\"type\":\"BoxAnnotation\"},{\"id\":\"b747c8c9-0cd5-4bdc-ae78-4ad55661e342\",\"type\":\"GlyphRenderer\"}],\"title\":\"tSNE(word2vec) on corpus\",\"tool_events\":{\"id\":\"30c05b1e-2ac3-4c92-b5bb-9880380aade5\",\"type\":\"ToolEvents\"},\"tools\":[{\"id\":\"c4fc73a9-d18f-4033-b8b7-23a63ce867cb\",\"type\":\"PanTool\"},{\"id\":\"af351b7f-77aa-4c10-989b-c9ac7b851606\",\"type\":\"WheelZoomTool\"},{\"id\":\"40605d9e-e332-41ed-8d61-88f4a99a7e89\",\"type\":\"BoxZoomTool\"},{\"id\":\"d848fd6f-b183-4b83-aed2-c47ec83c3f4c\",\"type\":\"PreviewSaveTool\"},{\"id\":\"f9f88d90-c27f-46ea-af98-59dd0610ceb7\",\"type\":\"ResizeTool\"},{\"id\":\"6b3aa355-015d-4350-ab43-42819baecdec\",\"type\":\"ResetTool\"},{\"id\":\"d160a420-9f80-4c40-8d0c-3202e7ff7708\",\"type\":\"HelpTool\"},{\"id\":\"a3c8bab4-85a3-41d8-ac6a-cfe8cfb3a4ef\",\"type\":\"HoverTool\"}],\"x_range\":{\"id\":\"5bddc1cd-9a55-43bc-8e7f-c803a360c87e\",\"type\":\"DataRange1d\"},\"y_range\":{\"id\":\"f359c293-07c2-48ed-809c-c6f284b66e27\",\"type\":\"DataRange1d\"}},\"id\":\"e2f70718-8e0e-453c-9033-8dbb98c836df\",\"subtype\":\"Figure\",\"type\":\"Plot\"},{\"attributes\":{\"bottom_units\":\"screen\",\"fill_alpha\":{\"value\":0.5},\"fill_color\":{\"value\":\"lightgrey\"},\"left_units\":\"screen\",\"level\":\"overlay\",\"line_alpha\":{\"value\":1.0},\"line_color\":{\"value\":\"black\"},\"line_dash\":[4,4],\"line_width\":{\"value\":2},\"plot\":null,\"render_mode\":\"css\",\"right_units\":\"screen\",\"top_units\":\"screen\"},\"id\":\"0d8cbbf8-df1a-4178-a1c3-acecb218d3c9\",\"type\":\"BoxAnnotation\"},{\"attributes\":{\"overlay\":{\"id\":\"0d8cbbf8-df1a-4178-a1c3-acecb218d3c9\",\"type\":\"BoxAnnotation\"},\"plot\":{\"id\":\"e2f70718-8e0e-453c-9033-8dbb98c836df\",\"subtype\":\"Figure\",\"type\":\"Plot\"}},\"id\":\"40605d9e-e332-41ed-8d61-88f4a99a7e89\",\"type\":\"BoxZoomTool\"},{\"attributes\":{},\"id\":\"737c5cfc-564a-4b1d-b6a2-1dce372c404c\",\"type\":\"ToolEvents\"},{\"attributes\":{\"formatter\":{\"id\":\"4224b5c4-30e4-4c98-927d-ed61cc425761\",\"type\":\"BasicTickFormatter\"},\"plot\":{\"id\":\"e2f70718-8e0e-453c-9033-8dbb98c836df\",\"subtype\":\"Figure\",\"type\":\"Plot\"},\"ticker\":{\"id\":\"38f872d7-4242-4d1f-a70a-b2fe2fed2d4f\",\"type\":\"BasicTicker\"}},\"id\":\"7728932a-243f-42b2-8636-bc7bbaf9c0cd\",\"type\":\"LinearAxis\"},{\"attributes\":{\"plot\":{\"id\":\"5db259e8-80fb-4a8c-be17-31bf175aa673\",\"subtype\":\"Figure\",\"type\":\"Plot\"},\"ticker\":{\"id\":\"33393877-4632-486c-8d38-bb22ff7cde70\",\"type\":\"BasicTicker\"}},\"id\":\"bad4677e-ddd8-4649-a23d-b569393c4c1c\",\"type\":\"Grid\"},{\"attributes\":{\"fill_color\":{\"value\":\"#1f77b4\"},\"line_color\":{\"value\":\"#1f77b4\"},\"line_width\":{\"value\":2},\"x\":{\"field\":\"x\"},\"y\":{\"field\":\"y\"}},\"id\":\"278abd37-e207-4f33-964d-b05263e306f1\",\"type\":\"Circle\"},{\"attributes\":{\"fill_alpha\":{\"value\":0.1},\"fill_color\":{\"value\":\"#1f77b4\"},\"line_alpha\":{\"value\":0.1},\"line_color\":{\"value\":\"#1f77b4\"},\"line_width\":{\"value\":2},\"x\":{\"field\":\"x\"},\"y\":{\"field\":\"y\"}},\"id\":\"e0056684-e3f1-4b05-9802-076abac96630\",\"type\":\"Circle\"},{\"attributes\":{\"callback\":null},\"id\":\"0966e24e-8690-47f6-840d-d647f7ccb6da\",\"type\":\"DataRange1d\"},{\"attributes\":{},\"id\":\"69ab3d2f-0c67-4e1e-a15b-d56f356da535\",\"type\":\"BasicTicker\"},{\"attributes\":{\"plot\":{\"id\":\"e2f70718-8e0e-453c-9033-8dbb98c836df\",\"subtype\":\"Figure\",\"type\":\"Plot\"}},\"id\":\"c4fc73a9-d18f-4033-b8b7-23a63ce867cb\",\"type\":\"PanTool\"},{\"attributes\":{\"below\":[{\"id\":\"10f94fac-9069-4a05-b361-ed56bda51c87\",\"type\":\"LinearAxis\"}],\"left\":[{\"id\":\"89be9b20-93ee-4833-b0a0-a76fff678d73\",\"type\":\"LinearAxis\"}],\"renderers\":[{\"id\":\"10f94fac-9069-4a05-b361-ed56bda51c87\",\"type\":\"LinearAxis\"},{\"id\":\"bad4677e-ddd8-4649-a23d-b569393c4c1c\",\"type\":\"Grid\"},{\"id\":\"89be9b20-93ee-4833-b0a0-a76fff678d73\",\"type\":\"LinearAxis\"},{\"id\":\"7a0acecd-0c8f-4750-8a03-1746474949fc\",\"type\":\"Grid\"},{\"id\":\"ce557692-a174-41f3-a35a-fa9a71b122b2\",\"type\":\"BoxAnnotation\"},{\"id\":\"b16d0c60-71bb-41e7-9cd8-924e35a308c8\",\"type\":\"GlyphRenderer\"}],\"title\":\"tSNE(word2vec) on corpus (3 or 4 note only)\",\"tool_events\":{\"id\":\"737c5cfc-564a-4b1d-b6a2-1dce372c404c\",\"type\":\"ToolEvents\"},\"tools\":[{\"id\":\"546a6195-236b-48d3-aa8a-8261ac64bcc3\",\"type\":\"PanTool\"},{\"id\":\"95b7f5c3-9f61-45a4-9129-c265bae0f5bc\",\"type\":\"WheelZoomTool\"},{\"id\":\"cf589a81-5ff7-4726-acd5-fc6b20b66dca\",\"type\":\"BoxZoomTool\"},{\"id\":\"e107afda-8e41-4e42-80e7-2728cd3a8bf4\",\"type\":\"PreviewSaveTool\"},{\"id\":\"0e648b77-d308-42fd-9f65-43504da17588\",\"type\":\"ResizeTool\"},{\"id\":\"fc96a185-43a7-4320-8d64-95b4aa8780df\",\"type\":\"ResetTool\"},{\"id\":\"53f64517-a6f2-443a-9115-b69c13afd70e\",\"type\":\"HelpTool\"},{\"id\":\"4ed09f53-dbe1-4e37-bf31-88b861fd1407\",\"type\":\"HoverTool\"}],\"x_range\":{\"id\":\"ce476cf1-f937-46b1-98f1-1a4c0d192f90\",\"type\":\"DataRange1d\"},\"y_range\":{\"id\":\"0966e24e-8690-47f6-840d-d647f7ccb6da\",\"type\":\"DataRange1d\"}},\"id\":\"5db259e8-80fb-4a8c-be17-31bf175aa673\",\"subtype\":\"Figure\",\"type\":\"Plot\"},{\"attributes\":{},\"id\":\"30c05b1e-2ac3-4c92-b5bb-9880380aade5\",\"type\":\"ToolEvents\"},{\"attributes\":{\"plot\":{\"id\":\"e2f70718-8e0e-453c-9033-8dbb98c836df\",\"subtype\":\"Figure\",\"type\":\"Plot\"}},\"id\":\"6b3aa355-015d-4350-ab43-42819baecdec\",\"type\":\"ResetTool\"},{\"attributes\":{\"overlay\":{\"id\":\"ce557692-a174-41f3-a35a-fa9a71b122b2\",\"type\":\"BoxAnnotation\"},\"plot\":{\"id\":\"5db259e8-80fb-4a8c-be17-31bf175aa673\",\"subtype\":\"Figure\",\"type\":\"Plot\"}},\"id\":\"cf589a81-5ff7-4726-acd5-fc6b20b66dca\",\"type\":\"BoxZoomTool\"},{\"attributes\":{\"fill_alpha\":{\"value\":0.1},\"fill_color\":{\"value\":\"#1f77b4\"},\"line_alpha\":{\"value\":0.1},\"line_color\":{\"value\":\"#1f77b4\"},\"line_width\":{\"value\":2},\"x\":{\"field\":\"x\"},\"y\":{\"field\":\"y\"}},\"id\":\"d289a7b9-7556-40fe-90ae-db92100b3ed6\",\"type\":\"Circle\"},{\"attributes\":{\"plot\":{\"id\":\"5db259e8-80fb-4a8c-be17-31bf175aa673\",\"subtype\":\"Figure\",\"type\":\"Plot\"}},\"id\":\"e107afda-8e41-4e42-80e7-2728cd3a8bf4\",\"type\":\"PreviewSaveTool\"},{\"attributes\":{},\"id\":\"4224b5c4-30e4-4c98-927d-ed61cc425761\",\"type\":\"BasicTickFormatter\"},{\"attributes\":{\"plot\":{\"id\":\"5db259e8-80fb-4a8c-be17-31bf175aa673\",\"subtype\":\"Figure\",\"type\":\"Plot\"}},\"id\":\"95b7f5c3-9f61-45a4-9129-c265bae0f5bc\",\"type\":\"WheelZoomTool\"},{\"attributes\":{\"plot\":{\"id\":\"e2f70718-8e0e-453c-9033-8dbb98c836df\",\"subtype\":\"Figure\",\"type\":\"Plot\"}},\"id\":\"f9f88d90-c27f-46ea-af98-59dd0610ceb7\",\"type\":\"ResizeTool\"},{\"attributes\":{\"formatter\":{\"id\":\"78cf68a8-fa20-4b8c-a344-4c6e32b519b2\",\"type\":\"BasicTickFormatter\"},\"plot\":{\"id\":\"5db259e8-80fb-4a8c-be17-31bf175aa673\",\"subtype\":\"Figure\",\"type\":\"Plot\"},\"ticker\":{\"id\":\"33393877-4632-486c-8d38-bb22ff7cde70\",\"type\":\"BasicTicker\"}},\"id\":\"10f94fac-9069-4a05-b361-ed56bda51c87\",\"type\":\"LinearAxis\"},{\"attributes\":{},\"id\":\"38f872d7-4242-4d1f-a70a-b2fe2fed2d4f\",\"type\":\"BasicTicker\"},{\"attributes\":{\"plot\":{\"id\":\"5db259e8-80fb-4a8c-be17-31bf175aa673\",\"subtype\":\"Figure\",\"type\":\"Plot\"}},\"id\":\"546a6195-236b-48d3-aa8a-8261ac64bcc3\",\"type\":\"PanTool\"},{\"attributes\":{\"formatter\":{\"id\":\"f4f362f8-11ec-441b-aacb-e63f3e566c8f\",\"type\":\"BasicTickFormatter\"},\"plot\":{\"id\":\"e2f70718-8e0e-453c-9033-8dbb98c836df\",\"subtype\":\"Figure\",\"type\":\"Plot\"},\"ticker\":{\"id\":\"69ab3d2f-0c67-4e1e-a15b-d56f356da535\",\"type\":\"BasicTicker\"}},\"id\":\"c6f0af19-1542-421e-9f66-5599000e89c3\",\"type\":\"LinearAxis\"},{\"attributes\":{\"plot\":{\"id\":\"e2f70718-8e0e-453c-9033-8dbb98c836df\",\"subtype\":\"Figure\",\"type\":\"Plot\"}},\"id\":\"d848fd6f-b183-4b83-aed2-c47ec83c3f4c\",\"type\":\"PreviewSaveTool\"},{\"attributes\":{\"plot\":{\"id\":\"5db259e8-80fb-4a8c-be17-31bf175aa673\",\"subtype\":\"Figure\",\"type\":\"Plot\"}},\"id\":\"fc96a185-43a7-4320-8d64-95b4aa8780df\",\"type\":\"ResetTool\"},{\"attributes\":{},\"id\":\"33393877-4632-486c-8d38-bb22ff7cde70\",\"type\":\"BasicTicker\"},{\"attributes\":{\"callback\":null},\"id\":\"ce476cf1-f937-46b1-98f1-1a4c0d192f90\",\"type\":\"DataRange1d\"},{\"attributes\":{},\"id\":\"ce3c9a01-a57a-43b1-a12b-ebfe862e750f\",\"type\":\"BasicTicker\"},{\"attributes\":{\"plot\":{\"id\":\"5db259e8-80fb-4a8c-be17-31bf175aa673\",\"subtype\":\"Figure\",\"type\":\"Plot\"}},\"id\":\"53f64517-a6f2-443a-9115-b69c13afd70e\",\"type\":\"HelpTool\"},{\"attributes\":{\"plot\":{\"id\":\"e2f70718-8e0e-453c-9033-8dbb98c836df\",\"subtype\":\"Figure\",\"type\":\"Plot\"}},\"id\":\"d160a420-9f80-4c40-8d0c-3202e7ff7708\",\"type\":\"HelpTool\"},{\"attributes\":{\"formatter\":{\"id\":\"67b5e183-3b40-43af-9a9c-7acbd446b94e\",\"type\":\"BasicTickFormatter\"},\"plot\":{\"id\":\"5db259e8-80fb-4a8c-be17-31bf175aa673\",\"subtype\":\"Figure\",\"type\":\"Plot\"},\"ticker\":{\"id\":\"ce3c9a01-a57a-43b1-a12b-ebfe862e750f\",\"type\":\"BasicTicker\"}},\"id\":\"89be9b20-93ee-4833-b0a0-a76fff678d73\",\"type\":\"LinearAxis\"},{\"attributes\":{\"fill_color\":{\"value\":\"#1f77b4\"},\"line_color\":{\"value\":\"#1f77b4\"},\"line_width\":{\"value\":2},\"x\":{\"field\":\"x\"},\"y\":{\"field\":\"y\"}},\"id\":\"a1f2f167-5c81-4de9-b3c7-4ac8eebaa19c\",\"type\":\"Circle\"},{\"attributes\":{\"callback\":null},\"id\":\"5bddc1cd-9a55-43bc-8e7f-c803a360c87e\",\"type\":\"DataRange1d\"},{\"attributes\":{\"callback\":null,\"column_names\":[\"y\",\"x\",\"label\"],\"data\":{\"label\":[\"e- e a-\",\"c+ e a\",\"c+ e b\",\"c+ e g\",\"c+ e f\",\"c e- a- b-\",\"e- f a b\",\"f a- a\",\"f b- b\",\"f f+ b-\",\"g a- b-\",\"c d b-\",\"d e f a-\",\"c+ e f+ a\",\"c d f g\",\"c+ e f+ b\",\"c d f b\",\"c d f a\",\"c c+ e b-\",\"e- f f+ b-\",\"c e- f a\",\"c e- f b\",\"c e- f g\",\"c c+ e- a-\",\"f f+ a-\",\"c c+ f+ b-\",\"c f a-\",\"c e f\",\"c+ f+ a- b-\",\"d g a b-\",\"c e f a-\",\"e- e f+\",\"e f g\",\"f+ a b\",\"c d e b-\",\"c+ d b-\",\"e f a\",\"c d g b-\",\"c f g a-\",\"f+ a- b-\",\"c+ f+ b-\",\"d f+ a b-\",\"g a b\",\"f a b-\",\"c+ d f b-\",\"e- g a- b-\",\"c+ g b- b\",\"e g b-\",\"g a- b\",\"c e- e a\",\"c e f g\",\"e- f+ a- b-\",\"d f a-\",\"c d e- a\",\"c+ e- e a-\",\"c d e- g\",\"c d e- f\",\"c+ e- f+\",\"c+ e f+ b-\",\"c+ a- a\",\"c e g a-\",\"c+ f g a-\",\"e- f f+ a-\",\"c c+ f a\",\"c e- a b-\",\"c+ d f+ b-\",\"d a b-\",\"f+ g a\",\"d e- f+ a\",\"e- e g b-\",\"c d e-\",\"c e- a-\",\"c+ e a-\",\"f+ g b-\",\"c+ d f+ b\",\"c+ d f+ a\",\"d e g b-\",\"f+ g b\",\"e f+ a- b\",\"c c+ f+ a\",\"e a- b\",\"e a- a\",\"c g a\",\"c g b\",\"c+ e f b-\",\"a- b- b\",\"d g a-\",\"f+ a- b\",\"e- a- b\",\"e- a- a\",\"f+ a- a\",\"c e g b\",\"c e g a\",\"c d f\",\"e g a- b-\",\"c+ e a- a\",\"c+ a b-\",\"c e- g b-\",\"d e- f+\",\"e- f a- b-\",\"c+ a b\",\"c f g a\",\"d e- b-\",\"c f g b\",\"e- f b-\",\"e- f+ g b-\",\"c f a- a\",\"c f a- b\",\"c+ e a- b-\",\"c e f+\",\"e a b-\",\"c e a-\",\"d e- f b-\",\"c e- f+ a\",\"d a- b-\",\"c e- f+ g\",\"e- f+ b-\",\"d e- a-\",\"e- a b-\",\"f a- b-\",\"c+ e f a\",\"d f b-\",\"d g b\",\"c f+ a-\",\"d g a\",\"g a b-\",\"c+ f+ a- a\",\"c+ f+ a- b\",\"e- g b\",\"e- g a\",\"d f+ a b\",\"c+ d a\",\"c+ d b\",\"c+ d e\",\"c+ d f\",\"c+ d g\",\"d f g b-\",\"c e f+ a\",\"c e f+ g\",\"c g b-\",\"c e a- a\",\"c e a- b\",\"c f+ a b\",\"e f+ g b-\",\"a- a b\",\"c d g b\",\"c d g a\",\"f g b-\",\"c+ e g a-\",\"c e- g a\",\"c e- g b\",\"d f f+ b-\",\"c+ e- g b-\",\"c+ f f+ b-\",\"c e f b-\",\"e- g a b-\",\"c c+ e- g\",\"c c+ f+\",\"c c+ e- a\",\"e- f f+ a\",\"e- f f+ b\",\"c d b\",\"c d a\",\"c+ e a- b\",\"c d g\",\"c d e\",\"c e- e f\",\"c+ e- e\",\"e f g b\",\"e f g a\",\"c+ f+ a-\",\"d e a- a\",\"d e a- b\",\"c+ e- g\",\"c+ e- f\",\"c+ e- b\",\"c+ e- a\",\"e- a- b- b\",\"f a- a b-\",\"c+ b- b\",\"d a- a b\",\"e f+ b-\",\"e g b- b\",\"e- f a- b\",\"c+ g a- b-\",\"d f f+\",\"e- a- a b\",\"e f+ g\",\"e f+ a\",\"e f+ b\",\"c c+ b-\",\"c e b-\",\"c b- b\",\"c e- a b\",\"d f a- b\",\"e f+ a b\",\"e- f g b-\",\"c+ f g b\",\"d e f b\",\"d e f g\",\"c d e- a-\",\"e g b\",\"e g a\",\"c e a b\",\"c c+ f b-\",\"d b- b\",\"c f g b-\",\"c+ e- a- b\",\"c e- b-\",\"d f g a-\",\"e- e f a\",\"c f f+ a\",\"f g a-\",\"d f a- a\",\"d f a b\",\"c+ e- f b-\",\"c f a b-\",\"c+ d g a\",\"d e f+ a-\",\"c+ d g b\",\"e f+ b- b\",\"e f b-\",\"c+ f f+ a-\",\"c+ e- e g\",\"c+ e- e a\",\"c e f+ b-\",\"f g a b-\",\"c e f a\",\"c f b-\",\"c d f+ a-\",\"c e a- b-\",\"d a- b\",\"d g a- b-\",\"e- f+ a b-\",\"c c+ d a\",\"c+ f a- b-\",\"c+ e- a- b-\",\"e- f+ a b\",\"c+ e f+\",\"e b- b\",\"d f f+ b\",\"d f f+ a\",\"c+ e g a\",\"f g a- b-\",\"d e- f+ b-\",\"g b- b\",\"e- f+ a-\",\"c f+ b-\",\"c+ g b-\",\"f g a\",\"f g b\",\"e f a- b\",\"d a- a\",\"e- e f+ a\",\"e- e f+ b\",\"c e- g a-\",\"c f a b\",\"c+ e g b\",\"c+ e- e b-\",\"c+ d g b-\",\"d f g\",\"c e- f a-\",\"d f a\",\"c c+ e- f+\",\"c a- b-\",\"c f+ a- a\",\"c+ e- f a\",\"c+ e- f a-\",\"c c+ f a-\",\"d g a b\",\"e- f b\",\"c d f+ a\",\"e- f a\",\"c e- f+ a-\",\"e- f g\",\"c d f+ g\",\"c+ g b\",\"c+ e g b-\",\"d f b\",\"e- f g b\",\"e a b\",\"d e f a\",\"d f f+ a-\",\"c+ e- g a-\",\"e- g b-\",\"d a b\",\"d e- g b\",\"e g a b\",\"c+ e b-\",\"e- g b- b\",\"f a- b- b\",\"d e b- b\",\"c e b\",\"c e a\",\"c e- f f+\",\"c e g\",\"e- f+ b- b\",\"d f+ b-\",\"c+ e a b\",\"d e f+ g\",\"f a- a b\",\"d e f+ b\",\"d e f+ a\",\"c d e g\",\"c d e a\",\"c d e b\",\"e- e a\",\"e- e b\",\"d e a b\",\"e- e g\",\"d f+ a- a\",\"d f+ a- b\",\"c+ e- a-\",\"c c+ a-\",\"c e- f b-\",\"c a b-\",\"c+ f a-\",\"c d a-\",\"c f+ b\",\"c e- a- b\",\"e- f g a-\",\"c f+ a\",\"c f+ g\",\"e f+ g a\",\"c e- a- a\",\"e- e b-\",\"d f+ b\",\"d f+ a\",\"d f+ g\",\"c e- e g\",\"e a- a b\",\"f g a b\",\"c+ g a-\",\"f+ b- b\",\"c+ d f a-\",\"d e f b-\",\"c+ d a b\",\"e g a b-\",\"c g a b\",\"c e- a\",\"c e a b-\",\"c e- b\",\"c e- e\",\"d e- g b-\",\"c e- g\",\"c e- f\",\"c+ f+ b- b\",\"c f f+ a-\",\"c+ g a\",\"c c+ e- b-\",\"c+ a- b-\",\"c+ f+ g b-\",\"c c+ f+ a-\",\"e- f a-\",\"d e g a\",\"e- f a b-\",\"d e g b\",\"c g a-\",\"d a- a b-\",\"c f f+\",\"d e- a- b-\",\"f+ a b-\",\"e f a-\",\"e f+ g b\",\"f f+ a- b-\",\"d f+ a-\",\"c c+ e\",\"c c+ d\",\"c c+ g\",\"c c+ f\",\"c c+ a\",\"e- g a-\",\"c+ e- f+ b-\",\"c e- f+\",\"c g a- b-\",\"e- a- b-\",\"f a b\",\"c+ f+ a\",\"c+ d f b\",\"c a b\",\"c+ f+ g\",\"c+ e b- b\",\"d e- a\",\"d e- b\",\"d e- f\",\"d e- g\",\"f a- b\",\"c c+ e-\",\"d g a- b\",\"c+ d a- b\",\"e f g b-\",\"c c+ e g\",\"c f a- b-\",\"c c+ e a\",\"c+ f a- b\",\"c+ f a- a\",\"c+ f+ a b-\",\"c a- a\",\"c a- b\",\"c+ f+ b\",\"c d a- b-\",\"c+ e f+ a-\",\"d f g b\",\"c+ f f+\",\"e f+ a-\",\"c+ f g b-\",\"d f a- b-\",\"d f g a\",\"e- f+ a\",\"e- f+ b\",\"e- f+ g\",\"c+ d e b\",\"c+ d e a\",\"c+ d e g\",\"c+ e- f+ b\",\"c+ e- f+ a\",\"c+ e- b-\",\"c+ a- b\",\"c e- f+ b-\",\"c+ d f a\",\"d e a- b-\",\"d e b-\",\"c d f+\",\"c+ f+ g a\",\"d e f\",\"d e g\",\"d e a\",\"d e b\",\"c d f a-\",\"c+ e a b-\",\"e a- b-\",\"e- e a b\",\"e g a- b\",\"c+ e- f+ a-\",\"d g b-\",\"d f+ g b\",\"d f+ g a\",\"e- a b\",\"c+ f b\",\"c+ f a\",\"e- e a- b\",\"c+ f g\",\"e- f f+\",\"d e f+\",\"e- g a b\",\"d e- f a-\",\"c+ d f+\",\"e- f+ a- a\",\"e g a-\",\"e- b- b\",\"c c+ g b-\",\"c+ f b-\",\"f f+ b\",\"c+ a- b- b\",\"d e- f a\",\"d e- f g\",\"c f+ g b\",\"c f+ g a\",\"d f b- b\",\"d f a b-\",\"c f a\",\"c f b\",\"c f g\",\"e f+ a- b-\",\"d e a-\",\"f f+ a\",\"c+ f+ a b\",\"e- f+ a- b\",\"c d f b-\",\"d e- a- b\",\"c e g b-\"],\"x\":[-17.295228943778916,-28.197199466829296,-18.74008532073437,-25.805569185109224,-12.222116276558793,-2.4894950645667286,-9.247003674708262,-13.659615402550605,-8.298211168305171,-2.222349278851977,-7.695210055507827,-3.0884629484465584,-18.01848626639238,-25.361921677894788,-18.612295481259842,-15.811976467332837,-21.56379959548223,-12.924478404212957,-12.512678690608851,-6.505292807101031,1.1919705495220734,-9.663316204393249,-4.040452922244188,-3.340641720703899,-11.34351996411875,-12.11117993858833,-10.237743240747221,-15.808855321106119,-12.020418425869513,-18.1259668189878,-10.099790519568913,-15.242715232148381,-15.972895523241979,-20.848559926934943,-12.38164750966065,-12.016517560616109,-14.865870855043529,-18.50386291502294,-10.829064150253695,-11.506306348524522,-13.1417522810836,-10.953287598899083,-26.43657418692009,-11.451532958572345,-10.028189490974144,2.6157674361684204,-17.28413368851745,-10.763392242822544,-10.060047753011268,-23.276080784592427,-23.77584390439081,-9.376529691425121,-0.42017055990161273,-22.16699172557549,-16.92576351208713,-2.196084521602631,-8.084814154796563,-10.87535431966447,-15.520348907716858,-22.83196181933531,-12.355602743120478,-12.042166109912845,-8.588319343721171,-12.055537787531994,-1.3687976932249397,-13.936530978755599,-4.129284931708815,-23.419201263838723,-12.583704703761757,-6.693459153220436,-5.85059279970829,-1.3945238351449587,-21.547399956607062,-13.387163871342395,-15.312106841419764,-27.344723290698155,-20.523000155656455,-28.762081673491604,-23.177793569564617,-13.955326748242715,-24.883990447523885,-24.688361363714492,-22.336312523997123,-22.019601177435096,-12.276301226398768,-7.873337047655864,-14.918333818007113,-16.382335946140934,-6.485559841559892,-12.387898121378242,-13.173903076649523,-19.868369990819108,-20.864959718249203,-18.480565877924693,-9.060121281690991,-29.333544455603437,-11.765014810658034,2.818110245679193,-13.909990932817712,1.0617031722159538,-24.585770577625993,-14.857778787803104,-2.633868119074896,-18.67591597780931,-1.8027188943942647,-10.82934776154474,-11.748087806596617,-9.91401276902904,-16.693737150583804,-21.359858818681516,-16.655804233780245,-12.161422219288541,1.2209064048128107,-13.565883407770313,-1.2077660312178238,-24.444733472442167,-5.959227380856482,-2.907504664366453,-2.6264905721370932,-1.289509195211023,-21.423276026393633,0.4375119840370515,-26.24396693681674,-7.270790859369947,-27.84399260711986,-8.204250446297062,-22.211049368975694,-9.464564374401066,-16.056194418849746,-4.41758064645298,-25.200628260662466,-25.46489714642308,-18.316882688994458,-25.83844209998322,-16.393862284674494,-26.5121146629944,1.4834342239765719,-19.50668552007706,-20.6389025366001,-13.285515365488282,-17.117399066313304,-14.994158544372807,-16.966314689032163,-17.841518855959517,-24.79590007294615,-26.683890644658483,-21.85499716750326,-14.870261645639394,-20.380620685150348,-12.001733725163525,-4.057174071071982,-1.3346436712005065,-2.35408163291343,-12.267637098741169,-14.494982760466785,2.861911085819342,-3.5918702111830596,-12.495784418823138,-14.091649317188073,-11.428287018978587,-16.073559767976473,-21.928563114390943,-25.36917754795867,-21.983623116166473,-24.435222460140302,-21.762099397338353,-6.900037723756493,-8.713739996057647,-12.922578829526163,-15.942888373485108,-10.166102404030555,-16.741305282472712,-25.59119902063577,-1.413943343598842,-7.542747606037368,-15.085529492265662,-25.296951983012377,-7.05251273013849,-3.60500694938083,-10.963440340571236,-24.814582346020337,-17.614066925345313,-9.910316740944076,-4.747947118528584,-2.4295502092059165,-15.413640403241303,-25.736196830300003,-18.657664541744303,-23.364527847739105,-19.48459115920897,-8.388746685986366,-12.75738363138781,-13.05266025144949,-15.120250747838897,-17.59518317393519,-22.535917667193768,2.778248070452519,-11.125286183147988,-15.805670557137102,-16.895205225771956,-0.6525602711554399,-24.098493270556386,-27.827157424385938,-17.434386114561715,-9.36753439714666,-9.038031617307405,-14.779122437421213,-5.94259368763626,-1.3875603375275933,-0.5351035258913204,-23.585903495500045,-11.55955290936276,-6.350233975509361,-16.146202630874736,-16.90144170427294,-2.5685526606246514,-10.76886592586174,-25.234565134147417,-22.34747258361553,-21.628557259875027,-17.679536113264987,-10.867064684594244,-10.222824782680995,-7.352922921820835,-24.451693594283142,-12.703389105361516,-16.036233609626503,-15.093160205835815,-14.592707810139068,-20.20584418244722,-11.54414673252674,-21.62632341645613,0.9360249444671598,-1.3730835641938322,-22.512001369751136,1.302437799998041,-1.5662642374528137,-20.1737385245823,-16.644966505984524,-18.34698648535795,-15.978527872831531,-14.924033926499144,-26.818666539057663,-1.9858879615390426,-7.292292664425737,-7.892862182968429,-8.522751132277406,-10.714389776627605,-4.802822039436678,-15.296523082629655,-23.85565340219181,-14.668139462315262,-27.020794125772458,-24.47131561073697,-16.924679232043562,-2.37576297755827,-12.983154492654329,-23.661144338111804,-3.4613273147580257,-18.854689063845893,-22.92427256085438,-0.37360666310723156,-16.723227959813542,-11.268447664181382,-1.8713496743278653,-13.144891693234765,-9.045789762456707,-9.779786659999766,1.7493687438547734,-26.485144830895866,-10.225373558293294,-26.797286508293325,-0.6516366668348734,-7.998993249633925,-3.9161760159422956,-20.770497524016953,-23.57754468643307,-9.24734316276336,-24.11054324734494,-14.428255252286588,-24.32272119298768,-16.547693089334224,-15.234109207297854,-3.7562807660543336,2.7057366108639056,-26.487789232309524,-21.851086861935194,-23.92849587999424,-15.166135826496628,-6.240313427005843,-2.417883557034898,-18.893672312243,-22.523885418444358,-22.792797177812727,-8.3122878433051,-21.43530839091918,-6.588400128355264,-14.335064689223,-28.54680685944252,-22.11977894822943,-16.827697172455117,-23.958079030207333,-25.991416232206284,-21.153430391535096,-22.46291596899192,-21.07871220812102,-25.224342530130336,-22.59664874790707,-23.198112168449565,-11.89498963278625,-21.92231935043416,-20.674811194546564,-0.5494361499269359,-3.2785019671160063,1.2306462184647429,-10.56988326798456,-9.918112884144106,-7.236072107034349,-16.657036616184005,-1.1509168188481151,-8.550006545722287,-23.890433129035202,-20.191536614231016,-21.877255254523117,-10.733152925410995,-9.412951559386265,-26.646076006091405,-24.93009995052551,-23.295740133865692,-18.332321427120824,-21.456196566482117,-16.677705063827833,-10.163127245798144,-17.06229639366819,-15.32451384306688,-7.596435633553067,-15.254821298518914,-12.971106109011215,-12.137668072020332,-7.260617614646982,-20.146796132235202,-11.065722031870159,-7.574396575687325,2.6407186929578836,-4.367874328804002,-0.5586991615374028,-13.003727344663776,-11.230256166300915,-27.27955143736614,-3.86729724380418,-3.440941195582239,-13.280940114288255,-11.5124442824486,-1.8555122261074954,-26.053927287505346,-0.7274372907494713,-24.850304689559707,-6.899264040855419,-6.4689004101451175,-11.4225609423472,-3.297770338909932,-13.198897167472602,-12.360060051260128,-23.500056768662315,-8.868265617466323,-23.148028483277486,-17.837720511327127,-17.16724912175483,-14.084070907211576,-8.878195278758774,-12.83851706932557,-2.6870435711600043,-12.336550638489928,-10.367294133750944,-8.070572192872504,-1.2616130883635295,-11.76113821010455,-24.298239139938797,-14.635801335805057,-21.09601165443145,-15.026967950952091,-19.043094091521386,-10.709746722791033,-12.056687408662816,-4.015765159956347,-3.403904044082199,-12.717370965498262,-1.7656803868931046,-26.036975421796082,-15.724615978461799,-14.783255256245765,-13.06454396385693,0.3224910531524331,-20.329365800691523,-10.00942869913042,-11.8304162276497,-12.89255219480981,-13.432626150470204,-11.005037613748698,-15.449722925523325,-6.444979222560651,-16.36098924106459,-18.64890620576586,-11.878265157059406,-18.875638464525238,-6.7793228621105115,1.0600489510384234,-17.90471292239295,-13.603561850181563,-16.654212346433564,-17.6402967964023,-16.204086837979645,-25.70288692750376,-25.286365154877686,-16.89239522286479,-15.066894601039037,-1.3883847553034132,-9.70360379075737,-6.896440659015433,-18.174685002014765,-0.9688711616756096,-11.229202005795008,-23.315214881858992,-21.94060269922075,-19.579502906057165,-25.49393839195468,-26.80495543314024,-25.126812011029294,-9.737529332788448,-13.537194372157636,-23.499839112291006,-25.849619364594677,-16.783042481491925,-8.536967574432362,-19.445727340082808,-26.60381513465802,-24.27338612863673,-21.223335207354143,-10.552483571864219,-9.699288379883937,-23.77563499394737,-9.627343273415397,-4.252868842546216,-26.980837847985782,-19.896137803595565,-0.6174252839891735,-27.297515664018963,-14.543450837410372,-14.986601190534472,-6.835983835062905,-12.722466521834875,-8.554106050843979,-17.181896543925028,-8.164931367593992,-8.70246572944197,-16.70974605448484,-15.728761783733399,-22.128613921153296,-9.84293540308155,0.8688930204849246,-14.725652366239496,-21.30900795458219,-22.891609676388857,-17.096971318701307,-26.337657879297684,-12.198964778055949,-21.47278387048776,-16.211879089852427,1.3279096135251576,-4.274265624654863,-12.910422687013993],\"y\":[19.60824870328218,20.15556906056982,23.239162990199134,10.346982540860946,10.394956126753632,12.974436108638976,8.968063997948972,11.823011425765284,9.646313281496841,2.8766143507017636,0.2969625610060196,2.3625136443704235,16.02507198035123,20.25567661924116,2.8216535097715623,25.57012739830365,3.8435007499477405,7.6398801522835225,1.7682019498144248,10.71683600122798,-0.29658436784969144,6.162567191125249,-6.567489891607681,14.567334594584464,16.872368517570276,21.070435042003833,-4.012907727100213,6.117738351983218,27.417186393697982,-3.780035281918165,-3.632847296205277,18.88911077540899,6.152682704303427,25.80903563697702,-0.5219625306037614,10.73816852083881,3.6509118575091652,-3.1807575669014545,-2.325233694545923,21.887616022014384,22.84153139859483,13.973476819167963,10.208578536685291,4.135693337268362,8.187148723510884,10.15519412591797,23.689260688896436,-0.49009859907392406,12.187285559387693,25.28375735093974,4.665028364029353,17.121070884483476,6.276923562669576,8.486623219755685,19.893788620269945,-6.172713270403472,8.223760238851035,22.59737185243594,25.524006387317844,21.746480130606734,2.7322408389380057,16.99911646898975,20.728507467740876,5.770163365248642,3.6591504917404647,21.99626081267836,1.0559415493290554,11.29024213183695,12.835801843052401,12.972083074154133,5.68131484057169,14.973828924603557,21.89919094934788,13.734042107233048,14.293500528380017,12.820822077813219,-3.426297924268868,9.921701170817991,23.61930754629251,17.704256346040207,24.415757070381943,22.12411356500759,7.791709493328875,7.363426828633052,-5.341608042977765,12.003832113810383,12.071504975607567,21.85394787999089,16.63547847533797,13.879083595557034,15.969854112778215,3.155308865223421,2.3530176779227716,0.6634445127780518,-1.420976658129327,20.13470074088801,12.320600264540854,10.206827651888046,12.487291775568915,8.503404418492467,22.054696172005084,-0.7953723692422769,4.27959340612462,5.9803482352592106,3.2231552102267895,9.587910885170876,7.505937726321335,-4.1510144480276585,23.69849928139086,6.3414724717009205,13.903375185912092,0.6661056780206591,1.836747732168723,8.941690547092985,10.100142733308202,4.455481396752837,9.650831511109875,12.279502463513714,1.9613019225161707,9.6581879028025,13.489720228958705,2.837468657047657,2.9279095364151844,20.060882068598822,12.483612421017597,1.166518315380217,23.257701209539643,25.716987656866994,9.354293175264601,9.42481202802449,13.81682262241888,14.96699102320267,16.083907097072654,16.791014603179647,12.849549283844098,14.14235563623999,3.415584016230913,17.811404923647277,3.7728159997785884,-1.944215352610216,15.236712476285557,15.719782150319006,16.01657491964602,17.711120790347504,22.176750283026394,2.678543708336924,9.227447227860583,-6.081253919649674,14.119689953077534,8.478385636751236,-6.7047622336825965,2.797430683572374,18.268363216641767,-5.64392457365049,-3.8864451432073692,9.004114315871902,20.564275067716277,12.543255548074113,15.25099714439967,8.135967385469332,16.912110138298075,6.550439162106535,5.931622800363149,24.590425871996988,4.376775378287349,5.205558116869606,7.512825681764225,16.563389511691604,11.604725214591442,8.683276964524921,19.721728743958018,14.526346103322366,18.783267631523252,17.094804853683634,18.819085920344612,16.8110738253739,22.10498948636889,17.774936539219247,8.52893661723338,14.894766899325653,21.162283909339475,25.20252399606503,-0.8542029146639135,16.221557656083625,14.413641901731582,7.870043994927348,22.965120404452925,8.6269441372793,18.920374108804975,22.01491498554121,1.6873731740485671,-2.662364717426173,11.642392305568277,18.000811524200437,-0.7337529250271279,22.516665077742996,9.701771369086783,10.978397230167662,10.509218995069002,7.724719469386136,13.382017545067303,11.595454453587987,12.182555941478917,17.398367757030492,3.4080125060265427,9.697488991420533,-4.758613164658675,16.125994245014027,4.238412992897171,7.852822935551501,23.220170830960498,7.063517771985059,-0.6862667445612394,3.0200794809139673,3.501069056043633,18.359285211388517,6.086161709522295,12.609374288451125,13.106013740780119,9.633140340137494,19.632999971346464,5.5293262663034675,19.104148729719093,16.192782325433992,21.293680267565747,5.945455636522801,9.878597688680102,-0.40469976698213667,-4.353080854975199,7.495167488211843,-3.3750057477543356,16.434542792311976,8.491882064451566,1.6269402541044768,9.338590899826313,13.361574157346382,16.624334070199836,26.10550826587497,24.869991965798373,19.41979308022887,9.975850480944608,10.911694687999892,12.311881843413891,8.448858366541803,10.636326377228716,1.3482182444907482,21.15349347039842,0.9291212063899363,-2.826338480286808,-2.1152072875299517,2.8057451860505047,11.868956987178448,17.265378769729537,24.14407155615129,20.54467874607952,13.627621723450643,5.523794779818736,13.609802599351035,15.795378972594989,-2.9959278839819765,-4.894959232660629,13.292111023916462,1.629075403338935,19.04594949482853,11.11151302683877,13.152728849646582,5.049178511437672,18.57299108789245,12.981107199004622,3.559166543630254,8.85420161065651,4.8482261137073195,-1.821338615699664,20.334095819705716,5.619830584633546,11.539377218907498,10.609279474270712,-5.974927946091303,-0.30462633855881277,9.521640643804384,20.073896802275264,3.415244602360372,13.277118259816021,15.504287965474433,8.996701016418879,11.044830718091621,8.688795755036843,14.106396520475316,21.545487175957504,12.503206674304757,7.8362487511573695,15.112900890067223,5.564183337993307,5.130303276261341,6.523349232313365,2.270233972896213,10.776164809278034,7.960609358396822,20.82789023867153,12.056720592893921,14.110474651769353,17.74334351461674,13.860823288543752,1.1496253359440431,8.67640706268858,17.84663464847586,22.249304065007937,24.471798175142446,17.477349548319193,15.389817900998025,13.027200295713298,23.391779568096528,16.656411399776644,14.683347611706852,-0.871556582682242,5.385093386132249,19.23185423861745,-0.39708029664871525,12.380126627351098,13.191926485896344,10.62490167520422,7.731018041825939,6.540901740584423,11.84504937311229,15.338153059328892,11.963367605466168,14.8607185904633,13.403890042827761,12.16788217317043,7.843087565579211,26.944074793679953,12.180031812319076,15.340125887106854,19.174811907827248,13.924208557354149,6.152316677988012,14.64157352550969,9.970934288322711,12.229204852413975,6.361970604922778,15.63950257532691,14.089118430358193,6.746333906071404,9.435484903632986,-6.872382959222065,0.27116775131526105,22.253066643972755,18.139532782741693,12.656127933898134,16.546605893335318,18.623061473379675,13.935430080665553,19.3706313436011,6.760323954230017,12.819761643697758,3.4676883347532534,11.604554615244252,-0.6084228086900504,12.260578637587281,9.036910461617044,13.84425029206637,12.615781723931802,2.308005331972801,12.872507980849798,12.910768180996177,13.391987990998846,10.526999582499501,11.63839578938799,1.930092003199074,4.403648354225736,11.331604639742215,11.259566593996205,21.417061995271137,17.874895207606627,0.4174954687539425,10.296604205166597,4.4849638873474476,15.450723497466216,12.664254088234443,10.186309777559579,13.3878015174546,24.66045628219665,9.575960285088211,13.605151715486796,5.672944263832097,9.675821146725875,18.87734493748744,16.11977009666549,3.0924368488395264,17.45211937128166,-3.722218267181477,2.8177454667833546,7.596179599578834,15.227304205621593,24.51129757546706,17.025569306135473,20.9450723459543,15.679473506201536,13.799936212229335,23.417302782814264,12.29789690259052,24.407248456011853,3.388047664365184,22.5814251599415,19.884748102442778,-3.9057322385688518,8.351686087999608,3.998710669502086,16.29253041262315,22.71379805187384,9.089451331389382,14.906276550557735,16.91074900190663,12.695773801979975,22.163855490737333,19.24122374624046,17.398105828912488,25.2771615074913,8.825817917771808,4.242589863972132,8.313809315241071,7.736649015254922,8.692775091212404,12.98521330173648,12.889946650944198,9.631055313755446,16.789169353801555,17.853152591854684,-4.086720024399458,13.138444837710104,23.87430331274995,22.87696271371673,18.677304783818908,20.940650892885422,-2.2112420458686346,4.64297350757532,12.99767204200157,25.92466523874731,22.02798808403913,6.8922023600551405,24.889022418192276,-0.8132421966349989,22.389523334691543,14.687124605176802,19.57269939216678,4.38132960193495,15.324179025259044,20.248876942228943,9.684344665960282,16.1383897478206,0.5971468239953103,3.511408475230993,19.077812785172515,25.625144001694593,9.26674843960112,7.882084837049067,11.864205720740024,9.989322949733971,9.47518450992438,1.4979625072158211,-0.6499839648307699,4.6436086147080715,1.005075916091186,17.31976260856525,19.071665466027177,5.796024980419383,23.77231782155936,21.99534285953485,1.656512971222111,15.690982849375873,-4.100018778667233]}},\"id\":\"81903e07-3a6c-4726-a314-ffc909145f99\",\"type\":\"ColumnDataSource\"},{\"attributes\":{\"callback\":null,\"plot\":{\"id\":\"e2f70718-8e0e-453c-9033-8dbb98c836df\",\"subtype\":\"Figure\",\"type\":\"Plot\"},\"tooltips\":\" @label \"},\"id\":\"a3c8bab4-85a3-41d8-ac6a-cfe8cfb3a4ef\",\"type\":\"HoverTool\"},{\"attributes\":{\"plot\":{\"id\":\"e2f70718-8e0e-453c-9033-8dbb98c836df\",\"subtype\":\"Figure\",\"type\":\"Plot\"}},\"id\":\"af351b7f-77aa-4c10-989b-c9ac7b851606\",\"type\":\"WheelZoomTool\"},{\"attributes\":{},\"id\":\"67b5e183-3b40-43af-9a9c-7acbd446b94e\",\"type\":\"BasicTickFormatter\"},{\"attributes\":{\"plot\":{\"id\":\"5db259e8-80fb-4a8c-be17-31bf175aa673\",\"subtype\":\"Figure\",\"type\":\"Plot\"}},\"id\":\"0e648b77-d308-42fd-9f65-43504da17588\",\"type\":\"ResizeTool\"},{\"attributes\":{},\"id\":\"78cf68a8-fa20-4b8c-a344-4c6e32b519b2\",\"type\":\"BasicTickFormatter\"},{\"attributes\":{\"data_source\":{\"id\":\"81903e07-3a6c-4726-a314-ffc909145f99\",\"type\":\"ColumnDataSource\"},\"glyph\":{\"id\":\"a1f2f167-5c81-4de9-b3c7-4ac8eebaa19c\",\"type\":\"Circle\"},\"hover_glyph\":null,\"nonselection_glyph\":{\"id\":\"e0056684-e3f1-4b05-9802-076abac96630\",\"type\":\"Circle\"},\"selection_glyph\":null},\"id\":\"b16d0c60-71bb-41e7-9cd8-924e35a308c8\",\"type\":\"GlyphRenderer\"},{\"attributes\":{\"callback\":null,\"plot\":{\"id\":\"5db259e8-80fb-4a8c-be17-31bf175aa673\",\"subtype\":\"Figure\",\"type\":\"Plot\"},\"tooltips\":\" @label \"},\"id\":\"4ed09f53-dbe1-4e37-bf31-88b861fd1407\",\"type\":\"HoverTool\"}],\"root_ids\":[\"e2f70718-8e0e-453c-9033-8dbb98c836df\",\"5db259e8-80fb-4a8c-be17-31bf175aa673\"]},\"title\":\"Bokeh Application\",\"version\":\"0.11.1\"}};\n",
       "            var render_items = [{\"docid\":\"2dac771a-d4b8-4e19-9ece-dd7b90ea0b9f\",\"elementid\":\"560b795b-925a-4620-b218-589f7e9f9419\",\"modelid\":\"5db259e8-80fb-4a8c-be17-31bf175aa673\",\"notebook_comms_target\":\"8e71f049-1b5e-42bd-a217-3151d54ba7b2\"}];\n",
       "            \n",
       "            Bokeh.embed.embed_items(docs_json, render_items);\n",
       "        });\n",
       "      },\n",
       "      function(Bokeh) {\n",
       "      }\n",
       "    ];\n",
       "  \n",
       "    function run_inline_js() {\n",
       "      for (var i = 0; i < inline_js.length; i++) {\n",
       "        inline_js[i](window.Bokeh);\n",
       "      }\n",
       "    }\n",
       "  \n",
       "    if (window._bokeh_is_loading === 0) {\n",
       "      console.log(\"Bokeh: BokehJS loaded, going straight to plotting\");\n",
       "      run_inline_js();\n",
       "    } else {\n",
       "      load_libs(js_urls, function() {\n",
       "        console.log(\"Bokeh: BokehJS plotting callback run at\", now());\n",
       "        run_inline_js();\n",
       "      });\n",
       "    }\n",
       "  }(this));\n",
       "</script>"
      ]
     },
     "metadata": {},
     "output_type": "display_data"
    }
   ],
   "source": [
    "myplot(source=source, title='tSNE(word2vec) on corpus (3 or 4 note only)')"
   ]
  },
  {
   "cell_type": "markdown",
   "metadata": {},
   "source": [
    "What about only triads that have a C in?"
   ]
  },
  {
   "cell_type": "code",
   "execution_count": 18,
   "metadata": {
    "collapsed": false
   },
   "outputs": [
    {
     "data": {
      "text/plain": [
       "(610, 54)"
      ]
     },
     "execution_count": 18,
     "metadata": {},
     "output_type": "execute_result"
    }
   ],
   "source": [
    "q_words = [x for x in model.vocab.keys() if (('c ' in x) & (len(x.split(' ')) == 3))]\n",
    "q_indices = [words.index(x) for x in q_words]\n",
    "\n",
    "len(words), len(q_words)"
   ]
  },
  {
   "cell_type": "markdown",
   "metadata": {},
   "source": [
    "OK, this time it's only 54."
   ]
  },
  {
   "cell_type": "code",
   "execution_count": 19,
   "metadata": {
    "collapsed": false
   },
   "outputs": [
    {
     "data": {
      "text/html": [
       "\n",
       "\n",
       "    <div class=\"plotdiv\" id=\"67b9420d-02d2-4684-a5e9-38a60e4490c6\"></div>\n",
       "<script type=\"text/javascript\">\n",
       "  \n",
       "  (function(global) {\n",
       "    function now() {\n",
       "      return new Date();\n",
       "    }\n",
       "  \n",
       "    if (typeof (window._bokeh_onload_callbacks) === \"undefined\") {\n",
       "      window._bokeh_onload_callbacks = [];\n",
       "    }\n",
       "  \n",
       "    function run_callbacks() {\n",
       "      window._bokeh_onload_callbacks.forEach(function(callback) { callback() });\n",
       "      delete window._bokeh_onload_callbacks\n",
       "      console.info(\"Bokeh: all callbacks have finished\");\n",
       "    }\n",
       "  \n",
       "    function load_libs(js_urls, callback) {\n",
       "      window._bokeh_onload_callbacks.push(callback);\n",
       "      if (window._bokeh_is_loading > 0) {\n",
       "        console.log(\"Bokeh: BokehJS is being loaded, scheduling callback at\", now());\n",
       "        return null;\n",
       "      }\n",
       "      if (js_urls == null || js_urls.length === 0) {\n",
       "        run_callbacks();\n",
       "        return null;\n",
       "      }\n",
       "      console.log(\"Bokeh: BokehJS not loaded, scheduling load and callback at\", now());\n",
       "      window._bokeh_is_loading = js_urls.length;\n",
       "      for (var i = 0; i < js_urls.length; i++) {\n",
       "        var url = js_urls[i];\n",
       "        var s = document.createElement('script');\n",
       "        s.src = url;\n",
       "        s.async = false;\n",
       "        s.onreadystatechange = s.onload = function() {\n",
       "          window._bokeh_is_loading--;\n",
       "          if (window._bokeh_is_loading === 0) {\n",
       "            console.log(\"Bokeh: all BokehJS libraries loaded\");\n",
       "            run_callbacks()\n",
       "          }\n",
       "        };\n",
       "        s.onerror = function() {\n",
       "          console.warn(\"failed to load library \" + url);\n",
       "        };\n",
       "        console.log(\"Bokeh: injecting script tag for BokehJS library: \", url);\n",
       "        document.getElementsByTagName(\"head\")[0].appendChild(s);\n",
       "      }\n",
       "    };var element = document.getElementById(\"67b9420d-02d2-4684-a5e9-38a60e4490c6\");\n",
       "    if (element == null) {\n",
       "      console.log(\"Bokeh: ERROR: autoload.js configured with elementid '67b9420d-02d2-4684-a5e9-38a60e4490c6' but no matching script tag was found. \")\n",
       "      return false;\n",
       "    }\n",
       "  \n",
       "    var js_urls = [];\n",
       "  \n",
       "    var inline_js = [\n",
       "      function(Bokeh) {\n",
       "        Bokeh.$(function() {\n",
       "            var docs_json = {\"864ce3cf-a27f-4714-9762-d25904e2dfaa\":{\"roots\":{\"references\":[{\"attributes\":{},\"id\":\"f4f362f8-11ec-441b-aacb-e63f3e566c8f\",\"type\":\"BasicTickFormatter\"},{\"attributes\":{\"overlay\":{\"id\":\"ce557692-a174-41f3-a35a-fa9a71b122b2\",\"type\":\"BoxAnnotation\"},\"plot\":{\"id\":\"5db259e8-80fb-4a8c-be17-31bf175aa673\",\"subtype\":\"Figure\",\"type\":\"Plot\"}},\"id\":\"cf589a81-5ff7-4726-acd5-fc6b20b66dca\",\"type\":\"BoxZoomTool\"},{\"attributes\":{\"fill_color\":{\"value\":\"#1f77b4\"},\"line_color\":{\"value\":\"#1f77b4\"},\"line_width\":{\"value\":2},\"x\":{\"field\":\"x\"},\"y\":{\"field\":\"y\"}},\"id\":\"a1f2f167-5c81-4de9-b3c7-4ac8eebaa19c\",\"type\":\"Circle\"},{\"attributes\":{\"data_source\":{\"id\":\"90fa74dd-e465-4b60-9081-05e555703f93\",\"type\":\"ColumnDataSource\"},\"glyph\":{\"id\":\"278abd37-e207-4f33-964d-b05263e306f1\",\"type\":\"Circle\"},\"hover_glyph\":null,\"nonselection_glyph\":{\"id\":\"d289a7b9-7556-40fe-90ae-db92100b3ed6\",\"type\":\"Circle\"},\"selection_glyph\":null},\"id\":\"b747c8c9-0cd5-4bdc-ae78-4ad55661e342\",\"type\":\"GlyphRenderer\"},{\"attributes\":{\"plot\":{\"id\":\"e2f70718-8e0e-453c-9033-8dbb98c836df\",\"subtype\":\"Figure\",\"type\":\"Plot\"}},\"id\":\"f9f88d90-c27f-46ea-af98-59dd0610ceb7\",\"type\":\"ResizeTool\"},{\"attributes\":{\"callback\":null,\"column_names\":[\"y\",\"x\",\"label\"],\"data\":{\"label\":[\"e- e a-\",\"c+ e a\",\"c+ e b\",\"c+ e g\",\"c+ e f\",\"c e- a- b-\",\"e- f a b\",\"f a- a\",\"f b- b\",\"f+ g\",\"f+ a\",\"f f+ b-\",\"f+ b\",\"d e-\",\"g a- b-\",\"c d b-\",\"d e f a-\",\"c+ e f+ a\",\"c d f g\",\"c+ e f+ b\",\"c d f b\",\"c d f a\",\"c c+ e b-\",\"f+ a-\",\"c d e a- b\",\"e- f f+ b-\",\"c e- f a\",\"c e- f b\",\"g a\",\"c e- f g\",\"c+ e g a b-\",\"c d e f g\",\"c c+ e- a-\",\"e- e f+ a b\",\"c e g a b-\",\"f f+ a-\",\"c c+ f+ b-\",\"e b-\",\"c f a-\",\"d f g a b\",\"c e f\",\"c+ f+ a- b-\",\"d g a b-\",\"c e f a-\",\"e- e f+\",\"e f g\",\"f+ a b\",\"c d e b-\",\"c+ d b-\",\"e f a\",\"c d g b-\",\"c f g a-\",\"c e- e f+ a\",\"f+ a- b-\",\"c+ f+ b-\",\"d f+ a b-\",\"g a b\",\"f a b-\",\"c+ d f b-\",\"e- g a- b-\",\"c e-\",\"e- b-\",\"c+ g b- b\",\"c+ e- g a- b-\",\"e g b-\",\"c e- f+ a- b-\",\"g a- b\",\"c+ d\",\"c e- e a\",\"c e f g\",\"c d f+ a- a\",\"c+ e- f a- b\",\"c+ e- e f+ b-\",\"c+ a\",\"c b-\",\"e- f+ a- b-\",\"d f a-\",\"c d e- a\",\"c+ e- e a-\",\"c d e- g\",\"c d e- f\",\"d a-\",\"c+ e- f+\",\"c+ e f+ b-\",\"c+ a- a\",\"c e g a-\",\"c+ f g a-\",\"e- f f+ a-\",\"c c+ f a\",\"d e- f a b-\",\"c e- a b-\",\"c+ d f+ b-\",\"d a b-\",\"f+ g a\",\"d e- f+ a\",\"e- e g b-\",\"c d e-\",\"c e- a-\",\"c+ e a-\",\"f+ g b-\",\"c+ d f+ b\",\"c+ d f+ a\",\"d e g b-\",\"f+ g b\",\"e f+ a- b\",\"c c+ f+ a\",\"e a- b\",\"e a- a\",\"c g a\",\"c g b\",\"c+ e f b-\",\"a- b- b\",\"d g a-\",\"f+ a- b\",\"e- a- b\",\"e- a- a\",\"f+ a- a\",\"c e g b\",\"c e g a\",\"c d f\",\"e g a- b-\",\"d g\",\"c+ e a- a\",\"e a-\",\"d f a- b- b\",\"c+ a b-\",\"e- f+\",\"c e- f f+ a\",\"c e- g b-\",\"d e- f g b\",\"c e- f+ a- a\",\"d e- f+\",\"e- f a- b-\",\"c+ a b\",\"c e- f+ a b\",\"e- e\",\"c f g a\",\"d e- b-\",\"c f g b\",\"e- f b-\",\"e- f+ g b-\",\"c f a- a\",\"c f a- b\",\"c+ e a- b-\",\"c e f+\",\"c+ d e g b-\",\"e a b-\",\"c e a-\",\"d e- f b-\",\"c+ e- g a b-\",\"g b\",\"c+ d e g a\",\"c e- f+ a\",\"d a- b-\",\"c e- f+ g\",\"e- f+ b-\",\"e f\",\"e g\",\"d e- a-\",\"e b\",\"e a\",\"e- a b-\",\"f a- b-\",\"c+ e f a\",\"d f b-\",\"d g b\",\"c f+ a-\",\"d g a\",\"c e- f+ g a\",\"d f+\",\"g a b-\",\"c+ f+ a- a\",\"c+ f+ a- b\",\"e- g b\",\"e- g a\",\"d f+ a b\",\"c+ d a\",\"c+ d b\",\"c+ d e\",\"c+ d f\",\"c+ d g\",\"c e- f+ a b-\",\"d f g b-\",\"c c+ e- f+ a\",\"c e f+ a\",\"c e f+ g\",\"c g b-\",\"c e a- a\",\"c e a- b\",\"c f+ a b\",\"e f+ g b-\",\"a- a b\",\"c d g b\",\"c d g a\",\"a- b\",\"f g b-\",\"a- a\",\"c+ e g a-\",\"c e- g a\",\"c e- g b\",\"d f f+ b-\",\"c+ e- g b-\",\"c+ f\",\"c+ g\",\"c+ f f+ b-\",\"c+ e\",\"c+ b\",\"c+ d f a- b\",\"c e f b-\",\"e- g a b-\",\"c c+ e- g\",\"c c+ f+\",\"c c+ e- a\",\"e- f f+ a\",\"e- f f+ b\",\"c d b\",\"c d a\",\"c+ e a- b\",\"c d g\",\"c d e\",\"c e- e f\",\"c+ e- e\",\"c d e- f+ a\",\"e f g b\",\"e f g a\",\"c+ f+ a-\",\"c+ a-\",\"d e a- a\",\"d e a- b\",\"d e f g b-\",\"c+ e- g\",\"c+ e- f\",\"c+ e f g b-\",\"c+ e- b\",\"c+ e- a\",\"e- a- b- b\",\"c c+ e- f a\",\"f a- a b-\",\"c+ b- b\",\"d a- a b\",\"e f+ b-\",\"e g b- b\",\"e- f a- b\",\"c+ g a- b-\",\"d f f+\",\"e- a- a b\",\"e f+ g\",\"e f+ a\",\"e f+ b\",\"c c+ b-\",\"c e b-\",\"c b- b\",\"c e- a b\",\"d f a- b\",\"e f+ a b\",\"d b-\",\"e- f g b-\",\"c+ f g b\",\"d e f b\",\"d e f g\",\"c d e- a-\",\"e- f+ g a b\",\"e g b\",\"e g a\",\"c e a b\",\"c d e g b-\",\"c c+\",\"c c+ f b-\",\"d b- b\",\"c f g b-\",\"c+ e- a- b\",\"c e- b-\",\"d f g a-\",\"e- e f a\",\"c f f+ a\",\"f f+\",\"f g a-\",\"d f a- a\",\"f b-\",\"f a-\",\"d f a b\",\"c d e f g b\",\"c+ e- f b-\",\"c f a b-\",\"c c+ e f+ b-\",\"d f g a b-\",\"c+ d g a\",\"d e f+ a-\",\"c+ d g b\",\"e f+ b- b\",\"e f b-\",\"c+ f f+ a-\",\"c+ e- e g\",\"c+ e- e a\",\"c e f+ b-\",\"a b-\",\"f g a b-\",\"c e f a\",\"c f b-\",\"d e f a- b\",\"c d f+ a-\",\"c e a- b-\",\"d e- f a- a b-\",\"d a- b\",\"d g a- b-\",\"e- f\",\"e- g\",\"e- f+ a b-\",\"e- b\",\"e- a\",\"c+ b-\",\"d e- f a- b-\",\"c c+ d a\",\"c+ e- f+ a b\",\"c+ f a- b-\",\"c+ e- a- b-\",\"c+ e-\",\"e- f+ a b\",\"d f f+ a- b\",\"c+ e f+\",\"c a\",\"c b\",\"d f a- a b-\",\"c d\",\"c e\",\"c f\",\"c g\",\"e b- b\",\"d f f+ b\",\"d f f+ a\",\"c+ e g a\",\"f g a- b-\",\"d e- f+ b-\",\"g b- b\",\"e- f+ a-\",\"c f+ b-\",\"c d e f+ a\",\"c+ g b-\",\"c+ e g a b\",\"f g a\",\"f g b\",\"e f a- b\",\"g a-\",\"d a- a\",\"c d e- f a\",\"e- e f+ a\",\"e- e f+ b\",\"c e- g a-\",\"c f a b\",\"c+ e g b\",\"c+ e- e b-\",\"c+ d g b-\",\"d f g\",\"c e- f a-\",\"d f a- a b\",\"d f a\",\"c c+ e- f+\",\"c a- b-\",\"c f+ a- a\",\"c+ e- f a\",\"c+ e- f a-\",\"c c+ f a-\",\"d f g a- b\",\"d g a b\",\"e- f b\",\"c d f+ a\",\"e- f a\",\"c e- f+ a-\",\"e- f g\",\"c d f+ g\",\"c+ g b\",\"c+ e g b-\",\"d f b\",\"e- f g b\",\"c+ e g b- b\",\"e a b\",\"d e f a\",\"c+ e g a- b-\",\"d f f+ a-\",\"c+ e- g a-\",\"e- g b-\",\"d a b\",\"d e- g b\",\"e g a b\",\"d e- e a b\",\"c+ e b-\",\"d f g a- b-\",\"f g\",\"f a\",\"f b\",\"e- g b- b\",\"f a- b- b\",\"d e b- b\",\"c e b\",\"c e a\",\"c e- f f+\",\"c e g\",\"e- f+ b- b\",\"d f+ b-\",\"c+ e a b\",\"d e f+ g\",\"f a- a b\",\"d e f+ b\",\"d e f+ a\",\"c d e g\",\"c d e a\",\"c d e b\",\"e- e a\",\"c d f+ a b\",\"e- e b\",\"c e f+ g b-\",\"d e a b\",\"e- e g\",\"d f+ a- a\",\"d f+ a- b\",\"c e g b- b\",\"c+ e- a-\",\"c c+ a-\",\"c e- f b-\",\"c a b-\",\"c+ f a-\",\"c d a-\",\"c f+ b\",\"c e- a- b\",\"e- f g a-\",\"c f+ a\",\"c f+ g\",\"c e f g b-\",\"e f+ g a\",\"c e- a- a\",\"e- e b-\",\"d f+ b\",\"d f+ a\",\"c c+ e- f+ a-\",\"d f+ g\",\"c e- e g\",\"e a- a b\",\"f g a b\",\"c+ g a-\",\"f+ b- b\",\"c+ d f a-\",\"d e f b-\",\"c d f a b\",\"c+ d a b\",\"e g a b-\",\"c g a b\",\"c e- a\",\"c e a b-\",\"c e- b\",\"c e- e\",\"d e- g b-\",\"c e- g\",\"c e- f\",\"c+ f+ b- b\",\"c e g a- b-\",\"c f f+ a-\",\"c+ g a\",\"c c+ e- b-\",\"c+ a- b-\",\"c+ f+ g b-\",\"c c+ f+ a-\",\"d e a- a b\",\"e- f a-\",\"d e g a\",\"e- f a b-\",\"d e g b\",\"c g a-\",\"d a- a b-\",\"c f f+\",\"d e- a- b-\",\"f+ a b-\",\"e f a-\",\"e f+ g b\",\"f f+ a- b-\",\"d f+ a-\",\"c c+ e\",\"c c+ d\",\"c c+ g\",\"c c+ f\",\"c c+ a\",\"e- g a-\",\"c c+ e g b-\",\"c+ e- f+ b-\",\"a b\",\"c e- f+\",\"c g a- b-\",\"e- a- b-\",\"f a b\",\"c+ f+ a\",\"c+ d f b\",\"c a b\",\"c+ f+ g\",\"c e- f a b-\",\"c+ e b- b\",\"c f+\",\"d e- a\",\"d e- b\",\"d e- f\",\"d e- g\",\"c d f g b\",\"c+ e f+ g b-\",\"c d f a- b-\",\"f a- b\",\"c c+ e f g b-\",\"c c+ e-\",\"d g a- b\",\"c+ d a- b\",\"e f g b-\",\"c c+ e g\",\"c f a- b-\",\"c c+ e a\",\"c+ f a- b\",\"c+ f a- a\",\"c+ f+ a b-\",\"c c+ f g b\",\"c a- a\",\"c a- b\",\"c+ e f+ a- b-\",\"c d f a- b\",\"c+ f+ b\",\"c d a- b-\",\"c+ e f+ a-\",\"g b-\",\"d f g b\",\"c+ f f+\",\"e f+ a-\",\"c+ f g b-\",\"f+ b-\",\"d f a- b-\",\"d f g a\",\"e- f+ a\",\"e- f+ b\",\"e- f+ g\",\"c+ d e b\",\"c+ d e a\",\"c+ d e g\",\"a- b-\",\"c+ e- f+ b\",\"c+ e- f+ a\",\"c+ e- b-\",\"c+ a- b\",\"c e- f+ b-\",\"c+ d f a\",\"d e a- b-\",\"d e b-\",\"c d f+\",\"c+ f+ g a\",\"d f\",\"d e\",\"d b\",\"d a\",\"d e f\",\"d e g\",\"d e a\",\"d e b\",\"c d f a-\",\"c+ e a b-\",\"e a- b-\",\"e- e a b\",\"e g a- b\",\"d e- e a- b\",\"c+ e f+ b- b\",\"c+ e- f+ a-\",\"c c+ e- g b-\",\"d g b-\",\"b- b\",\"d f+ g b\",\"d f+ g a\",\"e- a b\",\"c+ f b\",\"c+ d e a- b\",\"c+ f a\",\"e- e a- b\",\"c+ f g\",\"e- f f+\",\"c d f+ g a\",\"d e f+\",\"d e f g b\",\"e f+\",\"e- a-\",\"e- g a b\",\"d e- f a-\",\"c+ d f+\",\"e- f+ a- a\",\"e g a-\",\"e- b- b\",\"c c+ g b-\",\"c a-\",\"c+ f b-\",\"f f+ b\",\"c+ a- b- b\",\"d e- f a\",\"d e- f g\",\"c f+ g b\",\"c f+ g a\",\"d f b- b\",\"d f a b-\",\"d e- f a- b\",\"c f a\",\"c f b\",\"c f g\",\"c+ f+\",\"e f+ a- b-\",\"d e a-\",\"f f+ a\",\"c+ f+ a b\",\"e- f+ a- b\",\"c d f b-\",\"d e- a- b\",\"c e g b-\"],\"x\":[-17.295228943778916,-28.197199466829296,-18.74008532073437,-25.805569185109224,-12.222116276558793,-2.4894950645667286,-9.247003674708262,-13.659615402550605,-8.298211168305171,-26.97785754107513,-22.163037819359786,-2.222349278851977,-19.52601218329516,-5.494415348312134,-7.695210055507827,-3.0884629484465584,-18.01848626639238,-25.361921677894788,-18.612295481259842,-15.811976467332837,-21.56379959548223,-12.924478404212957,-12.512678690608851,-7.995256522301211,-19.460527052244096,-6.505292807101031,1.1919705495220734,-9.663316204393249,-27.035238572852855,-4.040452922244188,-20.20301770029646,-17.240841329861773,-3.340641720703899,-23.85625985099088,-14.976940930562034,-11.34351996411875,-12.11117993858833,-9.594290887123947,-10.237743240747221,-18.1400194650215,-15.808855321106119,-12.020418425869513,-18.1259668189878,-10.099790519568913,-15.242715232148381,-15.972895523241979,-20.848559926934943,-12.38164750966065,-12.016517560616109,-14.865870855043529,-18.50386291502294,-10.829064150253695,-14.59079471160538,-11.506306348524522,-13.1417522810836,-10.953287598899083,-26.43657418692009,-11.451532958572345,-10.028189490974144,2.6157674361684204,-6.21568414496746,-3.420601182643643,-17.28413368851745,-4.65522476982742,-10.763392242822544,-11.851894873827618,-10.060047753011268,-29.543377668302035,-23.276080784592427,-23.77584390439081,-18.558330147576985,-12.199479984280579,-11.876482460103482,-28.216665840469666,-9.131541682314179,-9.376529691425121,-0.42017055990161273,-22.16699172557549,-16.92576351208713,-2.196084521602631,-8.084814154796563,-17.08065408464061,-10.87535431966447,-15.520348907716858,-22.83196181933531,-12.355602743120478,-12.042166109912845,-8.588319343721171,-12.055537787531994,-9.88772348080698,-1.3687976932249397,-13.936530978755599,-4.129284931708815,-23.419201263838723,-12.583704703761757,-6.693459153220436,-5.85059279970829,-1.3945238351449587,-21.547399956607062,-13.387163871342395,-15.312106841419764,-27.344723290698155,-20.523000155656455,-28.762081673491604,-23.177793569564617,-13.955326748242715,-24.883990447523885,-24.688361363714492,-22.336312523997123,-22.019601177435096,-12.276301226398768,-7.873337047655864,-14.918333818007113,-16.382335946140934,-6.485559841559892,-12.387898121378242,-13.173903076649523,-19.868369990819108,-20.864959718249203,-18.480565877924693,-9.060121281690991,-25.99213444820757,-29.333544455603437,-23.039327218749033,-5.918159946669129,-11.765014810658034,-4.842811966950022,-12.732448868224319,2.818110245679193,-16.27704135448873,-12.274532688620914,-13.909990932817712,1.0617031722159538,-24.585770577625993,-19.748505506592757,-13.385466018795427,-14.857778787803104,-2.633868119074896,-18.67591597780931,-1.8027188943942647,-10.82934776154474,-11.748087806596617,-9.91401276902904,-16.693737150583804,-21.359858818681516,-19.03129849371771,-16.655804233780245,-12.161422219288541,1.2209064048128107,-5.146913302766379,-26.01720318184927,-19.861753402620874,-13.565883407770313,-1.2077660312178238,-24.444733472442167,-5.959227380856482,-15.257889959987125,-18.587893819684172,-2.907504664366453,-23.946425875731094,-28.210584954103243,-2.6264905721370932,-1.289509195211023,-21.423276026393633,0.4375119840370515,-26.24396693681674,-7.270790859369947,-27.84399260711986,-25.04944553807182,-28.796772168646285,-8.204250446297062,-22.211049368975694,-9.464564374401066,-16.056194418849746,-4.41758064645298,-25.200628260662466,-25.46489714642308,-18.316882688994458,-25.83844209998322,-16.393862284674494,-26.5121146629944,-9.459864408224437,1.4834342239765719,-12.743032145419278,-19.50668552007706,-20.6389025366001,-13.285515365488282,-17.117399066313304,-14.994158544372807,-16.966314689032163,-17.841518855959517,-24.79590007294615,-26.683890644658483,-21.85499716750326,-22.219865120671294,-14.870261645639394,-21.3906731116275,-20.380620685150348,-12.001733725163525,-4.057174071071982,-1.3346436712005065,-2.35408163291343,-6.6388285210331555,-9.855413719421916,-12.267637098741169,-22.05723376318817,-19.642434525035995,-15.211011993197804,-14.494982760466785,2.861911085819342,-3.5918702111830596,-12.495784418823138,-14.091649317188073,-11.428287018978587,-16.073559767976473,-21.928563114390943,-25.36917754795867,-21.983623116166473,-24.435222460140302,-21.762099397338353,-6.900037723756493,-8.713739996057647,-12.608646215785155,-12.922578829526163,-15.942888373485108,-10.166102404030555,-7.21025299043903,-16.741305282472712,-25.59119902063577,-12.845224447413244,-1.413943343598842,-7.542747606037368,-10.876031486483376,-15.085529492265662,-25.296951983012377,-7.05251273013849,-8.150691878543055,-3.60500694938083,-10.963440340571236,-24.814582346020337,-17.614066925345313,-9.910316740944076,-4.747947118528584,-2.4295502092059165,-15.413640403241303,-25.736196830300003,-18.657664541744303,-23.364527847739105,-19.48459115920897,-8.388746685986366,-12.75738363138781,-13.05266025144949,-15.120250747838897,-17.59518317393519,-22.535917667193768,-4.610092142898441,2.778248070452519,-11.125286183147988,-15.805670557137102,-16.895205225771956,-0.6525602711554399,-15.806040280040785,-24.098493270556386,-27.827157424385938,-17.434386114561715,-14.850985439917626,-6.842614780097413,-9.36753439714666,-9.038031617307405,-14.779122437421213,-5.94259368763626,-1.3875603375275933,-0.5351035258913204,-23.585903495500045,-11.55955290936276,-6.357921109941941,-6.350233975509361,-16.146202630874736,-4.963140113317274,-11.443032141776241,-16.90144170427294,-17.49563492096805,-2.5685526606246514,-10.76886592586174,-13.876860469662875,-11.194837806663077,-25.234565134147417,-22.34747258361553,-21.628557259875027,-17.679536113264987,-10.867064684594244,-10.222824782680995,-7.352922921820835,-24.451693594283142,-12.703389105361516,-5.800229643101848,-16.036233609626503,-15.093160205835815,-14.592707810139068,-14.877762945087868,-20.20584418244722,-11.54414673252674,1.0296219382184943,-21.62632341645613,0.9360249444671598,-4.940890178842865,-3.449850603414718,-1.3730835641938322,-17.47846449241038,-4.6421147528069175,-6.933334986224671,1.9529892764334913,-22.512001369751136,-16.098371445132155,1.302437799998041,-1.5662642374528137,-7.711827349093297,-20.1737385245823,-16.040949998096146,-16.644966505984524,-10.735911141405188,-18.736340478856025,-8.325038646521515,-19.855800418379943,-19.006021105455147,-14.85130139004386,-18.71862313808466,-18.34698648535795,-15.978527872831531,-14.924033926499144,-26.818666539057663,-1.9858879615390426,-7.292292664425737,-7.892862182968429,-8.522751132277406,-10.714389776627605,-22.962141027935836,-4.802822039436678,-23.21269240662325,-15.296523082629655,-23.85565340219181,-14.668139462315262,-4.864220462934324,-27.020794125772458,-6.781038739935633,-24.47131561073697,-16.924679232043562,-2.37576297755827,-12.983154492654329,-23.661144338111804,-3.4613273147580257,-18.854689063845893,-22.92427256085438,-0.37360666310723156,-13.646414316285785,-16.723227959813542,-11.268447664181382,-1.8713496743278653,-13.144891693234765,-9.045789762456707,-9.779786659999766,1.7493687438547734,-17.80225006024623,-26.485144830895866,-10.225373558293294,-26.797286508293325,-0.6516366668348734,-7.998993249633925,-3.9161760159422956,-20.770497524016953,-23.57754468643307,-9.24734316276336,-24.11054324734494,-14.428255252286588,-19.267053454872666,-24.32272119298768,-16.547693089334224,-12.977136962827304,-15.234109207297854,-3.7562807660543336,2.7057366108639056,-26.487789232309524,-21.851086861935194,-23.92849587999424,-18.413163856691142,-15.166135826496628,-4.424664858917989,-22.170120616611985,-14.753206249740177,-14.630511935144767,-6.240313427005843,-2.417883557034898,-18.893672312243,-22.523885418444358,-22.792797177812727,-8.3122878433051,-21.43530839091918,-6.588400128355264,-14.335064689223,-28.54680685944252,-22.11977894822943,-16.827697172455117,-23.958079030207333,-25.991416232206284,-21.153430391535096,-22.46291596899192,-21.07871220812102,-25.224342530130336,-20.793227039828437,-22.59664874790707,-10.83256078178694,-23.198112168449565,-11.89498963278625,-21.92231935043416,-20.674811194546564,-12.63138383938077,-0.5494361499269359,-3.2785019671160063,1.2306462184647429,-10.56988326798456,-9.918112884144106,-7.236072107034349,-16.657036616184005,-1.1509168188481151,-8.550006545722287,-23.890433129035202,-20.191536614231016,-11.870510703745342,-21.877255254523117,-10.733152925410995,-9.412951559386265,-26.646076006091405,-24.93009995052551,-11.380775693460143,-23.295740133865692,-18.332321427120824,-21.456196566482117,-16.677705063827833,-10.163127245798144,-17.06229639366819,-15.32451384306688,-7.596435633553067,-11.66404588009059,-15.254821298518914,-12.971106109011215,-12.137668072020332,-7.260617614646982,-20.146796132235202,-11.065722031870159,-7.574396575687325,2.6407186929578836,-4.367874328804002,-0.5586991615374028,-13.003727344663776,-10.335248698998946,-11.230256166300915,-27.27955143736614,-3.86729724380418,-3.440941195582239,-13.280940114288255,-11.5124442824486,-20.392736988417447,-1.8555122261074954,-26.053927287505346,-0.7274372907494713,-24.850304689559707,-6.899264040855419,-6.4689004101451175,-11.4225609423472,-3.297770338909932,-13.198897167472602,-12.360060051260128,-23.500056768662315,-8.868265617466323,-23.148028483277486,-17.837720511327127,-17.16724912175483,-14.084070907211576,-8.878195278758774,-12.83851706932557,-2.6870435711600043,-9.943994842735664,-12.336550638489928,-21.107740555286366,-10.367294133750944,-8.070572192872504,-1.2616130883635295,-11.76113821010455,-24.298239139938797,-14.635801335805057,-21.09601165443145,-15.026967950952091,1.326101849322407,-19.043094091521386,-20.21097204449594,-10.709746722791033,-12.056687408662816,-4.015765159956347,-3.403904044082199,-18.7771562762355,-13.805736552991824,-1.417519393744082,-12.717370965498262,-13.00928687682175,-1.7656803868931046,-26.036975421796082,-15.724615978461799,-14.783255256245765,-13.06454396385693,0.3224910531524331,-20.329365800691523,-10.00942869913042,-11.8304162276497,-12.89255219480981,-14.835794239013044,-13.432626150470204,-11.005037613748698,-17.11969554020432,-18.07222378972969,-15.449722925523325,-6.444979222560651,-16.36098924106459,-7.408715617499692,-18.64890620576586,-11.878265157059406,-18.875638464525238,-6.7793228621105115,-10.20786019624074,1.0600489510384234,-17.90471292239295,-13.603561850181563,-16.654212346433564,-17.6402967964023,-16.204086837979645,-25.70288692750376,-25.286365154877686,-1.7595827606839456,-16.89239522286479,-15.066894601039037,-1.3883847553034132,-9.70360379075737,-6.896440659015433,-18.174685002014765,-0.9688711616756096,-11.229202005795008,-23.315214881858992,-21.94060269922075,-14.489110514660496,-28.76545093158634,-18.726339292164944,-28.7838069828502,-19.579502906057165,-25.49393839195468,-26.80495543314024,-25.126812011029294,-9.737529332788448,-13.537194372157636,-23.499839112291006,-25.849619364594677,-16.783042481491925,-17.544208650918765,-14.650518750500188,-8.536967574432362,-1.4071964768200136,-19.445727340082808,-9.04709839717527,-26.60381513465802,-24.27338612863673,-21.223335207354143,-10.552483571864219,-18.46050242922769,-9.699288379883937,-23.77563499394737,-9.627343273415397,-4.252868842546216,-19.35028117521684,-26.980837847985782,-18.56435386849744,-21.231392421676382,-4.165891977808487,-19.896137803595565,-0.6174252839891735,-27.297515664018963,-14.543450837410372,-14.986601190534472,-6.835983835062905,-12.722466521834875,-5.296642517710064,-8.554106050843979,-17.181896543925028,-8.164931367593992,-8.70246572944197,-16.70974605448484,-15.728761783733399,-22.128613921153296,-9.84293540308155,0.8688930204849246,-11.021127883921547,-14.725652366239496,-21.30900795458219,-22.891609676388857,-10.161218290612684,-17.096971318701307,-26.337657879297684,-12.198964778055949,-21.47278387048776,-16.211879089852427,1.3279096135251576,-4.274265624654863,-12.910422687013993],\"y\":[19.60824870328218,20.15556906056982,23.239162990199134,10.346982540860946,10.394956126753632,12.974436108638976,8.968063997948972,11.823011425765284,9.646313281496841,7.470152071167789,11.859723755551821,2.8766143507017636,23.147796438345193,4.290807237331067,0.2969625610060196,2.3625136443704235,16.02507198035123,20.25567661924116,2.8216535097715623,25.57012739830365,3.8435007499477405,7.6398801522835225,1.7682019498144248,22.933910604257147,16.56661538041513,10.71683600122798,-0.29658436784969144,6.162567191125249,7.558426281797137,-6.567489891607681,13.947629851750143,6.967864942711687,14.567334594584464,25.465449108501844,-3.690407424344138,16.872368517570276,21.070435042003833,14.541975122623773,-4.012907727100213,4.3500805225860235,6.117738351983218,27.417186393697982,-3.780035281918165,-3.632847296205277,18.88911077540899,6.152682704303427,25.80903563697702,-0.5219625306037614,10.73816852083881,3.6509118575091652,-3.1807575669014545,-2.325233694545923,13.380040818373164,21.887616022014384,22.84153139859483,13.973476819167963,10.208578536685291,4.135693337268362,8.187148723510884,10.15519412591797,4.941862359114868,10.4686796583689,23.689260688896436,15.895383715031471,-0.49009859907392406,17.444213285388827,12.187285559387693,18.138285397830153,25.28375735093974,4.665028364029353,10.997190824384369,20.73177449997588,26.961717171893042,18.56974952526146,2.716481960704755,17.121070884483476,6.276923562669576,8.486623219755685,19.893788620269945,-6.172713270403472,8.223760238851035,14.076744474437806,22.59737185243594,25.524006387317844,21.746480130606734,2.7322408389380057,16.99911646898975,20.728507467740876,5.770163365248642,8.353502331521026,3.6591504917404647,21.99626081267836,1.0559415493290554,11.29024213183695,12.835801843052401,12.972083074154133,5.68131484057169,14.973828924603557,21.89919094934788,13.734042107233048,14.293500528380017,12.820822077813219,-3.426297924268868,9.921701170817991,23.61930754629251,17.704256346040207,24.415757070381943,22.12411356500759,7.791709493328875,7.363426828633052,-5.341608042977765,12.003832113810383,12.071504975607567,21.85394787999089,16.63547847533797,13.879083595557034,15.969854112778215,3.155308865223421,2.3530176779227716,0.6634445127780518,-1.420976658129327,8.301419676223313,20.13470074088801,19.932301232282253,6.454957203788217,12.320600264540854,20.974288483577876,8.229809945074198,10.206827651888046,10.025328358144595,15.819372655076208,12.487291775568915,8.503404418492467,22.054696172005084,26.19523701759242,19.697971874656186,-0.7953723692422769,4.27959340612462,5.9803482352592106,3.2231552102267895,9.587910885170876,7.505937726321335,-4.1510144480276585,23.69849928139086,6.3414724717009205,-4.17306908581532,13.903375185912092,0.6661056780206591,1.836747732168723,13.69894713358176,8.257497635892685,13.235338111834903,8.941690547092985,10.100142733308202,4.455481396752837,9.650831511109875,5.327893877655516,7.882126514971593,12.279502463513714,19.943895140722724,16.59649912550042,1.9613019225161707,9.6581879028025,13.489720228958705,2.837468657047657,2.9279095364151844,20.060882068598822,12.483612421017597,3.8076059651306084,14.829303793496935,1.166518315380217,23.257701209539643,25.716987656866994,9.354293175264601,9.42481202802449,13.81682262241888,14.96699102320267,16.083907097072654,16.791014603179647,12.849549283844098,14.14235563623999,7.875017136424013,3.415584016230913,16.833333977661127,17.811404923647277,3.7728159997785884,-1.944215352610216,15.236712476285557,15.719782150319006,16.01657491964602,17.711120790347504,22.176750283026394,2.678543708336924,9.227447227860583,19.615134118455558,-6.081253919649674,18.130773845762352,14.119689953077534,8.478385636751236,-6.7047622336825965,2.797430683572374,18.268363216641767,22.4496628281242,14.346873737570176,-5.64392457365049,21.140485676564715,22.072525798876217,16.705006420783867,-3.8864451432073692,9.004114315871902,20.564275067716277,12.543255548074113,15.25099714439967,8.135967385469332,16.912110138298075,6.550439162106535,5.931622800363149,24.590425871996988,4.376775378287349,5.205558116869606,7.512825681764225,16.563389511691604,8.196047279210996,11.604725214591442,8.683276964524921,19.721728743958018,23.16922669723448,14.526346103322366,18.783267631523252,14.385180762179925,17.094804853683634,18.819085920344612,-2.9255605201636596,16.8110738253739,22.10498948636889,17.774936539219247,4.058484754305767,8.52893661723338,14.894766899325653,21.162283909339475,25.20252399606503,-0.8542029146639135,16.221557656083625,14.413641901731582,7.870043994927348,22.965120404452925,8.6269441372793,18.920374108804975,22.01491498554121,1.6873731740485671,-2.662364717426173,11.642392305568277,18.000811524200437,-0.7337529250271279,22.516665077742996,1.639207345194837,9.701771369086783,10.978397230167662,10.509218995069002,7.724719469386136,13.382017545067303,15.745630523261255,11.595454453587987,12.182555941478917,17.398367757030492,-3.5000898824462294,14.090464457002732,3.4080125060265427,9.697488991420533,-4.758613164658675,16.125994245014027,4.238412992897171,7.852822935551501,23.220170830960498,7.063517771985059,21.570345017514235,-0.6862667445612394,3.0200794809139673,2.918350042877544,1.896105206178535,3.501069056043633,6.646550467433371,18.359285211388517,6.086161709522295,24.676644594626854,8.807332084279746,12.609374288451125,13.106013740780119,9.633140340137494,19.632999971346464,5.5293262663034675,19.104148729719093,16.192782325433992,21.293680267565747,5.945455636522801,2.4078456405832385,9.878597688680102,-0.40469976698213667,-4.353080854975199,15.764967843202484,7.495167488211843,-3.3750057477543356,10.472502859555405,16.434542792311976,8.491882064451566,4.999441744785777,9.87579961017019,1.6269402541044768,22.181954388590558,21.373544827358177,14.16058036251083,8.956874359499132,9.338590899826313,18.05107234916896,13.361574157346382,16.624334070199836,17.728085128158195,26.10550826587497,26.26043923601663,24.869991965798373,4.948290334585777,11.024597094437299,10.395597818665994,10.47524905756256,6.4493190884786635,5.329352495116071,7.403488116060113,19.41979308022887,9.975850480944608,10.911694687999892,12.311881843413891,8.448858366541803,10.636326377228716,1.3482182444907482,21.15349347039842,0.9291212063899363,10.754213756311248,-2.826338480286808,13.846087128401564,-2.1152072875299517,2.8057451860505047,11.868956987178448,11.922802286252923,17.265378769729537,9.473811955801954,24.14407155615129,20.54467874607952,13.627621723450643,5.523794779818736,13.609802599351035,15.795378972594989,-2.9959278839819765,-4.894959232660629,13.292111023916462,17.17796807372549,1.629075403338935,19.04594949482853,11.11151302683877,13.152728849646582,5.049178511437672,18.57299108789245,12.981107199004622,-0.40118543260505013,3.559166543630254,8.85420161065651,4.8482261137073195,-1.821338615699664,20.334095819705716,5.619830584633546,11.539377218907498,10.609279474270712,-5.974927946091303,-0.30462633855881277,9.521640643804384,24.693683044525933,20.073896802275264,3.415244602360372,11.633910363263531,13.277118259816021,15.504287965474433,8.996701016418879,11.044830718091621,8.688795755036843,14.106396520475316,14.584902194925258,21.545487175957504,6.7890734944011575,-0.7502365416937065,3.91232823149354,5.460246225159163,12.503206674304757,7.8362487511573695,15.112900890067223,5.564183337993307,5.130303276261341,6.523349232313365,2.270233972896213,10.776164809278034,7.960609358396822,20.82789023867153,12.056720592893921,14.110474651769353,17.74334351461674,13.860823288543752,1.1496253359440431,8.67640706268858,17.84663464847586,22.249304065007937,9.042766583900656,24.471798175142446,-1.0904321570018944,17.477349548319193,15.389817900998025,13.027200295713298,23.391779568096528,-2.9513604715748056,16.656411399776644,14.683347611706852,-0.871556582682242,5.385093386132249,19.23185423861745,-0.39708029664871525,12.380126627351098,13.191926485896344,10.62490167520422,7.731018041825939,6.540901740584423,-3.318860806795153,11.84504937311229,15.338153059328892,11.963367605466168,14.8607185904633,13.403890042827761,18.775856892789808,12.16788217317043,7.843087565579211,26.944074793679953,12.180031812319076,15.340125887106854,19.174811907827248,13.924208557354149,6.152316677988012,9.076923098388951,14.64157352550969,9.970934288322711,12.229204852413975,6.361970604922778,15.63950257532691,14.089118430358193,6.746333906071404,9.435484903632986,-6.872382959222065,0.27116775131526105,22.253066643972755,-2.7671902484507562,18.139532782741693,12.656127933898134,16.546605893335318,18.623061473379675,13.935430080665553,19.3706313436011,15.887888239053357,6.760323954230017,12.819761643697758,3.4676883347532534,11.604554615244252,-0.6084228086900504,12.260578637587281,9.036910461617044,13.84425029206637,12.615781723931802,2.308005331972801,12.872507980849798,12.910768180996177,13.391987990998846,10.526999582499501,11.63839578938799,1.930092003199074,4.403648354225736,11.331604639742215,11.259566593996205,-1.2749344024951075,21.417061995271137,18.125793292314945,17.874895207606627,0.4174954687539425,10.296604205166597,4.4849638873474476,15.450723497466216,12.664254088234443,10.186309777559579,13.3878015174546,-0.8502845735846337,24.66045628219665,10.594104227267543,9.575960285088211,13.605151715486796,5.672944263832097,9.675821146725875,2.7747809056542385,22.55665519986592,8.415680966589996,18.87734493748744,2.129169076100074,16.11977009666549,3.0924368488395264,17.45211937128166,-3.722218267181477,2.8177454667833546,7.596179599578834,15.227304205621593,24.51129757546706,17.025569306135473,20.9450723459543,9.217168417595293,15.679473506201536,13.799936212229335,25.407130734040752,-0.16996456755651992,23.417302782814264,12.29789690259052,24.407248456011853,1.3606667093615634,3.388047664365184,22.5814251599415,19.884748102442778,-3.9057322385688518,22.91654156850503,8.351686087999608,3.998710669502086,16.29253041262315,22.71379805187384,9.089451331389382,14.906276550557735,16.91074900190663,12.695773801979975,11.096097255961757,22.163855490737333,19.24122374624046,17.398105828912488,25.2771615074913,8.825817917771808,4.242589863972132,8.313809315241071,7.736649015254922,8.692775091212404,12.98521330173648,6.985373874292355,15.057606392652938,10.897610839289644,16.003227334322116,12.889946650944198,9.631055313755446,16.789169353801555,17.853152591854684,-4.086720024399458,13.138444837710104,23.87430331274995,22.87696271371673,18.677304783818908,12.84940267878276,22.78840524489702,20.940650892885422,15.829423553229478,-2.2112420458686346,12.530907505429845,4.64297350757532,12.99767204200157,25.92466523874731,22.02798808403913,13.487684425229583,6.8922023600551405,24.889022418192276,-0.8132421966349989,22.389523334691543,10.164138620686604,14.687124605176802,3.630790933979392,26.61268472837556,14.043886335094811,19.57269939216678,4.38132960193495,15.324179025259044,20.248876942228943,9.684344665960282,16.1383897478206,0.5971468239953103,13.778506435701217,3.511408475230993,19.077812785172515,25.625144001694593,9.26674843960112,7.882084837049067,11.864205720740024,9.989322949733971,9.47518450992438,1.4979625072158211,13.743579229109846,-0.6499839648307699,4.6436086147080715,1.005075916091186,23.13250816456705,17.31976260856525,19.071665466027177,5.796024980419383,23.77231782155936,21.99534285953485,1.656512971222111,15.690982849375873,-4.100018778667233]}},\"id\":\"90fa74dd-e465-4b60-9081-05e555703f93\",\"type\":\"ColumnDataSource\"},{\"attributes\":{\"plot\":{\"id\":\"e2f70718-8e0e-453c-9033-8dbb98c836df\",\"subtype\":\"Figure\",\"type\":\"Plot\"},\"ticker\":{\"id\":\"69ab3d2f-0c67-4e1e-a15b-d56f356da535\",\"type\":\"BasicTicker\"}},\"id\":\"5aa58e4a-cd36-4193-ad78-a75a8e0f4e4d\",\"type\":\"Grid\"},{\"attributes\":{\"dimension\":1,\"plot\":{\"id\":\"5db259e8-80fb-4a8c-be17-31bf175aa673\",\"subtype\":\"Figure\",\"type\":\"Plot\"},\"ticker\":{\"id\":\"ce3c9a01-a57a-43b1-a12b-ebfe862e750f\",\"type\":\"BasicTicker\"}},\"id\":\"7a0acecd-0c8f-4750-8a03-1746474949fc\",\"type\":\"Grid\"},{\"attributes\":{\"below\":[{\"id\":\"c6f0af19-1542-421e-9f66-5599000e89c3\",\"type\":\"LinearAxis\"}],\"left\":[{\"id\":\"7728932a-243f-42b2-8636-bc7bbaf9c0cd\",\"type\":\"LinearAxis\"}],\"renderers\":[{\"id\":\"c6f0af19-1542-421e-9f66-5599000e89c3\",\"type\":\"LinearAxis\"},{\"id\":\"5aa58e4a-cd36-4193-ad78-a75a8e0f4e4d\",\"type\":\"Grid\"},{\"id\":\"7728932a-243f-42b2-8636-bc7bbaf9c0cd\",\"type\":\"LinearAxis\"},{\"id\":\"59566c85-d91f-41f7-bf0d-7d4ca4e3f10b\",\"type\":\"Grid\"},{\"id\":\"0d8cbbf8-df1a-4178-a1c3-acecb218d3c9\",\"type\":\"BoxAnnotation\"},{\"id\":\"b747c8c9-0cd5-4bdc-ae78-4ad55661e342\",\"type\":\"GlyphRenderer\"}],\"title\":\"tSNE(word2vec) on corpus\",\"tool_events\":{\"id\":\"30c05b1e-2ac3-4c92-b5bb-9880380aade5\",\"type\":\"ToolEvents\"},\"tools\":[{\"id\":\"c4fc73a9-d18f-4033-b8b7-23a63ce867cb\",\"type\":\"PanTool\"},{\"id\":\"af351b7f-77aa-4c10-989b-c9ac7b851606\",\"type\":\"WheelZoomTool\"},{\"id\":\"40605d9e-e332-41ed-8d61-88f4a99a7e89\",\"type\":\"BoxZoomTool\"},{\"id\":\"d848fd6f-b183-4b83-aed2-c47ec83c3f4c\",\"type\":\"PreviewSaveTool\"},{\"id\":\"f9f88d90-c27f-46ea-af98-59dd0610ceb7\",\"type\":\"ResizeTool\"},{\"id\":\"6b3aa355-015d-4350-ab43-42819baecdec\",\"type\":\"ResetTool\"},{\"id\":\"d160a420-9f80-4c40-8d0c-3202e7ff7708\",\"type\":\"HelpTool\"},{\"id\":\"a3c8bab4-85a3-41d8-ac6a-cfe8cfb3a4ef\",\"type\":\"HoverTool\"}],\"x_range\":{\"id\":\"5bddc1cd-9a55-43bc-8e7f-c803a360c87e\",\"type\":\"DataRange1d\"},\"y_range\":{\"id\":\"f359c293-07c2-48ed-809c-c6f284b66e27\",\"type\":\"DataRange1d\"}},\"id\":\"e2f70718-8e0e-453c-9033-8dbb98c836df\",\"subtype\":\"Figure\",\"type\":\"Plot\"},{\"attributes\":{\"bottom_units\":\"screen\",\"fill_alpha\":{\"value\":0.5},\"fill_color\":{\"value\":\"lightgrey\"},\"left_units\":\"screen\",\"level\":\"overlay\",\"line_alpha\":{\"value\":1.0},\"line_color\":{\"value\":\"black\"},\"line_dash\":[4,4],\"line_width\":{\"value\":2},\"plot\":null,\"render_mode\":\"css\",\"right_units\":\"screen\",\"top_units\":\"screen\"},\"id\":\"ce557692-a174-41f3-a35a-fa9a71b122b2\",\"type\":\"BoxAnnotation\"},{\"attributes\":{\"dimension\":1,\"plot\":{\"id\":\"e2f70718-8e0e-453c-9033-8dbb98c836df\",\"subtype\":\"Figure\",\"type\":\"Plot\"},\"ticker\":{\"id\":\"38f872d7-4242-4d1f-a70a-b2fe2fed2d4f\",\"type\":\"BasicTicker\"}},\"id\":\"59566c85-d91f-41f7-bf0d-7d4ca4e3f10b\",\"type\":\"Grid\"},{\"attributes\":{\"bottom_units\":\"screen\",\"fill_alpha\":{\"value\":0.5},\"fill_color\":{\"value\":\"lightgrey\"},\"left_units\":\"screen\",\"level\":\"overlay\",\"line_alpha\":{\"value\":1.0},\"line_color\":{\"value\":\"black\"},\"line_dash\":[4,4],\"line_width\":{\"value\":2},\"plot\":null,\"render_mode\":\"css\",\"right_units\":\"screen\",\"top_units\":\"screen\"},\"id\":\"0d8cbbf8-df1a-4178-a1c3-acecb218d3c9\",\"type\":\"BoxAnnotation\"},{\"attributes\":{\"overlay\":{\"id\":\"0d8cbbf8-df1a-4178-a1c3-acecb218d3c9\",\"type\":\"BoxAnnotation\"},\"plot\":{\"id\":\"e2f70718-8e0e-453c-9033-8dbb98c836df\",\"subtype\":\"Figure\",\"type\":\"Plot\"}},\"id\":\"40605d9e-e332-41ed-8d61-88f4a99a7e89\",\"type\":\"BoxZoomTool\"},{\"attributes\":{\"below\":[{\"id\":\"10f94fac-9069-4a05-b361-ed56bda51c87\",\"type\":\"LinearAxis\"}],\"left\":[{\"id\":\"89be9b20-93ee-4833-b0a0-a76fff678d73\",\"type\":\"LinearAxis\"}],\"renderers\":[{\"id\":\"10f94fac-9069-4a05-b361-ed56bda51c87\",\"type\":\"LinearAxis\"},{\"id\":\"bad4677e-ddd8-4649-a23d-b569393c4c1c\",\"type\":\"Grid\"},{\"id\":\"89be9b20-93ee-4833-b0a0-a76fff678d73\",\"type\":\"LinearAxis\"},{\"id\":\"7a0acecd-0c8f-4750-8a03-1746474949fc\",\"type\":\"Grid\"},{\"id\":\"ce557692-a174-41f3-a35a-fa9a71b122b2\",\"type\":\"BoxAnnotation\"},{\"id\":\"b16d0c60-71bb-41e7-9cd8-924e35a308c8\",\"type\":\"GlyphRenderer\"}],\"title\":\"tSNE(word2vec) on corpus (3 or 4 note only)\",\"tool_events\":{\"id\":\"737c5cfc-564a-4b1d-b6a2-1dce372c404c\",\"type\":\"ToolEvents\"},\"tools\":[{\"id\":\"546a6195-236b-48d3-aa8a-8261ac64bcc3\",\"type\":\"PanTool\"},{\"id\":\"95b7f5c3-9f61-45a4-9129-c265bae0f5bc\",\"type\":\"WheelZoomTool\"},{\"id\":\"cf589a81-5ff7-4726-acd5-fc6b20b66dca\",\"type\":\"BoxZoomTool\"},{\"id\":\"e107afda-8e41-4e42-80e7-2728cd3a8bf4\",\"type\":\"PreviewSaveTool\"},{\"id\":\"0e648b77-d308-42fd-9f65-43504da17588\",\"type\":\"ResizeTool\"},{\"id\":\"fc96a185-43a7-4320-8d64-95b4aa8780df\",\"type\":\"ResetTool\"},{\"id\":\"53f64517-a6f2-443a-9115-b69c13afd70e\",\"type\":\"HelpTool\"},{\"id\":\"4ed09f53-dbe1-4e37-bf31-88b861fd1407\",\"type\":\"HoverTool\"}],\"x_range\":{\"id\":\"ce476cf1-f937-46b1-98f1-1a4c0d192f90\",\"type\":\"DataRange1d\"},\"y_range\":{\"id\":\"0966e24e-8690-47f6-840d-d647f7ccb6da\",\"type\":\"DataRange1d\"}},\"id\":\"5db259e8-80fb-4a8c-be17-31bf175aa673\",\"subtype\":\"Figure\",\"type\":\"Plot\"},{\"attributes\":{\"plot\":{\"id\":\"e2f70718-8e0e-453c-9033-8dbb98c836df\",\"subtype\":\"Figure\",\"type\":\"Plot\"}},\"id\":\"d160a420-9f80-4c40-8d0c-3202e7ff7708\",\"type\":\"HelpTool\"},{\"attributes\":{\"formatter\":{\"id\":\"4224b5c4-30e4-4c98-927d-ed61cc425761\",\"type\":\"BasicTickFormatter\"},\"plot\":{\"id\":\"e2f70718-8e0e-453c-9033-8dbb98c836df\",\"subtype\":\"Figure\",\"type\":\"Plot\"},\"ticker\":{\"id\":\"38f872d7-4242-4d1f-a70a-b2fe2fed2d4f\",\"type\":\"BasicTicker\"}},\"id\":\"7728932a-243f-42b2-8636-bc7bbaf9c0cd\",\"type\":\"LinearAxis\"},{\"attributes\":{\"plot\":{\"id\":\"5db259e8-80fb-4a8c-be17-31bf175aa673\",\"subtype\":\"Figure\",\"type\":\"Plot\"},\"ticker\":{\"id\":\"33393877-4632-486c-8d38-bb22ff7cde70\",\"type\":\"BasicTicker\"}},\"id\":\"bad4677e-ddd8-4649-a23d-b569393c4c1c\",\"type\":\"Grid\"},{\"attributes\":{},\"id\":\"ee806a16-bb8c-42af-8a8d-6565c71e656a\",\"type\":\"BasicTickFormatter\"},{\"attributes\":{\"fill_color\":{\"value\":\"#1f77b4\"},\"line_color\":{\"value\":\"#1f77b4\"},\"line_width\":{\"value\":2},\"x\":{\"field\":\"x\"},\"y\":{\"field\":\"y\"}},\"id\":\"278abd37-e207-4f33-964d-b05263e306f1\",\"type\":\"Circle\"},{\"attributes\":{\"dimension\":1,\"plot\":{\"id\":\"5c5097de-85fe-49da-be1f-a6a7239b52e6\",\"subtype\":\"Figure\",\"type\":\"Plot\"},\"ticker\":{\"id\":\"90c1741d-63b8-41d9-91f2-fb27701277ab\",\"type\":\"BasicTicker\"}},\"id\":\"7dfd5f96-3a44-45d4-90dc-77c015888666\",\"type\":\"Grid\"},{\"attributes\":{},\"id\":\"38f872d7-4242-4d1f-a70a-b2fe2fed2d4f\",\"type\":\"BasicTicker\"},{\"attributes\":{\"formatter\":{\"id\":\"2c61cdc4-8979-4b6d-a148-c25c36492c02\",\"type\":\"BasicTickFormatter\"},\"plot\":{\"id\":\"5c5097de-85fe-49da-be1f-a6a7239b52e6\",\"subtype\":\"Figure\",\"type\":\"Plot\"},\"ticker\":{\"id\":\"3a81d2b1-31be-4bf4-9ba6-389338c5eb7d\",\"type\":\"BasicTicker\"}},\"id\":\"d6156540-6ef3-4b3f-bb3e-dd75fa1afb63\",\"type\":\"LinearAxis\"},{\"attributes\":{\"callback\":null},\"id\":\"f359c293-07c2-48ed-809c-c6f284b66e27\",\"type\":\"DataRange1d\"},{\"attributes\":{\"bottom_units\":\"screen\",\"fill_alpha\":{\"value\":0.5},\"fill_color\":{\"value\":\"lightgrey\"},\"left_units\":\"screen\",\"level\":\"overlay\",\"line_alpha\":{\"value\":1.0},\"line_color\":{\"value\":\"black\"},\"line_dash\":[4,4],\"line_width\":{\"value\":2},\"plot\":null,\"render_mode\":\"css\",\"right_units\":\"screen\",\"top_units\":\"screen\"},\"id\":\"94664d78-2aea-47ea-9353-68185765bc34\",\"type\":\"BoxAnnotation\"},{\"attributes\":{\"plot\":{\"id\":\"e2f70718-8e0e-453c-9033-8dbb98c836df\",\"subtype\":\"Figure\",\"type\":\"Plot\"}},\"id\":\"c4fc73a9-d18f-4033-b8b7-23a63ce867cb\",\"type\":\"PanTool\"},{\"attributes\":{\"plot\":{\"id\":\"e2f70718-8e0e-453c-9033-8dbb98c836df\",\"subtype\":\"Figure\",\"type\":\"Plot\"}},\"id\":\"af351b7f-77aa-4c10-989b-c9ac7b851606\",\"type\":\"WheelZoomTool\"},{\"attributes\":{\"formatter\":{\"id\":\"ee806a16-bb8c-42af-8a8d-6565c71e656a\",\"type\":\"BasicTickFormatter\"},\"plot\":{\"id\":\"5c5097de-85fe-49da-be1f-a6a7239b52e6\",\"subtype\":\"Figure\",\"type\":\"Plot\"},\"ticker\":{\"id\":\"90c1741d-63b8-41d9-91f2-fb27701277ab\",\"type\":\"BasicTicker\"}},\"id\":\"209ed6d8-f505-4951-a1ef-a0ff1e537c40\",\"type\":\"LinearAxis\"},{\"attributes\":{\"callback\":null},\"id\":\"0966e24e-8690-47f6-840d-d647f7ccb6da\",\"type\":\"DataRange1d\"},{\"attributes\":{},\"id\":\"2c61cdc4-8979-4b6d-a148-c25c36492c02\",\"type\":\"BasicTickFormatter\"},{\"attributes\":{},\"id\":\"30c05b1e-2ac3-4c92-b5bb-9880380aade5\",\"type\":\"ToolEvents\"},{\"attributes\":{\"plot\":{\"id\":\"e2f70718-8e0e-453c-9033-8dbb98c836df\",\"subtype\":\"Figure\",\"type\":\"Plot\"}},\"id\":\"6b3aa355-015d-4350-ab43-42819baecdec\",\"type\":\"ResetTool\"},{\"attributes\":{\"plot\":{\"id\":\"5c5097de-85fe-49da-be1f-a6a7239b52e6\",\"subtype\":\"Figure\",\"type\":\"Plot\"}},\"id\":\"e8900e63-10da-4c4c-a8a8-4e007190f839\",\"type\":\"WheelZoomTool\"},{\"attributes\":{\"fill_alpha\":{\"value\":0.1},\"fill_color\":{\"value\":\"#1f77b4\"},\"line_alpha\":{\"value\":0.1},\"line_color\":{\"value\":\"#1f77b4\"},\"line_width\":{\"value\":2},\"x\":{\"field\":\"x\"},\"y\":{\"field\":\"y\"}},\"id\":\"d289a7b9-7556-40fe-90ae-db92100b3ed6\",\"type\":\"Circle\"},{\"attributes\":{\"plot\":{\"id\":\"5c5097de-85fe-49da-be1f-a6a7239b52e6\",\"subtype\":\"Figure\",\"type\":\"Plot\"}},\"id\":\"2b98ff1e-be89-4010-b0de-28202e529b0f\",\"type\":\"PreviewSaveTool\"},{\"attributes\":{\"callback\":null},\"id\":\"ce476cf1-f937-46b1-98f1-1a4c0d192f90\",\"type\":\"DataRange1d\"},{\"attributes\":{\"plot\":{\"id\":\"5db259e8-80fb-4a8c-be17-31bf175aa673\",\"subtype\":\"Figure\",\"type\":\"Plot\"}},\"id\":\"e107afda-8e41-4e42-80e7-2728cd3a8bf4\",\"type\":\"PreviewSaveTool\"},{\"attributes\":{\"callback\":null,\"column_names\":[\"y\",\"x\",\"label\"],\"data\":{\"label\":[\"c d b-\",\"c f a-\",\"c e f\",\"c d e-\",\"c e- a-\",\"c g a\",\"c g b\",\"c d f\",\"c e f+\",\"c e a-\",\"c f+ a-\",\"c g b-\",\"c c+ f+\",\"c d b\",\"c d a\",\"c d g\",\"c d e\",\"c c+ b-\",\"c e b-\",\"c b- b\",\"c e- b-\",\"c f b-\",\"c f+ b-\",\"c a- b-\",\"c e b\",\"c e a\",\"c e g\",\"c c+ a-\",\"c a b-\",\"c d a-\",\"c f+ b\",\"c f+ a\",\"c f+ g\",\"c e- a\",\"c e- b\",\"c e- e\",\"c e- g\",\"c e- f\",\"c g a-\",\"c f f+\",\"c c+ e\",\"c c+ d\",\"c c+ g\",\"c c+ f\",\"c c+ a\",\"c e- f+\",\"c a b\",\"c c+ e-\",\"c a- a\",\"c a- b\",\"c d f+\",\"c f a\",\"c f b\",\"c f g\"],\"x\":[-3.0884629484465584,-10.237743240747221,-15.808855321106119,-5.85059279970829,-1.3945238351449587,-22.336312523997123,-22.019601177435096,-18.480565877924693,-21.359858818681516,-12.161422219288541,-7.270790859369947,-13.285515365488282,-12.495784418823138,-21.928563114390943,-25.36917754795867,-24.435222460140302,-21.762099397338353,-8.388746685986366,-12.75738363138781,-13.05266025144949,-1.3875603375275933,-14.592707810139068,-10.714389776627605,-1.8713496743278653,-22.523885418444358,-22.792797177812727,-21.43530839091918,-3.2785019671160063,-10.56988326798456,-7.236072107034349,-16.657036616184005,-23.890433129035202,-20.191536614231016,-7.260617614646982,-11.065722031870159,-7.574396575687325,-4.367874328804002,-0.5586991615374028,-6.899264040855419,-11.4225609423472,-17.837720511327127,-17.16724912175483,-14.084070907211576,-8.878195278758774,-12.83851706932557,-10.367294133750944,-21.09601165443145,-1.7656803868931046,-13.432626150470204,-11.005037613748698,-23.315214881858992,-14.725652366239496,-21.30900795458219,-22.891609676388857],\"y\":[2.3625136443704235,-4.012907727100213,6.117738351983218,5.68131484057169,14.973828924603557,7.791709493328875,7.363426828633052,0.6634445127780518,6.3414724717009205,0.6661056780206591,20.060882068598822,-1.944215352610216,12.543255548074113,6.550439162106535,5.931622800363149,4.376775378287349,5.205558116869606,1.6873731740485671,-2.662364717426173,11.642392305568277,4.238412992897171,-4.353080854975199,0.9291212063899363,11.11151302683877,5.564183337993307,5.130303276261341,2.270233972896213,14.683347611706852,5.385093386132249,-0.39708029664871525,12.380126627351098,7.731018041825939,6.540901740584423,6.361970604922778,14.089118430358193,6.746333906071404,-6.872382959222065,0.27116775131526105,-0.6084228086900504,9.036910461617044,10.526999582499501,11.63839578938799,1.930092003199074,4.403648354225736,11.331604639742215,17.874895207606627,10.186309777559579,16.11977009666549,15.679473506201536,13.799936212229335,8.692775091212404,-0.6499839648307699,4.6436086147080715,1.005075916091186]}},\"id\":\"d172f1da-121f-4516-b69c-0259c92ed594\",\"type\":\"ColumnDataSource\"},{\"attributes\":{},\"id\":\"4224b5c4-30e4-4c98-927d-ed61cc425761\",\"type\":\"BasicTickFormatter\"},{\"attributes\":{},\"id\":\"90c1741d-63b8-41d9-91f2-fb27701277ab\",\"type\":\"BasicTicker\"},{\"attributes\":{},\"id\":\"d74cbc6a-ea52-4436-80c3-99687a0a0819\",\"type\":\"ToolEvents\"},{\"attributes\":{\"callback\":null},\"id\":\"141172d6-4c58-4bb6-a704-65f3370eb8e8\",\"type\":\"DataRange1d\"},{\"attributes\":{\"plot\":{\"id\":\"5db259e8-80fb-4a8c-be17-31bf175aa673\",\"subtype\":\"Figure\",\"type\":\"Plot\"}},\"id\":\"95b7f5c3-9f61-45a4-9129-c265bae0f5bc\",\"type\":\"WheelZoomTool\"},{\"attributes\":{\"formatter\":{\"id\":\"78cf68a8-fa20-4b8c-a344-4c6e32b519b2\",\"type\":\"BasicTickFormatter\"},\"plot\":{\"id\":\"5db259e8-80fb-4a8c-be17-31bf175aa673\",\"subtype\":\"Figure\",\"type\":\"Plot\"},\"ticker\":{\"id\":\"33393877-4632-486c-8d38-bb22ff7cde70\",\"type\":\"BasicTicker\"}},\"id\":\"10f94fac-9069-4a05-b361-ed56bda51c87\",\"type\":\"LinearAxis\"},{\"attributes\":{\"plot\":{\"id\":\"5c5097de-85fe-49da-be1f-a6a7239b52e6\",\"subtype\":\"Figure\",\"type\":\"Plot\"}},\"id\":\"d8e31b11-84c1-4356-ba08-eff0fb2be4e9\",\"type\":\"ResizeTool\"},{\"attributes\":{\"fill_alpha\":{\"value\":0.1},\"fill_color\":{\"value\":\"#1f77b4\"},\"line_alpha\":{\"value\":0.1},\"line_color\":{\"value\":\"#1f77b4\"},\"line_width\":{\"value\":2},\"x\":{\"field\":\"x\"},\"y\":{\"field\":\"y\"}},\"id\":\"e0056684-e3f1-4b05-9802-076abac96630\",\"type\":\"Circle\"},{\"attributes\":{\"plot\":{\"id\":\"5c5097de-85fe-49da-be1f-a6a7239b52e6\",\"subtype\":\"Figure\",\"type\":\"Plot\"}},\"id\":\"af375376-61b3-4a5a-bbea-1b0478995bf2\",\"type\":\"PanTool\"},{\"attributes\":{\"plot\":{\"id\":\"5db259e8-80fb-4a8c-be17-31bf175aa673\",\"subtype\":\"Figure\",\"type\":\"Plot\"}},\"id\":\"546a6195-236b-48d3-aa8a-8261ac64bcc3\",\"type\":\"PanTool\"},{\"attributes\":{\"formatter\":{\"id\":\"f4f362f8-11ec-441b-aacb-e63f3e566c8f\",\"type\":\"BasicTickFormatter\"},\"plot\":{\"id\":\"e2f70718-8e0e-453c-9033-8dbb98c836df\",\"subtype\":\"Figure\",\"type\":\"Plot\"},\"ticker\":{\"id\":\"69ab3d2f-0c67-4e1e-a15b-d56f356da535\",\"type\":\"BasicTicker\"}},\"id\":\"c6f0af19-1542-421e-9f66-5599000e89c3\",\"type\":\"LinearAxis\"},{\"attributes\":{\"plot\":{\"id\":\"e2f70718-8e0e-453c-9033-8dbb98c836df\",\"subtype\":\"Figure\",\"type\":\"Plot\"}},\"id\":\"d848fd6f-b183-4b83-aed2-c47ec83c3f4c\",\"type\":\"PreviewSaveTool\"},{\"attributes\":{\"plot\":{\"id\":\"5db259e8-80fb-4a8c-be17-31bf175aa673\",\"subtype\":\"Figure\",\"type\":\"Plot\"}},\"id\":\"fc96a185-43a7-4320-8d64-95b4aa8780df\",\"type\":\"ResetTool\"},{\"attributes\":{\"fill_alpha\":{\"value\":0.1},\"fill_color\":{\"value\":\"#1f77b4\"},\"line_alpha\":{\"value\":0.1},\"line_color\":{\"value\":\"#1f77b4\"},\"line_width\":{\"value\":2},\"x\":{\"field\":\"x\"},\"y\":{\"field\":\"y\"}},\"id\":\"011c8a54-977d-4de3-a2a4-ba378039613b\",\"type\":\"Circle\"},{\"attributes\":{\"data_source\":{\"id\":\"d172f1da-121f-4516-b69c-0259c92ed594\",\"type\":\"ColumnDataSource\"},\"glyph\":{\"id\":\"134e5cd2-68ff-4f02-a94d-dce0b87ec993\",\"type\":\"Circle\"},\"hover_glyph\":null,\"nonselection_glyph\":{\"id\":\"011c8a54-977d-4de3-a2a4-ba378039613b\",\"type\":\"Circle\"},\"selection_glyph\":null},\"id\":\"6ed7033d-fd72-4727-b45f-20ac65161b3e\",\"type\":\"GlyphRenderer\"},{\"attributes\":{},\"id\":\"3a81d2b1-31be-4bf4-9ba6-389338c5eb7d\",\"type\":\"BasicTicker\"},{\"attributes\":{},\"id\":\"33393877-4632-486c-8d38-bb22ff7cde70\",\"type\":\"BasicTicker\"},{\"attributes\":{\"plot\":{\"id\":\"5db259e8-80fb-4a8c-be17-31bf175aa673\",\"subtype\":\"Figure\",\"type\":\"Plot\"}},\"id\":\"53f64517-a6f2-443a-9115-b69c13afd70e\",\"type\":\"HelpTool\"},{\"attributes\":{},\"id\":\"ce3c9a01-a57a-43b1-a12b-ebfe862e750f\",\"type\":\"BasicTicker\"},{\"attributes\":{},\"id\":\"69ab3d2f-0c67-4e1e-a15b-d56f356da535\",\"type\":\"BasicTicker\"},{\"attributes\":{\"plot\":{\"id\":\"5c5097de-85fe-49da-be1f-a6a7239b52e6\",\"subtype\":\"Figure\",\"type\":\"Plot\"}},\"id\":\"ecb8f65c-53c7-46cf-a1e4-83ced42629b5\",\"type\":\"ResetTool\"},{\"attributes\":{\"callback\":null,\"plot\":{\"id\":\"5c5097de-85fe-49da-be1f-a6a7239b52e6\",\"subtype\":\"Figure\",\"type\":\"Plot\"},\"tooltips\":\" @label \"},\"id\":\"ef8139c8-db87-4d31-9ebf-2ab56836c619\",\"type\":\"HoverTool\"},{\"attributes\":{\"formatter\":{\"id\":\"67b5e183-3b40-43af-9a9c-7acbd446b94e\",\"type\":\"BasicTickFormatter\"},\"plot\":{\"id\":\"5db259e8-80fb-4a8c-be17-31bf175aa673\",\"subtype\":\"Figure\",\"type\":\"Plot\"},\"ticker\":{\"id\":\"ce3c9a01-a57a-43b1-a12b-ebfe862e750f\",\"type\":\"BasicTicker\"}},\"id\":\"89be9b20-93ee-4833-b0a0-a76fff678d73\",\"type\":\"LinearAxis\"},{\"attributes\":{\"overlay\":{\"id\":\"94664d78-2aea-47ea-9353-68185765bc34\",\"type\":\"BoxAnnotation\"},\"plot\":{\"id\":\"5c5097de-85fe-49da-be1f-a6a7239b52e6\",\"subtype\":\"Figure\",\"type\":\"Plot\"}},\"id\":\"f49646fa-45c3-4afb-a6e4-75e2c05b5897\",\"type\":\"BoxZoomTool\"},{\"attributes\":{\"callback\":null},\"id\":\"360de3d0-dfbf-46d6-9281-3079ea00d207\",\"type\":\"DataRange1d\"},{\"attributes\":{\"plot\":{\"id\":\"5c5097de-85fe-49da-be1f-a6a7239b52e6\",\"subtype\":\"Figure\",\"type\":\"Plot\"},\"ticker\":{\"id\":\"3a81d2b1-31be-4bf4-9ba6-389338c5eb7d\",\"type\":\"BasicTicker\"}},\"id\":\"686e5a63-686f-4e70-aeb5-e8e07ec24192\",\"type\":\"Grid\"},{\"attributes\":{\"callback\":null},\"id\":\"5bddc1cd-9a55-43bc-8e7f-c803a360c87e\",\"type\":\"DataRange1d\"},{\"attributes\":{\"plot\":{\"id\":\"5c5097de-85fe-49da-be1f-a6a7239b52e6\",\"subtype\":\"Figure\",\"type\":\"Plot\"}},\"id\":\"1aa1b12a-a1de-4082-b754-801f7e5c1575\",\"type\":\"HelpTool\"},{\"attributes\":{\"callback\":null,\"column_names\":[\"y\",\"x\",\"label\"],\"data\":{\"label\":[\"e- e a-\",\"c+ e a\",\"c+ e b\",\"c+ e g\",\"c+ e f\",\"c e- a- b-\",\"e- f a b\",\"f a- a\",\"f b- b\",\"f f+ b-\",\"g a- b-\",\"c d b-\",\"d e f a-\",\"c+ e f+ a\",\"c d f g\",\"c+ e f+ b\",\"c d f b\",\"c d f a\",\"c c+ e b-\",\"e- f f+ b-\",\"c e- f a\",\"c e- f b\",\"c e- f g\",\"c c+ e- a-\",\"f f+ a-\",\"c c+ f+ b-\",\"c f a-\",\"c e f\",\"c+ f+ a- b-\",\"d g a b-\",\"c e f a-\",\"e- e f+\",\"e f g\",\"f+ a b\",\"c d e b-\",\"c+ d b-\",\"e f a\",\"c d g b-\",\"c f g a-\",\"f+ a- b-\",\"c+ f+ b-\",\"d f+ a b-\",\"g a b\",\"f a b-\",\"c+ d f b-\",\"e- g a- b-\",\"c+ g b- b\",\"e g b-\",\"g a- b\",\"c e- e a\",\"c e f g\",\"e- f+ a- b-\",\"d f a-\",\"c d e- a\",\"c+ e- e a-\",\"c d e- g\",\"c d e- f\",\"c+ e- f+\",\"c+ e f+ b-\",\"c+ a- a\",\"c e g a-\",\"c+ f g a-\",\"e- f f+ a-\",\"c c+ f a\",\"c e- a b-\",\"c+ d f+ b-\",\"d a b-\",\"f+ g a\",\"d e- f+ a\",\"e- e g b-\",\"c d e-\",\"c e- a-\",\"c+ e a-\",\"f+ g b-\",\"c+ d f+ b\",\"c+ d f+ a\",\"d e g b-\",\"f+ g b\",\"e f+ a- b\",\"c c+ f+ a\",\"e a- b\",\"e a- a\",\"c g a\",\"c g b\",\"c+ e f b-\",\"a- b- b\",\"d g a-\",\"f+ a- b\",\"e- a- b\",\"e- a- a\",\"f+ a- a\",\"c e g b\",\"c e g a\",\"c d f\",\"e g a- b-\",\"c+ e a- a\",\"c+ a b-\",\"c e- g b-\",\"d e- f+\",\"e- f a- b-\",\"c+ a b\",\"c f g a\",\"d e- b-\",\"c f g b\",\"e- f b-\",\"e- f+ g b-\",\"c f a- a\",\"c f a- b\",\"c+ e a- b-\",\"c e f+\",\"e a b-\",\"c e a-\",\"d e- f b-\",\"c e- f+ a\",\"d a- b-\",\"c e- f+ g\",\"e- f+ b-\",\"d e- a-\",\"e- a b-\",\"f a- b-\",\"c+ e f a\",\"d f b-\",\"d g b\",\"c f+ a-\",\"d g a\",\"g a b-\",\"c+ f+ a- a\",\"c+ f+ a- b\",\"e- g b\",\"e- g a\",\"d f+ a b\",\"c+ d a\",\"c+ d b\",\"c+ d e\",\"c+ d f\",\"c+ d g\",\"d f g b-\",\"c e f+ a\",\"c e f+ g\",\"c g b-\",\"c e a- a\",\"c e a- b\",\"c f+ a b\",\"e f+ g b-\",\"a- a b\",\"c d g b\",\"c d g a\",\"f g b-\",\"c+ e g a-\",\"c e- g a\",\"c e- g b\",\"d f f+ b-\",\"c+ e- g b-\",\"c+ f f+ b-\",\"c e f b-\",\"e- g a b-\",\"c c+ e- g\",\"c c+ f+\",\"c c+ e- a\",\"e- f f+ a\",\"e- f f+ b\",\"c d b\",\"c d a\",\"c+ e a- b\",\"c d g\",\"c d e\",\"c e- e f\",\"c+ e- e\",\"e f g b\",\"e f g a\",\"c+ f+ a-\",\"d e a- a\",\"d e a- b\",\"c+ e- g\",\"c+ e- f\",\"c+ e- b\",\"c+ e- a\",\"e- a- b- b\",\"f a- a b-\",\"c+ b- b\",\"d a- a b\",\"e f+ b-\",\"e g b- b\",\"e- f a- b\",\"c+ g a- b-\",\"d f f+\",\"e- a- a b\",\"e f+ g\",\"e f+ a\",\"e f+ b\",\"c c+ b-\",\"c e b-\",\"c b- b\",\"c e- a b\",\"d f a- b\",\"e f+ a b\",\"e- f g b-\",\"c+ f g b\",\"d e f b\",\"d e f g\",\"c d e- a-\",\"e g b\",\"e g a\",\"c e a b\",\"c c+ f b-\",\"d b- b\",\"c f g b-\",\"c+ e- a- b\",\"c e- b-\",\"d f g a-\",\"e- e f a\",\"c f f+ a\",\"f g a-\",\"d f a- a\",\"d f a b\",\"c+ e- f b-\",\"c f a b-\",\"c+ d g a\",\"d e f+ a-\",\"c+ d g b\",\"e f+ b- b\",\"e f b-\",\"c+ f f+ a-\",\"c+ e- e g\",\"c+ e- e a\",\"c e f+ b-\",\"f g a b-\",\"c e f a\",\"c f b-\",\"c d f+ a-\",\"c e a- b-\",\"d a- b\",\"d g a- b-\",\"e- f+ a b-\",\"c c+ d a\",\"c+ f a- b-\",\"c+ e- a- b-\",\"e- f+ a b\",\"c+ e f+\",\"e b- b\",\"d f f+ b\",\"d f f+ a\",\"c+ e g a\",\"f g a- b-\",\"d e- f+ b-\",\"g b- b\",\"e- f+ a-\",\"c f+ b-\",\"c+ g b-\",\"f g a\",\"f g b\",\"e f a- b\",\"d a- a\",\"e- e f+ a\",\"e- e f+ b\",\"c e- g a-\",\"c f a b\",\"c+ e g b\",\"c+ e- e b-\",\"c+ d g b-\",\"d f g\",\"c e- f a-\",\"d f a\",\"c c+ e- f+\",\"c a- b-\",\"c f+ a- a\",\"c+ e- f a\",\"c+ e- f a-\",\"c c+ f a-\",\"d g a b\",\"e- f b\",\"c d f+ a\",\"e- f a\",\"c e- f+ a-\",\"e- f g\",\"c d f+ g\",\"c+ g b\",\"c+ e g b-\",\"d f b\",\"e- f g b\",\"e a b\",\"d e f a\",\"d f f+ a-\",\"c+ e- g a-\",\"e- g b-\",\"d a b\",\"d e- g b\",\"e g a b\",\"c+ e b-\",\"e- g b- b\",\"f a- b- b\",\"d e b- b\",\"c e b\",\"c e a\",\"c e- f f+\",\"c e g\",\"e- f+ b- b\",\"d f+ b-\",\"c+ e a b\",\"d e f+ g\",\"f a- a b\",\"d e f+ b\",\"d e f+ a\",\"c d e g\",\"c d e a\",\"c d e b\",\"e- e a\",\"e- e b\",\"d e a b\",\"e- e g\",\"d f+ a- a\",\"d f+ a- b\",\"c+ e- a-\",\"c c+ a-\",\"c e- f b-\",\"c a b-\",\"c+ f a-\",\"c d a-\",\"c f+ b\",\"c e- a- b\",\"e- f g a-\",\"c f+ a\",\"c f+ g\",\"e f+ g a\",\"c e- a- a\",\"e- e b-\",\"d f+ b\",\"d f+ a\",\"d f+ g\",\"c e- e g\",\"e a- a b\",\"f g a b\",\"c+ g a-\",\"f+ b- b\",\"c+ d f a-\",\"d e f b-\",\"c+ d a b\",\"e g a b-\",\"c g a b\",\"c e- a\",\"c e a b-\",\"c e- b\",\"c e- e\",\"d e- g b-\",\"c e- g\",\"c e- f\",\"c+ f+ b- b\",\"c f f+ a-\",\"c+ g a\",\"c c+ e- b-\",\"c+ a- b-\",\"c+ f+ g b-\",\"c c+ f+ a-\",\"e- f a-\",\"d e g a\",\"e- f a b-\",\"d e g b\",\"c g a-\",\"d a- a b-\",\"c f f+\",\"d e- a- b-\",\"f+ a b-\",\"e f a-\",\"e f+ g b\",\"f f+ a- b-\",\"d f+ a-\",\"c c+ e\",\"c c+ d\",\"c c+ g\",\"c c+ f\",\"c c+ a\",\"e- g a-\",\"c+ e- f+ b-\",\"c e- f+\",\"c g a- b-\",\"e- a- b-\",\"f a b\",\"c+ f+ a\",\"c+ d f b\",\"c a b\",\"c+ f+ g\",\"c+ e b- b\",\"d e- a\",\"d e- b\",\"d e- f\",\"d e- g\",\"f a- b\",\"c c+ e-\",\"d g a- b\",\"c+ d a- b\",\"e f g b-\",\"c c+ e g\",\"c f a- b-\",\"c c+ e a\",\"c+ f a- b\",\"c+ f a- a\",\"c+ f+ a b-\",\"c a- a\",\"c a- b\",\"c+ f+ b\",\"c d a- b-\",\"c+ e f+ a-\",\"d f g b\",\"c+ f f+\",\"e f+ a-\",\"c+ f g b-\",\"d f a- b-\",\"d f g a\",\"e- f+ a\",\"e- f+ b\",\"e- f+ g\",\"c+ d e b\",\"c+ d e a\",\"c+ d e g\",\"c+ e- f+ b\",\"c+ e- f+ a\",\"c+ e- b-\",\"c+ a- b\",\"c e- f+ b-\",\"c+ d f a\",\"d e a- b-\",\"d e b-\",\"c d f+\",\"c+ f+ g a\",\"d e f\",\"d e g\",\"d e a\",\"d e b\",\"c d f a-\",\"c+ e a b-\",\"e a- b-\",\"e- e a b\",\"e g a- b\",\"c+ e- f+ a-\",\"d g b-\",\"d f+ g b\",\"d f+ g a\",\"e- a b\",\"c+ f b\",\"c+ f a\",\"e- e a- b\",\"c+ f g\",\"e- f f+\",\"d e f+\",\"e- g a b\",\"d e- f a-\",\"c+ d f+\",\"e- f+ a- a\",\"e g a-\",\"e- b- b\",\"c c+ g b-\",\"c+ f b-\",\"f f+ b\",\"c+ a- b- b\",\"d e- f a\",\"d e- f g\",\"c f+ g b\",\"c f+ g a\",\"d f b- b\",\"d f a b-\",\"c f a\",\"c f b\",\"c f g\",\"e f+ a- b-\",\"d e a-\",\"f f+ a\",\"c+ f+ a b\",\"e- f+ a- b\",\"c d f b-\",\"d e- a- b\",\"c e g b-\"],\"x\":[-17.295228943778916,-28.197199466829296,-18.74008532073437,-25.805569185109224,-12.222116276558793,-2.4894950645667286,-9.247003674708262,-13.659615402550605,-8.298211168305171,-2.222349278851977,-7.695210055507827,-3.0884629484465584,-18.01848626639238,-25.361921677894788,-18.612295481259842,-15.811976467332837,-21.56379959548223,-12.924478404212957,-12.512678690608851,-6.505292807101031,1.1919705495220734,-9.663316204393249,-4.040452922244188,-3.340641720703899,-11.34351996411875,-12.11117993858833,-10.237743240747221,-15.808855321106119,-12.020418425869513,-18.1259668189878,-10.099790519568913,-15.242715232148381,-15.972895523241979,-20.848559926934943,-12.38164750966065,-12.016517560616109,-14.865870855043529,-18.50386291502294,-10.829064150253695,-11.506306348524522,-13.1417522810836,-10.953287598899083,-26.43657418692009,-11.451532958572345,-10.028189490974144,2.6157674361684204,-17.28413368851745,-10.763392242822544,-10.060047753011268,-23.276080784592427,-23.77584390439081,-9.376529691425121,-0.42017055990161273,-22.16699172557549,-16.92576351208713,-2.196084521602631,-8.084814154796563,-10.87535431966447,-15.520348907716858,-22.83196181933531,-12.355602743120478,-12.042166109912845,-8.588319343721171,-12.055537787531994,-1.3687976932249397,-13.936530978755599,-4.129284931708815,-23.419201263838723,-12.583704703761757,-6.693459153220436,-5.85059279970829,-1.3945238351449587,-21.547399956607062,-13.387163871342395,-15.312106841419764,-27.344723290698155,-20.523000155656455,-28.762081673491604,-23.177793569564617,-13.955326748242715,-24.883990447523885,-24.688361363714492,-22.336312523997123,-22.019601177435096,-12.276301226398768,-7.873337047655864,-14.918333818007113,-16.382335946140934,-6.485559841559892,-12.387898121378242,-13.173903076649523,-19.868369990819108,-20.864959718249203,-18.480565877924693,-9.060121281690991,-29.333544455603437,-11.765014810658034,2.818110245679193,-13.909990932817712,1.0617031722159538,-24.585770577625993,-14.857778787803104,-2.633868119074896,-18.67591597780931,-1.8027188943942647,-10.82934776154474,-11.748087806596617,-9.91401276902904,-16.693737150583804,-21.359858818681516,-16.655804233780245,-12.161422219288541,1.2209064048128107,-13.565883407770313,-1.2077660312178238,-24.444733472442167,-5.959227380856482,-2.907504664366453,-2.6264905721370932,-1.289509195211023,-21.423276026393633,0.4375119840370515,-26.24396693681674,-7.270790859369947,-27.84399260711986,-8.204250446297062,-22.211049368975694,-9.464564374401066,-16.056194418849746,-4.41758064645298,-25.200628260662466,-25.46489714642308,-18.316882688994458,-25.83844209998322,-16.393862284674494,-26.5121146629944,1.4834342239765719,-19.50668552007706,-20.6389025366001,-13.285515365488282,-17.117399066313304,-14.994158544372807,-16.966314689032163,-17.841518855959517,-24.79590007294615,-26.683890644658483,-21.85499716750326,-14.870261645639394,-20.380620685150348,-12.001733725163525,-4.057174071071982,-1.3346436712005065,-2.35408163291343,-12.267637098741169,-14.494982760466785,2.861911085819342,-3.5918702111830596,-12.495784418823138,-14.091649317188073,-11.428287018978587,-16.073559767976473,-21.928563114390943,-25.36917754795867,-21.983623116166473,-24.435222460140302,-21.762099397338353,-6.900037723756493,-8.713739996057647,-12.922578829526163,-15.942888373485108,-10.166102404030555,-16.741305282472712,-25.59119902063577,-1.413943343598842,-7.542747606037368,-15.085529492265662,-25.296951983012377,-7.05251273013849,-3.60500694938083,-10.963440340571236,-24.814582346020337,-17.614066925345313,-9.910316740944076,-4.747947118528584,-2.4295502092059165,-15.413640403241303,-25.736196830300003,-18.657664541744303,-23.364527847739105,-19.48459115920897,-8.388746685986366,-12.75738363138781,-13.05266025144949,-15.120250747838897,-17.59518317393519,-22.535917667193768,2.778248070452519,-11.125286183147988,-15.805670557137102,-16.895205225771956,-0.6525602711554399,-24.098493270556386,-27.827157424385938,-17.434386114561715,-9.36753439714666,-9.038031617307405,-14.779122437421213,-5.94259368763626,-1.3875603375275933,-0.5351035258913204,-23.585903495500045,-11.55955290936276,-6.350233975509361,-16.146202630874736,-16.90144170427294,-2.5685526606246514,-10.76886592586174,-25.234565134147417,-22.34747258361553,-21.628557259875027,-17.679536113264987,-10.867064684594244,-10.222824782680995,-7.352922921820835,-24.451693594283142,-12.703389105361516,-16.036233609626503,-15.093160205835815,-14.592707810139068,-20.20584418244722,-11.54414673252674,-21.62632341645613,0.9360249444671598,-1.3730835641938322,-22.512001369751136,1.302437799998041,-1.5662642374528137,-20.1737385245823,-16.644966505984524,-18.34698648535795,-15.978527872831531,-14.924033926499144,-26.818666539057663,-1.9858879615390426,-7.292292664425737,-7.892862182968429,-8.522751132277406,-10.714389776627605,-4.802822039436678,-15.296523082629655,-23.85565340219181,-14.668139462315262,-27.020794125772458,-24.47131561073697,-16.924679232043562,-2.37576297755827,-12.983154492654329,-23.661144338111804,-3.4613273147580257,-18.854689063845893,-22.92427256085438,-0.37360666310723156,-16.723227959813542,-11.268447664181382,-1.8713496743278653,-13.144891693234765,-9.045789762456707,-9.779786659999766,1.7493687438547734,-26.485144830895866,-10.225373558293294,-26.797286508293325,-0.6516366668348734,-7.998993249633925,-3.9161760159422956,-20.770497524016953,-23.57754468643307,-9.24734316276336,-24.11054324734494,-14.428255252286588,-24.32272119298768,-16.547693089334224,-15.234109207297854,-3.7562807660543336,2.7057366108639056,-26.487789232309524,-21.851086861935194,-23.92849587999424,-15.166135826496628,-6.240313427005843,-2.417883557034898,-18.893672312243,-22.523885418444358,-22.792797177812727,-8.3122878433051,-21.43530839091918,-6.588400128355264,-14.335064689223,-28.54680685944252,-22.11977894822943,-16.827697172455117,-23.958079030207333,-25.991416232206284,-21.153430391535096,-22.46291596899192,-21.07871220812102,-25.224342530130336,-22.59664874790707,-23.198112168449565,-11.89498963278625,-21.92231935043416,-20.674811194546564,-0.5494361499269359,-3.2785019671160063,1.2306462184647429,-10.56988326798456,-9.918112884144106,-7.236072107034349,-16.657036616184005,-1.1509168188481151,-8.550006545722287,-23.890433129035202,-20.191536614231016,-21.877255254523117,-10.733152925410995,-9.412951559386265,-26.646076006091405,-24.93009995052551,-23.295740133865692,-18.332321427120824,-21.456196566482117,-16.677705063827833,-10.163127245798144,-17.06229639366819,-15.32451384306688,-7.596435633553067,-15.254821298518914,-12.971106109011215,-12.137668072020332,-7.260617614646982,-20.146796132235202,-11.065722031870159,-7.574396575687325,2.6407186929578836,-4.367874328804002,-0.5586991615374028,-13.003727344663776,-11.230256166300915,-27.27955143736614,-3.86729724380418,-3.440941195582239,-13.280940114288255,-11.5124442824486,-1.8555122261074954,-26.053927287505346,-0.7274372907494713,-24.850304689559707,-6.899264040855419,-6.4689004101451175,-11.4225609423472,-3.297770338909932,-13.198897167472602,-12.360060051260128,-23.500056768662315,-8.868265617466323,-23.148028483277486,-17.837720511327127,-17.16724912175483,-14.084070907211576,-8.878195278758774,-12.83851706932557,-2.6870435711600043,-12.336550638489928,-10.367294133750944,-8.070572192872504,-1.2616130883635295,-11.76113821010455,-24.298239139938797,-14.635801335805057,-21.09601165443145,-15.026967950952091,-19.043094091521386,-10.709746722791033,-12.056687408662816,-4.015765159956347,-3.403904044082199,-12.717370965498262,-1.7656803868931046,-26.036975421796082,-15.724615978461799,-14.783255256245765,-13.06454396385693,0.3224910531524331,-20.329365800691523,-10.00942869913042,-11.8304162276497,-12.89255219480981,-13.432626150470204,-11.005037613748698,-15.449722925523325,-6.444979222560651,-16.36098924106459,-18.64890620576586,-11.878265157059406,-18.875638464525238,-6.7793228621105115,1.0600489510384234,-17.90471292239295,-13.603561850181563,-16.654212346433564,-17.6402967964023,-16.204086837979645,-25.70288692750376,-25.286365154877686,-16.89239522286479,-15.066894601039037,-1.3883847553034132,-9.70360379075737,-6.896440659015433,-18.174685002014765,-0.9688711616756096,-11.229202005795008,-23.315214881858992,-21.94060269922075,-19.579502906057165,-25.49393839195468,-26.80495543314024,-25.126812011029294,-9.737529332788448,-13.537194372157636,-23.499839112291006,-25.849619364594677,-16.783042481491925,-8.536967574432362,-19.445727340082808,-26.60381513465802,-24.27338612863673,-21.223335207354143,-10.552483571864219,-9.699288379883937,-23.77563499394737,-9.627343273415397,-4.252868842546216,-26.980837847985782,-19.896137803595565,-0.6174252839891735,-27.297515664018963,-14.543450837410372,-14.986601190534472,-6.835983835062905,-12.722466521834875,-8.554106050843979,-17.181896543925028,-8.164931367593992,-8.70246572944197,-16.70974605448484,-15.728761783733399,-22.128613921153296,-9.84293540308155,0.8688930204849246,-14.725652366239496,-21.30900795458219,-22.891609676388857,-17.096971318701307,-26.337657879297684,-12.198964778055949,-21.47278387048776,-16.211879089852427,1.3279096135251576,-4.274265624654863,-12.910422687013993],\"y\":[19.60824870328218,20.15556906056982,23.239162990199134,10.346982540860946,10.394956126753632,12.974436108638976,8.968063997948972,11.823011425765284,9.646313281496841,2.8766143507017636,0.2969625610060196,2.3625136443704235,16.02507198035123,20.25567661924116,2.8216535097715623,25.57012739830365,3.8435007499477405,7.6398801522835225,1.7682019498144248,10.71683600122798,-0.29658436784969144,6.162567191125249,-6.567489891607681,14.567334594584464,16.872368517570276,21.070435042003833,-4.012907727100213,6.117738351983218,27.417186393697982,-3.780035281918165,-3.632847296205277,18.88911077540899,6.152682704303427,25.80903563697702,-0.5219625306037614,10.73816852083881,3.6509118575091652,-3.1807575669014545,-2.325233694545923,21.887616022014384,22.84153139859483,13.973476819167963,10.208578536685291,4.135693337268362,8.187148723510884,10.15519412591797,23.689260688896436,-0.49009859907392406,12.187285559387693,25.28375735093974,4.665028364029353,17.121070884483476,6.276923562669576,8.486623219755685,19.893788620269945,-6.172713270403472,8.223760238851035,22.59737185243594,25.524006387317844,21.746480130606734,2.7322408389380057,16.99911646898975,20.728507467740876,5.770163365248642,3.6591504917404647,21.99626081267836,1.0559415493290554,11.29024213183695,12.835801843052401,12.972083074154133,5.68131484057169,14.973828924603557,21.89919094934788,13.734042107233048,14.293500528380017,12.820822077813219,-3.426297924268868,9.921701170817991,23.61930754629251,17.704256346040207,24.415757070381943,22.12411356500759,7.791709493328875,7.363426828633052,-5.341608042977765,12.003832113810383,12.071504975607567,21.85394787999089,16.63547847533797,13.879083595557034,15.969854112778215,3.155308865223421,2.3530176779227716,0.6634445127780518,-1.420976658129327,20.13470074088801,12.320600264540854,10.206827651888046,12.487291775568915,8.503404418492467,22.054696172005084,-0.7953723692422769,4.27959340612462,5.9803482352592106,3.2231552102267895,9.587910885170876,7.505937726321335,-4.1510144480276585,23.69849928139086,6.3414724717009205,13.903375185912092,0.6661056780206591,1.836747732168723,8.941690547092985,10.100142733308202,4.455481396752837,9.650831511109875,12.279502463513714,1.9613019225161707,9.6581879028025,13.489720228958705,2.837468657047657,2.9279095364151844,20.060882068598822,12.483612421017597,1.166518315380217,23.257701209539643,25.716987656866994,9.354293175264601,9.42481202802449,13.81682262241888,14.96699102320267,16.083907097072654,16.791014603179647,12.849549283844098,14.14235563623999,3.415584016230913,17.811404923647277,3.7728159997785884,-1.944215352610216,15.236712476285557,15.719782150319006,16.01657491964602,17.711120790347504,22.176750283026394,2.678543708336924,9.227447227860583,-6.081253919649674,14.119689953077534,8.478385636751236,-6.7047622336825965,2.797430683572374,18.268363216641767,-5.64392457365049,-3.8864451432073692,9.004114315871902,20.564275067716277,12.543255548074113,15.25099714439967,8.135967385469332,16.912110138298075,6.550439162106535,5.931622800363149,24.590425871996988,4.376775378287349,5.205558116869606,7.512825681764225,16.563389511691604,11.604725214591442,8.683276964524921,19.721728743958018,14.526346103322366,18.783267631523252,17.094804853683634,18.819085920344612,16.8110738253739,22.10498948636889,17.774936539219247,8.52893661723338,14.894766899325653,21.162283909339475,25.20252399606503,-0.8542029146639135,16.221557656083625,14.413641901731582,7.870043994927348,22.965120404452925,8.6269441372793,18.920374108804975,22.01491498554121,1.6873731740485671,-2.662364717426173,11.642392305568277,18.000811524200437,-0.7337529250271279,22.516665077742996,9.701771369086783,10.978397230167662,10.509218995069002,7.724719469386136,13.382017545067303,11.595454453587987,12.182555941478917,17.398367757030492,3.4080125060265427,9.697488991420533,-4.758613164658675,16.125994245014027,4.238412992897171,7.852822935551501,23.220170830960498,7.063517771985059,-0.6862667445612394,3.0200794809139673,3.501069056043633,18.359285211388517,6.086161709522295,12.609374288451125,13.106013740780119,9.633140340137494,19.632999971346464,5.5293262663034675,19.104148729719093,16.192782325433992,21.293680267565747,5.945455636522801,9.878597688680102,-0.40469976698213667,-4.353080854975199,7.495167488211843,-3.3750057477543356,16.434542792311976,8.491882064451566,1.6269402541044768,9.338590899826313,13.361574157346382,16.624334070199836,26.10550826587497,24.869991965798373,19.41979308022887,9.975850480944608,10.911694687999892,12.311881843413891,8.448858366541803,10.636326377228716,1.3482182444907482,21.15349347039842,0.9291212063899363,-2.826338480286808,-2.1152072875299517,2.8057451860505047,11.868956987178448,17.265378769729537,24.14407155615129,20.54467874607952,13.627621723450643,5.523794779818736,13.609802599351035,15.795378972594989,-2.9959278839819765,-4.894959232660629,13.292111023916462,1.629075403338935,19.04594949482853,11.11151302683877,13.152728849646582,5.049178511437672,18.57299108789245,12.981107199004622,3.559166543630254,8.85420161065651,4.8482261137073195,-1.821338615699664,20.334095819705716,5.619830584633546,11.539377218907498,10.609279474270712,-5.974927946091303,-0.30462633855881277,9.521640643804384,20.073896802275264,3.415244602360372,13.277118259816021,15.504287965474433,8.996701016418879,11.044830718091621,8.688795755036843,14.106396520475316,21.545487175957504,12.503206674304757,7.8362487511573695,15.112900890067223,5.564183337993307,5.130303276261341,6.523349232313365,2.270233972896213,10.776164809278034,7.960609358396822,20.82789023867153,12.056720592893921,14.110474651769353,17.74334351461674,13.860823288543752,1.1496253359440431,8.67640706268858,17.84663464847586,22.249304065007937,24.471798175142446,17.477349548319193,15.389817900998025,13.027200295713298,23.391779568096528,16.656411399776644,14.683347611706852,-0.871556582682242,5.385093386132249,19.23185423861745,-0.39708029664871525,12.380126627351098,13.191926485896344,10.62490167520422,7.731018041825939,6.540901740584423,11.84504937311229,15.338153059328892,11.963367605466168,14.8607185904633,13.403890042827761,12.16788217317043,7.843087565579211,26.944074793679953,12.180031812319076,15.340125887106854,19.174811907827248,13.924208557354149,6.152316677988012,14.64157352550969,9.970934288322711,12.229204852413975,6.361970604922778,15.63950257532691,14.089118430358193,6.746333906071404,9.435484903632986,-6.872382959222065,0.27116775131526105,22.253066643972755,18.139532782741693,12.656127933898134,16.546605893335318,18.623061473379675,13.935430080665553,19.3706313436011,6.760323954230017,12.819761643697758,3.4676883347532534,11.604554615244252,-0.6084228086900504,12.260578637587281,9.036910461617044,13.84425029206637,12.615781723931802,2.308005331972801,12.872507980849798,12.910768180996177,13.391987990998846,10.526999582499501,11.63839578938799,1.930092003199074,4.403648354225736,11.331604639742215,11.259566593996205,21.417061995271137,17.874895207606627,0.4174954687539425,10.296604205166597,4.4849638873474476,15.450723497466216,12.664254088234443,10.186309777559579,13.3878015174546,24.66045628219665,9.575960285088211,13.605151715486796,5.672944263832097,9.675821146725875,18.87734493748744,16.11977009666549,3.0924368488395264,17.45211937128166,-3.722218267181477,2.8177454667833546,7.596179599578834,15.227304205621593,24.51129757546706,17.025569306135473,20.9450723459543,15.679473506201536,13.799936212229335,23.417302782814264,12.29789690259052,24.407248456011853,3.388047664365184,22.5814251599415,19.884748102442778,-3.9057322385688518,8.351686087999608,3.998710669502086,16.29253041262315,22.71379805187384,9.089451331389382,14.906276550557735,16.91074900190663,12.695773801979975,22.163855490737333,19.24122374624046,17.398105828912488,25.2771615074913,8.825817917771808,4.242589863972132,8.313809315241071,7.736649015254922,8.692775091212404,12.98521330173648,12.889946650944198,9.631055313755446,16.789169353801555,17.853152591854684,-4.086720024399458,13.138444837710104,23.87430331274995,22.87696271371673,18.677304783818908,20.940650892885422,-2.2112420458686346,4.64297350757532,12.99767204200157,25.92466523874731,22.02798808403913,6.8922023600551405,24.889022418192276,-0.8132421966349989,22.389523334691543,14.687124605176802,19.57269939216678,4.38132960193495,15.324179025259044,20.248876942228943,9.684344665960282,16.1383897478206,0.5971468239953103,3.511408475230993,19.077812785172515,25.625144001694593,9.26674843960112,7.882084837049067,11.864205720740024,9.989322949733971,9.47518450992438,1.4979625072158211,-0.6499839648307699,4.6436086147080715,1.005075916091186,17.31976260856525,19.071665466027177,5.796024980419383,23.77231782155936,21.99534285953485,1.656512971222111,15.690982849375873,-4.100018778667233]}},\"id\":\"81903e07-3a6c-4726-a314-ffc909145f99\",\"type\":\"ColumnDataSource\"},{\"attributes\":{},\"id\":\"737c5cfc-564a-4b1d-b6a2-1dce372c404c\",\"type\":\"ToolEvents\"},{\"attributes\":{\"callback\":null,\"plot\":{\"id\":\"e2f70718-8e0e-453c-9033-8dbb98c836df\",\"subtype\":\"Figure\",\"type\":\"Plot\"},\"tooltips\":\" @label \"},\"id\":\"a3c8bab4-85a3-41d8-ac6a-cfe8cfb3a4ef\",\"type\":\"HoverTool\"},{\"attributes\":{},\"id\":\"67b5e183-3b40-43af-9a9c-7acbd446b94e\",\"type\":\"BasicTickFormatter\"},{\"attributes\":{\"plot\":{\"id\":\"5db259e8-80fb-4a8c-be17-31bf175aa673\",\"subtype\":\"Figure\",\"type\":\"Plot\"}},\"id\":\"0e648b77-d308-42fd-9f65-43504da17588\",\"type\":\"ResizeTool\"},{\"attributes\":{},\"id\":\"78cf68a8-fa20-4b8c-a344-4c6e32b519b2\",\"type\":\"BasicTickFormatter\"},{\"attributes\":{\"data_source\":{\"id\":\"81903e07-3a6c-4726-a314-ffc909145f99\",\"type\":\"ColumnDataSource\"},\"glyph\":{\"id\":\"a1f2f167-5c81-4de9-b3c7-4ac8eebaa19c\",\"type\":\"Circle\"},\"hover_glyph\":null,\"nonselection_glyph\":{\"id\":\"e0056684-e3f1-4b05-9802-076abac96630\",\"type\":\"Circle\"},\"selection_glyph\":null},\"id\":\"b16d0c60-71bb-41e7-9cd8-924e35a308c8\",\"type\":\"GlyphRenderer\"},{\"attributes\":{\"fill_color\":{\"value\":\"#1f77b4\"},\"line_color\":{\"value\":\"#1f77b4\"},\"line_width\":{\"value\":2},\"x\":{\"field\":\"x\"},\"y\":{\"field\":\"y\"}},\"id\":\"134e5cd2-68ff-4f02-a94d-dce0b87ec993\",\"type\":\"Circle\"},{\"attributes\":{\"callback\":null,\"plot\":{\"id\":\"5db259e8-80fb-4a8c-be17-31bf175aa673\",\"subtype\":\"Figure\",\"type\":\"Plot\"},\"tooltips\":\" @label \"},\"id\":\"4ed09f53-dbe1-4e37-bf31-88b861fd1407\",\"type\":\"HoverTool\"},{\"attributes\":{\"below\":[{\"id\":\"d6156540-6ef3-4b3f-bb3e-dd75fa1afb63\",\"type\":\"LinearAxis\"}],\"left\":[{\"id\":\"209ed6d8-f505-4951-a1ef-a0ff1e537c40\",\"type\":\"LinearAxis\"}],\"renderers\":[{\"id\":\"d6156540-6ef3-4b3f-bb3e-dd75fa1afb63\",\"type\":\"LinearAxis\"},{\"id\":\"686e5a63-686f-4e70-aeb5-e8e07ec24192\",\"type\":\"Grid\"},{\"id\":\"209ed6d8-f505-4951-a1ef-a0ff1e537c40\",\"type\":\"LinearAxis\"},{\"id\":\"7dfd5f96-3a44-45d4-90dc-77c015888666\",\"type\":\"Grid\"},{\"id\":\"94664d78-2aea-47ea-9353-68185765bc34\",\"type\":\"BoxAnnotation\"},{\"id\":\"6ed7033d-fd72-4727-b45f-20ac65161b3e\",\"type\":\"GlyphRenderer\"}],\"title\":\"tSNE(word2vec) on corpus ({C} in w)\",\"tool_events\":{\"id\":\"d74cbc6a-ea52-4436-80c3-99687a0a0819\",\"type\":\"ToolEvents\"},\"tools\":[{\"id\":\"af375376-61b3-4a5a-bbea-1b0478995bf2\",\"type\":\"PanTool\"},{\"id\":\"e8900e63-10da-4c4c-a8a8-4e007190f839\",\"type\":\"WheelZoomTool\"},{\"id\":\"f49646fa-45c3-4afb-a6e4-75e2c05b5897\",\"type\":\"BoxZoomTool\"},{\"id\":\"2b98ff1e-be89-4010-b0de-28202e529b0f\",\"type\":\"PreviewSaveTool\"},{\"id\":\"d8e31b11-84c1-4356-ba08-eff0fb2be4e9\",\"type\":\"ResizeTool\"},{\"id\":\"ecb8f65c-53c7-46cf-a1e4-83ced42629b5\",\"type\":\"ResetTool\"},{\"id\":\"1aa1b12a-a1de-4082-b754-801f7e5c1575\",\"type\":\"HelpTool\"},{\"id\":\"ef8139c8-db87-4d31-9ebf-2ab56836c619\",\"type\":\"HoverTool\"}],\"x_range\":{\"id\":\"360de3d0-dfbf-46d6-9281-3079ea00d207\",\"type\":\"DataRange1d\"},\"y_range\":{\"id\":\"141172d6-4c58-4bb6-a704-65f3370eb8e8\",\"type\":\"DataRange1d\"}},\"id\":\"5c5097de-85fe-49da-be1f-a6a7239b52e6\",\"subtype\":\"Figure\",\"type\":\"Plot\"}],\"root_ids\":[\"e2f70718-8e0e-453c-9033-8dbb98c836df\",\"5db259e8-80fb-4a8c-be17-31bf175aa673\",\"5c5097de-85fe-49da-be1f-a6a7239b52e6\"]},\"title\":\"Bokeh Application\",\"version\":\"0.11.1\"}};\n",
       "            var render_items = [{\"docid\":\"864ce3cf-a27f-4714-9762-d25904e2dfaa\",\"elementid\":\"67b9420d-02d2-4684-a5e9-38a60e4490c6\",\"modelid\":\"5c5097de-85fe-49da-be1f-a6a7239b52e6\",\"notebook_comms_target\":\"a9421983-615b-4468-ae04-59c28a8bcb93\"}];\n",
       "            \n",
       "            Bokeh.embed.embed_items(docs_json, render_items);\n",
       "        });\n",
       "      },\n",
       "      function(Bokeh) {\n",
       "      }\n",
       "    ];\n",
       "  \n",
       "    function run_inline_js() {\n",
       "      for (var i = 0; i < inline_js.length; i++) {\n",
       "        inline_js[i](window.Bokeh);\n",
       "      }\n",
       "    }\n",
       "  \n",
       "    if (window._bokeh_is_loading === 0) {\n",
       "      console.log(\"Bokeh: BokehJS loaded, going straight to plotting\");\n",
       "      run_inline_js();\n",
       "    } else {\n",
       "      load_libs(js_urls, function() {\n",
       "        console.log(\"Bokeh: BokehJS plotting callback run at\", now());\n",
       "        run_inline_js();\n",
       "      });\n",
       "    }\n",
       "  }(this));\n",
       "</script>"
      ]
     },
     "metadata": {},
     "output_type": "display_data"
    }
   ],
   "source": [
    "source = ColumnDataSource(\n",
    "    data=dict(\n",
    "        # Use indices to subset np.array\n",
    "        x=proj[q_indices,0],\n",
    "        y=proj[q_indices,1],\n",
    "        label=q_words\n",
    "    )\n",
    ")\n",
    "\n",
    "myplot(source=source, title='tSNE(word2vec) on corpus ({C} in w)')"
   ]
  },
  {
   "cell_type": "markdown",
   "metadata": {
    "collapsed": true
   },
   "source": [
    "Hypothesis: C minor-ish stuff likely to cluster together. E flat (e-) is what differentiates things."
   ]
  },
  {
   "cell_type": "code",
   "execution_count": 20,
   "metadata": {
    "collapsed": false
   },
   "outputs": [
    {
     "data": {
      "text/html": [
       "\n",
       "\n",
       "    <div class=\"plotdiv\" id=\"8b9fccda-7141-497f-9bf7-47035b435739\"></div>\n",
       "<script type=\"text/javascript\">\n",
       "  \n",
       "  (function(global) {\n",
       "    function now() {\n",
       "      return new Date();\n",
       "    }\n",
       "  \n",
       "    if (typeof (window._bokeh_onload_callbacks) === \"undefined\") {\n",
       "      window._bokeh_onload_callbacks = [];\n",
       "    }\n",
       "  \n",
       "    function run_callbacks() {\n",
       "      window._bokeh_onload_callbacks.forEach(function(callback) { callback() });\n",
       "      delete window._bokeh_onload_callbacks\n",
       "      console.info(\"Bokeh: all callbacks have finished\");\n",
       "    }\n",
       "  \n",
       "    function load_libs(js_urls, callback) {\n",
       "      window._bokeh_onload_callbacks.push(callback);\n",
       "      if (window._bokeh_is_loading > 0) {\n",
       "        console.log(\"Bokeh: BokehJS is being loaded, scheduling callback at\", now());\n",
       "        return null;\n",
       "      }\n",
       "      if (js_urls == null || js_urls.length === 0) {\n",
       "        run_callbacks();\n",
       "        return null;\n",
       "      }\n",
       "      console.log(\"Bokeh: BokehJS not loaded, scheduling load and callback at\", now());\n",
       "      window._bokeh_is_loading = js_urls.length;\n",
       "      for (var i = 0; i < js_urls.length; i++) {\n",
       "        var url = js_urls[i];\n",
       "        var s = document.createElement('script');\n",
       "        s.src = url;\n",
       "        s.async = false;\n",
       "        s.onreadystatechange = s.onload = function() {\n",
       "          window._bokeh_is_loading--;\n",
       "          if (window._bokeh_is_loading === 0) {\n",
       "            console.log(\"Bokeh: all BokehJS libraries loaded\");\n",
       "            run_callbacks()\n",
       "          }\n",
       "        };\n",
       "        s.onerror = function() {\n",
       "          console.warn(\"failed to load library \" + url);\n",
       "        };\n",
       "        console.log(\"Bokeh: injecting script tag for BokehJS library: \", url);\n",
       "        document.getElementsByTagName(\"head\")[0].appendChild(s);\n",
       "      }\n",
       "    };var element = document.getElementById(\"8b9fccda-7141-497f-9bf7-47035b435739\");\n",
       "    if (element == null) {\n",
       "      console.log(\"Bokeh: ERROR: autoload.js configured with elementid '8b9fccda-7141-497f-9bf7-47035b435739' but no matching script tag was found. \")\n",
       "      return false;\n",
       "    }\n",
       "  \n",
       "    var js_urls = [];\n",
       "  \n",
       "    var inline_js = [\n",
       "      function(Bokeh) {\n",
       "        Bokeh.$(function() {\n",
       "            var docs_json = {\"849a5eb4-fb7e-4bff-bc23-baa8df1d73b1\":{\"roots\":{\"references\":[{\"attributes\":{},\"id\":\"f4f362f8-11ec-441b-aacb-e63f3e566c8f\",\"type\":\"BasicTickFormatter\"},{\"attributes\":{\"dimension\":1,\"plot\":{\"id\":\"e2f70718-8e0e-453c-9033-8dbb98c836df\",\"subtype\":\"Figure\",\"type\":\"Plot\"},\"ticker\":{\"id\":\"38f872d7-4242-4d1f-a70a-b2fe2fed2d4f\",\"type\":\"BasicTicker\"}},\"id\":\"59566c85-d91f-41f7-bf0d-7d4ca4e3f10b\",\"type\":\"Grid\"},{\"attributes\":{\"plot\":{\"id\":\"5db259e8-80fb-4a8c-be17-31bf175aa673\",\"subtype\":\"Figure\",\"type\":\"Plot\"}},\"id\":\"546a6195-236b-48d3-aa8a-8261ac64bcc3\",\"type\":\"PanTool\"},{\"attributes\":{\"plot\":{\"id\":\"e2f70718-8e0e-453c-9033-8dbb98c836df\",\"subtype\":\"Figure\",\"type\":\"Plot\"},\"ticker\":{\"id\":\"69ab3d2f-0c67-4e1e-a15b-d56f356da535\",\"type\":\"BasicTicker\"}},\"id\":\"5aa58e4a-cd36-4193-ad78-a75a8e0f4e4d\",\"type\":\"Grid\"},{\"attributes\":{\"plot\":{\"id\":\"5c5097de-85fe-49da-be1f-a6a7239b52e6\",\"subtype\":\"Figure\",\"type\":\"Plot\"}},\"id\":\"ecb8f65c-53c7-46cf-a1e4-83ced42629b5\",\"type\":\"ResetTool\"},{\"attributes\":{\"below\":[{\"id\":\"03a5e961-91a4-4505-b8db-b6781afea8c8\",\"type\":\"LinearAxis\"}],\"left\":[{\"id\":\"1b3035db-c2b1-4486-8355-a9c004cf99b9\",\"type\":\"LinearAxis\"}],\"renderers\":[{\"id\":\"03a5e961-91a4-4505-b8db-b6781afea8c8\",\"type\":\"LinearAxis\"},{\"id\":\"54528f31-bac5-4cf8-9177-b66dd0701887\",\"type\":\"Grid\"},{\"id\":\"1b3035db-c2b1-4486-8355-a9c004cf99b9\",\"type\":\"LinearAxis\"},{\"id\":\"638f42da-860b-4cce-8c1b-ff5928631236\",\"type\":\"Grid\"},{\"id\":\"63f49f86-ee3c-400f-a0d4-3b7ad9f7f1b8\",\"type\":\"BoxAnnotation\"},{\"id\":\"967270d5-558c-47e9-81e9-2e38d4b2ffb3\",\"type\":\"GlyphRenderer\"}],\"title\":\"tSNE(word2vec) on corpus ({C} in w)\",\"tool_events\":{\"id\":\"552594b2-0b7c-45d3-aa61-5a2671cd85af\",\"type\":\"ToolEvents\"},\"tools\":[{\"id\":\"bbdc6282-7167-4ac1-a3a0-b34f79204a19\",\"type\":\"PanTool\"},{\"id\":\"03a31167-fd3d-49af-8d20-b0a6b5d0404d\",\"type\":\"WheelZoomTool\"},{\"id\":\"5229f7e9-9b0a-44c1-bd4d-cae40498f5cb\",\"type\":\"BoxZoomTool\"},{\"id\":\"d0f9904d-e7f5-4f19-9ff0-7a0c6ed976ea\",\"type\":\"PreviewSaveTool\"},{\"id\":\"31c62333-ee70-45e7-8e7e-5063205eafd3\",\"type\":\"ResizeTool\"},{\"id\":\"751e84af-c7e0-4ecd-8b57-550724883a9d\",\"type\":\"ResetTool\"},{\"id\":\"8e31fd6a-9728-47cd-8dd3-ac8f184fe547\",\"type\":\"HelpTool\"},{\"id\":\"505e9188-0921-40c0-9b68-27f02badfd5e\",\"type\":\"HoverTool\"}],\"x_range\":{\"id\":\"414adb0e-3d1f-4147-842c-2545f511f653\",\"type\":\"DataRange1d\"},\"y_range\":{\"id\":\"385dec78-7af3-46e4-be83-dd5bc410857f\",\"type\":\"DataRange1d\"}},\"id\":\"978e14e4-9efa-4886-a0c0-e9884b803217\",\"subtype\":\"Figure\",\"type\":\"Plot\"},{\"attributes\":{\"overlay\":{\"id\":\"0d8cbbf8-df1a-4178-a1c3-acecb218d3c9\",\"type\":\"BoxAnnotation\"},\"plot\":{\"id\":\"e2f70718-8e0e-453c-9033-8dbb98c836df\",\"subtype\":\"Figure\",\"type\":\"Plot\"}},\"id\":\"40605d9e-e332-41ed-8d61-88f4a99a7e89\",\"type\":\"BoxZoomTool\"},{\"attributes\":{\"plot\":{\"id\":\"e2f70718-8e0e-453c-9033-8dbb98c836df\",\"subtype\":\"Figure\",\"type\":\"Plot\"}},\"id\":\"d160a420-9f80-4c40-8d0c-3202e7ff7708\",\"type\":\"HelpTool\"},{\"attributes\":{},\"id\":\"2c61cdc4-8979-4b6d-a148-c25c36492c02\",\"type\":\"BasicTickFormatter\"},{\"attributes\":{},\"id\":\"38f872d7-4242-4d1f-a70a-b2fe2fed2d4f\",\"type\":\"BasicTicker\"},{\"attributes\":{\"below\":[{\"id\":\"10f94fac-9069-4a05-b361-ed56bda51c87\",\"type\":\"LinearAxis\"}],\"left\":[{\"id\":\"89be9b20-93ee-4833-b0a0-a76fff678d73\",\"type\":\"LinearAxis\"}],\"renderers\":[{\"id\":\"10f94fac-9069-4a05-b361-ed56bda51c87\",\"type\":\"LinearAxis\"},{\"id\":\"bad4677e-ddd8-4649-a23d-b569393c4c1c\",\"type\":\"Grid\"},{\"id\":\"89be9b20-93ee-4833-b0a0-a76fff678d73\",\"type\":\"LinearAxis\"},{\"id\":\"7a0acecd-0c8f-4750-8a03-1746474949fc\",\"type\":\"Grid\"},{\"id\":\"ce557692-a174-41f3-a35a-fa9a71b122b2\",\"type\":\"BoxAnnotation\"},{\"id\":\"b16d0c60-71bb-41e7-9cd8-924e35a308c8\",\"type\":\"GlyphRenderer\"}],\"title\":\"tSNE(word2vec) on corpus (3 or 4 note only)\",\"tool_events\":{\"id\":\"737c5cfc-564a-4b1d-b6a2-1dce372c404c\",\"type\":\"ToolEvents\"},\"tools\":[{\"id\":\"546a6195-236b-48d3-aa8a-8261ac64bcc3\",\"type\":\"PanTool\"},{\"id\":\"95b7f5c3-9f61-45a4-9129-c265bae0f5bc\",\"type\":\"WheelZoomTool\"},{\"id\":\"cf589a81-5ff7-4726-acd5-fc6b20b66dca\",\"type\":\"BoxZoomTool\"},{\"id\":\"e107afda-8e41-4e42-80e7-2728cd3a8bf4\",\"type\":\"PreviewSaveTool\"},{\"id\":\"0e648b77-d308-42fd-9f65-43504da17588\",\"type\":\"ResizeTool\"},{\"id\":\"fc96a185-43a7-4320-8d64-95b4aa8780df\",\"type\":\"ResetTool\"},{\"id\":\"53f64517-a6f2-443a-9115-b69c13afd70e\",\"type\":\"HelpTool\"},{\"id\":\"4ed09f53-dbe1-4e37-bf31-88b861fd1407\",\"type\":\"HoverTool\"}],\"x_range\":{\"id\":\"ce476cf1-f937-46b1-98f1-1a4c0d192f90\",\"type\":\"DataRange1d\"},\"y_range\":{\"id\":\"0966e24e-8690-47f6-840d-d647f7ccb6da\",\"type\":\"DataRange1d\"}},\"id\":\"5db259e8-80fb-4a8c-be17-31bf175aa673\",\"subtype\":\"Figure\",\"type\":\"Plot\"},{\"attributes\":{},\"id\":\"6927b551-4431-4b78-942b-a17a087201a4\",\"type\":\"BasicTicker\"},{\"attributes\":{\"plot\":{\"id\":\"5db259e8-80fb-4a8c-be17-31bf175aa673\",\"subtype\":\"Figure\",\"type\":\"Plot\"}},\"id\":\"e107afda-8e41-4e42-80e7-2728cd3a8bf4\",\"type\":\"PreviewSaveTool\"},{\"attributes\":{},\"id\":\"4224b5c4-30e4-4c98-927d-ed61cc425761\",\"type\":\"BasicTickFormatter\"},{\"attributes\":{\"formatter\":{\"id\":\"78cf68a8-fa20-4b8c-a344-4c6e32b519b2\",\"type\":\"BasicTickFormatter\"},\"plot\":{\"id\":\"5db259e8-80fb-4a8c-be17-31bf175aa673\",\"subtype\":\"Figure\",\"type\":\"Plot\"},\"ticker\":{\"id\":\"33393877-4632-486c-8d38-bb22ff7cde70\",\"type\":\"BasicTicker\"}},\"id\":\"10f94fac-9069-4a05-b361-ed56bda51c87\",\"type\":\"LinearAxis\"},{\"attributes\":{\"fill_color\":{\"field\":\"mode\"},\"line_color\":{\"field\":\"mode\"},\"line_width\":{\"value\":2},\"x\":{\"field\":\"x\"},\"y\":{\"field\":\"y\"}},\"id\":\"c35435ec-26da-40cb-b60b-de4d0cc98645\",\"type\":\"Circle\"},{\"attributes\":{\"formatter\":{\"id\":\"f4f362f8-11ec-441b-aacb-e63f3e566c8f\",\"type\":\"BasicTickFormatter\"},\"plot\":{\"id\":\"e2f70718-8e0e-453c-9033-8dbb98c836df\",\"subtype\":\"Figure\",\"type\":\"Plot\"},\"ticker\":{\"id\":\"69ab3d2f-0c67-4e1e-a15b-d56f356da535\",\"type\":\"BasicTicker\"}},\"id\":\"c6f0af19-1542-421e-9f66-5599000e89c3\",\"type\":\"LinearAxis\"},{\"attributes\":{\"plot\":{\"id\":\"e2f70718-8e0e-453c-9033-8dbb98c836df\",\"subtype\":\"Figure\",\"type\":\"Plot\"}},\"id\":\"d848fd6f-b183-4b83-aed2-c47ec83c3f4c\",\"type\":\"PreviewSaveTool\"},{\"attributes\":{\"fill_alpha\":{\"value\":0.1},\"fill_color\":{\"value\":\"#1f77b4\"},\"line_alpha\":{\"value\":0.1},\"line_color\":{\"value\":\"#1f77b4\"},\"line_width\":{\"value\":2},\"x\":{\"field\":\"x\"},\"y\":{\"field\":\"y\"}},\"id\":\"011c8a54-977d-4de3-a2a4-ba378039613b\",\"type\":\"Circle\"},{\"attributes\":{\"overlay\":{\"id\":\"63f49f86-ee3c-400f-a0d4-3b7ad9f7f1b8\",\"type\":\"BoxAnnotation\"},\"plot\":{\"id\":\"978e14e4-9efa-4886-a0c0-e9884b803217\",\"subtype\":\"Figure\",\"type\":\"Plot\"}},\"id\":\"5229f7e9-9b0a-44c1-bd4d-cae40498f5cb\",\"type\":\"BoxZoomTool\"},{\"attributes\":{\"dimension\":1,\"plot\":{\"id\":\"978e14e4-9efa-4886-a0c0-e9884b803217\",\"subtype\":\"Figure\",\"type\":\"Plot\"},\"ticker\":{\"id\":\"6927b551-4431-4b78-942b-a17a087201a4\",\"type\":\"BasicTicker\"}},\"id\":\"638f42da-860b-4cce-8c1b-ff5928631236\",\"type\":\"Grid\"},{\"attributes\":{\"data_source\":{\"id\":\"f6251346-bec1-4e49-983f-0e9679414deb\",\"type\":\"ColumnDataSource\"},\"glyph\":{\"id\":\"c35435ec-26da-40cb-b60b-de4d0cc98645\",\"type\":\"Circle\"},\"hover_glyph\":null,\"nonselection_glyph\":{\"id\":\"a9b81872-f2fe-4c04-8d9c-562e7d5457b6\",\"type\":\"Circle\"},\"selection_glyph\":null},\"id\":\"967270d5-558c-47e9-81e9-2e38d4b2ffb3\",\"type\":\"GlyphRenderer\"},{\"attributes\":{\"callback\":null},\"id\":\"360de3d0-dfbf-46d6-9281-3079ea00d207\",\"type\":\"DataRange1d\"},{\"attributes\":{\"plot\":{\"id\":\"5c5097de-85fe-49da-be1f-a6a7239b52e6\",\"subtype\":\"Figure\",\"type\":\"Plot\"},\"ticker\":{\"id\":\"3a81d2b1-31be-4bf4-9ba6-389338c5eb7d\",\"type\":\"BasicTicker\"}},\"id\":\"686e5a63-686f-4e70-aeb5-e8e07ec24192\",\"type\":\"Grid\"},{\"attributes\":{\"callback\":null},\"id\":\"414adb0e-3d1f-4147-842c-2545f511f653\",\"type\":\"DataRange1d\"},{\"attributes\":{\"plot\":{\"id\":\"e2f70718-8e0e-453c-9033-8dbb98c836df\",\"subtype\":\"Figure\",\"type\":\"Plot\"}},\"id\":\"f9f88d90-c27f-46ea-af98-59dd0610ceb7\",\"type\":\"ResizeTool\"},{\"attributes\":{\"data_source\":{\"id\":\"81903e07-3a6c-4726-a314-ffc909145f99\",\"type\":\"ColumnDataSource\"},\"glyph\":{\"id\":\"a1f2f167-5c81-4de9-b3c7-4ac8eebaa19c\",\"type\":\"Circle\"},\"hover_glyph\":null,\"nonselection_glyph\":{\"id\":\"e0056684-e3f1-4b05-9802-076abac96630\",\"type\":\"Circle\"},\"selection_glyph\":null},\"id\":\"b16d0c60-71bb-41e7-9cd8-924e35a308c8\",\"type\":\"GlyphRenderer\"},{\"attributes\":{\"bottom_units\":\"screen\",\"fill_alpha\":{\"value\":0.5},\"fill_color\":{\"value\":\"lightgrey\"},\"left_units\":\"screen\",\"level\":\"overlay\",\"line_alpha\":{\"value\":1.0},\"line_color\":{\"value\":\"black\"},\"line_dash\":[4,4],\"line_width\":{\"value\":2},\"plot\":null,\"render_mode\":\"css\",\"right_units\":\"screen\",\"top_units\":\"screen\"},\"id\":\"0d8cbbf8-df1a-4178-a1c3-acecb218d3c9\",\"type\":\"BoxAnnotation\"},{\"attributes\":{},\"id\":\"518418b3-0b7b-4ca8-b818-c515ee26f28c\",\"type\":\"BasicTicker\"},{\"attributes\":{},\"id\":\"552594b2-0b7c-45d3-aa61-5a2671cd85af\",\"type\":\"ToolEvents\"},{\"attributes\":{\"callback\":null},\"id\":\"f359c293-07c2-48ed-809c-c6f284b66e27\",\"type\":\"DataRange1d\"},{\"attributes\":{\"callback\":null},\"id\":\"5bddc1cd-9a55-43bc-8e7f-c803a360c87e\",\"type\":\"DataRange1d\"},{\"attributes\":{\"callback\":null,\"plot\":{\"id\":\"978e14e4-9efa-4886-a0c0-e9884b803217\",\"subtype\":\"Figure\",\"type\":\"Plot\"},\"tooltips\":\" @label \"},\"id\":\"505e9188-0921-40c0-9b68-27f02badfd5e\",\"type\":\"HoverTool\"},{\"attributes\":{\"plot\":{\"id\":\"e2f70718-8e0e-453c-9033-8dbb98c836df\",\"subtype\":\"Figure\",\"type\":\"Plot\"}},\"id\":\"c4fc73a9-d18f-4033-b8b7-23a63ce867cb\",\"type\":\"PanTool\"},{\"attributes\":{\"formatter\":{\"id\":\"02ae20ec-02c2-4d5d-a467-91312f727ee6\",\"type\":\"BasicTickFormatter\"},\"plot\":{\"id\":\"978e14e4-9efa-4886-a0c0-e9884b803217\",\"subtype\":\"Figure\",\"type\":\"Plot\"},\"ticker\":{\"id\":\"6927b551-4431-4b78-942b-a17a087201a4\",\"type\":\"BasicTicker\"}},\"id\":\"1b3035db-c2b1-4486-8355-a9c004cf99b9\",\"type\":\"LinearAxis\"},{\"attributes\":{},\"id\":\"ee806a16-bb8c-42af-8a8d-6565c71e656a\",\"type\":\"BasicTickFormatter\"},{\"attributes\":{\"overlay\":{\"id\":\"ce557692-a174-41f3-a35a-fa9a71b122b2\",\"type\":\"BoxAnnotation\"},\"plot\":{\"id\":\"5db259e8-80fb-4a8c-be17-31bf175aa673\",\"subtype\":\"Figure\",\"type\":\"Plot\"}},\"id\":\"cf589a81-5ff7-4726-acd5-fc6b20b66dca\",\"type\":\"BoxZoomTool\"},{\"attributes\":{\"fill_alpha\":{\"value\":0.1},\"fill_color\":{\"value\":\"#1f77b4\"},\"line_alpha\":{\"value\":0.1},\"line_color\":{\"value\":\"#1f77b4\"},\"line_width\":{\"value\":2},\"x\":{\"field\":\"x\"},\"y\":{\"field\":\"y\"}},\"id\":\"d289a7b9-7556-40fe-90ae-db92100b3ed6\",\"type\":\"Circle\"},{\"attributes\":{},\"id\":\"90c1741d-63b8-41d9-91f2-fb27701277ab\",\"type\":\"BasicTicker\"},{\"attributes\":{},\"id\":\"d74cbc6a-ea52-4436-80c3-99687a0a0819\",\"type\":\"ToolEvents\"},{\"attributes\":{\"callback\":null},\"id\":\"141172d6-4c58-4bb6-a704-65f3370eb8e8\",\"type\":\"DataRange1d\"},{\"attributes\":{\"plot\":{\"id\":\"5c5097de-85fe-49da-be1f-a6a7239b52e6\",\"subtype\":\"Figure\",\"type\":\"Plot\"}},\"id\":\"d8e31b11-84c1-4356-ba08-eff0fb2be4e9\",\"type\":\"ResizeTool\"},{\"attributes\":{\"plot\":{\"id\":\"5c5097de-85fe-49da-be1f-a6a7239b52e6\",\"subtype\":\"Figure\",\"type\":\"Plot\"}},\"id\":\"af375376-61b3-4a5a-bbea-1b0478995bf2\",\"type\":\"PanTool\"},{\"attributes\":{\"plot\":{\"id\":\"5db259e8-80fb-4a8c-be17-31bf175aa673\",\"subtype\":\"Figure\",\"type\":\"Plot\"}},\"id\":\"fc96a185-43a7-4320-8d64-95b4aa8780df\",\"type\":\"ResetTool\"},{\"attributes\":{\"plot\":{\"id\":\"978e14e4-9efa-4886-a0c0-e9884b803217\",\"subtype\":\"Figure\",\"type\":\"Plot\"}},\"id\":\"03a31167-fd3d-49af-8d20-b0a6b5d0404d\",\"type\":\"WheelZoomTool\"},{\"attributes\":{\"callback\":null},\"id\":\"ce476cf1-f937-46b1-98f1-1a4c0d192f90\",\"type\":\"DataRange1d\"},{\"attributes\":{\"plot\":{\"id\":\"978e14e4-9efa-4886-a0c0-e9884b803217\",\"subtype\":\"Figure\",\"type\":\"Plot\"}},\"id\":\"bbdc6282-7167-4ac1-a3a0-b34f79204a19\",\"type\":\"PanTool\"},{\"attributes\":{\"overlay\":{\"id\":\"94664d78-2aea-47ea-9353-68185765bc34\",\"type\":\"BoxAnnotation\"},\"plot\":{\"id\":\"5c5097de-85fe-49da-be1f-a6a7239b52e6\",\"subtype\":\"Figure\",\"type\":\"Plot\"}},\"id\":\"f49646fa-45c3-4afb-a6e4-75e2c05b5897\",\"type\":\"BoxZoomTool\"},{\"attributes\":{\"fill_color\":{\"value\":\"#1f77b4\"},\"line_color\":{\"value\":\"#1f77b4\"},\"line_width\":{\"value\":2},\"x\":{\"field\":\"x\"},\"y\":{\"field\":\"y\"}},\"id\":\"a1f2f167-5c81-4de9-b3c7-4ac8eebaa19c\",\"type\":\"Circle\"},{\"attributes\":{\"plot\":{\"id\":\"e2f70718-8e0e-453c-9033-8dbb98c836df\",\"subtype\":\"Figure\",\"type\":\"Plot\"}},\"id\":\"6b3aa355-015d-4350-ab43-42819baecdec\",\"type\":\"ResetTool\"},{\"attributes\":{},\"id\":\"67b5e183-3b40-43af-9a9c-7acbd446b94e\",\"type\":\"BasicTickFormatter\"},{\"attributes\":{},\"id\":\"78cf68a8-fa20-4b8c-a344-4c6e32b519b2\",\"type\":\"BasicTickFormatter\"},{\"attributes\":{\"plot\":{\"id\":\"978e14e4-9efa-4886-a0c0-e9884b803217\",\"subtype\":\"Figure\",\"type\":\"Plot\"}},\"id\":\"d0f9904d-e7f5-4f19-9ff0-7a0c6ed976ea\",\"type\":\"PreviewSaveTool\"},{\"attributes\":{\"data_source\":{\"id\":\"90fa74dd-e465-4b60-9081-05e555703f93\",\"type\":\"ColumnDataSource\"},\"glyph\":{\"id\":\"278abd37-e207-4f33-964d-b05263e306f1\",\"type\":\"Circle\"},\"hover_glyph\":null,\"nonselection_glyph\":{\"id\":\"d289a7b9-7556-40fe-90ae-db92100b3ed6\",\"type\":\"Circle\"},\"selection_glyph\":null},\"id\":\"b747c8c9-0cd5-4bdc-ae78-4ad55661e342\",\"type\":\"GlyphRenderer\"},{\"attributes\":{\"callback\":null,\"column_names\":[\"y\",\"x\",\"label\"],\"data\":{\"label\":[\"e- e a-\",\"c+ e a\",\"c+ e b\",\"c+ e g\",\"c+ e f\",\"c e- a- b-\",\"e- f a b\",\"f a- a\",\"f b- b\",\"f+ g\",\"f+ a\",\"f f+ b-\",\"f+ b\",\"d e-\",\"g a- b-\",\"c d b-\",\"d e f a-\",\"c+ e f+ a\",\"c d f g\",\"c+ e f+ b\",\"c d f b\",\"c d f a\",\"c c+ e b-\",\"f+ a-\",\"c d e a- b\",\"e- f f+ b-\",\"c e- f a\",\"c e- f b\",\"g a\",\"c e- f g\",\"c+ e g a b-\",\"c d e f g\",\"c c+ e- a-\",\"e- e f+ a b\",\"c e g a b-\",\"f f+ a-\",\"c c+ f+ b-\",\"e b-\",\"c f a-\",\"d f g a b\",\"c e f\",\"c+ f+ a- b-\",\"d g a b-\",\"c e f a-\",\"e- e f+\",\"e f g\",\"f+ a b\",\"c d e b-\",\"c+ d b-\",\"e f a\",\"c d g b-\",\"c f g a-\",\"c e- e f+ a\",\"f+ a- b-\",\"c+ f+ b-\",\"d f+ a b-\",\"g a b\",\"f a b-\",\"c+ d f b-\",\"e- g a- b-\",\"c e-\",\"e- b-\",\"c+ g b- b\",\"c+ e- g a- b-\",\"e g b-\",\"c e- f+ a- b-\",\"g a- b\",\"c+ d\",\"c e- e a\",\"c e f g\",\"c d f+ a- a\",\"c+ e- f a- b\",\"c+ e- e f+ b-\",\"c+ a\",\"c b-\",\"e- f+ a- b-\",\"d f a-\",\"c d e- a\",\"c+ e- e a-\",\"c d e- g\",\"c d e- f\",\"d a-\",\"c+ e- f+\",\"c+ e f+ b-\",\"c+ a- a\",\"c e g a-\",\"c+ f g a-\",\"e- f f+ a-\",\"c c+ f a\",\"d e- f a b-\",\"c e- a b-\",\"c+ d f+ b-\",\"d a b-\",\"f+ g a\",\"d e- f+ a\",\"e- e g b-\",\"c d e-\",\"c e- a-\",\"c+ e a-\",\"f+ g b-\",\"c+ d f+ b\",\"c+ d f+ a\",\"d e g b-\",\"f+ g b\",\"e f+ a- b\",\"c c+ f+ a\",\"e a- b\",\"e a- a\",\"c g a\",\"c g b\",\"c+ e f b-\",\"a- b- b\",\"d g a-\",\"f+ a- b\",\"e- a- b\",\"e- a- a\",\"f+ a- a\",\"c e g b\",\"c e g a\",\"c d f\",\"e g a- b-\",\"d g\",\"c+ e a- a\",\"e a-\",\"d f a- b- b\",\"c+ a b-\",\"e- f+\",\"c e- f f+ a\",\"c e- g b-\",\"d e- f g b\",\"c e- f+ a- a\",\"d e- f+\",\"e- f a- b-\",\"c+ a b\",\"c e- f+ a b\",\"e- e\",\"c f g a\",\"d e- b-\",\"c f g b\",\"e- f b-\",\"e- f+ g b-\",\"c f a- a\",\"c f a- b\",\"c+ e a- b-\",\"c e f+\",\"c+ d e g b-\",\"e a b-\",\"c e a-\",\"d e- f b-\",\"c+ e- g a b-\",\"g b\",\"c+ d e g a\",\"c e- f+ a\",\"d a- b-\",\"c e- f+ g\",\"e- f+ b-\",\"e f\",\"e g\",\"d e- a-\",\"e b\",\"e a\",\"e- a b-\",\"f a- b-\",\"c+ e f a\",\"d f b-\",\"d g b\",\"c f+ a-\",\"d g a\",\"c e- f+ g a\",\"d f+\",\"g a b-\",\"c+ f+ a- a\",\"c+ f+ a- b\",\"e- g b\",\"e- g a\",\"d f+ a b\",\"c+ d a\",\"c+ d b\",\"c+ d e\",\"c+ d f\",\"c+ d g\",\"c e- f+ a b-\",\"d f g b-\",\"c c+ e- f+ a\",\"c e f+ a\",\"c e f+ g\",\"c g b-\",\"c e a- a\",\"c e a- b\",\"c f+ a b\",\"e f+ g b-\",\"a- a b\",\"c d g b\",\"c d g a\",\"a- b\",\"f g b-\",\"a- a\",\"c+ e g a-\",\"c e- g a\",\"c e- g b\",\"d f f+ b-\",\"c+ e- g b-\",\"c+ f\",\"c+ g\",\"c+ f f+ b-\",\"c+ e\",\"c+ b\",\"c+ d f a- b\",\"c e f b-\",\"e- g a b-\",\"c c+ e- g\",\"c c+ f+\",\"c c+ e- a\",\"e- f f+ a\",\"e- f f+ b\",\"c d b\",\"c d a\",\"c+ e a- b\",\"c d g\",\"c d e\",\"c e- e f\",\"c+ e- e\",\"c d e- f+ a\",\"e f g b\",\"e f g a\",\"c+ f+ a-\",\"c+ a-\",\"d e a- a\",\"d e a- b\",\"d e f g b-\",\"c+ e- g\",\"c+ e- f\",\"c+ e f g b-\",\"c+ e- b\",\"c+ e- a\",\"e- a- b- b\",\"c c+ e- f a\",\"f a- a b-\",\"c+ b- b\",\"d a- a b\",\"e f+ b-\",\"e g b- b\",\"e- f a- b\",\"c+ g a- b-\",\"d f f+\",\"e- a- a b\",\"e f+ g\",\"e f+ a\",\"e f+ b\",\"c c+ b-\",\"c e b-\",\"c b- b\",\"c e- a b\",\"d f a- b\",\"e f+ a b\",\"d b-\",\"e- f g b-\",\"c+ f g b\",\"d e f b\",\"d e f g\",\"c d e- a-\",\"e- f+ g a b\",\"e g b\",\"e g a\",\"c e a b\",\"c d e g b-\",\"c c+\",\"c c+ f b-\",\"d b- b\",\"c f g b-\",\"c+ e- a- b\",\"c e- b-\",\"d f g a-\",\"e- e f a\",\"c f f+ a\",\"f f+\",\"f g a-\",\"d f a- a\",\"f b-\",\"f a-\",\"d f a b\",\"c d e f g b\",\"c+ e- f b-\",\"c f a b-\",\"c c+ e f+ b-\",\"d f g a b-\",\"c+ d g a\",\"d e f+ a-\",\"c+ d g b\",\"e f+ b- b\",\"e f b-\",\"c+ f f+ a-\",\"c+ e- e g\",\"c+ e- e a\",\"c e f+ b-\",\"a b-\",\"f g a b-\",\"c e f a\",\"c f b-\",\"d e f a- b\",\"c d f+ a-\",\"c e a- b-\",\"d e- f a- a b-\",\"d a- b\",\"d g a- b-\",\"e- f\",\"e- g\",\"e- f+ a b-\",\"e- b\",\"e- a\",\"c+ b-\",\"d e- f a- b-\",\"c c+ d a\",\"c+ e- f+ a b\",\"c+ f a- b-\",\"c+ e- a- b-\",\"c+ e-\",\"e- f+ a b\",\"d f f+ a- b\",\"c+ e f+\",\"c a\",\"c b\",\"d f a- a b-\",\"c d\",\"c e\",\"c f\",\"c g\",\"e b- b\",\"d f f+ b\",\"d f f+ a\",\"c+ e g a\",\"f g a- b-\",\"d e- f+ b-\",\"g b- b\",\"e- f+ a-\",\"c f+ b-\",\"c d e f+ a\",\"c+ g b-\",\"c+ e g a b\",\"f g a\",\"f g b\",\"e f a- b\",\"g a-\",\"d a- a\",\"c d e- f a\",\"e- e f+ a\",\"e- e f+ b\",\"c e- g a-\",\"c f a b\",\"c+ e g b\",\"c+ e- e b-\",\"c+ d g b-\",\"d f g\",\"c e- f a-\",\"d f a- a b\",\"d f a\",\"c c+ e- f+\",\"c a- b-\",\"c f+ a- a\",\"c+ e- f a\",\"c+ e- f a-\",\"c c+ f a-\",\"d f g a- b\",\"d g a b\",\"e- f b\",\"c d f+ a\",\"e- f a\",\"c e- f+ a-\",\"e- f g\",\"c d f+ g\",\"c+ g b\",\"c+ e g b-\",\"d f b\",\"e- f g b\",\"c+ e g b- b\",\"e a b\",\"d e f a\",\"c+ e g a- b-\",\"d f f+ a-\",\"c+ e- g a-\",\"e- g b-\",\"d a b\",\"d e- g b\",\"e g a b\",\"d e- e a b\",\"c+ e b-\",\"d f g a- b-\",\"f g\",\"f a\",\"f b\",\"e- g b- b\",\"f a- b- b\",\"d e b- b\",\"c e b\",\"c e a\",\"c e- f f+\",\"c e g\",\"e- f+ b- b\",\"d f+ b-\",\"c+ e a b\",\"d e f+ g\",\"f a- a b\",\"d e f+ b\",\"d e f+ a\",\"c d e g\",\"c d e a\",\"c d e b\",\"e- e a\",\"c d f+ a b\",\"e- e b\",\"c e f+ g b-\",\"d e a b\",\"e- e g\",\"d f+ a- a\",\"d f+ a- b\",\"c e g b- b\",\"c+ e- a-\",\"c c+ a-\",\"c e- f b-\",\"c a b-\",\"c+ f a-\",\"c d a-\",\"c f+ b\",\"c e- a- b\",\"e- f g a-\",\"c f+ a\",\"c f+ g\",\"c e f g b-\",\"e f+ g a\",\"c e- a- a\",\"e- e b-\",\"d f+ b\",\"d f+ a\",\"c c+ e- f+ a-\",\"d f+ g\",\"c e- e g\",\"e a- a b\",\"f g a b\",\"c+ g a-\",\"f+ b- b\",\"c+ d f a-\",\"d e f b-\",\"c d f a b\",\"c+ d a b\",\"e g a b-\",\"c g a b\",\"c e- a\",\"c e a b-\",\"c e- b\",\"c e- e\",\"d e- g b-\",\"c e- g\",\"c e- f\",\"c+ f+ b- b\",\"c e g a- b-\",\"c f f+ a-\",\"c+ g a\",\"c c+ e- b-\",\"c+ a- b-\",\"c+ f+ g b-\",\"c c+ f+ a-\",\"d e a- a b\",\"e- f a-\",\"d e g a\",\"e- f a b-\",\"d e g b\",\"c g a-\",\"d a- a b-\",\"c f f+\",\"d e- a- b-\",\"f+ a b-\",\"e f a-\",\"e f+ g b\",\"f f+ a- b-\",\"d f+ a-\",\"c c+ e\",\"c c+ d\",\"c c+ g\",\"c c+ f\",\"c c+ a\",\"e- g a-\",\"c c+ e g b-\",\"c+ e- f+ b-\",\"a b\",\"c e- f+\",\"c g a- b-\",\"e- a- b-\",\"f a b\",\"c+ f+ a\",\"c+ d f b\",\"c a b\",\"c+ f+ g\",\"c e- f a b-\",\"c+ e b- b\",\"c f+\",\"d e- a\",\"d e- b\",\"d e- f\",\"d e- g\",\"c d f g b\",\"c+ e f+ g b-\",\"c d f a- b-\",\"f a- b\",\"c c+ e f g b-\",\"c c+ e-\",\"d g a- b\",\"c+ d a- b\",\"e f g b-\",\"c c+ e g\",\"c f a- b-\",\"c c+ e a\",\"c+ f a- b\",\"c+ f a- a\",\"c+ f+ a b-\",\"c c+ f g b\",\"c a- a\",\"c a- b\",\"c+ e f+ a- b-\",\"c d f a- b\",\"c+ f+ b\",\"c d a- b-\",\"c+ e f+ a-\",\"g b-\",\"d f g b\",\"c+ f f+\",\"e f+ a-\",\"c+ f g b-\",\"f+ b-\",\"d f a- b-\",\"d f g a\",\"e- f+ a\",\"e- f+ b\",\"e- f+ g\",\"c+ d e b\",\"c+ d e a\",\"c+ d e g\",\"a- b-\",\"c+ e- f+ b\",\"c+ e- f+ a\",\"c+ e- b-\",\"c+ a- b\",\"c e- f+ b-\",\"c+ d f a\",\"d e a- b-\",\"d e b-\",\"c d f+\",\"c+ f+ g a\",\"d f\",\"d e\",\"d b\",\"d a\",\"d e f\",\"d e g\",\"d e a\",\"d e b\",\"c d f a-\",\"c+ e a b-\",\"e a- b-\",\"e- e a b\",\"e g a- b\",\"d e- e a- b\",\"c+ e f+ b- b\",\"c+ e- f+ a-\",\"c c+ e- g b-\",\"d g b-\",\"b- b\",\"d f+ g b\",\"d f+ g a\",\"e- a b\",\"c+ f b\",\"c+ d e a- b\",\"c+ f a\",\"e- e a- b\",\"c+ f g\",\"e- f f+\",\"c d f+ g a\",\"d e f+\",\"d e f g b\",\"e f+\",\"e- a-\",\"e- g a b\",\"d e- f a-\",\"c+ d f+\",\"e- f+ a- a\",\"e g a-\",\"e- b- b\",\"c c+ g b-\",\"c a-\",\"c+ f b-\",\"f f+ b\",\"c+ a- b- b\",\"d e- f a\",\"d e- f g\",\"c f+ g b\",\"c f+ g a\",\"d f b- b\",\"d f a b-\",\"d e- f a- b\",\"c f a\",\"c f b\",\"c f g\",\"c+ f+\",\"e f+ a- b-\",\"d e a-\",\"f f+ a\",\"c+ f+ a b\",\"e- f+ a- b\",\"c d f b-\",\"d e- a- b\",\"c e g b-\"],\"x\":[-17.295228943778916,-28.197199466829296,-18.74008532073437,-25.805569185109224,-12.222116276558793,-2.4894950645667286,-9.247003674708262,-13.659615402550605,-8.298211168305171,-26.97785754107513,-22.163037819359786,-2.222349278851977,-19.52601218329516,-5.494415348312134,-7.695210055507827,-3.0884629484465584,-18.01848626639238,-25.361921677894788,-18.612295481259842,-15.811976467332837,-21.56379959548223,-12.924478404212957,-12.512678690608851,-7.995256522301211,-19.460527052244096,-6.505292807101031,1.1919705495220734,-9.663316204393249,-27.035238572852855,-4.040452922244188,-20.20301770029646,-17.240841329861773,-3.340641720703899,-23.85625985099088,-14.976940930562034,-11.34351996411875,-12.11117993858833,-9.594290887123947,-10.237743240747221,-18.1400194650215,-15.808855321106119,-12.020418425869513,-18.1259668189878,-10.099790519568913,-15.242715232148381,-15.972895523241979,-20.848559926934943,-12.38164750966065,-12.016517560616109,-14.865870855043529,-18.50386291502294,-10.829064150253695,-14.59079471160538,-11.506306348524522,-13.1417522810836,-10.953287598899083,-26.43657418692009,-11.451532958572345,-10.028189490974144,2.6157674361684204,-6.21568414496746,-3.420601182643643,-17.28413368851745,-4.65522476982742,-10.763392242822544,-11.851894873827618,-10.060047753011268,-29.543377668302035,-23.276080784592427,-23.77584390439081,-18.558330147576985,-12.199479984280579,-11.876482460103482,-28.216665840469666,-9.131541682314179,-9.376529691425121,-0.42017055990161273,-22.16699172557549,-16.92576351208713,-2.196084521602631,-8.084814154796563,-17.08065408464061,-10.87535431966447,-15.520348907716858,-22.83196181933531,-12.355602743120478,-12.042166109912845,-8.588319343721171,-12.055537787531994,-9.88772348080698,-1.3687976932249397,-13.936530978755599,-4.129284931708815,-23.419201263838723,-12.583704703761757,-6.693459153220436,-5.85059279970829,-1.3945238351449587,-21.547399956607062,-13.387163871342395,-15.312106841419764,-27.344723290698155,-20.523000155656455,-28.762081673491604,-23.177793569564617,-13.955326748242715,-24.883990447523885,-24.688361363714492,-22.336312523997123,-22.019601177435096,-12.276301226398768,-7.873337047655864,-14.918333818007113,-16.382335946140934,-6.485559841559892,-12.387898121378242,-13.173903076649523,-19.868369990819108,-20.864959718249203,-18.480565877924693,-9.060121281690991,-25.99213444820757,-29.333544455603437,-23.039327218749033,-5.918159946669129,-11.765014810658034,-4.842811966950022,-12.732448868224319,2.818110245679193,-16.27704135448873,-12.274532688620914,-13.909990932817712,1.0617031722159538,-24.585770577625993,-19.748505506592757,-13.385466018795427,-14.857778787803104,-2.633868119074896,-18.67591597780931,-1.8027188943942647,-10.82934776154474,-11.748087806596617,-9.91401276902904,-16.693737150583804,-21.359858818681516,-19.03129849371771,-16.655804233780245,-12.161422219288541,1.2209064048128107,-5.146913302766379,-26.01720318184927,-19.861753402620874,-13.565883407770313,-1.2077660312178238,-24.444733472442167,-5.959227380856482,-15.257889959987125,-18.587893819684172,-2.907504664366453,-23.946425875731094,-28.210584954103243,-2.6264905721370932,-1.289509195211023,-21.423276026393633,0.4375119840370515,-26.24396693681674,-7.270790859369947,-27.84399260711986,-25.04944553807182,-28.796772168646285,-8.204250446297062,-22.211049368975694,-9.464564374401066,-16.056194418849746,-4.41758064645298,-25.200628260662466,-25.46489714642308,-18.316882688994458,-25.83844209998322,-16.393862284674494,-26.5121146629944,-9.459864408224437,1.4834342239765719,-12.743032145419278,-19.50668552007706,-20.6389025366001,-13.285515365488282,-17.117399066313304,-14.994158544372807,-16.966314689032163,-17.841518855959517,-24.79590007294615,-26.683890644658483,-21.85499716750326,-22.219865120671294,-14.870261645639394,-21.3906731116275,-20.380620685150348,-12.001733725163525,-4.057174071071982,-1.3346436712005065,-2.35408163291343,-6.6388285210331555,-9.855413719421916,-12.267637098741169,-22.05723376318817,-19.642434525035995,-15.211011993197804,-14.494982760466785,2.861911085819342,-3.5918702111830596,-12.495784418823138,-14.091649317188073,-11.428287018978587,-16.073559767976473,-21.928563114390943,-25.36917754795867,-21.983623116166473,-24.435222460140302,-21.762099397338353,-6.900037723756493,-8.713739996057647,-12.608646215785155,-12.922578829526163,-15.942888373485108,-10.166102404030555,-7.21025299043903,-16.741305282472712,-25.59119902063577,-12.845224447413244,-1.413943343598842,-7.542747606037368,-10.876031486483376,-15.085529492265662,-25.296951983012377,-7.05251273013849,-8.150691878543055,-3.60500694938083,-10.963440340571236,-24.814582346020337,-17.614066925345313,-9.910316740944076,-4.747947118528584,-2.4295502092059165,-15.413640403241303,-25.736196830300003,-18.657664541744303,-23.364527847739105,-19.48459115920897,-8.388746685986366,-12.75738363138781,-13.05266025144949,-15.120250747838897,-17.59518317393519,-22.535917667193768,-4.610092142898441,2.778248070452519,-11.125286183147988,-15.805670557137102,-16.895205225771956,-0.6525602711554399,-15.806040280040785,-24.098493270556386,-27.827157424385938,-17.434386114561715,-14.850985439917626,-6.842614780097413,-9.36753439714666,-9.038031617307405,-14.779122437421213,-5.94259368763626,-1.3875603375275933,-0.5351035258913204,-23.585903495500045,-11.55955290936276,-6.357921109941941,-6.350233975509361,-16.146202630874736,-4.963140113317274,-11.443032141776241,-16.90144170427294,-17.49563492096805,-2.5685526606246514,-10.76886592586174,-13.876860469662875,-11.194837806663077,-25.234565134147417,-22.34747258361553,-21.628557259875027,-17.679536113264987,-10.867064684594244,-10.222824782680995,-7.352922921820835,-24.451693594283142,-12.703389105361516,-5.800229643101848,-16.036233609626503,-15.093160205835815,-14.592707810139068,-14.877762945087868,-20.20584418244722,-11.54414673252674,1.0296219382184943,-21.62632341645613,0.9360249444671598,-4.940890178842865,-3.449850603414718,-1.3730835641938322,-17.47846449241038,-4.6421147528069175,-6.933334986224671,1.9529892764334913,-22.512001369751136,-16.098371445132155,1.302437799998041,-1.5662642374528137,-7.711827349093297,-20.1737385245823,-16.040949998096146,-16.644966505984524,-10.735911141405188,-18.736340478856025,-8.325038646521515,-19.855800418379943,-19.006021105455147,-14.85130139004386,-18.71862313808466,-18.34698648535795,-15.978527872831531,-14.924033926499144,-26.818666539057663,-1.9858879615390426,-7.292292664425737,-7.892862182968429,-8.522751132277406,-10.714389776627605,-22.962141027935836,-4.802822039436678,-23.21269240662325,-15.296523082629655,-23.85565340219181,-14.668139462315262,-4.864220462934324,-27.020794125772458,-6.781038739935633,-24.47131561073697,-16.924679232043562,-2.37576297755827,-12.983154492654329,-23.661144338111804,-3.4613273147580257,-18.854689063845893,-22.92427256085438,-0.37360666310723156,-13.646414316285785,-16.723227959813542,-11.268447664181382,-1.8713496743278653,-13.144891693234765,-9.045789762456707,-9.779786659999766,1.7493687438547734,-17.80225006024623,-26.485144830895866,-10.225373558293294,-26.797286508293325,-0.6516366668348734,-7.998993249633925,-3.9161760159422956,-20.770497524016953,-23.57754468643307,-9.24734316276336,-24.11054324734494,-14.428255252286588,-19.267053454872666,-24.32272119298768,-16.547693089334224,-12.977136962827304,-15.234109207297854,-3.7562807660543336,2.7057366108639056,-26.487789232309524,-21.851086861935194,-23.92849587999424,-18.413163856691142,-15.166135826496628,-4.424664858917989,-22.170120616611985,-14.753206249740177,-14.630511935144767,-6.240313427005843,-2.417883557034898,-18.893672312243,-22.523885418444358,-22.792797177812727,-8.3122878433051,-21.43530839091918,-6.588400128355264,-14.335064689223,-28.54680685944252,-22.11977894822943,-16.827697172455117,-23.958079030207333,-25.991416232206284,-21.153430391535096,-22.46291596899192,-21.07871220812102,-25.224342530130336,-20.793227039828437,-22.59664874790707,-10.83256078178694,-23.198112168449565,-11.89498963278625,-21.92231935043416,-20.674811194546564,-12.63138383938077,-0.5494361499269359,-3.2785019671160063,1.2306462184647429,-10.56988326798456,-9.918112884144106,-7.236072107034349,-16.657036616184005,-1.1509168188481151,-8.550006545722287,-23.890433129035202,-20.191536614231016,-11.870510703745342,-21.877255254523117,-10.733152925410995,-9.412951559386265,-26.646076006091405,-24.93009995052551,-11.380775693460143,-23.295740133865692,-18.332321427120824,-21.456196566482117,-16.677705063827833,-10.163127245798144,-17.06229639366819,-15.32451384306688,-7.596435633553067,-11.66404588009059,-15.254821298518914,-12.971106109011215,-12.137668072020332,-7.260617614646982,-20.146796132235202,-11.065722031870159,-7.574396575687325,2.6407186929578836,-4.367874328804002,-0.5586991615374028,-13.003727344663776,-10.335248698998946,-11.230256166300915,-27.27955143736614,-3.86729724380418,-3.440941195582239,-13.280940114288255,-11.5124442824486,-20.392736988417447,-1.8555122261074954,-26.053927287505346,-0.7274372907494713,-24.850304689559707,-6.899264040855419,-6.4689004101451175,-11.4225609423472,-3.297770338909932,-13.198897167472602,-12.360060051260128,-23.500056768662315,-8.868265617466323,-23.148028483277486,-17.837720511327127,-17.16724912175483,-14.084070907211576,-8.878195278758774,-12.83851706932557,-2.6870435711600043,-9.943994842735664,-12.336550638489928,-21.107740555286366,-10.367294133750944,-8.070572192872504,-1.2616130883635295,-11.76113821010455,-24.298239139938797,-14.635801335805057,-21.09601165443145,-15.026967950952091,1.326101849322407,-19.043094091521386,-20.21097204449594,-10.709746722791033,-12.056687408662816,-4.015765159956347,-3.403904044082199,-18.7771562762355,-13.805736552991824,-1.417519393744082,-12.717370965498262,-13.00928687682175,-1.7656803868931046,-26.036975421796082,-15.724615978461799,-14.783255256245765,-13.06454396385693,0.3224910531524331,-20.329365800691523,-10.00942869913042,-11.8304162276497,-12.89255219480981,-14.835794239013044,-13.432626150470204,-11.005037613748698,-17.11969554020432,-18.07222378972969,-15.449722925523325,-6.444979222560651,-16.36098924106459,-7.408715617499692,-18.64890620576586,-11.878265157059406,-18.875638464525238,-6.7793228621105115,-10.20786019624074,1.0600489510384234,-17.90471292239295,-13.603561850181563,-16.654212346433564,-17.6402967964023,-16.204086837979645,-25.70288692750376,-25.286365154877686,-1.7595827606839456,-16.89239522286479,-15.066894601039037,-1.3883847553034132,-9.70360379075737,-6.896440659015433,-18.174685002014765,-0.9688711616756096,-11.229202005795008,-23.315214881858992,-21.94060269922075,-14.489110514660496,-28.76545093158634,-18.726339292164944,-28.7838069828502,-19.579502906057165,-25.49393839195468,-26.80495543314024,-25.126812011029294,-9.737529332788448,-13.537194372157636,-23.499839112291006,-25.849619364594677,-16.783042481491925,-17.544208650918765,-14.650518750500188,-8.536967574432362,-1.4071964768200136,-19.445727340082808,-9.04709839717527,-26.60381513465802,-24.27338612863673,-21.223335207354143,-10.552483571864219,-18.46050242922769,-9.699288379883937,-23.77563499394737,-9.627343273415397,-4.252868842546216,-19.35028117521684,-26.980837847985782,-18.56435386849744,-21.231392421676382,-4.165891977808487,-19.896137803595565,-0.6174252839891735,-27.297515664018963,-14.543450837410372,-14.986601190534472,-6.835983835062905,-12.722466521834875,-5.296642517710064,-8.554106050843979,-17.181896543925028,-8.164931367593992,-8.70246572944197,-16.70974605448484,-15.728761783733399,-22.128613921153296,-9.84293540308155,0.8688930204849246,-11.021127883921547,-14.725652366239496,-21.30900795458219,-22.891609676388857,-10.161218290612684,-17.096971318701307,-26.337657879297684,-12.198964778055949,-21.47278387048776,-16.211879089852427,1.3279096135251576,-4.274265624654863,-12.910422687013993],\"y\":[19.60824870328218,20.15556906056982,23.239162990199134,10.346982540860946,10.394956126753632,12.974436108638976,8.968063997948972,11.823011425765284,9.646313281496841,7.470152071167789,11.859723755551821,2.8766143507017636,23.147796438345193,4.290807237331067,0.2969625610060196,2.3625136443704235,16.02507198035123,20.25567661924116,2.8216535097715623,25.57012739830365,3.8435007499477405,7.6398801522835225,1.7682019498144248,22.933910604257147,16.56661538041513,10.71683600122798,-0.29658436784969144,6.162567191125249,7.558426281797137,-6.567489891607681,13.947629851750143,6.967864942711687,14.567334594584464,25.465449108501844,-3.690407424344138,16.872368517570276,21.070435042003833,14.541975122623773,-4.012907727100213,4.3500805225860235,6.117738351983218,27.417186393697982,-3.780035281918165,-3.632847296205277,18.88911077540899,6.152682704303427,25.80903563697702,-0.5219625306037614,10.73816852083881,3.6509118575091652,-3.1807575669014545,-2.325233694545923,13.380040818373164,21.887616022014384,22.84153139859483,13.973476819167963,10.208578536685291,4.135693337268362,8.187148723510884,10.15519412591797,4.941862359114868,10.4686796583689,23.689260688896436,15.895383715031471,-0.49009859907392406,17.444213285388827,12.187285559387693,18.138285397830153,25.28375735093974,4.665028364029353,10.997190824384369,20.73177449997588,26.961717171893042,18.56974952526146,2.716481960704755,17.121070884483476,6.276923562669576,8.486623219755685,19.893788620269945,-6.172713270403472,8.223760238851035,14.076744474437806,22.59737185243594,25.524006387317844,21.746480130606734,2.7322408389380057,16.99911646898975,20.728507467740876,5.770163365248642,8.353502331521026,3.6591504917404647,21.99626081267836,1.0559415493290554,11.29024213183695,12.835801843052401,12.972083074154133,5.68131484057169,14.973828924603557,21.89919094934788,13.734042107233048,14.293500528380017,12.820822077813219,-3.426297924268868,9.921701170817991,23.61930754629251,17.704256346040207,24.415757070381943,22.12411356500759,7.791709493328875,7.363426828633052,-5.341608042977765,12.003832113810383,12.071504975607567,21.85394787999089,16.63547847533797,13.879083595557034,15.969854112778215,3.155308865223421,2.3530176779227716,0.6634445127780518,-1.420976658129327,8.301419676223313,20.13470074088801,19.932301232282253,6.454957203788217,12.320600264540854,20.974288483577876,8.229809945074198,10.206827651888046,10.025328358144595,15.819372655076208,12.487291775568915,8.503404418492467,22.054696172005084,26.19523701759242,19.697971874656186,-0.7953723692422769,4.27959340612462,5.9803482352592106,3.2231552102267895,9.587910885170876,7.505937726321335,-4.1510144480276585,23.69849928139086,6.3414724717009205,-4.17306908581532,13.903375185912092,0.6661056780206591,1.836747732168723,13.69894713358176,8.257497635892685,13.235338111834903,8.941690547092985,10.100142733308202,4.455481396752837,9.650831511109875,5.327893877655516,7.882126514971593,12.279502463513714,19.943895140722724,16.59649912550042,1.9613019225161707,9.6581879028025,13.489720228958705,2.837468657047657,2.9279095364151844,20.060882068598822,12.483612421017597,3.8076059651306084,14.829303793496935,1.166518315380217,23.257701209539643,25.716987656866994,9.354293175264601,9.42481202802449,13.81682262241888,14.96699102320267,16.083907097072654,16.791014603179647,12.849549283844098,14.14235563623999,7.875017136424013,3.415584016230913,16.833333977661127,17.811404923647277,3.7728159997785884,-1.944215352610216,15.236712476285557,15.719782150319006,16.01657491964602,17.711120790347504,22.176750283026394,2.678543708336924,9.227447227860583,19.615134118455558,-6.081253919649674,18.130773845762352,14.119689953077534,8.478385636751236,-6.7047622336825965,2.797430683572374,18.268363216641767,22.4496628281242,14.346873737570176,-5.64392457365049,21.140485676564715,22.072525798876217,16.705006420783867,-3.8864451432073692,9.004114315871902,20.564275067716277,12.543255548074113,15.25099714439967,8.135967385469332,16.912110138298075,6.550439162106535,5.931622800363149,24.590425871996988,4.376775378287349,5.205558116869606,7.512825681764225,16.563389511691604,8.196047279210996,11.604725214591442,8.683276964524921,19.721728743958018,23.16922669723448,14.526346103322366,18.783267631523252,14.385180762179925,17.094804853683634,18.819085920344612,-2.9255605201636596,16.8110738253739,22.10498948636889,17.774936539219247,4.058484754305767,8.52893661723338,14.894766899325653,21.162283909339475,25.20252399606503,-0.8542029146639135,16.221557656083625,14.413641901731582,7.870043994927348,22.965120404452925,8.6269441372793,18.920374108804975,22.01491498554121,1.6873731740485671,-2.662364717426173,11.642392305568277,18.000811524200437,-0.7337529250271279,22.516665077742996,1.639207345194837,9.701771369086783,10.978397230167662,10.509218995069002,7.724719469386136,13.382017545067303,15.745630523261255,11.595454453587987,12.182555941478917,17.398367757030492,-3.5000898824462294,14.090464457002732,3.4080125060265427,9.697488991420533,-4.758613164658675,16.125994245014027,4.238412992897171,7.852822935551501,23.220170830960498,7.063517771985059,21.570345017514235,-0.6862667445612394,3.0200794809139673,2.918350042877544,1.896105206178535,3.501069056043633,6.646550467433371,18.359285211388517,6.086161709522295,24.676644594626854,8.807332084279746,12.609374288451125,13.106013740780119,9.633140340137494,19.632999971346464,5.5293262663034675,19.104148729719093,16.192782325433992,21.293680267565747,5.945455636522801,2.4078456405832385,9.878597688680102,-0.40469976698213667,-4.353080854975199,15.764967843202484,7.495167488211843,-3.3750057477543356,10.472502859555405,16.434542792311976,8.491882064451566,4.999441744785777,9.87579961017019,1.6269402541044768,22.181954388590558,21.373544827358177,14.16058036251083,8.956874359499132,9.338590899826313,18.05107234916896,13.361574157346382,16.624334070199836,17.728085128158195,26.10550826587497,26.26043923601663,24.869991965798373,4.948290334585777,11.024597094437299,10.395597818665994,10.47524905756256,6.4493190884786635,5.329352495116071,7.403488116060113,19.41979308022887,9.975850480944608,10.911694687999892,12.311881843413891,8.448858366541803,10.636326377228716,1.3482182444907482,21.15349347039842,0.9291212063899363,10.754213756311248,-2.826338480286808,13.846087128401564,-2.1152072875299517,2.8057451860505047,11.868956987178448,11.922802286252923,17.265378769729537,9.473811955801954,24.14407155615129,20.54467874607952,13.627621723450643,5.523794779818736,13.609802599351035,15.795378972594989,-2.9959278839819765,-4.894959232660629,13.292111023916462,17.17796807372549,1.629075403338935,19.04594949482853,11.11151302683877,13.152728849646582,5.049178511437672,18.57299108789245,12.981107199004622,-0.40118543260505013,3.559166543630254,8.85420161065651,4.8482261137073195,-1.821338615699664,20.334095819705716,5.619830584633546,11.539377218907498,10.609279474270712,-5.974927946091303,-0.30462633855881277,9.521640643804384,24.693683044525933,20.073896802275264,3.415244602360372,11.633910363263531,13.277118259816021,15.504287965474433,8.996701016418879,11.044830718091621,8.688795755036843,14.106396520475316,14.584902194925258,21.545487175957504,6.7890734944011575,-0.7502365416937065,3.91232823149354,5.460246225159163,12.503206674304757,7.8362487511573695,15.112900890067223,5.564183337993307,5.130303276261341,6.523349232313365,2.270233972896213,10.776164809278034,7.960609358396822,20.82789023867153,12.056720592893921,14.110474651769353,17.74334351461674,13.860823288543752,1.1496253359440431,8.67640706268858,17.84663464847586,22.249304065007937,9.042766583900656,24.471798175142446,-1.0904321570018944,17.477349548319193,15.389817900998025,13.027200295713298,23.391779568096528,-2.9513604715748056,16.656411399776644,14.683347611706852,-0.871556582682242,5.385093386132249,19.23185423861745,-0.39708029664871525,12.380126627351098,13.191926485896344,10.62490167520422,7.731018041825939,6.540901740584423,-3.318860806795153,11.84504937311229,15.338153059328892,11.963367605466168,14.8607185904633,13.403890042827761,18.775856892789808,12.16788217317043,7.843087565579211,26.944074793679953,12.180031812319076,15.340125887106854,19.174811907827248,13.924208557354149,6.152316677988012,9.076923098388951,14.64157352550969,9.970934288322711,12.229204852413975,6.361970604922778,15.63950257532691,14.089118430358193,6.746333906071404,9.435484903632986,-6.872382959222065,0.27116775131526105,22.253066643972755,-2.7671902484507562,18.139532782741693,12.656127933898134,16.546605893335318,18.623061473379675,13.935430080665553,19.3706313436011,15.887888239053357,6.760323954230017,12.819761643697758,3.4676883347532534,11.604554615244252,-0.6084228086900504,12.260578637587281,9.036910461617044,13.84425029206637,12.615781723931802,2.308005331972801,12.872507980849798,12.910768180996177,13.391987990998846,10.526999582499501,11.63839578938799,1.930092003199074,4.403648354225736,11.331604639742215,11.259566593996205,-1.2749344024951075,21.417061995271137,18.125793292314945,17.874895207606627,0.4174954687539425,10.296604205166597,4.4849638873474476,15.450723497466216,12.664254088234443,10.186309777559579,13.3878015174546,-0.8502845735846337,24.66045628219665,10.594104227267543,9.575960285088211,13.605151715486796,5.672944263832097,9.675821146725875,2.7747809056542385,22.55665519986592,8.415680966589996,18.87734493748744,2.129169076100074,16.11977009666549,3.0924368488395264,17.45211937128166,-3.722218267181477,2.8177454667833546,7.596179599578834,15.227304205621593,24.51129757546706,17.025569306135473,20.9450723459543,9.217168417595293,15.679473506201536,13.799936212229335,25.407130734040752,-0.16996456755651992,23.417302782814264,12.29789690259052,24.407248456011853,1.3606667093615634,3.388047664365184,22.5814251599415,19.884748102442778,-3.9057322385688518,22.91654156850503,8.351686087999608,3.998710669502086,16.29253041262315,22.71379805187384,9.089451331389382,14.906276550557735,16.91074900190663,12.695773801979975,11.096097255961757,22.163855490737333,19.24122374624046,17.398105828912488,25.2771615074913,8.825817917771808,4.242589863972132,8.313809315241071,7.736649015254922,8.692775091212404,12.98521330173648,6.985373874292355,15.057606392652938,10.897610839289644,16.003227334322116,12.889946650944198,9.631055313755446,16.789169353801555,17.853152591854684,-4.086720024399458,13.138444837710104,23.87430331274995,22.87696271371673,18.677304783818908,12.84940267878276,22.78840524489702,20.940650892885422,15.829423553229478,-2.2112420458686346,12.530907505429845,4.64297350757532,12.99767204200157,25.92466523874731,22.02798808403913,13.487684425229583,6.8922023600551405,24.889022418192276,-0.8132421966349989,22.389523334691543,10.164138620686604,14.687124605176802,3.630790933979392,26.61268472837556,14.043886335094811,19.57269939216678,4.38132960193495,15.324179025259044,20.248876942228943,9.684344665960282,16.1383897478206,0.5971468239953103,13.778506435701217,3.511408475230993,19.077812785172515,25.625144001694593,9.26674843960112,7.882084837049067,11.864205720740024,9.989322949733971,9.47518450992438,1.4979625072158211,13.743579229109846,-0.6499839648307699,4.6436086147080715,1.005075916091186,23.13250816456705,17.31976260856525,19.071665466027177,5.796024980419383,23.77231782155936,21.99534285953485,1.656512971222111,15.690982849375873,-4.100018778667233]}},\"id\":\"90fa74dd-e465-4b60-9081-05e555703f93\",\"type\":\"ColumnDataSource\"},{\"attributes\":{\"below\":[{\"id\":\"c6f0af19-1542-421e-9f66-5599000e89c3\",\"type\":\"LinearAxis\"}],\"left\":[{\"id\":\"7728932a-243f-42b2-8636-bc7bbaf9c0cd\",\"type\":\"LinearAxis\"}],\"renderers\":[{\"id\":\"c6f0af19-1542-421e-9f66-5599000e89c3\",\"type\":\"LinearAxis\"},{\"id\":\"5aa58e4a-cd36-4193-ad78-a75a8e0f4e4d\",\"type\":\"Grid\"},{\"id\":\"7728932a-243f-42b2-8636-bc7bbaf9c0cd\",\"type\":\"LinearAxis\"},{\"id\":\"59566c85-d91f-41f7-bf0d-7d4ca4e3f10b\",\"type\":\"Grid\"},{\"id\":\"0d8cbbf8-df1a-4178-a1c3-acecb218d3c9\",\"type\":\"BoxAnnotation\"},{\"id\":\"b747c8c9-0cd5-4bdc-ae78-4ad55661e342\",\"type\":\"GlyphRenderer\"}],\"title\":\"tSNE(word2vec) on corpus\",\"tool_events\":{\"id\":\"30c05b1e-2ac3-4c92-b5bb-9880380aade5\",\"type\":\"ToolEvents\"},\"tools\":[{\"id\":\"c4fc73a9-d18f-4033-b8b7-23a63ce867cb\",\"type\":\"PanTool\"},{\"id\":\"af351b7f-77aa-4c10-989b-c9ac7b851606\",\"type\":\"WheelZoomTool\"},{\"id\":\"40605d9e-e332-41ed-8d61-88f4a99a7e89\",\"type\":\"BoxZoomTool\"},{\"id\":\"d848fd6f-b183-4b83-aed2-c47ec83c3f4c\",\"type\":\"PreviewSaveTool\"},{\"id\":\"f9f88d90-c27f-46ea-af98-59dd0610ceb7\",\"type\":\"ResizeTool\"},{\"id\":\"6b3aa355-015d-4350-ab43-42819baecdec\",\"type\":\"ResetTool\"},{\"id\":\"d160a420-9f80-4c40-8d0c-3202e7ff7708\",\"type\":\"HelpTool\"},{\"id\":\"a3c8bab4-85a3-41d8-ac6a-cfe8cfb3a4ef\",\"type\":\"HoverTool\"}],\"x_range\":{\"id\":\"5bddc1cd-9a55-43bc-8e7f-c803a360c87e\",\"type\":\"DataRange1d\"},\"y_range\":{\"id\":\"f359c293-07c2-48ed-809c-c6f284b66e27\",\"type\":\"DataRange1d\"}},\"id\":\"e2f70718-8e0e-453c-9033-8dbb98c836df\",\"subtype\":\"Figure\",\"type\":\"Plot\"},{\"attributes\":{\"formatter\":{\"id\":\"4224b5c4-30e4-4c98-927d-ed61cc425761\",\"type\":\"BasicTickFormatter\"},\"plot\":{\"id\":\"e2f70718-8e0e-453c-9033-8dbb98c836df\",\"subtype\":\"Figure\",\"type\":\"Plot\"},\"ticker\":{\"id\":\"38f872d7-4242-4d1f-a70a-b2fe2fed2d4f\",\"type\":\"BasicTicker\"}},\"id\":\"7728932a-243f-42b2-8636-bc7bbaf9c0cd\",\"type\":\"LinearAxis\"},{\"attributes\":{\"plot\":{\"id\":\"5db259e8-80fb-4a8c-be17-31bf175aa673\",\"subtype\":\"Figure\",\"type\":\"Plot\"},\"ticker\":{\"id\":\"33393877-4632-486c-8d38-bb22ff7cde70\",\"type\":\"BasicTicker\"}},\"id\":\"bad4677e-ddd8-4649-a23d-b569393c4c1c\",\"type\":\"Grid\"},{\"attributes\":{\"callback\":null},\"id\":\"0966e24e-8690-47f6-840d-d647f7ccb6da\",\"type\":\"DataRange1d\"},{\"attributes\":{},\"id\":\"69ab3d2f-0c67-4e1e-a15b-d56f356da535\",\"type\":\"BasicTicker\"},{\"attributes\":{},\"id\":\"30c05b1e-2ac3-4c92-b5bb-9880380aade5\",\"type\":\"ToolEvents\"},{\"attributes\":{\"plot\":{\"id\":\"5c5097de-85fe-49da-be1f-a6a7239b52e6\",\"subtype\":\"Figure\",\"type\":\"Plot\"}},\"id\":\"2b98ff1e-be89-4010-b0de-28202e529b0f\",\"type\":\"PreviewSaveTool\"},{\"attributes\":{\"callback\":null,\"column_names\":[\"y\",\"x\",\"label\"],\"data\":{\"label\":[\"c d b-\",\"c f a-\",\"c e f\",\"c d e-\",\"c e- a-\",\"c g a\",\"c g b\",\"c d f\",\"c e f+\",\"c e a-\",\"c f+ a-\",\"c g b-\",\"c c+ f+\",\"c d b\",\"c d a\",\"c d g\",\"c d e\",\"c c+ b-\",\"c e b-\",\"c b- b\",\"c e- b-\",\"c f b-\",\"c f+ b-\",\"c a- b-\",\"c e b\",\"c e a\",\"c e g\",\"c c+ a-\",\"c a b-\",\"c d a-\",\"c f+ b\",\"c f+ a\",\"c f+ g\",\"c e- a\",\"c e- b\",\"c e- e\",\"c e- g\",\"c e- f\",\"c g a-\",\"c f f+\",\"c c+ e\",\"c c+ d\",\"c c+ g\",\"c c+ f\",\"c c+ a\",\"c e- f+\",\"c a b\",\"c c+ e-\",\"c a- a\",\"c a- b\",\"c d f+\",\"c f a\",\"c f b\",\"c f g\"],\"x\":[-3.0884629484465584,-10.237743240747221,-15.808855321106119,-5.85059279970829,-1.3945238351449587,-22.336312523997123,-22.019601177435096,-18.480565877924693,-21.359858818681516,-12.161422219288541,-7.270790859369947,-13.285515365488282,-12.495784418823138,-21.928563114390943,-25.36917754795867,-24.435222460140302,-21.762099397338353,-8.388746685986366,-12.75738363138781,-13.05266025144949,-1.3875603375275933,-14.592707810139068,-10.714389776627605,-1.8713496743278653,-22.523885418444358,-22.792797177812727,-21.43530839091918,-3.2785019671160063,-10.56988326798456,-7.236072107034349,-16.657036616184005,-23.890433129035202,-20.191536614231016,-7.260617614646982,-11.065722031870159,-7.574396575687325,-4.367874328804002,-0.5586991615374028,-6.899264040855419,-11.4225609423472,-17.837720511327127,-17.16724912175483,-14.084070907211576,-8.878195278758774,-12.83851706932557,-10.367294133750944,-21.09601165443145,-1.7656803868931046,-13.432626150470204,-11.005037613748698,-23.315214881858992,-14.725652366239496,-21.30900795458219,-22.891609676388857],\"y\":[2.3625136443704235,-4.012907727100213,6.117738351983218,5.68131484057169,14.973828924603557,7.791709493328875,7.363426828633052,0.6634445127780518,6.3414724717009205,0.6661056780206591,20.060882068598822,-1.944215352610216,12.543255548074113,6.550439162106535,5.931622800363149,4.376775378287349,5.205558116869606,1.6873731740485671,-2.662364717426173,11.642392305568277,4.238412992897171,-4.353080854975199,0.9291212063899363,11.11151302683877,5.564183337993307,5.130303276261341,2.270233972896213,14.683347611706852,5.385093386132249,-0.39708029664871525,12.380126627351098,7.731018041825939,6.540901740584423,6.361970604922778,14.089118430358193,6.746333906071404,-6.872382959222065,0.27116775131526105,-0.6084228086900504,9.036910461617044,10.526999582499501,11.63839578938799,1.930092003199074,4.403648354225736,11.331604639742215,17.874895207606627,10.186309777559579,16.11977009666549,15.679473506201536,13.799936212229335,8.692775091212404,-0.6499839648307699,4.6436086147080715,1.005075916091186]}},\"id\":\"d172f1da-121f-4516-b69c-0259c92ed594\",\"type\":\"ColumnDataSource\"},{\"attributes\":{\"fill_alpha\":{\"value\":0.1},\"fill_color\":{\"value\":\"#1f77b4\"},\"line_alpha\":{\"value\":0.1},\"line_color\":{\"value\":\"#1f77b4\"},\"line_width\":{\"value\":2},\"x\":{\"field\":\"x\"},\"y\":{\"field\":\"y\"}},\"id\":\"a9b81872-f2fe-4c04-8d9c-562e7d5457b6\",\"type\":\"Circle\"},{\"attributes\":{\"plot\":{\"id\":\"978e14e4-9efa-4886-a0c0-e9884b803217\",\"subtype\":\"Figure\",\"type\":\"Plot\"}},\"id\":\"31c62333-ee70-45e7-8e7e-5063205eafd3\",\"type\":\"ResizeTool\"},{\"attributes\":{\"plot\":{\"id\":\"5db259e8-80fb-4a8c-be17-31bf175aa673\",\"subtype\":\"Figure\",\"type\":\"Plot\"}},\"id\":\"95b7f5c3-9f61-45a4-9129-c265bae0f5bc\",\"type\":\"WheelZoomTool\"},{\"attributes\":{\"callback\":null,\"column_names\":[\"y\",\"x\",\"mode\",\"label\"],\"data\":{\"label\":[\"c d b-\",\"c f a-\",\"c e f\",\"c d e-\",\"c e- a-\",\"c g a\",\"c g b\",\"c d f\",\"c e f+\",\"c e a-\",\"c f+ a-\",\"c g b-\",\"c c+ f+\",\"c d b\",\"c d a\",\"c d g\",\"c d e\",\"c c+ b-\",\"c e b-\",\"c b- b\",\"c e- b-\",\"c f b-\",\"c f+ b-\",\"c a- b-\",\"c e b\",\"c e a\",\"c e g\",\"c c+ a-\",\"c a b-\",\"c d a-\",\"c f+ b\",\"c f+ a\",\"c f+ g\",\"c e- a\",\"c e- b\",\"c e- e\",\"c e- g\",\"c e- f\",\"c g a-\",\"c f f+\",\"c c+ e\",\"c c+ d\",\"c c+ g\",\"c c+ f\",\"c c+ a\",\"c e- f+\",\"c a b\",\"c c+ e-\",\"c a- a\",\"c a- b\",\"c d f+\",\"c f a\",\"c f b\",\"c f g\"],\"mode\":[\"red\",\"red\",\"blue\",\"green\",\"green\",\"red\",\"red\",\"red\",\"blue\",\"blue\",\"red\",\"red\",\"red\",\"red\",\"red\",\"red\",\"red\",\"red\",\"blue\",\"red\",\"green\",\"red\",\"red\",\"red\",\"blue\",\"blue\",\"blue\",\"red\",\"red\",\"red\",\"red\",\"red\",\"red\",\"green\",\"green\",\"green\",\"green\",\"green\",\"red\",\"red\",\"red\",\"red\",\"red\",\"red\",\"red\",\"green\",\"red\",\"green\",\"red\",\"red\",\"red\",\"red\",\"red\",\"red\"],\"x\":[-3.0884629484465584,-10.237743240747221,-15.808855321106119,-5.85059279970829,-1.3945238351449587,-22.336312523997123,-22.019601177435096,-18.480565877924693,-21.359858818681516,-12.161422219288541,-7.270790859369947,-13.285515365488282,-12.495784418823138,-21.928563114390943,-25.36917754795867,-24.435222460140302,-21.762099397338353,-8.388746685986366,-12.75738363138781,-13.05266025144949,-1.3875603375275933,-14.592707810139068,-10.714389776627605,-1.8713496743278653,-22.523885418444358,-22.792797177812727,-21.43530839091918,-3.2785019671160063,-10.56988326798456,-7.236072107034349,-16.657036616184005,-23.890433129035202,-20.191536614231016,-7.260617614646982,-11.065722031870159,-7.574396575687325,-4.367874328804002,-0.5586991615374028,-6.899264040855419,-11.4225609423472,-17.837720511327127,-17.16724912175483,-14.084070907211576,-8.878195278758774,-12.83851706932557,-10.367294133750944,-21.09601165443145,-1.7656803868931046,-13.432626150470204,-11.005037613748698,-23.315214881858992,-14.725652366239496,-21.30900795458219,-22.891609676388857],\"y\":[2.3625136443704235,-4.012907727100213,6.117738351983218,5.68131484057169,14.973828924603557,7.791709493328875,7.363426828633052,0.6634445127780518,6.3414724717009205,0.6661056780206591,20.060882068598822,-1.944215352610216,12.543255548074113,6.550439162106535,5.931622800363149,4.376775378287349,5.205558116869606,1.6873731740485671,-2.662364717426173,11.642392305568277,4.238412992897171,-4.353080854975199,0.9291212063899363,11.11151302683877,5.564183337993307,5.130303276261341,2.270233972896213,14.683347611706852,5.385093386132249,-0.39708029664871525,12.380126627351098,7.731018041825939,6.540901740584423,6.361970604922778,14.089118430358193,6.746333906071404,-6.872382959222065,0.27116775131526105,-0.6084228086900504,9.036910461617044,10.526999582499501,11.63839578938799,1.930092003199074,4.403648354225736,11.331604639742215,17.874895207606627,10.186309777559579,16.11977009666549,15.679473506201536,13.799936212229335,8.692775091212404,-0.6499839648307699,4.6436086147080715,1.005075916091186]}},\"id\":\"f6251346-bec1-4e49-983f-0e9679414deb\",\"type\":\"ColumnDataSource\"},{\"attributes\":{},\"id\":\"3a81d2b1-31be-4bf4-9ba6-389338c5eb7d\",\"type\":\"BasicTicker\"},{\"attributes\":{},\"id\":\"33393877-4632-486c-8d38-bb22ff7cde70\",\"type\":\"BasicTicker\"},{\"attributes\":{},\"id\":\"ce3c9a01-a57a-43b1-a12b-ebfe862e750f\",\"type\":\"BasicTicker\"},{\"attributes\":{\"plot\":{\"id\":\"5db259e8-80fb-4a8c-be17-31bf175aa673\",\"subtype\":\"Figure\",\"type\":\"Plot\"}},\"id\":\"53f64517-a6f2-443a-9115-b69c13afd70e\",\"type\":\"HelpTool\"},{\"attributes\":{\"callback\":null,\"plot\":{\"id\":\"5c5097de-85fe-49da-be1f-a6a7239b52e6\",\"subtype\":\"Figure\",\"type\":\"Plot\"},\"tooltips\":\" @label \"},\"id\":\"ef8139c8-db87-4d31-9ebf-2ab56836c619\",\"type\":\"HoverTool\"},{\"attributes\":{\"dimension\":1,\"plot\":{\"id\":\"5db259e8-80fb-4a8c-be17-31bf175aa673\",\"subtype\":\"Figure\",\"type\":\"Plot\"},\"ticker\":{\"id\":\"ce3c9a01-a57a-43b1-a12b-ebfe862e750f\",\"type\":\"BasicTicker\"}},\"id\":\"7a0acecd-0c8f-4750-8a03-1746474949fc\",\"type\":\"Grid\"},{\"attributes\":{\"callback\":null,\"column_names\":[\"y\",\"x\",\"label\"],\"data\":{\"label\":[\"e- e a-\",\"c+ e a\",\"c+ e b\",\"c+ e g\",\"c+ e f\",\"c e- a- b-\",\"e- f a b\",\"f a- a\",\"f b- b\",\"f f+ b-\",\"g a- b-\",\"c d b-\",\"d e f a-\",\"c+ e f+ a\",\"c d f g\",\"c+ e f+ b\",\"c d f b\",\"c d f a\",\"c c+ e b-\",\"e- f f+ b-\",\"c e- f a\",\"c e- f b\",\"c e- f g\",\"c c+ e- a-\",\"f f+ a-\",\"c c+ f+ b-\",\"c f a-\",\"c e f\",\"c+ f+ a- b-\",\"d g a b-\",\"c e f a-\",\"e- e f+\",\"e f g\",\"f+ a b\",\"c d e b-\",\"c+ d b-\",\"e f a\",\"c d g b-\",\"c f g a-\",\"f+ a- b-\",\"c+ f+ b-\",\"d f+ a b-\",\"g a b\",\"f a b-\",\"c+ d f b-\",\"e- g a- b-\",\"c+ g b- b\",\"e g b-\",\"g a- b\",\"c e- e a\",\"c e f g\",\"e- f+ a- b-\",\"d f a-\",\"c d e- a\",\"c+ e- e a-\",\"c d e- g\",\"c d e- f\",\"c+ e- f+\",\"c+ e f+ b-\",\"c+ a- a\",\"c e g a-\",\"c+ f g a-\",\"e- f f+ a-\",\"c c+ f a\",\"c e- a b-\",\"c+ d f+ b-\",\"d a b-\",\"f+ g a\",\"d e- f+ a\",\"e- e g b-\",\"c d e-\",\"c e- a-\",\"c+ e a-\",\"f+ g b-\",\"c+ d f+ b\",\"c+ d f+ a\",\"d e g b-\",\"f+ g b\",\"e f+ a- b\",\"c c+ f+ a\",\"e a- b\",\"e a- a\",\"c g a\",\"c g b\",\"c+ e f b-\",\"a- b- b\",\"d g a-\",\"f+ a- b\",\"e- a- b\",\"e- a- a\",\"f+ a- a\",\"c e g b\",\"c e g a\",\"c d f\",\"e g a- b-\",\"c+ e a- a\",\"c+ a b-\",\"c e- g b-\",\"d e- f+\",\"e- f a- b-\",\"c+ a b\",\"c f g a\",\"d e- b-\",\"c f g b\",\"e- f b-\",\"e- f+ g b-\",\"c f a- a\",\"c f a- b\",\"c+ e a- b-\",\"c e f+\",\"e a b-\",\"c e a-\",\"d e- f b-\",\"c e- f+ a\",\"d a- b-\",\"c e- f+ g\",\"e- f+ b-\",\"d e- a-\",\"e- a b-\",\"f a- b-\",\"c+ e f a\",\"d f b-\",\"d g b\",\"c f+ a-\",\"d g a\",\"g a b-\",\"c+ f+ a- a\",\"c+ f+ a- b\",\"e- g b\",\"e- g a\",\"d f+ a b\",\"c+ d a\",\"c+ d b\",\"c+ d e\",\"c+ d f\",\"c+ d g\",\"d f g b-\",\"c e f+ a\",\"c e f+ g\",\"c g b-\",\"c e a- a\",\"c e a- b\",\"c f+ a b\",\"e f+ g b-\",\"a- a b\",\"c d g b\",\"c d g a\",\"f g b-\",\"c+ e g a-\",\"c e- g a\",\"c e- g b\",\"d f f+ b-\",\"c+ e- g b-\",\"c+ f f+ b-\",\"c e f b-\",\"e- g a b-\",\"c c+ e- g\",\"c c+ f+\",\"c c+ e- a\",\"e- f f+ a\",\"e- f f+ b\",\"c d b\",\"c d a\",\"c+ e a- b\",\"c d g\",\"c d e\",\"c e- e f\",\"c+ e- e\",\"e f g b\",\"e f g a\",\"c+ f+ a-\",\"d e a- a\",\"d e a- b\",\"c+ e- g\",\"c+ e- f\",\"c+ e- b\",\"c+ e- a\",\"e- a- b- b\",\"f a- a b-\",\"c+ b- b\",\"d a- a b\",\"e f+ b-\",\"e g b- b\",\"e- f a- b\",\"c+ g a- b-\",\"d f f+\",\"e- a- a b\",\"e f+ g\",\"e f+ a\",\"e f+ b\",\"c c+ b-\",\"c e b-\",\"c b- b\",\"c e- a b\",\"d f a- b\",\"e f+ a b\",\"e- f g b-\",\"c+ f g b\",\"d e f b\",\"d e f g\",\"c d e- a-\",\"e g b\",\"e g a\",\"c e a b\",\"c c+ f b-\",\"d b- b\",\"c f g b-\",\"c+ e- a- b\",\"c e- b-\",\"d f g a-\",\"e- e f a\",\"c f f+ a\",\"f g a-\",\"d f a- a\",\"d f a b\",\"c+ e- f b-\",\"c f a b-\",\"c+ d g a\",\"d e f+ a-\",\"c+ d g b\",\"e f+ b- b\",\"e f b-\",\"c+ f f+ a-\",\"c+ e- e g\",\"c+ e- e a\",\"c e f+ b-\",\"f g a b-\",\"c e f a\",\"c f b-\",\"c d f+ a-\",\"c e a- b-\",\"d a- b\",\"d g a- b-\",\"e- f+ a b-\",\"c c+ d a\",\"c+ f a- b-\",\"c+ e- a- b-\",\"e- f+ a b\",\"c+ e f+\",\"e b- b\",\"d f f+ b\",\"d f f+ a\",\"c+ e g a\",\"f g a- b-\",\"d e- f+ b-\",\"g b- b\",\"e- f+ a-\",\"c f+ b-\",\"c+ g b-\",\"f g a\",\"f g b\",\"e f a- b\",\"d a- a\",\"e- e f+ a\",\"e- e f+ b\",\"c e- g a-\",\"c f a b\",\"c+ e g b\",\"c+ e- e b-\",\"c+ d g b-\",\"d f g\",\"c e- f a-\",\"d f a\",\"c c+ e- f+\",\"c a- b-\",\"c f+ a- a\",\"c+ e- f a\",\"c+ e- f a-\",\"c c+ f a-\",\"d g a b\",\"e- f b\",\"c d f+ a\",\"e- f a\",\"c e- f+ a-\",\"e- f g\",\"c d f+ g\",\"c+ g b\",\"c+ e g b-\",\"d f b\",\"e- f g b\",\"e a b\",\"d e f a\",\"d f f+ a-\",\"c+ e- g a-\",\"e- g b-\",\"d a b\",\"d e- g b\",\"e g a b\",\"c+ e b-\",\"e- g b- b\",\"f a- b- b\",\"d e b- b\",\"c e b\",\"c e a\",\"c e- f f+\",\"c e g\",\"e- f+ b- b\",\"d f+ b-\",\"c+ e a b\",\"d e f+ g\",\"f a- a b\",\"d e f+ b\",\"d e f+ a\",\"c d e g\",\"c d e a\",\"c d e b\",\"e- e a\",\"e- e b\",\"d e a b\",\"e- e g\",\"d f+ a- a\",\"d f+ a- b\",\"c+ e- a-\",\"c c+ a-\",\"c e- f b-\",\"c a b-\",\"c+ f a-\",\"c d a-\",\"c f+ b\",\"c e- a- b\",\"e- f g a-\",\"c f+ a\",\"c f+ g\",\"e f+ g a\",\"c e- a- a\",\"e- e b-\",\"d f+ b\",\"d f+ a\",\"d f+ g\",\"c e- e g\",\"e a- a b\",\"f g a b\",\"c+ g a-\",\"f+ b- b\",\"c+ d f a-\",\"d e f b-\",\"c+ d a b\",\"e g a b-\",\"c g a b\",\"c e- a\",\"c e a b-\",\"c e- b\",\"c e- e\",\"d e- g b-\",\"c e- g\",\"c e- f\",\"c+ f+ b- b\",\"c f f+ a-\",\"c+ g a\",\"c c+ e- b-\",\"c+ a- b-\",\"c+ f+ g b-\",\"c c+ f+ a-\",\"e- f a-\",\"d e g a\",\"e- f a b-\",\"d e g b\",\"c g a-\",\"d a- a b-\",\"c f f+\",\"d e- a- b-\",\"f+ a b-\",\"e f a-\",\"e f+ g b\",\"f f+ a- b-\",\"d f+ a-\",\"c c+ e\",\"c c+ d\",\"c c+ g\",\"c c+ f\",\"c c+ a\",\"e- g a-\",\"c+ e- f+ b-\",\"c e- f+\",\"c g a- b-\",\"e- a- b-\",\"f a b\",\"c+ f+ a\",\"c+ d f b\",\"c a b\",\"c+ f+ g\",\"c+ e b- b\",\"d e- a\",\"d e- b\",\"d e- f\",\"d e- g\",\"f a- b\",\"c c+ e-\",\"d g a- b\",\"c+ d a- b\",\"e f g b-\",\"c c+ e g\",\"c f a- b-\",\"c c+ e a\",\"c+ f a- b\",\"c+ f a- a\",\"c+ f+ a b-\",\"c a- a\",\"c a- b\",\"c+ f+ b\",\"c d a- b-\",\"c+ e f+ a-\",\"d f g b\",\"c+ f f+\",\"e f+ a-\",\"c+ f g b-\",\"d f a- b-\",\"d f g a\",\"e- f+ a\",\"e- f+ b\",\"e- f+ g\",\"c+ d e b\",\"c+ d e a\",\"c+ d e g\",\"c+ e- f+ b\",\"c+ e- f+ a\",\"c+ e- b-\",\"c+ a- b\",\"c e- f+ b-\",\"c+ d f a\",\"d e a- b-\",\"d e b-\",\"c d f+\",\"c+ f+ g a\",\"d e f\",\"d e g\",\"d e a\",\"d e b\",\"c d f a-\",\"c+ e a b-\",\"e a- b-\",\"e- e a b\",\"e g a- b\",\"c+ e- f+ a-\",\"d g b-\",\"d f+ g b\",\"d f+ g a\",\"e- a b\",\"c+ f b\",\"c+ f a\",\"e- e a- b\",\"c+ f g\",\"e- f f+\",\"d e f+\",\"e- g a b\",\"d e- f a-\",\"c+ d f+\",\"e- f+ a- a\",\"e g a-\",\"e- b- b\",\"c c+ g b-\",\"c+ f b-\",\"f f+ b\",\"c+ a- b- b\",\"d e- f a\",\"d e- f g\",\"c f+ g b\",\"c f+ g a\",\"d f b- b\",\"d f a b-\",\"c f a\",\"c f b\",\"c f g\",\"e f+ a- b-\",\"d e a-\",\"f f+ a\",\"c+ f+ a b\",\"e- f+ a- b\",\"c d f b-\",\"d e- a- b\",\"c e g b-\"],\"x\":[-17.295228943778916,-28.197199466829296,-18.74008532073437,-25.805569185109224,-12.222116276558793,-2.4894950645667286,-9.247003674708262,-13.659615402550605,-8.298211168305171,-2.222349278851977,-7.695210055507827,-3.0884629484465584,-18.01848626639238,-25.361921677894788,-18.612295481259842,-15.811976467332837,-21.56379959548223,-12.924478404212957,-12.512678690608851,-6.505292807101031,1.1919705495220734,-9.663316204393249,-4.040452922244188,-3.340641720703899,-11.34351996411875,-12.11117993858833,-10.237743240747221,-15.808855321106119,-12.020418425869513,-18.1259668189878,-10.099790519568913,-15.242715232148381,-15.972895523241979,-20.848559926934943,-12.38164750966065,-12.016517560616109,-14.865870855043529,-18.50386291502294,-10.829064150253695,-11.506306348524522,-13.1417522810836,-10.953287598899083,-26.43657418692009,-11.451532958572345,-10.028189490974144,2.6157674361684204,-17.28413368851745,-10.763392242822544,-10.060047753011268,-23.276080784592427,-23.77584390439081,-9.376529691425121,-0.42017055990161273,-22.16699172557549,-16.92576351208713,-2.196084521602631,-8.084814154796563,-10.87535431966447,-15.520348907716858,-22.83196181933531,-12.355602743120478,-12.042166109912845,-8.588319343721171,-12.055537787531994,-1.3687976932249397,-13.936530978755599,-4.129284931708815,-23.419201263838723,-12.583704703761757,-6.693459153220436,-5.85059279970829,-1.3945238351449587,-21.547399956607062,-13.387163871342395,-15.312106841419764,-27.344723290698155,-20.523000155656455,-28.762081673491604,-23.177793569564617,-13.955326748242715,-24.883990447523885,-24.688361363714492,-22.336312523997123,-22.019601177435096,-12.276301226398768,-7.873337047655864,-14.918333818007113,-16.382335946140934,-6.485559841559892,-12.387898121378242,-13.173903076649523,-19.868369990819108,-20.864959718249203,-18.480565877924693,-9.060121281690991,-29.333544455603437,-11.765014810658034,2.818110245679193,-13.909990932817712,1.0617031722159538,-24.585770577625993,-14.857778787803104,-2.633868119074896,-18.67591597780931,-1.8027188943942647,-10.82934776154474,-11.748087806596617,-9.91401276902904,-16.693737150583804,-21.359858818681516,-16.655804233780245,-12.161422219288541,1.2209064048128107,-13.565883407770313,-1.2077660312178238,-24.444733472442167,-5.959227380856482,-2.907504664366453,-2.6264905721370932,-1.289509195211023,-21.423276026393633,0.4375119840370515,-26.24396693681674,-7.270790859369947,-27.84399260711986,-8.204250446297062,-22.211049368975694,-9.464564374401066,-16.056194418849746,-4.41758064645298,-25.200628260662466,-25.46489714642308,-18.316882688994458,-25.83844209998322,-16.393862284674494,-26.5121146629944,1.4834342239765719,-19.50668552007706,-20.6389025366001,-13.285515365488282,-17.117399066313304,-14.994158544372807,-16.966314689032163,-17.841518855959517,-24.79590007294615,-26.683890644658483,-21.85499716750326,-14.870261645639394,-20.380620685150348,-12.001733725163525,-4.057174071071982,-1.3346436712005065,-2.35408163291343,-12.267637098741169,-14.494982760466785,2.861911085819342,-3.5918702111830596,-12.495784418823138,-14.091649317188073,-11.428287018978587,-16.073559767976473,-21.928563114390943,-25.36917754795867,-21.983623116166473,-24.435222460140302,-21.762099397338353,-6.900037723756493,-8.713739996057647,-12.922578829526163,-15.942888373485108,-10.166102404030555,-16.741305282472712,-25.59119902063577,-1.413943343598842,-7.542747606037368,-15.085529492265662,-25.296951983012377,-7.05251273013849,-3.60500694938083,-10.963440340571236,-24.814582346020337,-17.614066925345313,-9.910316740944076,-4.747947118528584,-2.4295502092059165,-15.413640403241303,-25.736196830300003,-18.657664541744303,-23.364527847739105,-19.48459115920897,-8.388746685986366,-12.75738363138781,-13.05266025144949,-15.120250747838897,-17.59518317393519,-22.535917667193768,2.778248070452519,-11.125286183147988,-15.805670557137102,-16.895205225771956,-0.6525602711554399,-24.098493270556386,-27.827157424385938,-17.434386114561715,-9.36753439714666,-9.038031617307405,-14.779122437421213,-5.94259368763626,-1.3875603375275933,-0.5351035258913204,-23.585903495500045,-11.55955290936276,-6.350233975509361,-16.146202630874736,-16.90144170427294,-2.5685526606246514,-10.76886592586174,-25.234565134147417,-22.34747258361553,-21.628557259875027,-17.679536113264987,-10.867064684594244,-10.222824782680995,-7.352922921820835,-24.451693594283142,-12.703389105361516,-16.036233609626503,-15.093160205835815,-14.592707810139068,-20.20584418244722,-11.54414673252674,-21.62632341645613,0.9360249444671598,-1.3730835641938322,-22.512001369751136,1.302437799998041,-1.5662642374528137,-20.1737385245823,-16.644966505984524,-18.34698648535795,-15.978527872831531,-14.924033926499144,-26.818666539057663,-1.9858879615390426,-7.292292664425737,-7.892862182968429,-8.522751132277406,-10.714389776627605,-4.802822039436678,-15.296523082629655,-23.85565340219181,-14.668139462315262,-27.020794125772458,-24.47131561073697,-16.924679232043562,-2.37576297755827,-12.983154492654329,-23.661144338111804,-3.4613273147580257,-18.854689063845893,-22.92427256085438,-0.37360666310723156,-16.723227959813542,-11.268447664181382,-1.8713496743278653,-13.144891693234765,-9.045789762456707,-9.779786659999766,1.7493687438547734,-26.485144830895866,-10.225373558293294,-26.797286508293325,-0.6516366668348734,-7.998993249633925,-3.9161760159422956,-20.770497524016953,-23.57754468643307,-9.24734316276336,-24.11054324734494,-14.428255252286588,-24.32272119298768,-16.547693089334224,-15.234109207297854,-3.7562807660543336,2.7057366108639056,-26.487789232309524,-21.851086861935194,-23.92849587999424,-15.166135826496628,-6.240313427005843,-2.417883557034898,-18.893672312243,-22.523885418444358,-22.792797177812727,-8.3122878433051,-21.43530839091918,-6.588400128355264,-14.335064689223,-28.54680685944252,-22.11977894822943,-16.827697172455117,-23.958079030207333,-25.991416232206284,-21.153430391535096,-22.46291596899192,-21.07871220812102,-25.224342530130336,-22.59664874790707,-23.198112168449565,-11.89498963278625,-21.92231935043416,-20.674811194546564,-0.5494361499269359,-3.2785019671160063,1.2306462184647429,-10.56988326798456,-9.918112884144106,-7.236072107034349,-16.657036616184005,-1.1509168188481151,-8.550006545722287,-23.890433129035202,-20.191536614231016,-21.877255254523117,-10.733152925410995,-9.412951559386265,-26.646076006091405,-24.93009995052551,-23.295740133865692,-18.332321427120824,-21.456196566482117,-16.677705063827833,-10.163127245798144,-17.06229639366819,-15.32451384306688,-7.596435633553067,-15.254821298518914,-12.971106109011215,-12.137668072020332,-7.260617614646982,-20.146796132235202,-11.065722031870159,-7.574396575687325,2.6407186929578836,-4.367874328804002,-0.5586991615374028,-13.003727344663776,-11.230256166300915,-27.27955143736614,-3.86729724380418,-3.440941195582239,-13.280940114288255,-11.5124442824486,-1.8555122261074954,-26.053927287505346,-0.7274372907494713,-24.850304689559707,-6.899264040855419,-6.4689004101451175,-11.4225609423472,-3.297770338909932,-13.198897167472602,-12.360060051260128,-23.500056768662315,-8.868265617466323,-23.148028483277486,-17.837720511327127,-17.16724912175483,-14.084070907211576,-8.878195278758774,-12.83851706932557,-2.6870435711600043,-12.336550638489928,-10.367294133750944,-8.070572192872504,-1.2616130883635295,-11.76113821010455,-24.298239139938797,-14.635801335805057,-21.09601165443145,-15.026967950952091,-19.043094091521386,-10.709746722791033,-12.056687408662816,-4.015765159956347,-3.403904044082199,-12.717370965498262,-1.7656803868931046,-26.036975421796082,-15.724615978461799,-14.783255256245765,-13.06454396385693,0.3224910531524331,-20.329365800691523,-10.00942869913042,-11.8304162276497,-12.89255219480981,-13.432626150470204,-11.005037613748698,-15.449722925523325,-6.444979222560651,-16.36098924106459,-18.64890620576586,-11.878265157059406,-18.875638464525238,-6.7793228621105115,1.0600489510384234,-17.90471292239295,-13.603561850181563,-16.654212346433564,-17.6402967964023,-16.204086837979645,-25.70288692750376,-25.286365154877686,-16.89239522286479,-15.066894601039037,-1.3883847553034132,-9.70360379075737,-6.896440659015433,-18.174685002014765,-0.9688711616756096,-11.229202005795008,-23.315214881858992,-21.94060269922075,-19.579502906057165,-25.49393839195468,-26.80495543314024,-25.126812011029294,-9.737529332788448,-13.537194372157636,-23.499839112291006,-25.849619364594677,-16.783042481491925,-8.536967574432362,-19.445727340082808,-26.60381513465802,-24.27338612863673,-21.223335207354143,-10.552483571864219,-9.699288379883937,-23.77563499394737,-9.627343273415397,-4.252868842546216,-26.980837847985782,-19.896137803595565,-0.6174252839891735,-27.297515664018963,-14.543450837410372,-14.986601190534472,-6.835983835062905,-12.722466521834875,-8.554106050843979,-17.181896543925028,-8.164931367593992,-8.70246572944197,-16.70974605448484,-15.728761783733399,-22.128613921153296,-9.84293540308155,0.8688930204849246,-14.725652366239496,-21.30900795458219,-22.891609676388857,-17.096971318701307,-26.337657879297684,-12.198964778055949,-21.47278387048776,-16.211879089852427,1.3279096135251576,-4.274265624654863,-12.910422687013993],\"y\":[19.60824870328218,20.15556906056982,23.239162990199134,10.346982540860946,10.394956126753632,12.974436108638976,8.968063997948972,11.823011425765284,9.646313281496841,2.8766143507017636,0.2969625610060196,2.3625136443704235,16.02507198035123,20.25567661924116,2.8216535097715623,25.57012739830365,3.8435007499477405,7.6398801522835225,1.7682019498144248,10.71683600122798,-0.29658436784969144,6.162567191125249,-6.567489891607681,14.567334594584464,16.872368517570276,21.070435042003833,-4.012907727100213,6.117738351983218,27.417186393697982,-3.780035281918165,-3.632847296205277,18.88911077540899,6.152682704303427,25.80903563697702,-0.5219625306037614,10.73816852083881,3.6509118575091652,-3.1807575669014545,-2.325233694545923,21.887616022014384,22.84153139859483,13.973476819167963,10.208578536685291,4.135693337268362,8.187148723510884,10.15519412591797,23.689260688896436,-0.49009859907392406,12.187285559387693,25.28375735093974,4.665028364029353,17.121070884483476,6.276923562669576,8.486623219755685,19.893788620269945,-6.172713270403472,8.223760238851035,22.59737185243594,25.524006387317844,21.746480130606734,2.7322408389380057,16.99911646898975,20.728507467740876,5.770163365248642,3.6591504917404647,21.99626081267836,1.0559415493290554,11.29024213183695,12.835801843052401,12.972083074154133,5.68131484057169,14.973828924603557,21.89919094934788,13.734042107233048,14.293500528380017,12.820822077813219,-3.426297924268868,9.921701170817991,23.61930754629251,17.704256346040207,24.415757070381943,22.12411356500759,7.791709493328875,7.363426828633052,-5.341608042977765,12.003832113810383,12.071504975607567,21.85394787999089,16.63547847533797,13.879083595557034,15.969854112778215,3.155308865223421,2.3530176779227716,0.6634445127780518,-1.420976658129327,20.13470074088801,12.320600264540854,10.206827651888046,12.487291775568915,8.503404418492467,22.054696172005084,-0.7953723692422769,4.27959340612462,5.9803482352592106,3.2231552102267895,9.587910885170876,7.505937726321335,-4.1510144480276585,23.69849928139086,6.3414724717009205,13.903375185912092,0.6661056780206591,1.836747732168723,8.941690547092985,10.100142733308202,4.455481396752837,9.650831511109875,12.279502463513714,1.9613019225161707,9.6581879028025,13.489720228958705,2.837468657047657,2.9279095364151844,20.060882068598822,12.483612421017597,1.166518315380217,23.257701209539643,25.716987656866994,9.354293175264601,9.42481202802449,13.81682262241888,14.96699102320267,16.083907097072654,16.791014603179647,12.849549283844098,14.14235563623999,3.415584016230913,17.811404923647277,3.7728159997785884,-1.944215352610216,15.236712476285557,15.719782150319006,16.01657491964602,17.711120790347504,22.176750283026394,2.678543708336924,9.227447227860583,-6.081253919649674,14.119689953077534,8.478385636751236,-6.7047622336825965,2.797430683572374,18.268363216641767,-5.64392457365049,-3.8864451432073692,9.004114315871902,20.564275067716277,12.543255548074113,15.25099714439967,8.135967385469332,16.912110138298075,6.550439162106535,5.931622800363149,24.590425871996988,4.376775378287349,5.205558116869606,7.512825681764225,16.563389511691604,11.604725214591442,8.683276964524921,19.721728743958018,14.526346103322366,18.783267631523252,17.094804853683634,18.819085920344612,16.8110738253739,22.10498948636889,17.774936539219247,8.52893661723338,14.894766899325653,21.162283909339475,25.20252399606503,-0.8542029146639135,16.221557656083625,14.413641901731582,7.870043994927348,22.965120404452925,8.6269441372793,18.920374108804975,22.01491498554121,1.6873731740485671,-2.662364717426173,11.642392305568277,18.000811524200437,-0.7337529250271279,22.516665077742996,9.701771369086783,10.978397230167662,10.509218995069002,7.724719469386136,13.382017545067303,11.595454453587987,12.182555941478917,17.398367757030492,3.4080125060265427,9.697488991420533,-4.758613164658675,16.125994245014027,4.238412992897171,7.852822935551501,23.220170830960498,7.063517771985059,-0.6862667445612394,3.0200794809139673,3.501069056043633,18.359285211388517,6.086161709522295,12.609374288451125,13.106013740780119,9.633140340137494,19.632999971346464,5.5293262663034675,19.104148729719093,16.192782325433992,21.293680267565747,5.945455636522801,9.878597688680102,-0.40469976698213667,-4.353080854975199,7.495167488211843,-3.3750057477543356,16.434542792311976,8.491882064451566,1.6269402541044768,9.338590899826313,13.361574157346382,16.624334070199836,26.10550826587497,24.869991965798373,19.41979308022887,9.975850480944608,10.911694687999892,12.311881843413891,8.448858366541803,10.636326377228716,1.3482182444907482,21.15349347039842,0.9291212063899363,-2.826338480286808,-2.1152072875299517,2.8057451860505047,11.868956987178448,17.265378769729537,24.14407155615129,20.54467874607952,13.627621723450643,5.523794779818736,13.609802599351035,15.795378972594989,-2.9959278839819765,-4.894959232660629,13.292111023916462,1.629075403338935,19.04594949482853,11.11151302683877,13.152728849646582,5.049178511437672,18.57299108789245,12.981107199004622,3.559166543630254,8.85420161065651,4.8482261137073195,-1.821338615699664,20.334095819705716,5.619830584633546,11.539377218907498,10.609279474270712,-5.974927946091303,-0.30462633855881277,9.521640643804384,20.073896802275264,3.415244602360372,13.277118259816021,15.504287965474433,8.996701016418879,11.044830718091621,8.688795755036843,14.106396520475316,21.545487175957504,12.503206674304757,7.8362487511573695,15.112900890067223,5.564183337993307,5.130303276261341,6.523349232313365,2.270233972896213,10.776164809278034,7.960609358396822,20.82789023867153,12.056720592893921,14.110474651769353,17.74334351461674,13.860823288543752,1.1496253359440431,8.67640706268858,17.84663464847586,22.249304065007937,24.471798175142446,17.477349548319193,15.389817900998025,13.027200295713298,23.391779568096528,16.656411399776644,14.683347611706852,-0.871556582682242,5.385093386132249,19.23185423861745,-0.39708029664871525,12.380126627351098,13.191926485896344,10.62490167520422,7.731018041825939,6.540901740584423,11.84504937311229,15.338153059328892,11.963367605466168,14.8607185904633,13.403890042827761,12.16788217317043,7.843087565579211,26.944074793679953,12.180031812319076,15.340125887106854,19.174811907827248,13.924208557354149,6.152316677988012,14.64157352550969,9.970934288322711,12.229204852413975,6.361970604922778,15.63950257532691,14.089118430358193,6.746333906071404,9.435484903632986,-6.872382959222065,0.27116775131526105,22.253066643972755,18.139532782741693,12.656127933898134,16.546605893335318,18.623061473379675,13.935430080665553,19.3706313436011,6.760323954230017,12.819761643697758,3.4676883347532534,11.604554615244252,-0.6084228086900504,12.260578637587281,9.036910461617044,13.84425029206637,12.615781723931802,2.308005331972801,12.872507980849798,12.910768180996177,13.391987990998846,10.526999582499501,11.63839578938799,1.930092003199074,4.403648354225736,11.331604639742215,11.259566593996205,21.417061995271137,17.874895207606627,0.4174954687539425,10.296604205166597,4.4849638873474476,15.450723497466216,12.664254088234443,10.186309777559579,13.3878015174546,24.66045628219665,9.575960285088211,13.605151715486796,5.672944263832097,9.675821146725875,18.87734493748744,16.11977009666549,3.0924368488395264,17.45211937128166,-3.722218267181477,2.8177454667833546,7.596179599578834,15.227304205621593,24.51129757546706,17.025569306135473,20.9450723459543,15.679473506201536,13.799936212229335,23.417302782814264,12.29789690259052,24.407248456011853,3.388047664365184,22.5814251599415,19.884748102442778,-3.9057322385688518,8.351686087999608,3.998710669502086,16.29253041262315,22.71379805187384,9.089451331389382,14.906276550557735,16.91074900190663,12.695773801979975,22.163855490737333,19.24122374624046,17.398105828912488,25.2771615074913,8.825817917771808,4.242589863972132,8.313809315241071,7.736649015254922,8.692775091212404,12.98521330173648,12.889946650944198,9.631055313755446,16.789169353801555,17.853152591854684,-4.086720024399458,13.138444837710104,23.87430331274995,22.87696271371673,18.677304783818908,20.940650892885422,-2.2112420458686346,4.64297350757532,12.99767204200157,25.92466523874731,22.02798808403913,6.8922023600551405,24.889022418192276,-0.8132421966349989,22.389523334691543,14.687124605176802,19.57269939216678,4.38132960193495,15.324179025259044,20.248876942228943,9.684344665960282,16.1383897478206,0.5971468239953103,3.511408475230993,19.077812785172515,25.625144001694593,9.26674843960112,7.882084837049067,11.864205720740024,9.989322949733971,9.47518450992438,1.4979625072158211,-0.6499839648307699,4.6436086147080715,1.005075916091186,17.31976260856525,19.071665466027177,5.796024980419383,23.77231782155936,21.99534285953485,1.656512971222111,15.690982849375873,-4.100018778667233]}},\"id\":\"81903e07-3a6c-4726-a314-ffc909145f99\",\"type\":\"ColumnDataSource\"},{\"attributes\":{\"plot\":{\"id\":\"5db259e8-80fb-4a8c-be17-31bf175aa673\",\"subtype\":\"Figure\",\"type\":\"Plot\"}},\"id\":\"0e648b77-d308-42fd-9f65-43504da17588\",\"type\":\"ResizeTool\"},{\"attributes\":{\"dimension\":1,\"plot\":{\"id\":\"5c5097de-85fe-49da-be1f-a6a7239b52e6\",\"subtype\":\"Figure\",\"type\":\"Plot\"},\"ticker\":{\"id\":\"90c1741d-63b8-41d9-91f2-fb27701277ab\",\"type\":\"BasicTicker\"}},\"id\":\"7dfd5f96-3a44-45d4-90dc-77c015888666\",\"type\":\"Grid\"},{\"attributes\":{},\"id\":\"6d913264-e6bd-43d0-a4ba-3c8604330bcf\",\"type\":\"BasicTickFormatter\"},{\"attributes\":{\"bottom_units\":\"screen\",\"fill_alpha\":{\"value\":0.5},\"fill_color\":{\"value\":\"lightgrey\"},\"left_units\":\"screen\",\"level\":\"overlay\",\"line_alpha\":{\"value\":1.0},\"line_color\":{\"value\":\"black\"},\"line_dash\":[4,4],\"line_width\":{\"value\":2},\"plot\":null,\"render_mode\":\"css\",\"right_units\":\"screen\",\"top_units\":\"screen\"},\"id\":\"ce557692-a174-41f3-a35a-fa9a71b122b2\",\"type\":\"BoxAnnotation\"},{\"attributes\":{},\"id\":\"737c5cfc-564a-4b1d-b6a2-1dce372c404c\",\"type\":\"ToolEvents\"},{\"attributes\":{\"fill_color\":{\"value\":\"#1f77b4\"},\"line_color\":{\"value\":\"#1f77b4\"},\"line_width\":{\"value\":2},\"x\":{\"field\":\"x\"},\"y\":{\"field\":\"y\"}},\"id\":\"278abd37-e207-4f33-964d-b05263e306f1\",\"type\":\"Circle\"},{\"attributes\":{\"data_source\":{\"id\":\"d172f1da-121f-4516-b69c-0259c92ed594\",\"type\":\"ColumnDataSource\"},\"glyph\":{\"id\":\"134e5cd2-68ff-4f02-a94d-dce0b87ec993\",\"type\":\"Circle\"},\"hover_glyph\":null,\"nonselection_glyph\":{\"id\":\"011c8a54-977d-4de3-a2a4-ba378039613b\",\"type\":\"Circle\"},\"selection_glyph\":null},\"id\":\"6ed7033d-fd72-4727-b45f-20ac65161b3e\",\"type\":\"GlyphRenderer\"},{\"attributes\":{\"fill_alpha\":{\"value\":0.1},\"fill_color\":{\"value\":\"#1f77b4\"},\"line_alpha\":{\"value\":0.1},\"line_color\":{\"value\":\"#1f77b4\"},\"line_width\":{\"value\":2},\"x\":{\"field\":\"x\"},\"y\":{\"field\":\"y\"}},\"id\":\"e0056684-e3f1-4b05-9802-076abac96630\",\"type\":\"Circle\"},{\"attributes\":{\"formatter\":{\"id\":\"2c61cdc4-8979-4b6d-a148-c25c36492c02\",\"type\":\"BasicTickFormatter\"},\"plot\":{\"id\":\"5c5097de-85fe-49da-be1f-a6a7239b52e6\",\"subtype\":\"Figure\",\"type\":\"Plot\"},\"ticker\":{\"id\":\"3a81d2b1-31be-4bf4-9ba6-389338c5eb7d\",\"type\":\"BasicTicker\"}},\"id\":\"d6156540-6ef3-4b3f-bb3e-dd75fa1afb63\",\"type\":\"LinearAxis\"},{\"attributes\":{\"bottom_units\":\"screen\",\"fill_alpha\":{\"value\":0.5},\"fill_color\":{\"value\":\"lightgrey\"},\"left_units\":\"screen\",\"level\":\"overlay\",\"line_alpha\":{\"value\":1.0},\"line_color\":{\"value\":\"black\"},\"line_dash\":[4,4],\"line_width\":{\"value\":2},\"plot\":null,\"render_mode\":\"css\",\"right_units\":\"screen\",\"top_units\":\"screen\"},\"id\":\"94664d78-2aea-47ea-9353-68185765bc34\",\"type\":\"BoxAnnotation\"},{\"attributes\":{\"plot\":{\"id\":\"e2f70718-8e0e-453c-9033-8dbb98c836df\",\"subtype\":\"Figure\",\"type\":\"Plot\"}},\"id\":\"af351b7f-77aa-4c10-989b-c9ac7b851606\",\"type\":\"WheelZoomTool\"},{\"attributes\":{\"formatter\":{\"id\":\"ee806a16-bb8c-42af-8a8d-6565c71e656a\",\"type\":\"BasicTickFormatter\"},\"plot\":{\"id\":\"5c5097de-85fe-49da-be1f-a6a7239b52e6\",\"subtype\":\"Figure\",\"type\":\"Plot\"},\"ticker\":{\"id\":\"90c1741d-63b8-41d9-91f2-fb27701277ab\",\"type\":\"BasicTicker\"}},\"id\":\"209ed6d8-f505-4951-a1ef-a0ff1e537c40\",\"type\":\"LinearAxis\"},{\"attributes\":{\"plot\":{\"id\":\"978e14e4-9efa-4886-a0c0-e9884b803217\",\"subtype\":\"Figure\",\"type\":\"Plot\"}},\"id\":\"751e84af-c7e0-4ecd-8b57-550724883a9d\",\"type\":\"ResetTool\"},{\"attributes\":{\"below\":[{\"id\":\"d6156540-6ef3-4b3f-bb3e-dd75fa1afb63\",\"type\":\"LinearAxis\"}],\"left\":[{\"id\":\"209ed6d8-f505-4951-a1ef-a0ff1e537c40\",\"type\":\"LinearAxis\"}],\"renderers\":[{\"id\":\"d6156540-6ef3-4b3f-bb3e-dd75fa1afb63\",\"type\":\"LinearAxis\"},{\"id\":\"686e5a63-686f-4e70-aeb5-e8e07ec24192\",\"type\":\"Grid\"},{\"id\":\"209ed6d8-f505-4951-a1ef-a0ff1e537c40\",\"type\":\"LinearAxis\"},{\"id\":\"7dfd5f96-3a44-45d4-90dc-77c015888666\",\"type\":\"Grid\"},{\"id\":\"94664d78-2aea-47ea-9353-68185765bc34\",\"type\":\"BoxAnnotation\"},{\"id\":\"6ed7033d-fd72-4727-b45f-20ac65161b3e\",\"type\":\"GlyphRenderer\"}],\"title\":\"tSNE(word2vec) on corpus ({C} in w)\",\"tool_events\":{\"id\":\"d74cbc6a-ea52-4436-80c3-99687a0a0819\",\"type\":\"ToolEvents\"},\"tools\":[{\"id\":\"af375376-61b3-4a5a-bbea-1b0478995bf2\",\"type\":\"PanTool\"},{\"id\":\"e8900e63-10da-4c4c-a8a8-4e007190f839\",\"type\":\"WheelZoomTool\"},{\"id\":\"f49646fa-45c3-4afb-a6e4-75e2c05b5897\",\"type\":\"BoxZoomTool\"},{\"id\":\"2b98ff1e-be89-4010-b0de-28202e529b0f\",\"type\":\"PreviewSaveTool\"},{\"id\":\"d8e31b11-84c1-4356-ba08-eff0fb2be4e9\",\"type\":\"ResizeTool\"},{\"id\":\"ecb8f65c-53c7-46cf-a1e4-83ced42629b5\",\"type\":\"ResetTool\"},{\"id\":\"1aa1b12a-a1de-4082-b754-801f7e5c1575\",\"type\":\"HelpTool\"},{\"id\":\"ef8139c8-db87-4d31-9ebf-2ab56836c619\",\"type\":\"HoverTool\"}],\"x_range\":{\"id\":\"360de3d0-dfbf-46d6-9281-3079ea00d207\",\"type\":\"DataRange1d\"},\"y_range\":{\"id\":\"141172d6-4c58-4bb6-a704-65f3370eb8e8\",\"type\":\"DataRange1d\"}},\"id\":\"5c5097de-85fe-49da-be1f-a6a7239b52e6\",\"subtype\":\"Figure\",\"type\":\"Plot\"},{\"attributes\":{},\"id\":\"02ae20ec-02c2-4d5d-a467-91312f727ee6\",\"type\":\"BasicTickFormatter\"},{\"attributes\":{\"plot\":{\"id\":\"978e14e4-9efa-4886-a0c0-e9884b803217\",\"subtype\":\"Figure\",\"type\":\"Plot\"},\"ticker\":{\"id\":\"518418b3-0b7b-4ca8-b818-c515ee26f28c\",\"type\":\"BasicTicker\"}},\"id\":\"54528f31-bac5-4cf8-9177-b66dd0701887\",\"type\":\"Grid\"},{\"attributes\":{\"callback\":null},\"id\":\"385dec78-7af3-46e4-be83-dd5bc410857f\",\"type\":\"DataRange1d\"},{\"attributes\":{\"plot\":{\"id\":\"978e14e4-9efa-4886-a0c0-e9884b803217\",\"subtype\":\"Figure\",\"type\":\"Plot\"}},\"id\":\"8e31fd6a-9728-47cd-8dd3-ac8f184fe547\",\"type\":\"HelpTool\"},{\"attributes\":{\"bottom_units\":\"screen\",\"fill_alpha\":{\"value\":0.5},\"fill_color\":{\"value\":\"lightgrey\"},\"left_units\":\"screen\",\"level\":\"overlay\",\"line_alpha\":{\"value\":1.0},\"line_color\":{\"value\":\"black\"},\"line_dash\":[4,4],\"line_width\":{\"value\":2},\"plot\":null,\"render_mode\":\"css\",\"right_units\":\"screen\",\"top_units\":\"screen\"},\"id\":\"63f49f86-ee3c-400f-a0d4-3b7ad9f7f1b8\",\"type\":\"BoxAnnotation\"},{\"attributes\":{\"formatter\":{\"id\":\"67b5e183-3b40-43af-9a9c-7acbd446b94e\",\"type\":\"BasicTickFormatter\"},\"plot\":{\"id\":\"5db259e8-80fb-4a8c-be17-31bf175aa673\",\"subtype\":\"Figure\",\"type\":\"Plot\"},\"ticker\":{\"id\":\"ce3c9a01-a57a-43b1-a12b-ebfe862e750f\",\"type\":\"BasicTicker\"}},\"id\":\"89be9b20-93ee-4833-b0a0-a76fff678d73\",\"type\":\"LinearAxis\"},{\"attributes\":{\"plot\":{\"id\":\"5c5097de-85fe-49da-be1f-a6a7239b52e6\",\"subtype\":\"Figure\",\"type\":\"Plot\"}},\"id\":\"1aa1b12a-a1de-4082-b754-801f7e5c1575\",\"type\":\"HelpTool\"},{\"attributes\":{\"plot\":{\"id\":\"5c5097de-85fe-49da-be1f-a6a7239b52e6\",\"subtype\":\"Figure\",\"type\":\"Plot\"}},\"id\":\"e8900e63-10da-4c4c-a8a8-4e007190f839\",\"type\":\"WheelZoomTool\"},{\"attributes\":{\"formatter\":{\"id\":\"6d913264-e6bd-43d0-a4ba-3c8604330bcf\",\"type\":\"BasicTickFormatter\"},\"plot\":{\"id\":\"978e14e4-9efa-4886-a0c0-e9884b803217\",\"subtype\":\"Figure\",\"type\":\"Plot\"},\"ticker\":{\"id\":\"518418b3-0b7b-4ca8-b818-c515ee26f28c\",\"type\":\"BasicTicker\"}},\"id\":\"03a5e961-91a4-4505-b8db-b6781afea8c8\",\"type\":\"LinearAxis\"},{\"attributes\":{\"callback\":null,\"plot\":{\"id\":\"e2f70718-8e0e-453c-9033-8dbb98c836df\",\"subtype\":\"Figure\",\"type\":\"Plot\"},\"tooltips\":\" @label \"},\"id\":\"a3c8bab4-85a3-41d8-ac6a-cfe8cfb3a4ef\",\"type\":\"HoverTool\"},{\"attributes\":{\"fill_color\":{\"value\":\"#1f77b4\"},\"line_color\":{\"value\":\"#1f77b4\"},\"line_width\":{\"value\":2},\"x\":{\"field\":\"x\"},\"y\":{\"field\":\"y\"}},\"id\":\"134e5cd2-68ff-4f02-a94d-dce0b87ec993\",\"type\":\"Circle\"},{\"attributes\":{\"callback\":null,\"plot\":{\"id\":\"5db259e8-80fb-4a8c-be17-31bf175aa673\",\"subtype\":\"Figure\",\"type\":\"Plot\"},\"tooltips\":\" @label \"},\"id\":\"4ed09f53-dbe1-4e37-bf31-88b861fd1407\",\"type\":\"HoverTool\"}],\"root_ids\":[\"e2f70718-8e0e-453c-9033-8dbb98c836df\",\"5db259e8-80fb-4a8c-be17-31bf175aa673\",\"5c5097de-85fe-49da-be1f-a6a7239b52e6\",\"978e14e4-9efa-4886-a0c0-e9884b803217\"]},\"title\":\"Bokeh Application\",\"version\":\"0.11.1\"}};\n",
       "            var render_items = [{\"docid\":\"849a5eb4-fb7e-4bff-bc23-baa8df1d73b1\",\"elementid\":\"8b9fccda-7141-497f-9bf7-47035b435739\",\"modelid\":\"978e14e4-9efa-4886-a0c0-e9884b803217\",\"notebook_comms_target\":\"d15dc3b2-e884-4b04-aef4-baa740cf6547\"}];\n",
       "            \n",
       "            Bokeh.embed.embed_items(docs_json, render_items);\n",
       "        });\n",
       "      },\n",
       "      function(Bokeh) {\n",
       "      }\n",
       "    ];\n",
       "  \n",
       "    function run_inline_js() {\n",
       "      for (var i = 0; i < inline_js.length; i++) {\n",
       "        inline_js[i](window.Bokeh);\n",
       "      }\n",
       "    }\n",
       "  \n",
       "    if (window._bokeh_is_loading === 0) {\n",
       "      console.log(\"Bokeh: BokehJS loaded, going straight to plotting\");\n",
       "      run_inline_js();\n",
       "    } else {\n",
       "      load_libs(js_urls, function() {\n",
       "        console.log(\"Bokeh: BokehJS plotting callback run at\", now());\n",
       "        run_inline_js();\n",
       "      });\n",
       "    }\n",
       "  }(this));\n",
       "</script>"
      ]
     },
     "metadata": {},
     "output_type": "display_data"
    }
   ],
   "source": [
    "def group_on_mode(x):\n",
    "    if 'e ' in x:\n",
    "        # Majorish\n",
    "        return 'blue'\n",
    "    elif 'e-' in x:\n",
    "        # Minorish\n",
    "        return 'green'\n",
    "    else:\n",
    "        # Don't know\n",
    "        return 'red'\n",
    "\n",
    "source = ColumnDataSource(\n",
    "    data=dict(\n",
    "        # Use indices to subset np.array\n",
    "        x=proj[q_indices,0],\n",
    "        y=proj[q_indices,1],\n",
    "        mode=[group_on_mode(x) for x in q_words],\n",
    "        label=q_words\n",
    "    )\n",
    ")\n",
    "\n",
    "myplot(source=source, title='tSNE(word2vec) on corpus ({C} in w)', color='mode')"
   ]
  },
  {
   "cell_type": "markdown",
   "metadata": {},
   "source": [
    "## What stuff is nearby in word2vec space?"
   ]
  },
  {
   "cell_type": "code",
   "execution_count": 21,
   "metadata": {
    "collapsed": true
   },
   "outputs": [],
   "source": [
    "G_MAJOR = 'd g b'\n",
    "C_MAJOR = 'c e g'\n",
    "B_FLAT_MAJOR = 'd f b-'\n",
    "F_MAJOR = 'c f a'\n",
    "\n",
    "G_DOM_7 = 'd f g b'\n",
    "B_FLAT_DOM_7 = 'd f a- b-'\n",
    "F_DOM_7 = 'c e- f a'\n",
    "D_DOM_7 = 'c d f+ a'"
   ]
  },
  {
   "cell_type": "code",
   "execution_count": 22,
   "metadata": {
    "collapsed": false
   },
   "outputs": [
    {
     "data": {
      "text/plain": [
       "[('c d f+ g a', 0.9096065163612366),\n",
       " ('c d f+ a b', 0.9096042513847351),\n",
       " ('c d e f+ a', 0.8769814372062683),\n",
       " ('c d e- f+ a', 0.8556093573570251),\n",
       " ('c d g a', 0.8442591428756714),\n",
       " ('c d f+ a- a', 0.813583254814148),\n",
       " ('d g a b', 0.8054274320602417),\n",
       " ('d f+ a b-', 0.7629439830780029),\n",
       " ('c+ d g b', 0.7142918705940247),\n",
       " ('c d f+', 0.6973966956138611)]"
      ]
     },
     "execution_count": 22,
     "metadata": {},
     "output_type": "execute_result"
    }
   ],
   "source": [
    "model.most_similar([D_DOM_7])"
   ]
  },
  {
   "cell_type": "markdown",
   "metadata": {},
   "source": [
    "## How robust is chord closeness in the word2vec space when we set different sentence lengths?\n",
    "\n",
    "Coming soon? At the moment I'm setting the sentence length to 64 pretty arbitrarily. This is almost definitely wrong for the `bach` corpus. According to the word-chord analogy, it would seem that a musical 'sentence' is a phrase."
   ]
  },
  {
   "cell_type": "code",
   "execution_count": 254,
   "metadata": {
    "collapsed": false
   },
   "outputs": [],
   "source": [
    "def evaluate_chunk_size(chunk_size):\n",
    "    chunked_docs = []\n",
    "\n",
    "    for doc in docs:\n",
    "        chunked_docs.extend([x for x in chunks(doc, chunk_size)])\n",
    "\n",
    "    sentences = chunked_docs\n",
    "\n",
    "    model = gensim.models.Word2Vec(sentences, size=100, window=5, min_count=5, workers=4)\n",
    "    top_ten = model.most_similar([G_MAJOR])\n",
    "    return top_ten"
   ]
  },
  {
   "cell_type": "code",
   "execution_count": 255,
   "metadata": {
    "collapsed": false
   },
   "outputs": [],
   "source": [
    "results = []\n",
    "\n",
    "for _ in range(20):\n",
    "    chunk_size = random.randint(4, 64)\n",
    "    results.extend([(chunk_size, i, x[0], x[1]) for i, x in enumerate(evaluate_chunk_size(chunk_size))])"
   ]
  },
  {
   "cell_type": "code",
   "execution_count": 256,
   "metadata": {
    "collapsed": true
   },
   "outputs": [],
   "source": [
    "import pandas as pd"
   ]
  },
  {
   "cell_type": "code",
   "execution_count": 257,
   "metadata": {
    "collapsed": false
   },
   "outputs": [
    {
     "data": {
      "text/html": [
       "<div>\n",
       "<table border=\"1\" class=\"dataframe\">\n",
       "  <thead>\n",
       "    <tr style=\"text-align: right;\">\n",
       "      <th></th>\n",
       "      <th>0</th>\n",
       "      <th>1</th>\n",
       "      <th>2</th>\n",
       "      <th>3</th>\n",
       "    </tr>\n",
       "  </thead>\n",
       "  <tbody>\n",
       "    <tr>\n",
       "      <th>0</th>\n",
       "      <td>61</td>\n",
       "      <td>0</td>\n",
       "      <td>d f+ g b</td>\n",
       "      <td>0.834711</td>\n",
       "    </tr>\n",
       "    <tr>\n",
       "      <th>1</th>\n",
       "      <td>61</td>\n",
       "      <td>1</td>\n",
       "      <td>c d g b</td>\n",
       "      <td>0.828530</td>\n",
       "    </tr>\n",
       "    <tr>\n",
       "      <th>2</th>\n",
       "      <td>61</td>\n",
       "      <td>2</td>\n",
       "      <td>d g a b</td>\n",
       "      <td>0.800167</td>\n",
       "    </tr>\n",
       "    <tr>\n",
       "      <th>3</th>\n",
       "      <td>61</td>\n",
       "      <td>3</td>\n",
       "      <td>d g a- b</td>\n",
       "      <td>0.785234</td>\n",
       "    </tr>\n",
       "    <tr>\n",
       "      <th>4</th>\n",
       "      <td>61</td>\n",
       "      <td>4</td>\n",
       "      <td>c+ d g b</td>\n",
       "      <td>0.778229</td>\n",
       "    </tr>\n",
       "    <tr>\n",
       "      <th>5</th>\n",
       "      <td>61</td>\n",
       "      <td>5</td>\n",
       "      <td>c d g a</td>\n",
       "      <td>0.741497</td>\n",
       "    </tr>\n",
       "    <tr>\n",
       "      <th>6</th>\n",
       "      <td>61</td>\n",
       "      <td>6</td>\n",
       "      <td>d e g b</td>\n",
       "      <td>0.734789</td>\n",
       "    </tr>\n",
       "    <tr>\n",
       "      <th>7</th>\n",
       "      <td>61</td>\n",
       "      <td>7</td>\n",
       "      <td>c f+ g b</td>\n",
       "      <td>0.726102</td>\n",
       "    </tr>\n",
       "    <tr>\n",
       "      <th>8</th>\n",
       "      <td>61</td>\n",
       "      <td>8</td>\n",
       "      <td>c e- f+ g a</td>\n",
       "      <td>0.725103</td>\n",
       "    </tr>\n",
       "    <tr>\n",
       "      <th>9</th>\n",
       "      <td>61</td>\n",
       "      <td>9</td>\n",
       "      <td>d e- g b</td>\n",
       "      <td>0.724425</td>\n",
       "    </tr>\n",
       "  </tbody>\n",
       "</table>\n",
       "</div>"
      ],
      "text/plain": [
       "    0  1            2         3\n",
       "0  61  0     d f+ g b  0.834711\n",
       "1  61  1      c d g b  0.828530\n",
       "2  61  2      d g a b  0.800167\n",
       "3  61  3     d g a- b  0.785234\n",
       "4  61  4     c+ d g b  0.778229\n",
       "5  61  5      c d g a  0.741497\n",
       "6  61  6      d e g b  0.734789\n",
       "7  61  7     c f+ g b  0.726102\n",
       "8  61  8  c e- f+ g a  0.725103\n",
       "9  61  9     d e- g b  0.724425"
      ]
     },
     "execution_count": 257,
     "metadata": {},
     "output_type": "execute_result"
    }
   ],
   "source": [
    "results_df = pd.DataFrame(results)\n",
    "results_df.head(10)"
   ]
  },
  {
   "cell_type": "code",
   "execution_count": 258,
   "metadata": {
    "collapsed": false
   },
   "outputs": [],
   "source": [
    "results_df.columns = ['chunk_size', 'rank', 'nearest_chord', 'similarity']"
   ]
  },
  {
   "cell_type": "code",
   "execution_count": 259,
   "metadata": {
    "collapsed": false
   },
   "outputs": [
    {
     "data": {
      "text/html": [
       "<div>\n",
       "<table border=\"1\" class=\"dataframe\">\n",
       "  <thead>\n",
       "    <tr style=\"text-align: right;\">\n",
       "      <th></th>\n",
       "      <th>chunk_size</th>\n",
       "      <th>rank</th>\n",
       "      <th>nearest_chord</th>\n",
       "      <th>similarity</th>\n",
       "    </tr>\n",
       "  </thead>\n",
       "  <tbody>\n",
       "    <tr>\n",
       "      <th>0</th>\n",
       "      <td>61</td>\n",
       "      <td>0</td>\n",
       "      <td>d f+ g b</td>\n",
       "      <td>0.834711</td>\n",
       "    </tr>\n",
       "    <tr>\n",
       "      <th>10</th>\n",
       "      <td>54</td>\n",
       "      <td>0</td>\n",
       "      <td>d f+ g b</td>\n",
       "      <td>0.875459</td>\n",
       "    </tr>\n",
       "    <tr>\n",
       "      <th>20</th>\n",
       "      <td>53</td>\n",
       "      <td>0</td>\n",
       "      <td>d f+ g b</td>\n",
       "      <td>0.832812</td>\n",
       "    </tr>\n",
       "    <tr>\n",
       "      <th>30</th>\n",
       "      <td>33</td>\n",
       "      <td>0</td>\n",
       "      <td>d f+ g b</td>\n",
       "      <td>0.829478</td>\n",
       "    </tr>\n",
       "    <tr>\n",
       "      <th>40</th>\n",
       "      <td>52</td>\n",
       "      <td>0</td>\n",
       "      <td>d f+ g b</td>\n",
       "      <td>0.883216</td>\n",
       "    </tr>\n",
       "    <tr>\n",
       "      <th>50</th>\n",
       "      <td>12</td>\n",
       "      <td>0</td>\n",
       "      <td>d f+ g b</td>\n",
       "      <td>0.896653</td>\n",
       "    </tr>\n",
       "    <tr>\n",
       "      <th>60</th>\n",
       "      <td>52</td>\n",
       "      <td>0</td>\n",
       "      <td>d f+ g b</td>\n",
       "      <td>0.849541</td>\n",
       "    </tr>\n",
       "    <tr>\n",
       "      <th>70</th>\n",
       "      <td>54</td>\n",
       "      <td>0</td>\n",
       "      <td>d f+ g b</td>\n",
       "      <td>0.849082</td>\n",
       "    </tr>\n",
       "    <tr>\n",
       "      <th>80</th>\n",
       "      <td>34</td>\n",
       "      <td>0</td>\n",
       "      <td>c d g b</td>\n",
       "      <td>0.841546</td>\n",
       "    </tr>\n",
       "    <tr>\n",
       "      <th>90</th>\n",
       "      <td>17</td>\n",
       "      <td>0</td>\n",
       "      <td>d f+ g b</td>\n",
       "      <td>0.867853</td>\n",
       "    </tr>\n",
       "    <tr>\n",
       "      <th>100</th>\n",
       "      <td>19</td>\n",
       "      <td>0</td>\n",
       "      <td>d f+ g b</td>\n",
       "      <td>0.815942</td>\n",
       "    </tr>\n",
       "    <tr>\n",
       "      <th>110</th>\n",
       "      <td>54</td>\n",
       "      <td>0</td>\n",
       "      <td>d f+ g b</td>\n",
       "      <td>0.868827</td>\n",
       "    </tr>\n",
       "    <tr>\n",
       "      <th>120</th>\n",
       "      <td>53</td>\n",
       "      <td>0</td>\n",
       "      <td>d f+ g b</td>\n",
       "      <td>0.884622</td>\n",
       "    </tr>\n",
       "    <tr>\n",
       "      <th>130</th>\n",
       "      <td>28</td>\n",
       "      <td>0</td>\n",
       "      <td>c d g b</td>\n",
       "      <td>0.848572</td>\n",
       "    </tr>\n",
       "    <tr>\n",
       "      <th>140</th>\n",
       "      <td>36</td>\n",
       "      <td>0</td>\n",
       "      <td>d g a b</td>\n",
       "      <td>0.824047</td>\n",
       "    </tr>\n",
       "    <tr>\n",
       "      <th>150</th>\n",
       "      <td>32</td>\n",
       "      <td>0</td>\n",
       "      <td>d f+ g b</td>\n",
       "      <td>0.855697</td>\n",
       "    </tr>\n",
       "    <tr>\n",
       "      <th>160</th>\n",
       "      <td>47</td>\n",
       "      <td>0</td>\n",
       "      <td>d f+ g b</td>\n",
       "      <td>0.852197</td>\n",
       "    </tr>\n",
       "    <tr>\n",
       "      <th>170</th>\n",
       "      <td>36</td>\n",
       "      <td>0</td>\n",
       "      <td>d f+ g b</td>\n",
       "      <td>0.873435</td>\n",
       "    </tr>\n",
       "    <tr>\n",
       "      <th>180</th>\n",
       "      <td>39</td>\n",
       "      <td>0</td>\n",
       "      <td>d f+ g b</td>\n",
       "      <td>0.872257</td>\n",
       "    </tr>\n",
       "    <tr>\n",
       "      <th>190</th>\n",
       "      <td>39</td>\n",
       "      <td>0</td>\n",
       "      <td>d f+ g b</td>\n",
       "      <td>0.870030</td>\n",
       "    </tr>\n",
       "  </tbody>\n",
       "</table>\n",
       "</div>"
      ],
      "text/plain": [
       "     chunk_size  rank nearest_chord  similarity\n",
       "0            61     0      d f+ g b    0.834711\n",
       "10           54     0      d f+ g b    0.875459\n",
       "20           53     0      d f+ g b    0.832812\n",
       "30           33     0      d f+ g b    0.829478\n",
       "40           52     0      d f+ g b    0.883216\n",
       "50           12     0      d f+ g b    0.896653\n",
       "60           52     0      d f+ g b    0.849541\n",
       "70           54     0      d f+ g b    0.849082\n",
       "80           34     0       c d g b    0.841546\n",
       "90           17     0      d f+ g b    0.867853\n",
       "100          19     0      d f+ g b    0.815942\n",
       "110          54     0      d f+ g b    0.868827\n",
       "120          53     0      d f+ g b    0.884622\n",
       "130          28     0       c d g b    0.848572\n",
       "140          36     0       d g a b    0.824047\n",
       "150          32     0      d f+ g b    0.855697\n",
       "160          47     0      d f+ g b    0.852197\n",
       "170          36     0      d f+ g b    0.873435\n",
       "180          39     0      d f+ g b    0.872257\n",
       "190          39     0      d f+ g b    0.870030"
      ]
     },
     "execution_count": 259,
     "metadata": {},
     "output_type": "execute_result"
    }
   ],
   "source": [
    "results_df[results_df['rank'] == 0]"
   ]
  },
  {
   "cell_type": "markdown",
   "metadata": {},
   "source": [
    "## Analogical reasoning with word2vec and chords\n",
    "\n",
    "`man:king :: woman:x`\n",
    "\n",
    "word2vec solves for `x` and gets `woman` on a natural language corpus.\n",
    "\n",
    "`trained_model.most_similar(positive=['woman', 'king'], negative=['man'])`\n",
    "\n",
    "**Hypothesis 1**: The relationship between dominant and tonic in all key is roughly the same. e.g. G major is to C major as B- major is to F major \n",
    "\n",
    "e.g.  `{g b d} : {c e g} :: {b- d f} : {f a c}`"
   ]
  },
  {
   "cell_type": "code",
   "execution_count": 23,
   "metadata": {
    "collapsed": false
   },
   "outputs": [
    {
     "data": {
      "text/plain": [
       "[('d f g a b-', 0.6601637005805969),\n",
       " ('c d f b-', 0.6597018837928772),\n",
       " ('d f a b-', 0.6230607628822327),\n",
       " ('c+ a b-', 0.6015278100967407),\n",
       " ('d f g b-', 0.6004230380058289),\n",
       " ('c e- e f', 0.5906780362129211),\n",
       " ('f a b-', 0.5831964612007141),\n",
       " ('d e b-', 0.5590993762016296),\n",
       " ('d f f+ b-', 0.5542265176773071),\n",
       " ('c+ d f b-', 0.5537707805633545),\n",
       " ('d f b- b', 0.5516623258590698),\n",
       " ('c e f+ b-', 0.5507010221481323),\n",
       " ('c d b-', 0.5459994077682495),\n",
       " ('c a b-', 0.5456947088241577),\n",
       " ('c f a b-', 0.533311665058136),\n",
       " ('e f g b-', 0.5295522809028625),\n",
       " ('g a b-', 0.5192409157752991),\n",
       " ('d e- f b-', 0.5142115354537964),\n",
       " ('e g a b-', 0.5057578086853027),\n",
       " ('f a- a b-', 0.5036612749099731)]"
      ]
     },
     "execution_count": 23,
     "metadata": {},
     "output_type": "execute_result"
    }
   ],
   "source": [
    "model.most_similar(positive=[B_FLAT_MAJOR, C_MAJOR], negative=[G_MAJOR], topn=20)"
   ]
  },
  {
   "cell_type": "markdown",
   "metadata": {},
   "source": [
    "Not much different with the alternative measurement."
   ]
  },
  {
   "cell_type": "code",
   "execution_count": 261,
   "metadata": {
    "collapsed": false
   },
   "outputs": [
    {
     "data": {
      "text/plain": [
       "[('f a b-', 1.070783257484436),\n",
       " ('f b- b', 1.0369380712509155),\n",
       " ('c+ e f', 1.0334950685501099),\n",
       " ('d f a b-', 1.002255916595459),\n",
       " ('c d f b-', 1.0022058486938477),\n",
       " ('d f b- b', 0.9759228825569153),\n",
       " ('d f g a b-', 0.9625338912010193),\n",
       " ('c+ d f b-', 0.9469479322433472),\n",
       " ('d f g b-', 0.9405895471572876),\n",
       " ('c f b-', 0.931908369064331)]"
      ]
     },
     "execution_count": 261,
     "metadata": {},
     "output_type": "execute_result"
    }
   ],
   "source": [
    "model.most_similar_cosmul(positive=[B_FLAT_MAJOR, C_MAJOR], negative=[G_MAJOR], topn=10)"
   ]
  },
  {
   "cell_type": "markdown",
   "metadata": {
    "collapsed": true
   },
   "source": [
    "**Hypothesis 2**: The relationship between dominant seventh and related tonic in all key is roughly the same. \n",
    "    \n",
    "e.g. G dominant seventh is to C major as B- dominant seventh is to F major \n",
    "\n",
    "i.e.  `{g b d f} : {c e g} :: {b- d f a-} : {f a c}`"
   ]
  },
  {
   "cell_type": "code",
   "execution_count": 29,
   "metadata": {
    "collapsed": false
   },
   "outputs": [],
   "source": [
    "d1 = model[G_DOM_7] - model[C_MAJOR]\n",
    "d2 = model[B_FLAT_DOM_7] - model[F_MAJOR]\n",
    "d3 = model[F_DOM_7] - model[B_FLAT_MAJOR]\n",
    "d4 = model[D_DOM_7] - model[G_MAJOR]"
   ]
  },
  {
   "cell_type": "code",
   "execution_count": 30,
   "metadata": {
    "collapsed": false
   },
   "outputs": [],
   "source": [
    "import scipy"
   ]
  },
  {
   "cell_type": "code",
   "execution_count": 31,
   "metadata": {
    "collapsed": false
   },
   "outputs": [],
   "source": [
    "X = [d1, d2, d3, d4]"
   ]
  },
  {
   "cell_type": "code",
   "execution_count": 32,
   "metadata": {
    "collapsed": false
   },
   "outputs": [],
   "source": [
    "delta_X = scipy.spatial.distance.pdist(X, 'cosine')"
   ]
  },
  {
   "cell_type": "code",
   "execution_count": 33,
   "metadata": {
    "collapsed": false
   },
   "outputs": [
    {
     "data": {
      "text/plain": [
       "array([ 0.73030357,  1.02590648,  1.02473225,  1.21865896,  1.29433468,\n",
       "        0.82396049])"
      ]
     },
     "execution_count": 33,
     "metadata": {},
     "output_type": "execute_result"
    }
   ],
   "source": [
    "delta_X"
   ]
  },
  {
   "cell_type": "code",
   "execution_count": 34,
   "metadata": {
    "collapsed": false
   },
   "outputs": [
    {
     "data": {
      "text/plain": [
       "[('c e g a', 0.7149612307548523),\n",
       " ('c c+ e g', 0.6812694072723389),\n",
       " ('c e f g', 0.667472779750824),\n",
       " ('c e g b', 0.6467288136482239),\n",
       " ('c d e g', 0.6466063857078552),\n",
       " ('c d f b', 0.613850474357605),\n",
       " ('c f g a', 0.6117331385612488),\n",
       " ('c e f+ g', 0.5948147177696228),\n",
       " ('c d b', 0.5840594172477722),\n",
       " ('c f b', 0.5806807279586792)]"
      ]
     },
     "execution_count": 34,
     "metadata": {},
     "output_type": "execute_result"
    }
   ],
   "source": [
    "model.most_similar(positive=[C_MAJOR, F_MAJOR], negative=[B_FLAT_MAJOR], topn=10)"
   ]
  },
  {
   "cell_type": "markdown",
   "metadata": {},
   "source": [
    "**Exploration**"
   ]
  },
  {
   "cell_type": "code",
   "execution_count": 42,
   "metadata": {
    "collapsed": false
   },
   "outputs": [],
   "source": [
    "focus = [G_MAJOR,\n",
    "C_MAJOR,\n",
    "B_FLAT_MAJOR,\n",
    "F_MAJOR,\n",
    "G_DOM_7, \n",
    "B_FLAT_DOM_7, \n",
    "F_DOM_7, \n",
    "D_DOM_7]"
   ]
  },
  {
   "cell_type": "code",
   "execution_count": 47,
   "metadata": {
    "collapsed": false
   },
   "outputs": [],
   "source": [
    "q_words = [x for x in model.vocab.keys() if x in focus]\n",
    "q_indices = [words.index(x) for x in q_words]\n",
    "\n",
    "source = ColumnDataSource(\n",
    "    data=dict(\n",
    "        # Use indices to subset np.array\n",
    "        x=proj[q_indices,0],\n",
    "        y=proj[q_indices,1],\n",
    "        label=q_words\n",
    "    )\n",
    ")\n",
    "\n",
    "myplot(source=source, title='tSNE(word2vec) on corpus - interesting subset')"
   ]
  },
  {
   "cell_type": "markdown",
   "metadata": {
    "collapsed": true
   },
   "source": [
    "## Systematic examination\n",
    "\n",
    "\n",
    "### Prepare canonical string representations for Dom7 -> I pairs in all keys"
   ]
  },
  {
   "cell_type": "code",
   "execution_count": 23,
   "metadata": {
    "collapsed": true
   },
   "outputs": [],
   "source": [
    "import music21"
   ]
  },
  {
   "cell_type": "code",
   "execution_count": 24,
   "metadata": {
    "collapsed": false
   },
   "outputs": [],
   "source": [
    "a = music21.chord.Chord(['A', 'C#', 'E'])\n",
    "b = music21.chord.Chord(['D', 'F#', 'A'])\n",
    "\n",
    "def transpose_to_all(c):\n",
    "    out = []\n",
    "    old = c\n",
    "    for i in range(12):\n",
    "        new = old.transpose(7)\n",
    "        out.append(new)\n",
    "        old = new\n",
    "    return out\n",
    "        \n",
    "def c_to_strep(c):\n",
    "    rep = \"\"\n",
    "    for i in range(12):\n",
    "        if i in c.pitchClasses:\n",
    "            rep += \"1\"\n",
    "        else:\n",
    "            rep += \"0\"\n",
    "    return rep\n",
    "\n",
    "def strep_to_c(strep):\n",
    "    pcs = []\n",
    "    for i, v in enumerate(strep):\n",
    "        if v == '1':\n",
    "            pcs.append(i)\n",
    "    return music21.chord.Chord(pcs)\n",
    "        "
   ]
  },
  {
   "cell_type": "code",
   "execution_count": 25,
   "metadata": {
    "collapsed": false
   },
   "outputs": [
    {
     "name": "stdout",
     "output_type": "stream",
     "text": [
      "<music21.chord.Chord D F# A> <music21.chord.Chord D F# A>\n"
     ]
    }
   ],
   "source": [
    "# Sanity check\n",
    "print b, strep_to_c(c_to_strep(b))"
   ]
  },
  {
   "cell_type": "code",
   "execution_count": 26,
   "metadata": {
    "collapsed": false
   },
   "outputs": [],
   "source": [
    "all_a = [c_to_strep(x) for x in transpose_to_all(a)]\n",
    "all_b = [c_to_strep(x) for x in transpose_to_all(b)]\n",
    "\n",
    "pairs = zip(all_a, all_b)"
   ]
  },
  {
   "cell_type": "code",
   "execution_count": 27,
   "metadata": {
    "collapsed": false
   },
   "outputs": [
    {
     "data": {
      "text/plain": [
       "[('000010001001', '010010000100'),\n",
       " ('000100100001', '000010001001'),\n",
       " ('010000100010', '000100100001'),\n",
       " ('010001001000', '010000100010'),\n",
       " ('100100001000', '010001001000'),\n",
       " ('000100010010', '100100001000'),\n",
       " ('001001000010', '000100010010'),\n",
       " ('100001000100', '001001000010'),\n",
       " ('100010010000', '100001000100'),\n",
       " ('001000010001', '100010010000'),\n",
       " ('001000100100', '001000010001'),\n",
       " ('010010000100', '001000100100')]"
      ]
     },
     "execution_count": 27,
     "metadata": {},
     "output_type": "execute_result"
    }
   ],
   "source": [
    "pairs"
   ]
  },
  {
   "cell_type": "code",
   "execution_count": 28,
   "metadata": {
    "collapsed": true
   },
   "outputs": [],
   "source": [
    "focus = all_a + all_b"
   ]
  },
  {
   "cell_type": "code",
   "execution_count": 29,
   "metadata": {
    "collapsed": false
   },
   "outputs": [],
   "source": [
    "q_words = [x for x in model.vocab.keys() if x in focus]\n",
    "q_indices = [words.index(x) for x in q_words]"
   ]
  },
  {
   "cell_type": "code",
   "execution_count": 30,
   "metadata": {
    "collapsed": true
   },
   "outputs": [],
   "source": [
    "from sklearn.decomposition import PCA"
   ]
  },
  {
   "cell_type": "code",
   "execution_count": 31,
   "metadata": {
    "collapsed": true
   },
   "outputs": [],
   "source": [
    "tsne = TSNE(perplexity=30, n_components=2, init='pca', n_iter=200)\n",
    "pca = PCA(n_components=2)\n",
    "\n",
    "proj = pca.fit_transform(embeddings)"
   ]
  },
  {
   "cell_type": "code",
   "execution_count": 32,
   "metadata": {
    "collapsed": false
   },
   "outputs": [],
   "source": [
    "x=proj[q_indices,0]\n",
    "y=proj[q_indices,1]\n",
    "\n",
    "labels = [\" \".join(strep_to_c(w).pitchNames) for w in q_words]"
   ]
  },
  {
   "cell_type": "code",
   "execution_count": 33,
   "metadata": {
    "collapsed": false
   },
   "outputs": [
    {
     "data": {
      "text/plain": [
       "12"
      ]
     },
     "execution_count": 33,
     "metadata": {},
     "output_type": "execute_result"
    }
   ],
   "source": [
    "len(y)"
   ]
  },
  {
   "cell_type": "code",
   "execution_count": 34,
   "metadata": {
    "collapsed": false
   },
   "outputs": [],
   "source": [
    "def lookup_strep(strep):\n",
    "    i = words.index(strep)\n",
    "    return (proj[i, 0], proj[i, 1])"
   ]
  },
  {
   "cell_type": "code",
   "execution_count": 35,
   "metadata": {
    "collapsed": false
   },
   "outputs": [],
   "source": [
    "arrows = [map(lookup_strep, pair) for pair in pairs]"
   ]
  },
  {
   "cell_type": "code",
   "execution_count": 38,
   "metadata": {
    "collapsed": false
   },
   "outputs": [
    {
     "data": {
      "image/png": "[encoded data removed]",
      "text/plain": [
       "<matplotlib.figure.Figure at 0x7f113556f5d0>"
      ]
     },
     "metadata": {},
     "output_type": "display_data"
    }
   ],
   "source": [
    "f, ax = plt.subplots()\n",
    "\n",
    "ax.scatter(x, y)\n",
    "\n",
    "for lxy in zip(labels, x, y):\n",
    "    ax.annotate(lxy[0], (lxy[1],lxy[2]))\n",
    "\n",
    "for arrow in arrows:\n",
    "    ax.arrow(arrow[0][0], arrow[0][1], arrow[1][0] - arrow[0][0], arrow[1][1] - arrow[0][1],\n",
    "            linestyle='dashed', linewidth=1, head_width=.1, head_length=.1)"
   ]
  },
  {
   "cell_type": "code",
   "execution_count": null,
   "metadata": {
    "collapsed": true
   },
   "outputs": [],
   "source": []
  },
  {
   "cell_type": "code",
   "execution_count": null,
   "metadata": {
    "collapsed": true
   },
   "outputs": [],
   "source": []
  }
 ],
 "metadata": {
  "kernelspec": {
   "display_name": "Python 2",
   "language": "python",
   "name": "python2"
  },
  "language_info": {
   "codemirror_mode": {
    "name": "ipython",
    "version": 2
   },
   "file_extension": ".py",
   "mimetype": "text/x-python",
   "name": "python",
   "nbconvert_exporter": "python",
   "pygments_lexer": "ipython2",
   "version": "2.7.6"
  }
 },
 "nbformat": 4,
 "nbformat_minor": 0
}
